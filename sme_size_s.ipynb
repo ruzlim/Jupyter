{
 "cells": [
  {
   "cell_type": "code",
   "execution_count": 1,
   "metadata": {},
   "outputs": [],
   "source": [
    "import nzpy\n",
    "import pandas as pd\n",
    "import os\n",
    "import numpy as np\n",
    "import lnwtrue\n",
    "import datetime"
   ]
  },
  {
   "cell_type": "code",
   "execution_count": 2,
   "metadata": {},
   "outputs": [],
   "source": [
    "year = 2022\n",
    "OUTPUT_DIR = 'output/output_smes'\n",
    "kpi_name = 'Revenue : Corporate Solution - SME (S)'\n",
    "micro_org_target_template = '../../resources/Micro-org KPI Setting Template 20210505.xlsx'"
   ]
  },
  {
   "cell_type": "code",
   "execution_count": 3,
   "metadata": {},
   "outputs": [],
   "source": [
    "conn = nzpy.connect(user=\"CORP_CENT\", password=\"password\",host='10.50.78.21', port=5480, database=\"TDADEVBAE\", securityLevel=1,logLevel=0)\n",
    "\n",
    "# mooc = lnwtrue.mooc.MoocArea(conn, dummy=True)\n",
    "mooc = lnwtrue.mooc.MoocArea(conn)\n",
    "trueconnect = lnwtrue.trueconnect\n",
    "score = lnwtrue.score"
   ]
  },
  {
   "cell_type": "code",
   "execution_count": 4,
   "metadata": {},
   "outputs": [],
   "source": [
    "query_str = f\"\"\"\n",
    "SELECT TM_KEY_MTH, PRODUCT, ORGID_H, TDS_PROVINCE\n",
    "     , ORGID_AA\n",
    "     , CUST_CATG\n",
    "     , NEW_EXISTING\n",
    "     , SUM(SUBS) AS SUBS\n",
    "     , SUM(REV) AS REV\n",
    "     , SUM(REV_ESTM) AS REV_ESTM\n",
    "FROM\n",
    "(\n",
    "    SELECT C.TM_KEY_MTH, C.PRODUCT\n",
    "        , MA.ORGID_H \n",
    "        , MA.TDS_PROVINCE\n",
    "        , MA.ORGID_AA\n",
    "        , CUST_CATG\n",
    "        , CASE WHEN SUBSTR(C.ACTV_MTH_FLAG,1,4) = SUBSTR(C.TM_KEY_MTH,1,4) THEN 'NEW' ELSE 'EXISTING' END AS NEW_EXISTING\n",
    "        , CASE WHEN C.PRODUCT = 'TVS' THEN\n",
    "            CASE WHEN COALESCE(C.PRICEPLAN,'NA') <> '512' THEN SUM(C.ACTV_SUBS) END  --> Exclude Subs TrueID TV \n",
    "            ELSE SUM(C.ACTV_SUBS) \n",
    "            END AS SUBS \n",
    "        , SUM(C.AMT) AS REV\n",
    "        , SUM(C.AMT_ESTM) AS REV_ESTM\n",
    "    FROM CORPNAPPO.MV_EDM_REVENUE_MTH C\n",
    "    LEFT OUTER JOIN CORPNAPPO.DIM_MOOC_AREA MA \n",
    "                ON MA.SCAB_CODE = C.SCAB_CODE\n",
    "    WHERE C.PRODUCT IN ('PREPAY','POSTPAY','BROADBAND','TVS') \n",
    "    AND C.CUST_CATG = 'BUS_CORP_S'\n",
    "    AND COALESCE(C.REV_TYPE,'NA') NOT IN ('INVO_MGNT', 'CASHBACK', 'REACTIVE','NAD')\n",
    "    AND C.TM_KEY_MTH >= {year}01 --> Month for select\n",
    "    AND C.TM_KEY_MTH <= {year}12 --> Month for select\n",
    "    GROUP BY C.TM_KEY_MTH, C.PRODUCT\n",
    "        , MA.ORGID_H \n",
    "        , MA.TDS_PROVINCE, MA.ORGID_AA\n",
    "        , CUST_CATG\n",
    "        , CASE WHEN C.PRODUCT_GROUP = 'INTER_SIM' THEN C.PRODUCT_GROUP ELSE 'LOCAL' END\n",
    "        , CASE WHEN SUBSTR(C.ACTV_MTH_FLAG,1,4) = SUBSTR(C.TM_KEY_MTH,1,4) THEN 'NEW' ELSE 'EXISTING' END\n",
    "        , COALESCE(C.PRICEPLAN,'NA')\n",
    ") RM\n",
    "GROUP BY TM_KEY_MTH, PRODUCT, ORGID_H, TDS_PROVINCE, ORGID_AA, CUST_CATG\n",
    "        , NEW_EXISTING\n",
    "ORDER BY 1,2,3,4\n",
    ";\n",
    "\"\"\"\n",
    "\n",
    "data = pd.read_sql(query_str, conn)\n",
    "# data.columns = [col.decode(\"utf-8\") for col in data.columns]"
   ]
  },
  {
   "cell_type": "code",
   "execution_count": 5,
   "metadata": {},
   "outputs": [],
   "source": [
    "data.to_excel('sme_sizes.xlsx', index=False)"
   ]
  },
  {
   "cell_type": "code",
   "execution_count": null,
   "metadata": {},
   "outputs": [],
   "source": []
  },
  {
   "cell_type": "code",
   "execution_count": 6,
   "metadata": {},
   "outputs": [
    {
     "data": {
      "text/html": [
       "<div>\n",
       "<style scoped>\n",
       "    .dataframe tbody tr th:only-of-type {\n",
       "        vertical-align: middle;\n",
       "    }\n",
       "\n",
       "    .dataframe tbody tr th {\n",
       "        vertical-align: top;\n",
       "    }\n",
       "\n",
       "    .dataframe thead th {\n",
       "        text-align: right;\n",
       "    }\n",
       "</style>\n",
       "<table border=\"1\" class=\"dataframe\">\n",
       "  <thead>\n",
       "    <tr style=\"text-align: right;\">\n",
       "      <th></th>\n",
       "      <th>TM_KEY_MTH</th>\n",
       "      <th>PRODUCT</th>\n",
       "      <th>ORGID_H</th>\n",
       "      <th>TDS_PROVINCE</th>\n",
       "      <th>ORGID_AA</th>\n",
       "      <th>CUST_CATG</th>\n",
       "      <th>NEW_EXISTING</th>\n",
       "      <th>SUBS</th>\n",
       "      <th>REV</th>\n",
       "      <th>REV_ESTM</th>\n",
       "    </tr>\n",
       "  </thead>\n",
       "  <tbody>\n",
       "    <tr>\n",
       "      <th>0</th>\n",
       "      <td>202201</td>\n",
       "      <td>BROADBAND</td>\n",
       "      <td>None</td>\n",
       "      <td>None</td>\n",
       "      <td>None</td>\n",
       "      <td>BUS_CORP_S</td>\n",
       "      <td>NEW</td>\n",
       "      <td>17.0</td>\n",
       "      <td>1817.35</td>\n",
       "      <td>1817.35</td>\n",
       "    </tr>\n",
       "    <tr>\n",
       "      <th>1</th>\n",
       "      <td>202201</td>\n",
       "      <td>BROADBAND</td>\n",
       "      <td>None</td>\n",
       "      <td>None</td>\n",
       "      <td>None</td>\n",
       "      <td>BUS_CORP_S</td>\n",
       "      <td>EXISTING</td>\n",
       "      <td>26.0</td>\n",
       "      <td>12037.07</td>\n",
       "      <td>12037.07</td>\n",
       "    </tr>\n",
       "    <tr>\n",
       "      <th>2</th>\n",
       "      <td>202201</td>\n",
       "      <td>BROADBAND</td>\n",
       "      <td>001</td>\n",
       "      <td>B094-BKK</td>\n",
       "      <td>100201A</td>\n",
       "      <td>BUS_CORP_S</td>\n",
       "      <td>EXISTING</td>\n",
       "      <td>30.0</td>\n",
       "      <td>16193.50</td>\n",
       "      <td>16193.50</td>\n",
       "    </tr>\n",
       "    <tr>\n",
       "      <th>3</th>\n",
       "      <td>202201</td>\n",
       "      <td>BROADBAND</td>\n",
       "      <td>001</td>\n",
       "      <td>B094-BKK</td>\n",
       "      <td>100102A</td>\n",
       "      <td>BUS_CORP_S</td>\n",
       "      <td>NEW</td>\n",
       "      <td>1.0</td>\n",
       "      <td>0.00</td>\n",
       "      <td>0.00</td>\n",
       "    </tr>\n",
       "    <tr>\n",
       "      <th>4</th>\n",
       "      <td>202201</td>\n",
       "      <td>BROADBAND</td>\n",
       "      <td>001</td>\n",
       "      <td>B094-BKK</td>\n",
       "      <td>100101A</td>\n",
       "      <td>BUS_CORP_S</td>\n",
       "      <td>NEW</td>\n",
       "      <td>1.0</td>\n",
       "      <td>0.00</td>\n",
       "      <td>0.00</td>\n",
       "    </tr>\n",
       "    <tr>\n",
       "      <th>...</th>\n",
       "      <td>...</td>\n",
       "      <td>...</td>\n",
       "      <td>...</td>\n",
       "      <td>...</td>\n",
       "      <td>...</td>\n",
       "      <td>...</td>\n",
       "      <td>...</td>\n",
       "      <td>...</td>\n",
       "      <td>...</td>\n",
       "      <td>...</td>\n",
       "    </tr>\n",
       "    <tr>\n",
       "      <th>27855</th>\n",
       "      <td>202211</td>\n",
       "      <td>TVS</td>\n",
       "      <td>94Z</td>\n",
       "      <td>Pattani</td>\n",
       "      <td>940401A</td>\n",
       "      <td>BUS_CORP_S</td>\n",
       "      <td>EXISTING</td>\n",
       "      <td>0.0</td>\n",
       "      <td>0.00</td>\n",
       "      <td>0.00</td>\n",
       "    </tr>\n",
       "    <tr>\n",
       "      <th>27856</th>\n",
       "      <td>202211</td>\n",
       "      <td>TVS</td>\n",
       "      <td>94Z</td>\n",
       "      <td>Pattani</td>\n",
       "      <td>940101A</td>\n",
       "      <td>BUS_CORP_S</td>\n",
       "      <td>EXISTING</td>\n",
       "      <td>NaN</td>\n",
       "      <td>0.00</td>\n",
       "      <td>0.00</td>\n",
       "    </tr>\n",
       "    <tr>\n",
       "      <th>27857</th>\n",
       "      <td>202211</td>\n",
       "      <td>TVS</td>\n",
       "      <td>95Z</td>\n",
       "      <td>Yala</td>\n",
       "      <td>950101A</td>\n",
       "      <td>BUS_CORP_S</td>\n",
       "      <td>EXISTING</td>\n",
       "      <td>NaN</td>\n",
       "      <td>0.00</td>\n",
       "      <td>0.00</td>\n",
       "    </tr>\n",
       "    <tr>\n",
       "      <th>27858</th>\n",
       "      <td>202211</td>\n",
       "      <td>TVS</td>\n",
       "      <td>95Z</td>\n",
       "      <td>Yala</td>\n",
       "      <td>950201A</td>\n",
       "      <td>BUS_CORP_S</td>\n",
       "      <td>EXISTING</td>\n",
       "      <td>1.0</td>\n",
       "      <td>0.00</td>\n",
       "      <td>0.00</td>\n",
       "    </tr>\n",
       "    <tr>\n",
       "      <th>27859</th>\n",
       "      <td>202211</td>\n",
       "      <td>TVS</td>\n",
       "      <td>9GZ</td>\n",
       "      <td>True Corp</td>\n",
       "      <td>0000ZZ</td>\n",
       "      <td>BUS_CORP_S</td>\n",
       "      <td>EXISTING</td>\n",
       "      <td>104.0</td>\n",
       "      <td>0.00</td>\n",
       "      <td>0.00</td>\n",
       "    </tr>\n",
       "  </tbody>\n",
       "</table>\n",
       "<p>27860 rows × 10 columns</p>\n",
       "</div>"
      ],
      "text/plain": [
       "       TM_KEY_MTH    PRODUCT ORGID_H TDS_PROVINCE ORGID_AA   CUST_CATG  \\\n",
       "0          202201  BROADBAND    None         None     None  BUS_CORP_S   \n",
       "1          202201  BROADBAND    None         None     None  BUS_CORP_S   \n",
       "2          202201  BROADBAND     001     B094-BKK  100201A  BUS_CORP_S   \n",
       "3          202201  BROADBAND     001     B094-BKK  100102A  BUS_CORP_S   \n",
       "4          202201  BROADBAND     001     B094-BKK  100101A  BUS_CORP_S   \n",
       "...           ...        ...     ...          ...      ...         ...   \n",
       "27855      202211        TVS     94Z      Pattani  940401A  BUS_CORP_S   \n",
       "27856      202211        TVS     94Z      Pattani  940101A  BUS_CORP_S   \n",
       "27857      202211        TVS     95Z         Yala  950101A  BUS_CORP_S   \n",
       "27858      202211        TVS     95Z         Yala  950201A  BUS_CORP_S   \n",
       "27859      202211        TVS     9GZ    True Corp   0000ZZ  BUS_CORP_S   \n",
       "\n",
       "      NEW_EXISTING   SUBS       REV  REV_ESTM  \n",
       "0              NEW   17.0   1817.35   1817.35  \n",
       "1         EXISTING   26.0  12037.07  12037.07  \n",
       "2         EXISTING   30.0  16193.50  16193.50  \n",
       "3              NEW    1.0      0.00      0.00  \n",
       "4              NEW    1.0      0.00      0.00  \n",
       "...            ...    ...       ...       ...  \n",
       "27855     EXISTING    0.0      0.00      0.00  \n",
       "27856     EXISTING    NaN      0.00      0.00  \n",
       "27857     EXISTING    NaN      0.00      0.00  \n",
       "27858     EXISTING    1.0      0.00      0.00  \n",
       "27859     EXISTING  104.0      0.00      0.00  \n",
       "\n",
       "[27860 rows x 10 columns]"
      ]
     },
     "execution_count": 6,
     "metadata": {},
     "output_type": "execute_result"
    }
   ],
   "source": [
    "data"
   ]
  },
  {
   "cell_type": "code",
   "execution_count": null,
   "metadata": {},
   "outputs": [],
   "source": []
  },
  {
   "cell_type": "code",
   "execution_count": null,
   "metadata": {},
   "outputs": [],
   "source": []
  },
  {
   "cell_type": "code",
   "execution_count": 7,
   "metadata": {},
   "outputs": [],
   "source": [
    "def _aa_month_scores(row):\n",
    "    month_scores = row.groupby('TM_KEY_MTH').sum()['REV']\n",
    "    for m in range(1,13):\n",
    "        tm_month = int(f'2021{m:02}')\n",
    "        if tm_month not in month_scores.index:\n",
    "            month_scores[tm_month] = 0\n",
    "    score_aa = score.MonthlyScore(month_scores)\n",
    "    return score_aa.weekly_scores\n",
    "\n",
    "# def _aa_month_scores(row):\n",
    "#     month_scores = row.groupby('TM_KEY_MTH').sum()['REV']\n",
    "#     for m in range(1,13):\n",
    "#         tm_month = int(f'2021{m:02}')\n",
    "#         if tm_month not in month_scores.index:\n",
    "#             month_scores[tm_month] = 0\n",
    "#     score_aa = score.MonthlyScore(month_scores)\n",
    "#     return score_aa"
   ]
  },
  {
   "cell_type": "code",
   "execution_count": 8,
   "metadata": {
    "scrolled": true
   },
   "outputs": [
    {
     "ename": "IllegalMonthError",
     "evalue": "bad month number 13; must be 1-12",
     "output_type": "error",
     "traceback": [
      "\u001b[1;31m---------------------------------------------------------------------------\u001b[0m",
      "\u001b[1;31mIllegalMonthError\u001b[0m                         Traceback (most recent call last)",
      "\u001b[1;32m~\\AppData\\Local\\Temp/ipykernel_328/861248752.py\u001b[0m in \u001b[0;36m<module>\u001b[1;34m\u001b[0m\n\u001b[1;32m----> 1\u001b[1;33m \u001b[0mweekly_scores\u001b[0m \u001b[1;33m=\u001b[0m \u001b[0mdata\u001b[0m\u001b[1;33m.\u001b[0m\u001b[0mgroupby\u001b[0m\u001b[1;33m(\u001b[0m\u001b[1;34m'ORGID_AA'\u001b[0m\u001b[1;33m)\u001b[0m\u001b[1;33m.\u001b[0m\u001b[0mapply\u001b[0m\u001b[1;33m(\u001b[0m\u001b[0m_aa_month_scores\u001b[0m\u001b[1;33m)\u001b[0m\u001b[1;33m.\u001b[0m\u001b[0mreset_index\u001b[0m\u001b[1;33m(\u001b[0m\u001b[1;33m)\u001b[0m\u001b[1;33m\u001b[0m\u001b[1;33m\u001b[0m\u001b[0m\n\u001b[0m",
      "\u001b[1;32m~\\anaconda3\\lib\\site-packages\\pandas\\core\\groupby\\groupby.py\u001b[0m in \u001b[0;36mapply\u001b[1;34m(self, func, *args, **kwargs)\u001b[0m\n\u001b[0;32m   1273\u001b[0m         \u001b[1;32mwith\u001b[0m \u001b[0moption_context\u001b[0m\u001b[1;33m(\u001b[0m\u001b[1;34m\"mode.chained_assignment\"\u001b[0m\u001b[1;33m,\u001b[0m \u001b[1;32mNone\u001b[0m\u001b[1;33m)\u001b[0m\u001b[1;33m:\u001b[0m\u001b[1;33m\u001b[0m\u001b[1;33m\u001b[0m\u001b[0m\n\u001b[0;32m   1274\u001b[0m             \u001b[1;32mtry\u001b[0m\u001b[1;33m:\u001b[0m\u001b[1;33m\u001b[0m\u001b[1;33m\u001b[0m\u001b[0m\n\u001b[1;32m-> 1275\u001b[1;33m                 \u001b[0mresult\u001b[0m \u001b[1;33m=\u001b[0m \u001b[0mself\u001b[0m\u001b[1;33m.\u001b[0m\u001b[0m_python_apply_general\u001b[0m\u001b[1;33m(\u001b[0m\u001b[0mf\u001b[0m\u001b[1;33m,\u001b[0m \u001b[0mself\u001b[0m\u001b[1;33m.\u001b[0m\u001b[0m_selected_obj\u001b[0m\u001b[1;33m)\u001b[0m\u001b[1;33m\u001b[0m\u001b[1;33m\u001b[0m\u001b[0m\n\u001b[0m\u001b[0;32m   1276\u001b[0m             \u001b[1;32mexcept\u001b[0m \u001b[0mTypeError\u001b[0m\u001b[1;33m:\u001b[0m\u001b[1;33m\u001b[0m\u001b[1;33m\u001b[0m\u001b[0m\n\u001b[0;32m   1277\u001b[0m                 \u001b[1;31m# gh-20949\u001b[0m\u001b[1;33m\u001b[0m\u001b[1;33m\u001b[0m\u001b[0m\n",
      "\u001b[1;32m~\\anaconda3\\lib\\site-packages\\pandas\\core\\groupby\\groupby.py\u001b[0m in \u001b[0;36m_python_apply_general\u001b[1;34m(self, f, data)\u001b[0m\n\u001b[0;32m   1307\u001b[0m             \u001b[0mdata\u001b[0m \u001b[0mafter\u001b[0m \u001b[0mapplying\u001b[0m \u001b[0mf\u001b[0m\u001b[1;33m\u001b[0m\u001b[1;33m\u001b[0m\u001b[0m\n\u001b[0;32m   1308\u001b[0m         \"\"\"\n\u001b[1;32m-> 1309\u001b[1;33m         \u001b[0mkeys\u001b[0m\u001b[1;33m,\u001b[0m \u001b[0mvalues\u001b[0m\u001b[1;33m,\u001b[0m \u001b[0mmutated\u001b[0m \u001b[1;33m=\u001b[0m \u001b[0mself\u001b[0m\u001b[1;33m.\u001b[0m\u001b[0mgrouper\u001b[0m\u001b[1;33m.\u001b[0m\u001b[0mapply\u001b[0m\u001b[1;33m(\u001b[0m\u001b[0mf\u001b[0m\u001b[1;33m,\u001b[0m \u001b[0mdata\u001b[0m\u001b[1;33m,\u001b[0m \u001b[0mself\u001b[0m\u001b[1;33m.\u001b[0m\u001b[0maxis\u001b[0m\u001b[1;33m)\u001b[0m\u001b[1;33m\u001b[0m\u001b[1;33m\u001b[0m\u001b[0m\n\u001b[0m\u001b[0;32m   1310\u001b[0m \u001b[1;33m\u001b[0m\u001b[0m\n\u001b[0;32m   1311\u001b[0m         return self._wrap_applied_output(\n",
      "\u001b[1;32m~\\anaconda3\\lib\\site-packages\\pandas\\core\\groupby\\ops.py\u001b[0m in \u001b[0;36mapply\u001b[1;34m(self, f, data, axis)\u001b[0m\n\u001b[0;32m    802\u001b[0m             \u001b[1;32mtry\u001b[0m\u001b[1;33m:\u001b[0m\u001b[1;33m\u001b[0m\u001b[1;33m\u001b[0m\u001b[0m\n\u001b[0;32m    803\u001b[0m                 \u001b[0msdata\u001b[0m \u001b[1;33m=\u001b[0m \u001b[0msplitter\u001b[0m\u001b[1;33m.\u001b[0m\u001b[0msorted_data\u001b[0m\u001b[1;33m\u001b[0m\u001b[1;33m\u001b[0m\u001b[0m\n\u001b[1;32m--> 804\u001b[1;33m                 \u001b[0mresult_values\u001b[0m\u001b[1;33m,\u001b[0m \u001b[0mmutated\u001b[0m \u001b[1;33m=\u001b[0m \u001b[0msplitter\u001b[0m\u001b[1;33m.\u001b[0m\u001b[0mfast_apply\u001b[0m\u001b[1;33m(\u001b[0m\u001b[0mf\u001b[0m\u001b[1;33m,\u001b[0m \u001b[0msdata\u001b[0m\u001b[1;33m,\u001b[0m \u001b[0mgroup_keys\u001b[0m\u001b[1;33m)\u001b[0m\u001b[1;33m\u001b[0m\u001b[1;33m\u001b[0m\u001b[0m\n\u001b[0m\u001b[0;32m    805\u001b[0m \u001b[1;33m\u001b[0m\u001b[0m\n\u001b[0;32m    806\u001b[0m             \u001b[1;32mexcept\u001b[0m \u001b[0mIndexError\u001b[0m\u001b[1;33m:\u001b[0m\u001b[1;33m\u001b[0m\u001b[1;33m\u001b[0m\u001b[0m\n",
      "\u001b[1;32m~\\anaconda3\\lib\\site-packages\\pandas\\core\\groupby\\ops.py\u001b[0m in \u001b[0;36mfast_apply\u001b[1;34m(self, f, sdata, names)\u001b[0m\n\u001b[0;32m   1347\u001b[0m         \u001b[1;31m# must return keys::list, values::list, mutated::bool\u001b[0m\u001b[1;33m\u001b[0m\u001b[1;33m\u001b[0m\u001b[0m\n\u001b[0;32m   1348\u001b[0m         \u001b[0mstarts\u001b[0m\u001b[1;33m,\u001b[0m \u001b[0mends\u001b[0m \u001b[1;33m=\u001b[0m \u001b[0mlib\u001b[0m\u001b[1;33m.\u001b[0m\u001b[0mgenerate_slices\u001b[0m\u001b[1;33m(\u001b[0m\u001b[0mself\u001b[0m\u001b[1;33m.\u001b[0m\u001b[0mslabels\u001b[0m\u001b[1;33m,\u001b[0m \u001b[0mself\u001b[0m\u001b[1;33m.\u001b[0m\u001b[0mngroups\u001b[0m\u001b[1;33m)\u001b[0m\u001b[1;33m\u001b[0m\u001b[1;33m\u001b[0m\u001b[0m\n\u001b[1;32m-> 1349\u001b[1;33m         \u001b[1;32mreturn\u001b[0m \u001b[0mlibreduction\u001b[0m\u001b[1;33m.\u001b[0m\u001b[0mapply_frame_axis0\u001b[0m\u001b[1;33m(\u001b[0m\u001b[0msdata\u001b[0m\u001b[1;33m,\u001b[0m \u001b[0mf\u001b[0m\u001b[1;33m,\u001b[0m \u001b[0mnames\u001b[0m\u001b[1;33m,\u001b[0m \u001b[0mstarts\u001b[0m\u001b[1;33m,\u001b[0m \u001b[0mends\u001b[0m\u001b[1;33m)\u001b[0m\u001b[1;33m\u001b[0m\u001b[1;33m\u001b[0m\u001b[0m\n\u001b[0m\u001b[0;32m   1350\u001b[0m \u001b[1;33m\u001b[0m\u001b[0m\n\u001b[0;32m   1351\u001b[0m     \u001b[1;32mdef\u001b[0m \u001b[0m_chop\u001b[0m\u001b[1;33m(\u001b[0m\u001b[0mself\u001b[0m\u001b[1;33m,\u001b[0m \u001b[0msdata\u001b[0m\u001b[1;33m:\u001b[0m \u001b[0mDataFrame\u001b[0m\u001b[1;33m,\u001b[0m \u001b[0mslice_obj\u001b[0m\u001b[1;33m:\u001b[0m \u001b[0mslice\u001b[0m\u001b[1;33m)\u001b[0m \u001b[1;33m->\u001b[0m \u001b[0mDataFrame\u001b[0m\u001b[1;33m:\u001b[0m\u001b[1;33m\u001b[0m\u001b[1;33m\u001b[0m\u001b[0m\n",
      "\u001b[1;32m~\\anaconda3\\lib\\site-packages\\pandas\\_libs\\reduction.pyx\u001b[0m in \u001b[0;36mpandas._libs.reduction.apply_frame_axis0\u001b[1;34m()\u001b[0m\n",
      "\u001b[1;32m~\\AppData\\Local\\Temp/ipykernel_328/404085856.py\u001b[0m in \u001b[0;36m_aa_month_scores\u001b[1;34m(row)\u001b[0m\n\u001b[0;32m      5\u001b[0m         \u001b[1;32mif\u001b[0m \u001b[0mtm_month\u001b[0m \u001b[1;32mnot\u001b[0m \u001b[1;32min\u001b[0m \u001b[0mmonth_scores\u001b[0m\u001b[1;33m.\u001b[0m\u001b[0mindex\u001b[0m\u001b[1;33m:\u001b[0m\u001b[1;33m\u001b[0m\u001b[1;33m\u001b[0m\u001b[0m\n\u001b[0;32m      6\u001b[0m             \u001b[0mmonth_scores\u001b[0m\u001b[1;33m[\u001b[0m\u001b[0mtm_month\u001b[0m\u001b[1;33m]\u001b[0m \u001b[1;33m=\u001b[0m \u001b[1;36m0\u001b[0m\u001b[1;33m\u001b[0m\u001b[1;33m\u001b[0m\u001b[0m\n\u001b[1;32m----> 7\u001b[1;33m     \u001b[0mscore_aa\u001b[0m \u001b[1;33m=\u001b[0m \u001b[0mscore\u001b[0m\u001b[1;33m.\u001b[0m\u001b[0mMonthlyScore\u001b[0m\u001b[1;33m(\u001b[0m\u001b[0mmonth_scores\u001b[0m\u001b[1;33m)\u001b[0m\u001b[1;33m\u001b[0m\u001b[1;33m\u001b[0m\u001b[0m\n\u001b[0m\u001b[0;32m      8\u001b[0m     \u001b[1;32mreturn\u001b[0m \u001b[0mscore_aa\u001b[0m\u001b[1;33m.\u001b[0m\u001b[0mweekly_scores\u001b[0m\u001b[1;33m\u001b[0m\u001b[1;33m\u001b[0m\u001b[0m\n\u001b[0;32m      9\u001b[0m \u001b[1;33m\u001b[0m\u001b[0m\n",
      "\u001b[1;32m~\\anaconda3\\lib\\site-packages\\lnwtrue\\score.py\u001b[0m in \u001b[0;36m__init__\u001b[1;34m(self, monthly_scores, is_accum, baseline, year)\u001b[0m\n\u001b[0;32m     80\u001b[0m \u001b[1;33m\u001b[0m\u001b[0m\n\u001b[0;32m     81\u001b[0m         \u001b[1;32melse\u001b[0m\u001b[1;33m:\u001b[0m\u001b[1;33m\u001b[0m\u001b[1;33m\u001b[0m\u001b[0m\n\u001b[1;32m---> 82\u001b[1;33m             \u001b[0mself\u001b[0m\u001b[1;33m.\u001b[0m\u001b[0mweekly_scores\u001b[0m \u001b[1;33m=\u001b[0m \u001b[0mself\u001b[0m\u001b[1;33m.\u001b[0m\u001b[0m_weekly_scores\u001b[0m\u001b[1;33m(\u001b[0m\u001b[1;33m)\u001b[0m\u001b[1;33m\u001b[0m\u001b[1;33m\u001b[0m\u001b[0m\n\u001b[0m\u001b[0;32m     83\u001b[0m             \u001b[0mself\u001b[0m\u001b[1;33m.\u001b[0m\u001b[0mquarterly_scores\u001b[0m \u001b[1;33m=\u001b[0m \u001b[0mself\u001b[0m\u001b[1;33m.\u001b[0m\u001b[0m_quarterly_scores\u001b[0m\u001b[1;33m(\u001b[0m\u001b[1;33m)\u001b[0m\u001b[1;33m\u001b[0m\u001b[1;33m\u001b[0m\u001b[0m\n\u001b[0;32m     84\u001b[0m             \u001b[0mself\u001b[0m\u001b[1;33m.\u001b[0m\u001b[0mannual_score\u001b[0m \u001b[1;33m=\u001b[0m \u001b[0mself\u001b[0m\u001b[1;33m.\u001b[0m\u001b[0mmonthly_scores\u001b[0m\u001b[1;33m.\u001b[0m\u001b[0msum\u001b[0m\u001b[1;33m(\u001b[0m\u001b[1;33m)\u001b[0m\u001b[1;33m\u001b[0m\u001b[1;33m\u001b[0m\u001b[0m\n",
      "\u001b[1;32m~\\anaconda3\\lib\\site-packages\\lnwtrue\\score.py\u001b[0m in \u001b[0;36m_weekly_scores\u001b[1;34m(self)\u001b[0m\n\u001b[0;32m    102\u001b[0m \u001b[1;33m\u001b[0m\u001b[0m\n\u001b[0;32m    103\u001b[0m     \u001b[1;32mdef\u001b[0m \u001b[0m_weekly_scores\u001b[0m\u001b[1;33m(\u001b[0m\u001b[0mself\u001b[0m\u001b[1;33m)\u001b[0m\u001b[1;33m:\u001b[0m\u001b[1;33m\u001b[0m\u001b[1;33m\u001b[0m\u001b[0m\n\u001b[1;32m--> 104\u001b[1;33m         \u001b[0mdaily_scores\u001b[0m \u001b[1;33m=\u001b[0m \u001b[0mself\u001b[0m\u001b[1;33m.\u001b[0m\u001b[0m_get_daily_score_from_monthly\u001b[0m\u001b[1;33m(\u001b[0m\u001b[1;33m)\u001b[0m\u001b[1;33m\u001b[0m\u001b[1;33m\u001b[0m\u001b[0m\n\u001b[0m\u001b[0;32m    105\u001b[0m         \u001b[0mmonth_in_week_number\u001b[0m \u001b[1;33m=\u001b[0m \u001b[0mget_month_in_week_number\u001b[0m\u001b[1;33m(\u001b[0m\u001b[0mself\u001b[0m\u001b[1;33m.\u001b[0m\u001b[0myear\u001b[0m\u001b[1;33m)\u001b[0m\u001b[1;33m\u001b[0m\u001b[1;33m\u001b[0m\u001b[0m\n\u001b[0;32m    106\u001b[0m         \u001b[0mweek_scores\u001b[0m \u001b[1;33m=\u001b[0m \u001b[1;33m[\u001b[0m\u001b[1;33m]\u001b[0m\u001b[1;33m\u001b[0m\u001b[1;33m\u001b[0m\u001b[0m\n",
      "\u001b[1;32m~\\anaconda3\\lib\\site-packages\\lnwtrue\\score.py\u001b[0m in \u001b[0;36m_get_daily_score_from_monthly\u001b[1;34m(self)\u001b[0m\n\u001b[0;32m     96\u001b[0m         \u001b[0mdaily_scores\u001b[0m \u001b[1;33m=\u001b[0m \u001b[1;33m[\u001b[0m\u001b[1;33m]\u001b[0m\u001b[1;33m\u001b[0m\u001b[1;33m\u001b[0m\u001b[0m\n\u001b[0;32m     97\u001b[0m         \u001b[1;32mfor\u001b[0m \u001b[0mi\u001b[0m\u001b[1;33m,\u001b[0m \u001b[0mscore\u001b[0m \u001b[1;32min\u001b[0m \u001b[0menumerate\u001b[0m\u001b[1;33m(\u001b[0m\u001b[0mself\u001b[0m\u001b[1;33m.\u001b[0m\u001b[0mmonthly_scores\u001b[0m\u001b[1;33m)\u001b[0m\u001b[1;33m:\u001b[0m\u001b[1;33m\u001b[0m\u001b[1;33m\u001b[0m\u001b[0m\n\u001b[1;32m---> 98\u001b[1;33m             \u001b[0mdays\u001b[0m \u001b[1;33m=\u001b[0m \u001b[0mmonthrange\u001b[0m\u001b[1;33m(\u001b[0m\u001b[0mself\u001b[0m\u001b[1;33m.\u001b[0m\u001b[0myear\u001b[0m\u001b[1;33m,\u001b[0m \u001b[0mi\u001b[0m\u001b[1;33m+\u001b[0m\u001b[1;36m1\u001b[0m\u001b[1;33m)\u001b[0m\u001b[1;33m[\u001b[0m\u001b[1;36m1\u001b[0m\u001b[1;33m]\u001b[0m\u001b[1;33m\u001b[0m\u001b[1;33m\u001b[0m\u001b[0m\n\u001b[0m\u001b[0;32m     99\u001b[0m             \u001b[0mdaily_score\u001b[0m \u001b[1;33m=\u001b[0m \u001b[0mscore\u001b[0m \u001b[1;33m/\u001b[0m \u001b[0mdays\u001b[0m\u001b[1;33m\u001b[0m\u001b[1;33m\u001b[0m\u001b[0m\n\u001b[0;32m    100\u001b[0m             \u001b[0mdaily_scores\u001b[0m\u001b[1;33m.\u001b[0m\u001b[0mappend\u001b[0m\u001b[1;33m(\u001b[0m\u001b[0mdaily_score\u001b[0m\u001b[1;33m)\u001b[0m\u001b[1;33m\u001b[0m\u001b[1;33m\u001b[0m\u001b[0m\n",
      "\u001b[1;32m~\\anaconda3\\lib\\calendar.py\u001b[0m in \u001b[0;36mmonthrange\u001b[1;34m(year, month)\u001b[0m\n\u001b[0;32m    122\u001b[0m        year, month.\"\"\"\n\u001b[0;32m    123\u001b[0m     \u001b[1;32mif\u001b[0m \u001b[1;32mnot\u001b[0m \u001b[1;36m1\u001b[0m \u001b[1;33m<=\u001b[0m \u001b[0mmonth\u001b[0m \u001b[1;33m<=\u001b[0m \u001b[1;36m12\u001b[0m\u001b[1;33m:\u001b[0m\u001b[1;33m\u001b[0m\u001b[1;33m\u001b[0m\u001b[0m\n\u001b[1;32m--> 124\u001b[1;33m         \u001b[1;32mraise\u001b[0m \u001b[0mIllegalMonthError\u001b[0m\u001b[1;33m(\u001b[0m\u001b[0mmonth\u001b[0m\u001b[1;33m)\u001b[0m\u001b[1;33m\u001b[0m\u001b[1;33m\u001b[0m\u001b[0m\n\u001b[0m\u001b[0;32m    125\u001b[0m     \u001b[0mday1\u001b[0m \u001b[1;33m=\u001b[0m \u001b[0mweekday\u001b[0m\u001b[1;33m(\u001b[0m\u001b[0myear\u001b[0m\u001b[1;33m,\u001b[0m \u001b[0mmonth\u001b[0m\u001b[1;33m,\u001b[0m \u001b[1;36m1\u001b[0m\u001b[1;33m)\u001b[0m\u001b[1;33m\u001b[0m\u001b[1;33m\u001b[0m\u001b[0m\n\u001b[0;32m    126\u001b[0m     \u001b[0mndays\u001b[0m \u001b[1;33m=\u001b[0m \u001b[0mmdays\u001b[0m\u001b[1;33m[\u001b[0m\u001b[0mmonth\u001b[0m\u001b[1;33m]\u001b[0m \u001b[1;33m+\u001b[0m \u001b[1;33m(\u001b[0m\u001b[0mmonth\u001b[0m \u001b[1;33m==\u001b[0m \u001b[0mFebruary\u001b[0m \u001b[1;32mand\u001b[0m \u001b[0misleap\u001b[0m\u001b[1;33m(\u001b[0m\u001b[0myear\u001b[0m\u001b[1;33m)\u001b[0m\u001b[1;33m)\u001b[0m\u001b[1;33m\u001b[0m\u001b[1;33m\u001b[0m\u001b[0m\n",
      "\u001b[1;31mIllegalMonthError\u001b[0m: bad month number 13; must be 1-12"
     ]
    }
   ],
   "source": [
    "weekly_scores = data.groupby('ORGID_AA').apply(_aa_month_scores).reset_index()"
   ]
  },
  {
   "cell_type": "code",
   "execution_count": null,
   "metadata": {},
   "outputs": [],
   "source": [
    "weekly_scores.columns = ['ORGID_AA', 'WEEKLY_SCORES']"
   ]
  },
  {
   "cell_type": "code",
   "execution_count": null,
   "metadata": {},
   "outputs": [],
   "source": [
    "aa_to_h = {}\n",
    "for i,row in data.iterrows():\n",
    "    aa_to_h[row['ORGID_AA']] = row['ORGID_H']\n",
    "\n",
    "h_to_r, h_to_g = mooc.h_to_all()"
   ]
  },
  {
   "cell_type": "code",
   "execution_count": null,
   "metadata": {},
   "outputs": [],
   "source": [
    "# aa_to_h, aa_to_r, aa_to_g = mooc.aa_to_all()"
   ]
  },
  {
   "cell_type": "code",
   "execution_count": null,
   "metadata": {},
   "outputs": [],
   "source": [
    "weekly_scores['ORGID_H'] = weekly_scores['ORGID_AA'].map(aa_to_h)\n",
    "weekly_scores['ORGID_R'] = weekly_scores['ORGID_H'].map(h_to_r)\n",
    "weekly_scores['ORGID_G'] = weekly_scores['ORGID_H'].map(h_to_g)\n",
    "# weekly_scores['ORGID_P'] = 'P'\n",
    "weekly_scores['ORGID_P'] = weekly_scores['ORGID_G'].apply(lambda x: 'P' if x==x else x)"
   ]
  },
  {
   "cell_type": "code",
   "execution_count": null,
   "metadata": {},
   "outputs": [],
   "source": []
  },
  {
   "cell_type": "markdown",
   "metadata": {},
   "source": [
    "filter 530 aas"
   ]
  },
  {
   "cell_type": "code",
   "execution_count": null,
   "metadata": {},
   "outputs": [],
   "source": [
    "# mo_tem = pd.read_excel(micro_org_target_template)\n",
    "# aa_530 = mo_tem[mo_tem['Geo_Level']==5]['Geo_Code'].unique()\n",
    "\n",
    "# weekly_scores = weekly_scores[weekly_scores['ORGID_AA'].isin(aa_530)]"
   ]
  },
  {
   "cell_type": "code",
   "execution_count": null,
   "metadata": {},
   "outputs": [],
   "source": []
  },
  {
   "cell_type": "code",
   "execution_count": null,
   "metadata": {},
   "outputs": [],
   "source": [
    "matrix = []\n",
    "for row in weekly_scores['WEEKLY_SCORES']:\n",
    "    matrix.append(row)\n",
    "\n",
    "matrix = np.array(matrix)"
   ]
  },
  {
   "cell_type": "code",
   "execution_count": null,
   "metadata": {
    "scrolled": true
   },
   "outputs": [],
   "source": [
    "current_week = datetime.datetime.today().isocalendar()[1]\n",
    "# tm_weeks = [f'20210{week_no:02}' for week_no in range(1, current_week+2)]\n",
    "tm_weeks = [f'20210{week_no:02}' for week_no in range(1, 53)]"
   ]
  },
  {
   "cell_type": "code",
   "execution_count": null,
   "metadata": {
    "scrolled": true
   },
   "outputs": [],
   "source": [
    "for i, tm_week in enumerate(tm_weeks):\n",
    "    weekly_scores[tm_week] = matrix[:, i]"
   ]
  },
  {
   "cell_type": "code",
   "execution_count": null,
   "metadata": {},
   "outputs": [],
   "source": []
  },
  {
   "cell_type": "code",
   "execution_count": null,
   "metadata": {},
   "outputs": [],
   "source": [
    "if not os.path.exists(OUTPUT_DIR):\n",
    "    os.makedirs(OUTPUT_DIR)"
   ]
  },
  {
   "cell_type": "code",
   "execution_count": null,
   "metadata": {},
   "outputs": [],
   "source": []
  },
  {
   "cell_type": "code",
   "execution_count": null,
   "metadata": {},
   "outputs": [],
   "source": []
  },
  {
   "cell_type": "markdown",
   "metadata": {},
   "source": [
    "template"
   ]
  },
  {
   "cell_type": "code",
   "execution_count": null,
   "metadata": {},
   "outputs": [],
   "source": [
    "lv_cols = ['ORGID_AA', 'ORGID_H', 'ORGID_R', 'ORGID_G', 'ORGID_P']"
   ]
  },
  {
   "cell_type": "code",
   "execution_count": null,
   "metadata": {},
   "outputs": [],
   "source": [
    "template_gen = trueconnect.KPITemplateGenerator(kpi_name)"
   ]
  },
  {
   "cell_type": "code",
   "execution_count": null,
   "metadata": {},
   "outputs": [],
   "source": [
    "for week_no in tm_weeks:\n",
    "    vals = pd.Series()\n",
    "    for lv_col in lv_cols:\n",
    "        val = weekly_scores.groupby(lv_col).sum()[week_no]\n",
    "        vals = vals.append(val)\n",
    "\n",
    "    vals['PC'] = 'NO'\n",
    "\n",
    "    template = template_gen.gen_weekly_microorg(vals, year, week_no)\n",
    "    template.clean_no_id()\n",
    "    template.save(f'{OUTPUT_DIR}/{kpi_name.replace(\":\", \"\")}-{week_no}.xlsx')"
   ]
  },
  {
   "cell_type": "code",
   "execution_count": null,
   "metadata": {},
   "outputs": [],
   "source": []
  },
  {
   "cell_type": "code",
   "execution_count": null,
   "metadata": {},
   "outputs": [],
   "source": []
  },
  {
   "cell_type": "code",
   "execution_count": null,
   "metadata": {
    "scrolled": true
   },
   "outputs": [],
   "source": [
    "trueconnect.MicroorgActualTemplate.combine_output(OUTPUT_DIR, 'combine/sme_s_all.xlsx')"
   ]
  },
  {
   "cell_type": "code",
   "execution_count": null,
   "metadata": {},
   "outputs": [],
   "source": []
  },
  {
   "cell_type": "code",
   "execution_count": null,
   "metadata": {},
   "outputs": [],
   "source": []
  },
  {
   "cell_type": "code",
   "execution_count": null,
   "metadata": {},
   "outputs": [],
   "source": []
  },
  {
   "cell_type": "code",
   "execution_count": null,
   "metadata": {},
   "outputs": [],
   "source": []
  },
  {
   "cell_type": "code",
   "execution_count": null,
   "metadata": {},
   "outputs": [],
   "source": []
  }
 ],
 "metadata": {
  "kernelspec": {
   "display_name": "Python 3 (ipykernel)",
   "language": "python",
   "name": "python3"
  },
  "language_info": {
   "codemirror_mode": {
    "name": "ipython",
    "version": 3
   },
   "file_extension": ".py",
   "mimetype": "text/x-python",
   "name": "python",
   "nbconvert_exporter": "python",
   "pygments_lexer": "ipython3",
   "version": "3.9.7"
  }
 },
 "nbformat": 4,
 "nbformat_minor": 4
}
