{
 "cells": [
  {
   "attachments": {},
   "cell_type": "markdown",
   "metadata": {},
   "source": [
    "# Work with Oracle"
   ]
  },
  {
   "cell_type": "code",
   "execution_count": 1,
   "metadata": {},
   "outputs": [],
   "source": [
    "import cx_Oracle\n",
    "import oracledb\n",
    "import pandas as pd\n",
    "import numpy as np"
   ]
  },
  {
   "cell_type": "code",
   "execution_count": null,
   "metadata": {},
   "outputs": [],
   "source": [
    "# print(f'\\ncx_Oracle.version :{cx_Oracle.version}')\n",
    "# print(\"Client version:\", cx_Oracle.clientversion())"
   ]
  },
  {
   "cell_type": "code",
   "execution_count": null,
   "metadata": {},
   "outputs": [],
   "source": [
    "# newconn = oracledb.connect(user=\"<...>\", \n",
    "#                            password=\"<...>\", \n",
    "#                            dsn=\"<...>/<...>\")"
   ]
  },
  {
   "cell_type": "code",
   "execution_count": 3,
   "metadata": {},
   "outputs": [
    {
     "ename": "DatabaseError",
     "evalue": "DPI-1047: Cannot locate a 64-bit Oracle Client library: \"The specified module could not be found\". See https://cx-oracle.readthedocs.io/en/latest/user_guide/installation.html for help",
     "output_type": "error",
     "traceback": [
      "\u001b[1;31m---------------------------------------------------------------------------\u001b[0m",
      "\u001b[1;31mDatabaseError\u001b[0m                             Traceback (most recent call last)",
      "Cell \u001b[1;32mIn[3], line 2\u001b[0m\n\u001b[0;32m      1\u001b[0m conStr \u001b[38;5;241m=\u001b[39m \u001b[38;5;124m'\u001b[39m\u001b[38;5;124mNARUT_E01044451/G0to@wlb#mDB001@TDM-scan.dc2.true.th:1521/TDMDBPR\u001b[39m\u001b[38;5;124m'\u001b[39m\n\u001b[1;32m----> 2\u001b[0m conn \u001b[38;5;241m=\u001b[39m \u001b[43mcx_Oracle\u001b[49m\u001b[38;5;241;43m.\u001b[39;49m\u001b[43mconnect\u001b[49m\u001b[43m(\u001b[49m\u001b[43mconStr\u001b[49m\u001b[43m)\u001b[49m\n\u001b[0;32m      3\u001b[0m \u001b[38;5;28mprint\u001b[39m(\u001b[38;5;124m'\u001b[39m\u001b[38;5;124mTDMDBPR : Connected\u001b[39m\u001b[38;5;124m'\u001b[39m)\n\u001b[0;32m      4\u001b[0m cur \u001b[38;5;241m=\u001b[39m conn\u001b[38;5;241m.\u001b[39mcursor()\n",
      "\u001b[1;31mDatabaseError\u001b[0m: DPI-1047: Cannot locate a 64-bit Oracle Client library: \"The specified module could not be found\". See https://cx-oracle.readthedocs.io/en/latest/user_guide/installation.html for help"
     ]
    }
   ],
   "source": [
    "conStr = 'NARUT_E01044451/G0to@wlb#mDB001@TDM-scan.dc2.true.th:1521/TDMDBPR'\n",
    "conn = cx_Oracle.connect(conStr)\n",
    "print('TDMDBPR : Connected')\n",
    "cur = conn.cursor()"
   ]
  },
  {
   "attachments": {},
   "cell_type": "markdown",
   "metadata": {},
   "source": [
    "## Sample"
   ]
  },
  {
   "cell_type": "code",
   "execution_count": null,
   "metadata": {},
   "outputs": [],
   "source": [
    "# print(f'\\ncx_Oracle.version :{cx_Oracle.version}')\n",
    "# # print(\"Client version:\", cx_Oracle.clientversion())\n",
    "\n",
    "# # cx_Oracle.init_oracle_client(lib_dir=\"C:\\Oracle\\Ora11\\product\\11.2.0.4\\client_1\")\n",
    "# # cx_Oracle.init_oracle_client(lib_dir=\"C:\\Instantclient\\instantclient_21_10\")\n",
    "\n",
    "# # AIMD2CDB\n",
    "# # conStr = 'NARUT_E01044451/v9VzR8xsuwp#tyTb@TDM-scan.dc2.true.th:1521/TDMDBPR'\n",
    "# conStr = 'AUTOKPI/SNRpAssw0rd#001@172.16.54.52:1555/AKPIPRD'\n",
    "# conn = cx_Oracle.connect(conStr)\n",
    "# cur = conn.cursor()\n",
    "\n",
    "# # sqlTxt = \"SELECT * FROM AUTOKPI.TARGET_BILL_CYCLE_DAILY WHERE TM_KEY_DAY = 20230501\"\n",
    "# # cur.execute(sqlTxt)\n",
    "# # sqlTxt = \"SELECT * FROM AUTOKPI.TARGET_BILL_CYCLE_DAILY WHERE TM_KEY_DAY =:1\"\n",
    "# # cur.execute(sqlTxt, ('20230501',))\n",
    "# sqlTxt = \"SELECT * FROM AUTOKPI.DIM_MOOC_AREA WHERE ROWNUM <= :1\"\n",
    "# cur.execute(sqlTxt, ('100',))\n",
    "\n",
    "# # print(f'\\ndesctiption :\\n{cur.description}')\n",
    "\n",
    "# rows = cur.fetchall()\n",
    "# # print(f'\\nrows :\\n{rows}')\n",
    "# # print(f'rows :', cur.rowcount)\n",
    "# # TM_KEY_YR, TM_KEY_MTH, TRUE_TM_KEY_WK, TM_KEY_DAY, DAYS_IN_MONTH, PERIODFLAG, METRIC_CD, METRIC_NAME, METRIC_GRP, METRIC_VALUE, COMP_CD, VERSION, AREA_CD, AREA_DESC, AREA_TYPE, LOAD_DATE, REMARK\n",
    "\n",
    "# df = pd.DataFrame.from_records(rows, columns=[x[0] for x in cur.description])\n",
    "# print(f'\\ndf :\\n{df}')\n",
    "\n",
    "# cur.close()\n",
    "# conn.close()"
   ]
  },
  {
   "attachments": {},
   "cell_type": "markdown",
   "metadata": {},
   "source": [
    "## 6 Dimension Summary"
   ]
  },
  {
   "cell_type": "code",
   "execution_count": null,
   "metadata": {},
   "outputs": [],
   "source": [
    "conStr = 'NARUT_E01044451/v9VzR8xsuwp#tyTb@TDM-scan.dc2.true.th:1521/TDMDBPR'\n",
    "conn = cx_Oracle.connect(conStr)\n",
    "print('TDMDBPR : Connected')\n",
    "cur = conn.cursor()\n",
    "\n",
    "v_week = (2023022, )\n",
    "\n",
    "\n",
    "try:\n",
    "    # print(\"Database version:\", conn.version)\n",
    "    print(f'\\nExecute query as Week {v_week[0]}...')\n",
    "\n",
    "    sqlTxt = \"\"\"\n",
    "        WITH W_VAR (AS_OF_WK) AS \n",
    "        ( \n",
    "            SELECT :1 AS AS_OF_WK FROM DUAL \n",
    "        ) \n",
    "        , W_TMP_PERIOD (TM_KEY_YR, TM_KEY_QTR, TM_KEY_MTH, TM_KEY_WK, WK_DAY_START, WK_DAY_END) AS \n",
    "        ( \n",
    "            SELECT TM_KEY_YR, TM_KEY_QTR, TM_KEY_MTH, TM_KEY_WK, MIN(TM_KEY_DAY) AS WK_DAY_START, MAX(TM_KEY_DAY) AS WK_DAY_END \n",
    "            FROM GEOSPCAPPO.AGG_PERFORMANCE_NEWCO NOLOCK \n",
    "            WHERE TM_KEY_WK <= (SELECT AS_OF_WK FROM W_VAR) \n",
    "            GROUP BY TM_KEY_YR, TM_KEY_QTR, TM_KEY_MTH, TM_KEY_WK \n",
    "        ) \n",
    "        SELECT * \n",
    "        FROM ( \n",
    "            SELECT TM_KEY_MTH, TM_KEY_WK, CENTER, METRIC_GRP, COMP_CD, PRODUCT_GRP, METRIC_CD, METRIC_NAME, DIMENSION_KPI_FLAG, BG_FLAG--, METRIC_NAME_GROUP \n",
    "                , AGG_TYPE, RR_IND, GRY_IND, UOM, PERIOD \n",
    "                , CAST(SUM(ACTUAL_AGG) AS DECIMAL(18,2)) AS ACTUAL_AGG \n",
    "                , CAST(SUM(TARGET_AGG) AS DECIMAL(18,2)) AS TARGET_AGG \n",
    "                , MAX(PPN_TM) AS PPN_TM \n",
    "            FROM ( \n",
    "                SELECT TM_KEY_MTH, TM_KEY_WK, TM_KEY_DAY, CENTER, METRIC_GRP, COMP_CD, PRODUCT_GRP, METRIC_CD, METRIC_NAME \n",
    "                    , CASE \tWHEN ( METRIC_CD IN ('DNEC10006', 'TNEC10002', 'TNEC20002') --NETWORK EXPERIENCE \n",
    "                                OR METRIC_CD IN ('B1R000100', 'B2R000100', 'TB3R000100', 'TB4R000100', 'TNSC00142') --BUSINESS GROWTH \n",
    "                                OR METRIC_CD IN ('DSER21101', 'DSER22101', 'TSER21101', 'TSER22101', 'TSER23101', 'DB2S000200', 'DB1S000200', 'TB2S000200', 'TB1S000200', 'TSER13100', 'TSER14100') --CUSTOMER RETENTION & EXPERIENCE \n",
    "                                OR METRIC_CD IN ('TNSC00011', 'TNSC00013', 'TNSC00087', 'TNSC00101', 'TNSC00144', 'TNSC00020', 'TNSC00130') --NEW S-CURVE \n",
    "                                --COST & PRODUCTIVITY (Unknown ?) \n",
    "                                OR METRIC_CD IN ('DIS10007', 'DIS10011', 'DIS10001') --DIGITALIZATION \n",
    "                            ) THEN 'Y' ELSE 'N' END DIMENSION_KPI_FLAG \n",
    "                    , CASE \tWHEN METRIC_CD IN ('B1R000100', 'B2R000100', 'TB3R000100', 'TB4R000100', 'TNSC00142') --BUSINESS GROWTH \n",
    "                            THEN 'Y' ELSE 'N' END BG_FLAG \n",
    "                    , METRIC_NAME_GROUP, PPN_TM, AGG_TYPE, RR_IND, GRY_IND, UOM, PERIOD, ACTUAL_AGG, TARGET_AGG \n",
    "                FROM GEOSPCAPPO.AGG_PERFORMANCE_NEWCO NOLOCK \n",
    "                WHERE TM_KEY_DAY IN (SELECT WK_DAY_END FROM W_TMP_PERIOD) \n",
    "                AND AREA_TYPE = 'P' \n",
    "            ) A \n",
    "            GROUP BY TM_KEY_MTH, TM_KEY_WK, CENTER, METRIC_GRP, COMP_CD, PRODUCT_GRP, METRIC_CD, METRIC_NAME, DIMENSION_KPI_FLAG, BG_FLAG, AGG_TYPE, RR_IND, GRY_IND, UOM, PERIOD \n",
    "        ) B \n",
    "        --ORDER BY TM_KEY_MTH, TM_KEY_WK, CENTER, METRIC_GRP, COMP_CD, PRODUCT_GRP, METRIC_CD \n",
    "    \"\"\"\n",
    "    \n",
    "    cur.execute(sqlTxt, v_week)\n",
    "    # cur.execute(sqlTxt, ('2023020',))\n",
    "    # cur.executemany(sqlTxt, multiple parameter)\n",
    "\n",
    "    print(f'\\nDone !!!')\n",
    "\n",
    "    rows = cur.fetchall()\n",
    "    \n",
    "    df = pd.DataFrame.from_records(rows, columns=[x[0] for x in cur.description])\n",
    "\n",
    "\n",
    "except cx_Oracle.DatabaseError as e:\n",
    "    print(f'Error with Oracle : {e}')\n",
    "\n",
    "\n",
    "finally:\n",
    "    cur.close()\n",
    "    conn.close()\n",
    "    print('\\nTDMDBPR : Disconnected')"
   ]
  },
  {
   "cell_type": "code",
   "execution_count": null,
   "metadata": {},
   "outputs": [],
   "source": [
    "df.shape"
   ]
  },
  {
   "cell_type": "code",
   "execution_count": null,
   "metadata": {},
   "outputs": [],
   "source": [
    "df.columns"
   ]
  },
  {
   "cell_type": "code",
   "execution_count": null,
   "metadata": {},
   "outputs": [],
   "source": [
    "df.dtypes"
   ]
  },
  {
   "cell_type": "code",
   "execution_count": null,
   "metadata": {},
   "outputs": [],
   "source": [
    "df.describe()"
   ]
  },
  {
   "cell_type": "code",
   "execution_count": null,
   "metadata": {},
   "outputs": [],
   "source": [
    "df.head()"
   ]
  },
  {
   "attachments": {},
   "cell_type": "markdown",
   "metadata": {},
   "source": [
    "## Generate Output file"
   ]
  },
  {
   "cell_type": "code",
   "execution_count": null,
   "metadata": {},
   "outputs": [],
   "source": [
    "# C:\\Users\\Narut4\\coding\\Jupyter\\Work with Oracle.ipynb\n",
    "\n",
    "output_name = f'Raw-Agg Perf_Wk {v_week[0]}'\n",
    "\n",
    "df.to_csv(f'{output_name}.csv', index=False, encoding='utf-8')\n",
    "\n",
    "print(f'\\n\"{output_name}.csv\" is generated')"
   ]
  }
 ],
 "metadata": {
  "kernelspec": {
   "display_name": "py310",
   "language": "python",
   "name": "python3"
  },
  "language_info": {
   "codemirror_mode": {
    "name": "ipython",
    "version": 3
   },
   "file_extension": ".py",
   "mimetype": "text/x-python",
   "name": "python",
   "nbconvert_exporter": "python",
   "pygments_lexer": "ipython3",
   "version": "3.10.13"
  },
  "orig_nbformat": 4
 },
 "nbformat": 4,
 "nbformat_minor": 2
}
