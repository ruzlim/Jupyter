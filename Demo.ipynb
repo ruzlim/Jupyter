{
 "cells": [
  {
   "attachments": {},
   "cell_type": "markdown",
   "metadata": {},
   "source": [
    "# Demo"
   ]
  },
  {
   "cell_type": "code",
   "execution_count": 1,
   "metadata": {},
   "outputs": [
    {
     "name": "stdout",
     "output_type": "stream",
     "text": [
      "Hello Ruzlim!\n"
     ]
    }
   ],
   "source": [
    "print(\"Hello Ruzlim!\")"
   ]
  },
  {
   "cell_type": "code",
   "execution_count": 2,
   "metadata": {},
   "outputs": [
    {
     "name": "stdout",
     "output_type": "stream",
     "text": [
      "\n",
      "lib_dir = /Users/ruzlim/Code/Lib\n",
      "sys.path : ['/Users/ruzlim/Code/Jupyter', '/opt/homebrew/Caskroom/miniconda/base/envs/py310/lib/python310.zip', '/opt/homebrew/Caskroom/miniconda/base/envs/py310/lib/python3.10', '/opt/homebrew/Caskroom/miniconda/base/envs/py310/lib/python3.10/lib-dynload', '', '/opt/homebrew/Caskroom/miniconda/base/envs/py310/lib/python3.10/site-packages', '/opt/homebrew/Caskroom/miniconda/base/envs/py310/lib/python3.10/site-packages/PyQt5_sip-12.11.0-py3.10-macosx-11.1-arm64.egg']\n",
      "\n",
      "\n",
      "i : /Users/ruzlim/Code/Jupyter\n",
      "i : /opt/homebrew/Caskroom/miniconda/base/envs/py310/lib/python310.zip\n",
      "i : /opt/homebrew/Caskroom/miniconda/base/envs/py310/lib/python3.10\n",
      "i : /opt/homebrew/Caskroom/miniconda/base/envs/py310/lib/python3.10/lib-dynload\n",
      "i : \n",
      "i : /opt/homebrew/Caskroom/miniconda/base/envs/py310/lib/python3.10/site-packages\n",
      "i : /opt/homebrew/Caskroom/miniconda/base/envs/py310/lib/python3.10/site-packages/PyQt5_sip-12.11.0-py3.10-macosx-11.1-arm64.egg\n",
      "\n",
      "pd : <module 'pandas' from '/opt/homebrew/Caskroom/miniconda/base/envs/py310/lib/python3.10/site-packages/pandas/__init__.py'>\n",
      "\n",
      "np : <module 'numpy' from '/opt/homebrew/Caskroom/miniconda/base/envs/py310/lib/python3.10/site-packages/numpy/__init__.py'>\n",
      "\n",
      "dt : <module 'datetime' from '/opt/homebrew/Caskroom/miniconda/base/envs/py310/lib/python3.10/datetime.py'>\n",
      "\n",
      "ap : <module 'argparse' from '/opt/homebrew/Caskroom/miniconda/base/envs/py310/lib/python3.10/argparse.py'>\n",
      "\n",
      "openpyxl : <module 'openpyxl' from '/opt/homebrew/Caskroom/miniconda/base/envs/py310/lib/python3.10/site-packages/openpyxl/__init__.py'>\n",
      "\n",
      "\n",
      "i, factor: 0, 0.9\n",
      "i, factor: 1, 0.95\n",
      "i, factor: 2, 1\n",
      "i, factor: 3, 1.05\n",
      "i, factor: 4, 1.1\n"
     ]
    }
   ],
   "source": [
    "import os\n",
    "import sys\n",
    "import pandas as pd\n",
    "import numpy as np\n",
    "import datetime as dt\n",
    "import argparse as ap\n",
    "import openpyxl\n",
    "\n",
    "# lib_dir = ''\n",
    "lib_dir = os.path.join(os.path.dirname(os.getcwd()), 'Lib')\n",
    "# sys.path.clear()\n",
    "# sys.path.append(lib_dir)\n",
    "\n",
    "print(f'\\nlib_dir = {lib_dir}')\n",
    "print(f'sys.path : {sys.path}')\n",
    "print('\\n')\n",
    "for i in sys.path:\n",
    "    print(f'i : {i}')\n",
    "\n",
    "print(f'\\npd : {pd}')\n",
    "print(f'\\nnp : {np}')\n",
    "print(f'\\ndt : {dt}')\n",
    "print(f'\\nap : {ap}')\n",
    "print(f'\\nopenpyxl : {openpyxl}')\n",
    "\n",
    "print('\\n')\n",
    "for i, factor in enumerate([0.9, 0.95, 1, 1.05, 1.1]):\n",
    "    print(f'i, factor: {i}, {factor}')\n"
   ]
  },
  {
   "cell_type": "code",
   "execution_count": null,
   "metadata": {},
   "outputs": [],
   "source": []
  }
 ],
 "metadata": {
  "kernelspec": {
   "display_name": "py310",
   "language": "python",
   "name": "python3"
  },
  "language_info": {
   "codemirror_mode": {
    "name": "ipython",
    "version": 3
   },
   "file_extension": ".py",
   "mimetype": "text/x-python",
   "name": "python",
   "nbconvert_exporter": "python",
   "pygments_lexer": "ipython3",
   "version": "3.10.11"
  },
  "orig_nbformat": 4
 },
 "nbformat": 4,
 "nbformat_minor": 2
}
