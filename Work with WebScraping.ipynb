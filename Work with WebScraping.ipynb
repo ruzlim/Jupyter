{
 "cells": [
  {
   "attachments": {},
   "cell_type": "markdown",
   "metadata": {},
   "source": [
    "# Work with Web Scraping"
   ]
  },
  {
   "cell_type": "code",
   "execution_count": null,
   "metadata": {},
   "outputs": [],
   "source": [
    "from bs4 import BeautifulSoup\n",
    "import requests\n",
    "\n",
    "# url = \"https://vinsight.truecorp.co.th/performance/summary/kpis\"\n",
    "# url = \"https://siamsport.co.th/football-program/\"\n",
    "url = \"https://siamsport.co.th/football-program/21539/\"\n",
    "req = requests.get(url)\n",
    "# print(f'req :\\n{req}')\n",
    "\n",
    "if req.status_code == 200:\n",
    "    req.encoding = \"utf-8\" \n",
    "    # soup = BeautifulSoup(req.text, 'html.parser')\n",
    "    soup = BeautifulSoup(req.text)\n",
    "    # print(soup.prettify())\n",
    "    title = soup.find('title').text\n",
    "    print(title)\n",
    "    rawdata = soup.find_all('div', {'class':'fr-view'})\n",
    "    # print(data)\n",
    "    print('\\n')\n",
    "    # idx = 0\n",
    "    for data in rawdata:\n",
    "        # data = data.find_all('table')\n",
    "        data = data.find_all('tbody')\n",
    "        # data = data.find_all('tr')\n",
    "        # data = data.find_all('td')\n",
    "        for tbody in data:\n",
    "            tbody = tbody.find_all('tr')\n",
    "            idx = 0\n",
    "            for tr in tbody:\n",
    "                tr = tr.text\n",
    "                print(f'{idx} : {tr}')\n",
    "                idx += 1\n",
    "            print('\\n')\n",
    "        # print(f'idx {idx} : {data}')\n",
    "        # idx += 1\n",
    "\n",
    "else:\n",
    "    print(\"Not successful\")\n"
   ]
  },
  {
   "cell_type": "code",
   "execution_count": null,
   "metadata": {},
   "outputs": [],
   "source": []
  }
 ],
 "metadata": {
  "kernelspec": {
   "display_name": "py310",
   "language": "python",
   "name": "python3"
  },
  "language_info": {
   "codemirror_mode": {
    "name": "ipython",
    "version": 3
   },
   "file_extension": ".py",
   "mimetype": "text/x-python",
   "name": "python",
   "nbconvert_exporter": "python",
   "pygments_lexer": "ipython3",
   "version": "3.10.11"
  },
  "orig_nbformat": 4
 },
 "nbformat": 4,
 "nbformat_minor": 2
}
