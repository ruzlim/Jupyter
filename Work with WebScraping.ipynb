{
 "cells": [
  {
   "attachments": {},
   "cell_type": "markdown",
   "metadata": {},
   "source": [
    "# Work with Web Scraping"
   ]
  },
  {
   "cell_type": "code",
   "execution_count": 2,
   "metadata": {},
   "outputs": [],
   "source": [
    "from bs4 import BeautifulSoup\n",
    "import requests\n",
    "import re"
   ]
  },
  {
   "attachments": {},
   "cell_type": "markdown",
   "metadata": {},
   "source": [
    "## Find URL point"
   ]
  },
  {
   "cell_type": "code",
   "execution_count": 3,
   "metadata": {},
   "outputs": [
    {
     "name": "stdout",
     "output_type": "stream",
     "text": [
      "โปรแกรมบอล\n",
      "\n",
      "count : 34\n",
      "\n",
      "rawdata : [<a href=\"/football-program/21692/\">โปรแกรมบอลวันนี้ ตารางบอล วันจันทร์ที่ 22 พฤษภาคม 2566 ดูพรีเมียร์ลีก นิวคาสเซิ่ล พบ เลสเตอร์ - โรม่า, ยูเวนตุส เตะเซเรียอา</a>, <a href=\"/football-program/21692/\">โปรแกรมบอลวันนี้ ตารางบอล วันจันทร์ที่ 22 พฤษภาคม 2566 ดูพรีเมียร์ลีก นิวคาสเซิ่ล พบ เลสเตอร์ - โรม่า, ยูเวนตุส เตะเซเรียอา</a>, <a href=\"/football-program/21601/\">โปรแกรมบอลวันนี้ ตารางบอล วันอาทิตย์ที่ 21 พฤษภาคม 2566 ดูพรีเมียร์ลีก แมนซิตี้ พบ เชลซี - AIS PLAY ถ่ายทอดสดไทยลีก 2, ไทยลีก3</a>, <a href=\"/football-program/21539/\">โปรแกรมบอลวันนี้ ตารางบอล วันเสาร์ที่ 20 พฤษภาคม 2566 Siamsport ถ่ายทอดสดเจลีก - ดูพรีเมียร์ลีก แมนยู , ลิเวอร์พูล , อาร์เซน่อล, สเปอร์ส มีเตะ - AIS PLAY ถ่ายนัดชิงรีโว่คัพ</a>, <a href=\"/football-program/21534/\">โปรแกรมบอลวันนี้ ตารางบอล วันศุกร์ที่ 19 พฤษภาคม 2566 Siamsport ถ่ายทอดสดเจลีก ซัปโปโร ลงเตะ - ดูเซเรียอา - ลาลีกา - ลีกเอิง</a>, <a href=\"/football-program/21444/\">โปรแกรมบอลวันนี้ ตารางบอล วันพฤหัสบดีที่ 18 พฤษภาคม 2566 ดูพรีเมียร์ลีก นิวคาสเซิ่ล พบ ไบรท์ตัน - ตัดเชือกยูโรปาลีก , คอนเฟอเรนซ์ ลีก</a>, <a href=\"/football-program/21269/\">โปรแกรมบอลวันนี้ ตารางบอล วันพุธที่ 17 พฤษภาคม 2566 ดูชปล. แมนซิตี้ พบ เรอัล มาดริด</a>, <a href=\"/football-program/21264/\">โปรแกรมบอลวันนี้ ตารางบอล วันอังคารที่ 16 พฤษภาคม 2566 ดูทีมชาติไทย พบ อินโดนีเซีย ชิงทองซีเกมส์ - ดูชปล. อินเตอร์พบ เอซี มิลาน</a>, <a href=\"/football-program/21023/\">โปรแกรมบอลวันนี้ ตารางบอล วันจันทร์ที่ 15 พฤษภาคม 2566 ดูพรีเมียร์ลีก เลสเตอร์ พบ ลิเวอร์พูล - เซเรียอา - ลาลีกา มีเตะ</a>, <a href=\"/football-program/21022/\">โปรแกรมบอลวันนี้ ตารางบอล วันอาทิตย์ที่ 14 พฤษภาคม 2566 Siamsport ถ่ายทอดสดเจลีก - ดูพรีเมียร์ลีก อาร์เซน่อล พบ ไบรท์ตัน, แมนซิตี้ มีเตะ</a>, <a href=\"/football-program/21018/\">โปรแกรมบอลวันนี้ ตารางบอล วันเสาร์ที่ 13 พฤษภาคม 2566 Siamsport ถ่ายทอดสดเจลีก - ดูบอลซีเกมส์ ไทย พบ เมียนมาร์ - ดูพรีเมียร์ลีก แมนยู , นิวคาสเซิ่ล, สเปอร์ส, เชลซี มีเตะ</a>, <a href=\"/football-program/20766/\">โปรแกรมบอลวันนี้ ตารางบอล วันศุกร์ที่ 12 พฤษภาคม 2566 Siamsport ถ่ายทอดสดเจลีก - AIS PLAYถ่ายทอดสดไทยลีกนัดปิด - ดูเซเรียอา-ลาลีกา-ลีกเอิง</a>, <a href=\"/football-program/20677/\">โปรแกรมบอลวันนี้ ตารางบอล วันพฤหัสบดีที่ 11 พฤษภาคม 2566 ดูซีเกมส์ ไทย พบ เวียดนาม - ตัดเชือกยูโรปาลีก , คอนเฟอเรนซ์ ลีก</a>, <a href=\"/football-program/20671/\">โปรแกรมบอลวันนี้ ตารางบอล วันพุธที่ 10 พฤษภาคม 2566 ดูชปล. เอซี มิลาน - อินเตอร์ มิลาน</a>, <a href=\"/football-program/20491/\">โปรแกรมบอลวันนี้ ตารางบอล วันอังคารที่ 9 พฤษภาคม 2566 ดูชปล. เรอัล มาดริด พบ แมนซิตี้</a>, <a href=\"/football-program/20490/\">โปรแกรมบอลวันนี้ ตารางบอล วันจันทร์ที่ 8 พฤษภาคม 2566 ดูซีเกมส์ ไทย พบ ลาว - ดูพรีเมียร์ลีก - เซเรียอา มีเตะ</a>, <a href=\"/football-program/20341/\">โปรแกรมบอลวันนี้ ตารางบอล วันอาทิตย์ที่ 7 พฤษภาคม 2566 Siamsport ถ่ายทอดสดเจลีก - ดูพรีเมียร์ลีก นิวคาสเซิ่ล พบ อาร์เซน่อล , เวสต์แฮม พบ แมนยู</a>, <a href=\"/football-program/20335/\">โปรแกรมบอลวันนี้ ตารางบอล วันเสาร์ที่ 6 พฤษภาคม 2566 Siamsport ถ่ายทอดสดเจลีก - ดูบอลซีเกมส์ ไทย พบ มาเลเซีย - ดูพรีเมียร์ลีก แมนซิตี้, ลิเวอร์พูล มีเตะ - ดูกัลโช่ มีบิ๊กแมตช์ 2 คู่</a>, <a href=\"/football-program/20163/\">โปรแกรมบอลวันนี้ ตารางบอล วันศุกร์ที่ 5 พฤษภาคม 2566 เลเวอร์คูเซ่น , ชาลเก้ เตะบุนเดสลีกา</a>, <a href=\"/football-program/20160/\">โปรแกรมบอลวันนี้ ตารางบอล วันพฤหัสบดีที่ 4 พฤษภาคม 2566 ดูพรีเมียร์ลีก ไบรท์ตัน พบ แมนยู - ถ่ายทอดสดกัลโช่ เชียร์ นาโปลี ซิวแชมป์ - ลาลีกา มีเตะ</a>, <a href=\"/football-program/19851/\">โปรแกรมบอลวันนี้ ตารางบอล วันพุธที่ 3 พฤษภาคม 2566 Siamsport ถ่ายทอดสดเจลีก ดูพรีเมียร์ลีก ลิเวอร์พูล , แมนซิตี้ มีเตะ - กัลโช่ เตะเพียบ - ลาลีกา มีฟาดแข้ง</a>, <a href=\"/football-program/19850/\">โปรแกรมบอลวันนี้ ตารางบอล วันอังคารที่ 2 พฤษภาคม 2566 ดูพรีเมียร์ลีก อาร์เซน่อล พบ เชลซี - บาร์เซโลน่า , เรอัล มาดริด เตะลาลีกา</a>, <a href=\"/football-program/19844/\">โปรแกรมบอลวันนี้ ตารางบอล วันจันทร์ที่ 1 พฤษภาคม 2566 ดูพรีเมียร์ลีก เลสเตอร์ พบ เอฟเวอร์ตัน - AIS PLAY ถ่ายทอดสดไทยลีก 3 - ลา ลีกา มีเตะ</a>, <a href=\"/football-program/19668/\">โปรแกรมบอลวันนี้ ตารางบอล อาทิตย์ 30 เม.ย. 66 ซีเกมส์ ไทย พบ สิงคโปร์ - แมนยู พบ วิลล่า, ลิเวอร์พูล พบ สเปอร์ส , แมนซิตี้ มีเตะ - AIS PLAY ยิงสดไทยลีก</a>, <a href=\"/football-program/19661/\">โปรแกรมบอลวันนี้ ตารางบอล วันเสาร์ที่ 29 เมษายน 2566 Siamsport ถ่ายทอดสดเจลีก - ดูพรีเมียร์ลีก - กัลโช่ มี โรม่า พบ เอซี มิลาน - ลาลีกา, บุนเดสลีกา, ลีกเอิง มีเตะ</a>, <a href=\"/football-program/19658/\">โปรแกรมบอลวันนี้ ตารางบอล วันศุกร์ที่ 28 เมษายน 2566 กัลโช่ - ลาลีกา - ลีกเอิง มีถ่ายทอดสด</a>, <a href=\"/football-program/19378/\">โปรแกรมบอลวันนี้ ตารางบอล วันพฤหัสบดีที่ 27 เมษายน 2566 ดูพรีเมียร์ลีก สเปอร์ส พบ แมนยู, นิวคาสเซิ่ล มีเตะ - ถ่ายทอดสดลาลีกา 3 คู่</a>, <a href=\"/football-program/19220/\">โปรแกรมบอลวันนี้ ตารางบอล วันพุธที่ 26 เมษายน 2566 ดูพรีเมียร์ลีก แมนซิตี้ พบ อาร์เซน่อล, ลิเวอร์พูล , เชลซี มีเตะ - AIS PLAY ถ่ายทอดสดรีโว่ คัพ</a>, <a href=\"/football-program/19219/\">โปรแกรมบอลวันนี้ ตารางบอล วันอังคารที่ 25 เมษายน 2566 ดูพรีเมียร์ลีก ลีดส์ พบ เลสเตอร์, วิลล่า มีเตะ, มาดริด บู๊ลาลีกา</a>, <a href=\"/football-program/19214/\">โปรแกรมบอลวันนี้ ตารางบอล วันจันทร์ที่ 24 เมษายน 2566 ดูกัลโช่ อตาลันต้า พบ โรม่า - ดูอัล นาสเซอร์ เตะบอลถ้วย</a>, <a href=\"/football-program/19121/\">โปรแกรมบอลวันนี้ ตารางบอล วันอาทิตย์ที่ 23 เมษายน 2566 Siamsport ถ่ายทอดสดเจลีก - ดูแมนยู พบ ไบรท์ตัน ศึกเอฟเอคัพ - ดูพรีเมียร์ลีก นิวคาสเซิล พบ สเปอร์ส </a>, <a href=\"/football-program/19072/\">โปรแกรมบอลวันนี้ ตารางบอล วันเสาร์ที่ 22 เมษายน 2566 Siamsport ถ่ายทอดสดเจลีก - ดูพรีเมียร์ลีก ลิเวอร์พูล พบ ฟอเรสต์ - แมนซิตี้ เตะเอฟเอคัพ</a>, <a href=\"/football-program/18904/\">โปรแกรมบอลวันนี้ ตารางบอล วันศุกร์ที่ 21 เมษายน 2566 ดูพรีเมียร์ลีก อาร์เซน่อล เตะ - กัลโช่ - ลาลีกา - ลีกเอิง มีถ่ายทอดสด</a>, <a href=\"/football-program/18903/\">โปรแกรมบอลวันนี้ ตารางบอล วันพฤหัสบดีที่ 20 เมษายน 2566 ดูยูโรปา เซบีย่า พบ แมนยู , ยูเวนตุส , โรม่า เตะด้วย</a>]\n",
      "\n",
      "last_path : 21692\n",
      "\n",
      "url_point : https://siamsport.co.th/football-program/21692\n",
      "\n"
     ]
    }
   ],
   "source": [
    "url = \"https://siamsport.co.th/football-program/\"\n",
    "req = requests.get(url)\n",
    "# print(f'req :\\n{req}')\n",
    "\n",
    "if req.status_code == 200:\n",
    "    req.encoding = \"utf-8\" \n",
    "    soup = BeautifulSoup(req.content)\n",
    "    # print(soup.prettify())\n",
    "\n",
    "    # title = soup.find('title').text\n",
    "    title = soup.title.string\n",
    "    print(f'{title}\\n')\n",
    "\n",
    "    # rawdata = soup.find('div', {'class':'col-12'})\n",
    "    # rawdata = soup.find_all('h3')\n",
    "    rawdata = soup.find_all('a', string=re.compile(\"ตารางบอล\"))\n",
    "    print(f'count : {len(rawdata)}\\n\\nrawdata : {rawdata}\\n')\n",
    "\n",
    "    '''\n",
    "    i = 0\n",
    "    for r in rawdata:\n",
    "        # a = r.find('a', string=lambda text: \"ตารางบอล\" in text.lower())\n",
    "        # a = r.find_all('a', string=re.compile(\"ตารางบอล\"))\n",
    "        # a = r.find(string=re.compile(\"ตารางบอล\"))\n",
    "        # a = r.find_all(href=re.compile(\"football\"))\n",
    "        a = r['href'].split(\"/\")[2]\n",
    "        sub_url.append(a)\n",
    "        print(f'{i} : {a}')\n",
    "        i += 1\n",
    "    '''\n",
    "\n",
    "    # x = soup.find_all('a', href=True)\n",
    "    last_path = max([x['href'].split(\"/\")[2] for x in rawdata])\n",
    "    print(f'last_path : {last_path}\\n')\n",
    "\n",
    "    url_point = f'{url}{last_path}'\n",
    "    print(f'url_point : {url_point}\\n')\n",
    "\n",
    "else:\n",
    "    print(\"Not successful\")"
   ]
  },
  {
   "attachments": {},
   "cell_type": "markdown",
   "metadata": {},
   "source": [
    "## Display Football program"
   ]
  },
  {
   "cell_type": "code",
   "execution_count": 4,
   "metadata": {},
   "outputs": [
    {
     "name": "stdout",
     "output_type": "stream",
     "text": [
      "โปรแกรมบอลวันนี้ ตารางบอล วันจันทร์ที่ 22 พฤษภาคม 2566 ดูพรีเมียร์ลีก นิวคาสเซิ่ล พบ เลสเตอร์ -  โรม่า, ยูเวนตุส เตะเซเรียอา\n",
      "\n",
      "\n",
      "\n",
      "โปรแกรมถ่ายทอดสดพรีเมียร์ลีก อังกฤษ\n",
      "02.00 : นิวคาสเซิ่ล - เลสเตอร์ ซิตี้True Premier Football 1True Premier Football 2\n",
      "\n",
      "\n",
      "โปรแกรมถ่ายทอดสดกัลโช่ เซเรีย อา อิตาลี\n",
      "23.30 : โรม่า - ซาแลร์นิตาน่าbeIN SPORTS 1\n",
      "01.45 : เอ็มโปลี - ยูเวนตุสbeIN SPORTS 1\n",
      "\n",
      "\n",
      "โปรแกรมฟุตบอลลีก เดอซ์ ฝรั่งเศส\n",
      "01.00 : (กลุ่ม อี)อังกฤษ - ตูนีเซีย\n",
      "01.00 : (กลุ่ม เอฟ)ฝรั่งเศส - เกาหลีใต้\n",
      "04.00 : (กลุ่ม อี)อุรุกวัย - อิรัก\n",
      "04.00 : (กลุ่ม เอฟ)แกมเบีย - ฮอนดูรัส\n",
      "\n",
      "\n",
      "โปรแกรมฟุตบอลลีก เดอซ์ ฝรั่งเศส\n",
      "01.45 : เลอ อาฟร์ - วาล็องเซียนส์\n",
      "\n",
      "\n",
      "โปรแกรมฟุตบอลเอเรดิวิซี่ คัพ เนเธอร์แลนด์ รอบรองชนะเลิศ นัดสอง\n",
      "00.00 : พีเอสวี - อาแจ็กซ์\n",
      "\n",
      "\n",
      "โปรแกรมฟุตบอลซูเปอร์ลีก ตุรกี\n",
      "00.00 : แทร็บซอนสปอร์ - ฟาติห์ คารากุมรุก\n",
      "\n",
      "\n",
      "โปรแกรมฟุตบอลไวเคาส์ลีกา ฟินแลนด์\n",
      "22.00 : ฮากา - วีพีเอส\n",
      "22.00 : อูลู - ฮอนก้า\n",
      "22.00 : อินเตอร์ ตูร์คู - มารีฮามน์\n",
      "22.00 : เคทีพี - เอสเจเค\n",
      "\n",
      "\n",
      "โปรแกรมฟุตบอลออลสเวนส์คาน สวีเดน\n",
      "00.00 : วาร์นาโม่ - คัลมาร์\n",
      "00.10 : นอร์โคปิ้ง - เอล์ฟส์บอร์ก\n",
      "\n",
      "\n",
      "โปรแกรมฟุตบอลซูเปอร์ลีกา เดนมาร์ก (เพลย์ออฟ)\n",
      "00.00 : นอร์เชลลันด์ - แรนเดอร์ส\n",
      "\n",
      "\n"
     ]
    }
   ],
   "source": [
    "req = requests.get(url_point)\n",
    "# print(f'req :\\n{req}')\n",
    "\n",
    "if req.status_code == 200:\n",
    "    req.encoding = \"utf-8\" \n",
    "    soup = BeautifulSoup(req.content)\n",
    "    # print(soup.prettify())\n",
    "\n",
    "    title = soup.title.string\n",
    "    print(f'{title}\\n')\n",
    "\n",
    "    rawdata = soup.find_all('div', {'class':'fr-view'})\n",
    "    # print(f'raw count : {len(rawdata)}\\n\\nrawdata : {rawdata}\\n')\n",
    "    print('\\n')\n",
    "    \n",
    "    i = 0\n",
    "    for x in rawdata:\n",
    "        p = x.find_all('p', string=re.compile(\"โปรแกรม\"))\n",
    "        p_txt = [x.text for x in p]\n",
    "        t = x.find_all('table')\n",
    "        t_txt = [x.text for x in t]\n",
    "        tbody = x.find_all('tbody')\n",
    "        tbody_txt = [x.text for x in tbody]\n",
    "        # tr = x.find_all('tr')\n",
    "        # tr_txt = [x.text for x in tr]\n",
    "        \n",
    "        '''\n",
    "        print('\\n')\n",
    "        print(f'p count : {len(p)}\\n{p}')\n",
    "        print(f'p_txt count : {len(p_txt)}\\n{p_txt}')\n",
    "        print(f't count : {len(t)}\\n{t}')\n",
    "        print(f't_txt count : {len(t_txt)}\\n{t_txt}')\n",
    "        print(f'tbody count : {len(tbody)}\\n{tbody}')\n",
    "        print(f'tbody_txt count : {len(tbody_txt)}\\n{tbody_txt}')\n",
    "        print(f'tr count : {len(tr)}\\n{tr}')\n",
    "        print(f'tr_txt count : {len(tr_txt)}\\n{tr_txt}')\n",
    "        print('\\n')\n",
    "        '''\n",
    "\n",
    "        # print('\\n')\n",
    "        for x, y in zip(p, tbody):\n",
    "            tr = y.find_all('tr')\n",
    "            print(x.text)\n",
    "            for x in tr[1:]:\n",
    "                tr_txt = x.text.replace(\"น.\", \": \")\n",
    "                print(tr_txt)\n",
    "            print('\\n')\n",
    "\n",
    "else:\n",
    "    print(\"Not successful\")"
   ]
  },
  {
   "cell_type": "code",
   "execution_count": null,
   "metadata": {},
   "outputs": [],
   "source": []
  }
 ],
 "metadata": {
  "kernelspec": {
   "display_name": "py310",
   "language": "python",
   "name": "python3"
  },
  "language_info": {
   "codemirror_mode": {
    "name": "ipython",
    "version": 3
   },
   "file_extension": ".py",
   "mimetype": "text/x-python",
   "name": "python",
   "nbconvert_exporter": "python",
   "pygments_lexer": "ipython3",
   "version": "3.10.11"
  },
  "orig_nbformat": 4
 },
 "nbformat": 4,
 "nbformat_minor": 2
}
