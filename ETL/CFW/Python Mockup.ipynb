{
 "cells": [
  {
   "cell_type": "markdown",
   "metadata": {},
   "source": [
    "# * Mockup for Python scripts\n",
    "    control framework"
   ]
  },
  {
   "cell_type": "code",
   "execution_count": 34,
   "metadata": {},
   "outputs": [],
   "source": [
    "import os\n",
    "import argparse\n",
    "import logging\n",
    "from glob import glob \n",
    "import pandas as pd\n",
    "import numpy as np"
   ]
  },
  {
   "cell_type": "code",
   "execution_count": 58,
   "metadata": {},
   "outputs": [],
   "source": [
    "# Test\n",
    "def sayhi(name):\n",
    "    text = f'Hello {name}!!!'\n",
    "    return text\n",
    "\n",
    "# CSV Extract Function\n",
    "def extract_from_csv(file_to_process): \n",
    "    dataframe = pd.read_csv(file_to_process) \n",
    "    return dataframe\n",
    "\n",
    "# Main\n",
    "def main():\n",
    "    parser = argparse.ArgumentParser()\n",
    "    parser.add_argument('--param_1', required=True)\n",
    "\n",
    "    args = parser.parse_args()\n",
    "    output_1 = args.param_1\n",
    "\n",
    "    print(f'output_1 : {output_1}')\n",
    "    # print(\"Hello World!\")"
   ]
  },
  {
   "cell_type": "code",
   "execution_count": 59,
   "metadata": {},
   "outputs": [
    {
     "name": "stderr",
     "output_type": "stream",
     "text": [
      "usage: ipykernel_launcher.py [-h] --param_1 PARAM_1\n",
      "ipykernel_launcher.py: error: the following arguments are required: --param_1\n"
     ]
    },
    {
     "ename": "SystemExit",
     "evalue": "2",
     "output_type": "error",
     "traceback": [
      "An exception has occurred, use %tb to see the full traceback.\n",
      "\u001b[1;31mSystemExit\u001b[0m\u001b[1;31m:\u001b[0m 2\n"
     ]
    }
   ],
   "source": [
    "if __name__ == \"__main__\":\n",
    "    main()"
   ]
  },
  {
   "cell_type": "code",
   "execution_count": 52,
   "metadata": {},
   "outputs": [],
   "source": [
    "# def main():\n",
    "#     args = sys.argv[1:]\n",
    "\n",
    "# python check_files.py --revision_name dev_3m_run_1 --planning_date 2021-10-01 --max_iteration 3 --loop_threshold 0.001 --gop_loop_threshold 0.001 --gop_max_iteration 3 --case case1 --Price_input_source user_uploaded --total_months 3"
   ]
  },
  {
   "cell_type": "code",
   "execution_count": null,
   "metadata": {},
   "outputs": [],
   "source": [
    "''' Example '''\n",
    "\n",
    "# def main():\n",
    "#     parser = argparse.ArgumentParser()\n",
    "#     parser.add_argument('--revision_name', required=True)\n",
    "#     parser.add_argument(\"--planning_date\", required=True)\n",
    "#     parser.add_argument(\"--max_iteration\", required=True)\n",
    "#     parser.add_argument(\"--loop_threshold\", required=True)\n",
    "#     parser.add_argument(\"--gop_loop_threshold\", required=True)\n",
    "#     parser.add_argument(\"--gop_max_iteration\", required=True)\n",
    "#     parser.add_argument(\"--case\", required=True)\n",
    "#     parser.add_argument(\"--Price_input_source\", required=True)\n",
    "#     parser.add_argument(\"--total_months\", type=int, required=True)\n",
    "\n",
    "#     args = parser.parse_args()\n",
    "#     revision_name = args.revision_name\n",
    "#     base_date = args.planning_date\n",
    "#     max_iteration = args.max_iteration\n",
    "#     loop_threshold = args.loop_threshold\n",
    "#     gop_max_iteration = args.gop_max_iteration\n",
    "#     gop_loop_threshold = args.gop_loop_threshold\n",
    "#     total_months = args.total_months\n",
    "#     Price_input_source = args.Price_input_source"
   ]
  }
 ],
 "metadata": {
  "kernelspec": {
   "display_name": "Python 3",
   "language": "python",
   "name": "python3"
  },
  "language_info": {
   "codemirror_mode": {
    "name": "ipython",
    "version": 3
   },
   "file_extension": ".py",
   "mimetype": "text/x-python",
   "name": "python",
   "nbconvert_exporter": "python",
   "pygments_lexer": "ipython3",
   "version": "3.11.4"
  }
 },
 "nbformat": 4,
 "nbformat_minor": 2
}
