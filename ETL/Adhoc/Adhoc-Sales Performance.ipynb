{
 "cells": [
  {
   "cell_type": "markdown",
   "metadata": {},
   "source": [
    "# * Adhoc : Sales Performance"
   ]
  },
  {
   "cell_type": "markdown",
   "metadata": {},
   "source": [
    "## Parameter"
   ]
  },
  {
   "cell_type": "code",
   "execution_count": 45,
   "metadata": {},
   "outputs": [],
   "source": [
    "import os\n",
    "import glob\n",
    "import configparser\n",
    "import datetime as dt\n",
    "import pandas as pd\n",
    "import numpy as np\n",
    "import xlrd\n",
    "import oracledb\n",
    "# from sqlalchemy import create_engine"
   ]
  },
  {
   "cell_type": "code",
   "execution_count": 2,
   "metadata": {},
   "outputs": [
    {
     "data": {
      "text/plain": [
       "datetime.date(2024, 6, 7)"
      ]
     },
     "execution_count": 2,
     "metadata": {},
     "output_type": "execute_result"
    }
   ],
   "source": [
    "config = configparser.ConfigParser()\n",
    "config.read('../../my_config.ini')\n",
    "config.sections()\n",
    "\n",
    "TDMDBPR_user = config['TDMDBPR']['username']\n",
    "TDMDBPR_pwd = config['TDMDBPR']['password']\n",
    "TDMDBPR_db = config['TDMDBPR']['db']\n",
    "TDMDBPR_host = config['TDMDBPR']['host']\n",
    "TDMDBPR_port = config['TDMDBPR']['port']\n",
    "\n",
    "AKPIPRD_user = config['AKPIPRD']['username']\n",
    "AKPIPRD_pwd = config['AKPIPRD']['password']\n",
    "AKPIPRD_db = config['AKPIPRD']['db']\n",
    "AKPIPRD_host = config['AKPIPRD']['host']\n",
    "AKPIPRD_port = config['AKPIPRD']['port']\n",
    "\n",
    "curr_dt = dt.datetime.now().date()\n",
    "str_curr_dt = curr_dt.strftime('%Y%m%d')\n",
    "curr_dt"
   ]
  },
  {
   "cell_type": "markdown",
   "metadata": {},
   "source": [
    "## ETL Process"
   ]
  },
  {
   "cell_type": "markdown",
   "metadata": {},
   "source": [
    "### Step 1 : ADHOC_RAW_SALE_PERFORMANCE_MTH"
   ]
  },
  {
   "cell_type": "code",
   "execution_count": 127,
   "metadata": {},
   "outputs": [
    {
     "name": "stdout",
     "output_type": "stream",
     "text": [
      "\n",
      "Processing...\n",
      "\n",
      "TDMDBPR : Connected\n",
      "\n",
      " -> CREATE : Rawdata : Done !\n",
      "\n",
      "TDMDBPR : Disconnected\n",
      "\n",
      "AKPIPRD : Connected\n",
      "\n",
      " -> TRUNCATE : \"ADHOC_RAW_SALE_PERFORMANCE_MTH\" : Done !\n",
      "\n",
      " -> INSERT : \"ADHOC_RAW_SALE_PERFORMANCE_MTH\" : Done !\n",
      "\n",
      "AKPIPRD : Disconnected\n",
      "\n",
      "Done !!!\n"
     ]
    }
   ],
   "source": [
    "\n",
    "query = \"\"\"\n",
    "    /*** Sales Performance Report ***/\n",
    "    -----------------------------------------------------------------------------------------------------------------------\n",
    "\n",
    "    WITH W_SALE_TXN AS \n",
    "    (\n",
    "        SELECT TM_KEY_DAY, TM_KEY_WK, TM_KEY_MTH, TM_KEY_QTR, TM_KEY_YR, CENTER, PRODUCT_GRP, COMP_CD, METRIC_GRP, METRIC_NAME_GROUP, METRIC_CD, METRIC_NAME, AREA_TYPE, AREA_CD, AREA_NAME\n",
    "            , ACTUAL_AS_OF, AGG_TYPE, RR_IND, GRY_IND, UOM, PERIOD, ACTUAL_SNAP, ACTUAL_AGG, TARGET_SNAP, TARGET_AGG--, BASELINE_SNAP, BASELINE_AGG, ACH_SNAP, ACH_AGG, GAP_SNAP, GAP_AGG\n",
    "            , WOW, WOW_PERCENT, MOM, MOM_PERCENT, QOQ, QOQ_PERCENT, YOY, YOY_PERCENT--, RR, RR_ACH, WTD, MTD, QTD, YTD\n",
    "            , PPN_TM\n",
    "        FROM GEOSPCAPPO.AGG_PERF_NEWCO NOLOCK\n",
    "        WHERE METRIC_GRP = 'Sales'\n",
    "        AND REGEXP_LIKE(METRIC_CD, 'DB1R000900|DB2R000500|TB1R000900|TB2R000500')\n",
    "        AND NOT REGEXP_LIKE(METRIC_CD, 'C$|H$|MCOM$|CORP$|GEO$') --A[A-K]$\n",
    "        AND AREA_TYPE IN ('P', 'G', 'H')\n",
    "        AND TM_KEY_YR >= 2023\n",
    "        AND SUBSTR(TM_KEY_MTH,5,2) IN (01, 02, 03, 04)\n",
    "    )\n",
    "    -----------------------------------------------------------------------------------------------------------------------\n",
    "\n",
    "    , W_SALE_ACTUAL_MONTHLY AS\n",
    "    (\n",
    "        SELECT TM_KEY_YR, TM_KEY_QTR, TM_KEY_MTH, PRODUCT_GRP, COMP_CD, METRIC_CD, METRIC_NAME\n",
    "            , CASE WHEN AREA_TYPE = 'P' THEN 1 WHEN AREA_TYPE = 'G' THEN 2 WHEN AREA_TYPE = 'H' THEN 3 WHEN AREA_TYPE = 'HH' THEN 4 WHEN AREA_TYPE = 'Z' THEN 5 ELSE 0 END AREA_NO\n",
    "            , AREA_TYPE, AREA_CD, AREA_NAME\n",
    "            , SUM(ACTUAL_SNAP) AS ACTUAL_SNAP, SUM(TARGET_SNAP) AS TARGET_SNAP, MAX(PPN_TM) AS PPN_TM\n",
    "        FROM W_SALE_TXN\n",
    "        GROUP BY TM_KEY_MTH, TM_KEY_QTR, TM_KEY_YR, PRODUCT_GRP, COMP_CD, METRIC_CD, METRIC_NAME, AREA_TYPE, AREA_CD, AREA_NAME\n",
    "    ) \n",
    "    -----------------------------------------------------------------------------------------------------------------------\n",
    "\n",
    "    -->> Output\n",
    "\n",
    "    SELECT *\n",
    "    FROM W_SALE_ACTUAL_MONTHLY\n",
    "    --WHERE NOT REGEXP_LIKE(METRIC_CD, 'A[A-K]$') AND AREA_TYPE = 'P'\n",
    "    ORDER BY TM_KEY_MTH, PRODUCT_GRP, COMP_CD, METRIC_CD, AREA_TYPE, AREA_CD\n",
    "\"\"\"\n",
    "\n",
    "try:\n",
    "    print(f'\\nProcessing...')\n",
    "\n",
    "\n",
    "    # TDMDBPR\n",
    "    dsn = f'{TDMDBPR_user}/{TDMDBPR_pwd}@{TDMDBPR_host}:{TDMDBPR_port}/{TDMDBPR_db}'\n",
    "    conn = oracledb.connect(dsn)\n",
    "    print(f'\\n{TDMDBPR_db} : Connected')\n",
    "    cur = conn.cursor()\n",
    "\n",
    "    # Create Rawdata\n",
    "    cur.execute(query)\n",
    "    df = pd.DataFrame(cur.fetchall(), columns=['TM_KEY_YR', 'TM_KEY_QTR', 'TM_KEY_MTH', 'PRODUCT_GRP', 'COMP_CD', 'METRIC_CD', 'METRIC_NAME', 'AREA_NO', 'AREA_TYPE', 'AREA_CD', 'AREA_NAME', 'ACTUAL_SNAP', 'TARGET_SNAP', 'PPN_TM'])\n",
    "    df = df.replace(np.nan, None)\n",
    "    # df = df.astype('float')\n",
    "    df = df.astype(dtype={'TM_KEY_YR':'float', 'TM_KEY_QTR':'float', 'TM_KEY_MTH':'float', 'AREA_NO':'float'})\n",
    "    # df = df[['TM_KEY_YR', 'TM_KEY_QTR', 'TM_KEY_MTH']]\n",
    "    rows = [tuple(x) for x in df.values]\n",
    "    print(f'\\n -> CREATE : Rawdata : Done !')\n",
    "\n",
    "    cur.close()\n",
    "    conn.close()\n",
    "    print(f'\\n{TDMDBPR_db} : Disconnected')\n",
    "    # print(f'\\n{rows}')\n",
    "\n",
    "\n",
    "    # AKPIPRD\n",
    "    op_dsn = f'{AKPIPRD_user}/{AKPIPRD_pwd}@{AKPIPRD_host}:{AKPIPRD_port}/{AKPIPRD_db}'\n",
    "    op_conn = oracledb.connect(op_dsn)\n",
    "    print(f'\\n{AKPIPRD_db} : Connected')\n",
    "    op_cur = op_conn.cursor()\n",
    "\n",
    "    # Truncate\n",
    "    op_cur.execute(\"TRUNCATE TABLE AUTOKPI.ADHOC_RAW_SALE_PERFORMANCE_MTH\")\n",
    "    print(f'\\n -> TRUNCATE : \"ADHOC_RAW_SALE_PERFORMANCE_MTH\" : Done !')\n",
    "\n",
    "    # Insert\n",
    "    # op_cur.executemany(\"INSERT INTO ADHOC_RAW_SALE_PERFORMANCE_MTH (TM_KEY_YR, TM_KEY_QTR, TM_KEY_MTH) VALUES (:1,:2,:3)\", rows)\n",
    "    op_cur.executemany(\"INSERT INTO ADHOC_RAW_SALE_PERFORMANCE_MTH\\\n",
    "                    (TM_KEY_YR, TM_KEY_QTR, TM_KEY_MTH, PRODUCT_GRP, COMP_CD, METRIC_CD, METRIC_NAME, AREA_NO, AREA_TYPE, AREA_CD, AREA_NAME, ACTUAL_SNAP, TARGET_SNAP, PPN_TM)\\\n",
    "                    VALUES (:1,:2,:3,:4,:5,:6,:7,:8,:9,:10,:11,:12,:13,:14)\", rows)\n",
    "    print(f'\\n -> INSERT : \"ADHOC_RAW_SALE_PERFORMANCE_MTH\" : Done !')\n",
    "\n",
    "    op_conn.commit()\n",
    "    op_cur.close()\n",
    "    op_conn.close()\n",
    "    print(f'\\n{AKPIPRD_db} : Disconnected')\n",
    "\n",
    "\n",
    "except oracledb.DatabaseError as e:\n",
    "    print(f'\\nError with Oracle : {e}')\n",
    "\n",
    "\n",
    "finally:\n",
    "    print(f'\\nDone !!!')"
   ]
  },
  {
   "cell_type": "markdown",
   "metadata": {},
   "source": [
    "### Test : Generate Rawdata (CSV)"
   ]
  },
  {
   "cell_type": "code",
   "execution_count": 96,
   "metadata": {},
   "outputs": [
    {
     "name": "stdout",
     "output_type": "stream",
     "text": [
      "TDMDBPR : Connected\n",
      "\n",
      "Processing...\n",
      "\n",
      "\"sales_performance_actual.csv\" is generated\n",
      "\n",
      "TDMDBPR : Disconnected\n"
     ]
    }
   ],
   "source": [
    "# TDMDBPR\n",
    "\n",
    "dsn = f'{TDMDBPR_user}/{TDMDBPR_pwd}@{TDMDBPR_host}:{TDMDBPR_port}/{TDMDBPR_db}'\n",
    "conn = oracledb.connect(dsn)\n",
    "print(f'{TDMDBPR_db} : Connected')\n",
    "cur = conn.cursor()\n",
    "input_dir = 'input'\n",
    "input_file = 'sales_performance_actual.csv'\n",
    "\n",
    "query = \"\"\"\n",
    "    /*** Sales Growth Strategic report (Mar-Apr24) ***/\n",
    "    -----------------------------------------------------------------------------------------------------------------------\n",
    "\n",
    "    WITH W_SALE_TXN AS \n",
    "    (\n",
    "        SELECT TM_KEY_DAY, TM_KEY_WK, TM_KEY_MTH, TM_KEY_QTR, TM_KEY_YR, CENTER, PRODUCT_GRP, COMP_CD, METRIC_GRP, METRIC_NAME_GROUP, METRIC_CD, METRIC_NAME, AREA_TYPE, AREA_CD, AREA_NAME\n",
    "            , ACTUAL_AS_OF, AGG_TYPE, RR_IND, GRY_IND, UOM, PERIOD, ACTUAL_SNAP, ACTUAL_AGG, TARGET_SNAP, TARGET_AGG--, BASELINE_SNAP, BASELINE_AGG, ACH_SNAP, ACH_AGG, GAP_SNAP, GAP_AGG\n",
    "            , WOW, WOW_PERCENT, MOM, MOM_PERCENT, QOQ, QOQ_PERCENT, YOY, YOY_PERCENT--, RR, RR_ACH, WTD, MTD, QTD, YTD\n",
    "            , PPN_TM\n",
    "        FROM GEOSPCAPPO.AGG_PERF_NEWCO NOLOCK\n",
    "        WHERE METRIC_GRP = 'Sales'\n",
    "        AND REGEXP_LIKE(METRIC_CD, 'DB1R000900|DB2R000500|TB1R000900|TB2R000500')\n",
    "        AND NOT REGEXP_LIKE(METRIC_CD, 'C$|H$|MCOM$|CORP$|GEO$') --A[A-K]$\n",
    "        AND AREA_TYPE IN ('P', 'G', 'H')\n",
    "        AND TM_KEY_YR >= 2023\n",
    "        AND SUBSTR(TM_KEY_MTH,5,2) IN (02, 03, 04)\n",
    "    )\n",
    "    -----------------------------------------------------------------------------------------------------------------------\n",
    "\n",
    "    , W_SALE_ACTUAL_MONTHLY AS\n",
    "    (\n",
    "        SELECT TM_KEY_YR, TM_KEY_QTR, TM_KEY_MTH, PRODUCT_GRP, COMP_CD, METRIC_CD, METRIC_NAME\n",
    "            , CASE WHEN AREA_TYPE = 'P' THEN 1 WHEN AREA_TYPE = 'G' THEN 2 WHEN AREA_TYPE = 'H' THEN 3 WHEN AREA_TYPE = 'HH' THEN 4 WHEN AREA_TYPE = 'Z' THEN 5 ELSE 0 END AREA_NO\n",
    "            , AREA_TYPE, AREA_CD, AREA_NAME\n",
    "            , SUM(ACTUAL_SNAP) AS ACTUAL_SNAP, SUM(TARGET_SNAP) AS TARGET_SNAP, MAX(PPN_TM) AS PPN_TM\n",
    "        FROM W_SALE_TXN\n",
    "        GROUP BY TM_KEY_MTH, TM_KEY_QTR, TM_KEY_YR, PRODUCT_GRP, COMP_CD, METRIC_CD, METRIC_NAME, AREA_TYPE, AREA_CD, AREA_NAME\n",
    "    ) \n",
    "    -----------------------------------------------------------------------------------------------------------------------\n",
    "\n",
    "    -->> Output\n",
    "\n",
    "    SELECT *\n",
    "    FROM W_SALE_ACTUAL_MONTHLY\n",
    "    WHERE NOT REGEXP_LIKE(METRIC_CD, 'A[A-K]$')\n",
    "    AND AREA_TYPE = 'P'\n",
    "    ORDER BY TM_KEY_MTH, PRODUCT_GRP, COMP_CD, METRIC_CD, AREA_TYPE, AREA_CD\n",
    "\"\"\"\n",
    "\n",
    "try:\n",
    "    print(f'\\nProcessing...')\n",
    "    cur.execute(query)\n",
    "    df = pd.DataFrame(cur.fetchall(), columns=['TM_KEY_YR', 'TM_KEY_QTR', 'TM_KEY_MTH', 'PRODUCT_GRP', 'COMP_CD', 'METRIC_CD', 'METRIC_NAME', 'AREA_NO', 'AREA_TYPE', 'AREA_CD', 'AREA_NAME', 'ACTUAL_SNAP', 'TARGET_SNAP', 'PPN_TM'])\n",
    "    # print(f'\\n{df}')\n",
    "    df.to_csv(f'{input_dir}/{input_file}', index=False, encoding='utf-8')\n",
    "    print(f'\\n\"{input_file}\" is generated')\n",
    "\n",
    "except oracledb.DatabaseError as e:\n",
    "    print(f'Error with Oracle : {e}')\n",
    "\n",
    "finally:\n",
    "    cur.close()\n",
    "    conn.close()\n",
    "    print(f'\\n{TDMDBPR_db} : Disconnected')"
   ]
  },
  {
   "cell_type": "code",
   "execution_count": 106,
   "metadata": {},
   "outputs": [
    {
     "data": {
      "text/html": [
       "<div>\n",
       "<style scoped>\n",
       "    .dataframe tbody tr th:only-of-type {\n",
       "        vertical-align: middle;\n",
       "    }\n",
       "\n",
       "    .dataframe tbody tr th {\n",
       "        vertical-align: top;\n",
       "    }\n",
       "\n",
       "    .dataframe thead th {\n",
       "        text-align: right;\n",
       "    }\n",
       "</style>\n",
       "<table border=\"1\" class=\"dataframe\">\n",
       "  <thead>\n",
       "    <tr style=\"text-align: right;\">\n",
       "      <th></th>\n",
       "      <th>TM_KEY_YR</th>\n",
       "      <th>TM_KEY_QTR</th>\n",
       "      <th>TM_KEY_MTH</th>\n",
       "    </tr>\n",
       "  </thead>\n",
       "  <tbody>\n",
       "    <tr>\n",
       "      <th>0</th>\n",
       "      <td>2023</td>\n",
       "      <td>20231</td>\n",
       "      <td>202303</td>\n",
       "    </tr>\n",
       "    <tr>\n",
       "      <th>1</th>\n",
       "      <td>2023</td>\n",
       "      <td>20231</td>\n",
       "      <td>202303</td>\n",
       "    </tr>\n",
       "    <tr>\n",
       "      <th>2</th>\n",
       "      <td>2023</td>\n",
       "      <td>20231</td>\n",
       "      <td>202303</td>\n",
       "    </tr>\n",
       "  </tbody>\n",
       "</table>\n",
       "</div>"
      ],
      "text/plain": [
       "   TM_KEY_YR  TM_KEY_QTR  TM_KEY_MTH\n",
       "0       2023       20231      202303\n",
       "1       2023       20231      202303\n",
       "2       2023       20231      202303"
      ]
     },
     "execution_count": 106,
     "metadata": {},
     "output_type": "execute_result"
    }
   ],
   "source": [
    "src_df = src_df[['TM_KEY_YR', 'TM_KEY_QTR', 'TM_KEY_MTH']]\n",
    "src_df.head(3)"
   ]
  },
  {
   "cell_type": "code",
   "execution_count": 119,
   "metadata": {},
   "outputs": [
    {
     "data": {
      "text/plain": [
       "TM_KEY_YR     float64\n",
       "TM_KEY_QTR    float64\n",
       "TM_KEY_MTH    float64\n",
       "dtype: object"
      ]
     },
     "execution_count": 119,
     "metadata": {},
     "output_type": "execute_result"
    }
   ],
   "source": [
    "src_df = src_df.astype('float')\n",
    "src_df.dtypes"
   ]
  },
  {
   "cell_type": "code",
   "execution_count": null,
   "metadata": {},
   "outputs": [],
   "source": [
    "# Source File\n",
    "src_file = 'C:\\Ruz\\MyProject\\Code\\Jupyter\\ETL\\Adhoc\\input\\sales_performance_actual.csv'\n",
    "src_df = pd.read_csv(src_file)\n",
    "src_df = src_df.replace(np.nan, None)\n",
    "src_df.head(3)\n",
    "rows = [tuple(x) for x in src_df.values]\n",
    "\n",
    "\n",
    "# AKPIPRD\n",
    "op_dsn = f'{AKPIPRD_user}/{AKPIPRD_pwd}@{AKPIPRD_host}:{AKPIPRD_port}/{AKPIPRD_db}'\n",
    "op_conn = oracledb.connect(op_dsn)\n",
    "print(f'\\n{AKPIPRD_db} : Connected')\n",
    "op_cur = op_conn.cursor()\n",
    "\n",
    "# Truncate\n",
    "# op_cur.execute(\"TRUNCATE TABLE AUTOKPI.ADHOC_RAW_SALE_PERFORMANCE_MTH\")\n",
    "print(f'\\n -> TRUNCATE : \"ADHOC_RAW_SALE_PERFORMANCE_MTH\"')\n",
    "\n",
    "# Insert\n",
    "# op_cur.executemany(\"INSERT INTO ADHOC_RAW_SALE_PERFORMANCE_MTH (TM_KEY_YR) VALUES (:1)\", rows)\n",
    "op_cur.executemany(\"INSERT INTO ADHOC_RAW_SALE_PERFORMANCE_MTH (TM_KEY_YR, TM_KEY_QTR, TM_KEY_MTH) VALUES (:1,:2,:3)\", rows)\n",
    "\n",
    "# op_cur.executemany(\"INSERT INTO ADHOC_RAW_SALE_PERFORMANCE_MTH (TM_KEY_YR, TM_KEY_QTR, TM_KEY_MTH, PRODUCT_GRP, COMP_CD, METRIC_CD, METRIC_NAME, AREA_NO, AREA_TYPE, AREA_CD, AREA_NAME, ACTUAL_SNAP, TARGET_SNAP, PPN_TM)\\\n",
    "#                 VALUES (:1,:2,:3,:4,:5,:6,:7,:8,:9,:10,:11,:12,:13,:14)\", rows)\n",
    "\n",
    "print(f'\\n -> INSERT : \"ADHOC_RAW_SALE_PERFORMANCE_MTH\" : Done !')\n",
    "\n",
    "op_conn.commit()\n",
    "op_cur.close()\n",
    "op_conn.close()\n",
    "print(f'\\n{AKPIPRD_db} : Disconnected')"
   ]
  }
 ],
 "metadata": {
  "kernelspec": {
   "display_name": "py310",
   "language": "python",
   "name": "python3"
  },
  "language_info": {
   "codemirror_mode": {
    "name": "ipython",
    "version": 3
   },
   "file_extension": ".py",
   "mimetype": "text/x-python",
   "name": "python",
   "nbconvert_exporter": "python",
   "pygments_lexer": "ipython3",
   "version": "3.11.4"
  }
 },
 "nbformat": 4,
 "nbformat_minor": 2
}
