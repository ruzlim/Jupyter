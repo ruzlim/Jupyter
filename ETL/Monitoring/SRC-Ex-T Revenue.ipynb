{
 "cells": [
  {
   "cell_type": "markdown",
   "metadata": {},
   "source": [
    "# * Ex-T Revenue & Subs"
   ]
  },
  {
   "cell_type": "markdown",
   "metadata": {},
   "source": [
    "## Parameter"
   ]
  },
  {
   "cell_type": "code",
   "execution_count": 2,
   "metadata": {},
   "outputs": [],
   "source": [
    "import configparser\n",
    "import datetime as dt\n",
    "import pandas as pd\n",
    "import numpy as np\n",
    "import xlrd\n",
    "import oracledb\n",
    "import re\n",
    "import FN_Monitoring as fn\n",
    "\n",
    "config = configparser.ConfigParser()\n",
    "config.read('../../my_config.ini')\n",
    "config.sections()\n",
    "\n",
    "TDMDBPR_user = config['TDMDBPR']['username']\n",
    "TDMDBPR_pwd = config['TDMDBPR']['password']\n",
    "TDMDBPR_db = config['TDMDBPR']['db']\n",
    "TDMDBPR_host = config['TDMDBPR']['host']\n",
    "TDMDBPR_port = config['TDMDBPR']['port']\n",
    "\n",
    "AKPIPRD_user = config['AKPIPRD']['username']\n",
    "AKPIPRD_pwd = config['AKPIPRD']['password']\n",
    "AKPIPRD_db = config['AKPIPRD']['db']\n",
    "AKPIPRD_host = config['AKPIPRD']['host']\n",
    "AKPIPRD_port = config['AKPIPRD']['port']\n",
    "\n",
    "curr_dt = dt.datetime.now().date()\n",
    "str_curr_dt = curr_dt.strftime('%Y%m%d')"
   ]
  },
  {
   "cell_type": "markdown",
   "metadata": {},
   "source": [
    "## Ex-T Revenue\n",
    "->  FCT_KPI_NEWCO_PERF_ACTUAL"
   ]
  },
  {
   "cell_type": "code",
   "execution_count": 32,
   "metadata": {},
   "outputs": [
    {
     "name": "stdout",
     "output_type": "stream",
     "text": [
      "\n",
      "Parameter input...\n",
      "\n",
      "   -> v_start_date: 20240101\n",
      "\n",
      "TDMDBPR : Connected\n",
      "\n",
      "   -> Execute query... 2025-03-06, 18:01:31\n",
      "\n",
      "   -> Ex-T Revenue DataFrame : 418 rows, 15 columns\n",
      "\n",
      "TDMDBPR : Disconnected\n"
     ]
    }
   ],
   "source": [
    "# Input parameter\n",
    "curr_datetime = dt.datetime.now().strftime('%Y-%m-%d, %H:%M:%S')\n",
    "v_start_date = 20240101\n",
    "print(f'\\nParameter input...\\n')\n",
    "print(f'   -> v_start_date: {v_start_date}')\n",
    "\n",
    "\n",
    "# Connect : TDMDBPR\n",
    "src_dsn = f'{TDMDBPR_user}/{TDMDBPR_pwd}@{TDMDBPR_host}:{TDMDBPR_port}/{TDMDBPR_db}'\n",
    "src_conn = oracledb.connect(src_dsn)\n",
    "print(f'\\n{TDMDBPR_db} : Connected')\n",
    "src_cur = src_conn.cursor()\n",
    "query = (f\"\"\"\n",
    "    SELECT /*+PARALLEL(8)*/ REMARK, METRIC_CD, METRIC_NAME\n",
    "        , SUBSTR(TM_KEY_DAY,1,6) AS TM_KEY_MTH\n",
    "        , MAX(LOAD_DATE) LOAD_DATE\n",
    "        --, MIN(TM_KEY_DAY) AS START_DAY, MAX(TM_KEY_DAY) AS END_DAY\n",
    "        , CAST(SUM(CASE WHEN AREA_TYPE = 'C' THEN ACTUAL END) AS DECIMAL(18)) C\n",
    "        , CAST(SUM(CASE WHEN AREA_TYPE = 'P' THEN ACTUAL END) AS DECIMAL(18)) P\n",
    "        , CAST(SUM(CASE WHEN AREA_TYPE = 'G' THEN ACTUAL END) AS DECIMAL(18)) G\n",
    "        , CAST(SUM(CASE WHEN AREA_TYPE = 'H' THEN ACTUAL END) AS DECIMAL(18)) H\n",
    "        , CAST(SUM(CASE WHEN AREA_TYPE = 'HH' THEN ACTUAL END) AS DECIMAL(18)) HH\n",
    "        , CAST(SUM(CASE WHEN AREA_TYPE = 'CCAA' THEN ACTUAL END) AS DECIMAL(18)) CCAA\n",
    "        , CAST(SUM(CASE WHEN AREA_TYPE = 'CCAATT' THEN ACTUAL END) AS DECIMAL(18)) CCAATT\n",
    "        , COUNT(DISTINCT AREA_TYPE) CNT_AREA_TYPE, COUNT(DISTINCT AREA_CD) CNT_AREA_CD, COUNT(1) ROW_CNT\n",
    "    FROM GEOSPCAPPO.FCT_KPI_NEWCO_PERF_ACTUAL\n",
    "    WHERE REMARK IN ('salisa', 'jutar11')\n",
    "    AND NOT REGEXP_LIKE(METRIC_CD, '^TCAP|CORP$')\n",
    "    AND EXISTS (\n",
    "        SELECT 1 -->> AREA_CD IN (P, G, H, R, HH, CCAA, CCAATT)\n",
    "        FROM (\n",
    "            SELECT DISTINCT ORGID_P AS TMP_CD FROM CDSAPPO.DIM_MOOC_AREA NOLOCK WHERE REMARK <> 'Dummy' AND TEAM_CODE <> 'ไม่ระบุ'\n",
    "            UNION SELECT DISTINCT ORGID_G AS TMP_CD FROM CDSAPPO.DIM_MOOC_AREA NOLOCK WHERE REMARK <> 'Dummy' AND TEAM_CODE <> 'ไม่ระบุ'\n",
    "            UNION SELECT DISTINCT ORGID_R AS TMP_CD FROM CDSAPPO.DIM_MOOC_AREA NOLOCK WHERE REMARK <> 'Dummy' AND TEAM_CODE <> 'ไม่ระบุ'\n",
    "            UNION SELECT DISTINCT ORGID_H AS TMP_CD FROM CDSAPPO.DIM_MOOC_AREA NOLOCK WHERE REMARK <> 'Dummy' AND TEAM_CODE <> 'ไม่ระบุ'\n",
    "            UNION SELECT DISTINCT ORGID_HH AS TMP_CD FROM CDSAPPO.DIM_MOOC_AREA NOLOCK WHERE REMARK <> 'Dummy' AND TEAM_CODE <> 'ไม่ระบุ'\n",
    "            UNION SELECT DISTINCT SUBSTR(CCAATT,1,4) AS TMP_CD FROM CDSAPPO.DIM_MOOC_AREA NOLOCK WHERE REMARK <> 'Dummy' AND TEAM_CODE <> 'ไม่ระบุ'\n",
    "            UNION SELECT DISTINCT CCAATT AS TMP_CD FROM CDSAPPO.DIM_MOOC_AREA NOLOCK WHERE REMARK <> 'Dummy' AND TEAM_CODE <> 'ไม่ระบุ'\n",
    "        ) TMP\n",
    "        WHERE TMP_CD = AREA_CD )\n",
    "    AND TM_KEY_DAY >= {v_start_date}\n",
    "    GROUP BY REMARK, METRIC_CD, METRIC_NAME, SUBSTR(TM_KEY_DAY,1,6)\n",
    "    --ORDER BY REMARK, METRIC_CD, SUBSTR(TM_KEY_DAY,1,6)\n",
    "\"\"\")\n",
    "\n",
    "\n",
    "try:\n",
    "    execute_datetime = dt.datetime.now().strftime('%Y-%m-%d, %H:%M:%S')\n",
    "    print(f'\\n   -> Execute query... {execute_datetime}')\n",
    "\n",
    "    # Get : Ex-T Revenue\n",
    "    src_cur.execute(query)\n",
    "    rows = src_cur.fetchall()\n",
    "    chk_src_df = pd.DataFrame.from_records(rows, columns=[x[0] for x in src_cur.description])\n",
    "    print(f'\\n   -> Ex-T Revenue DataFrame : {chk_src_df.shape[0]} rows, {chk_src_df.shape[1]} columns')\n",
    "\n",
    "    src_cur.close()\n",
    "\n",
    "\n",
    "except oracledb.DatabaseError as e:\n",
    "    print(f'\\nError with Oracle : {e}')\n",
    "\n",
    "\n",
    "finally:\n",
    "    src_conn.close()\n",
    "    print(f'\\n{TDMDBPR_db} : Disconnected')"
   ]
  },
  {
   "cell_type": "code",
   "execution_count": 47,
   "metadata": {},
   "outputs": [
    {
     "name": "stdout",
     "output_type": "stream",
     "text": [
      "\n",
      "Parameter input...\n",
      "\n",
      "   -> v_tm_key_mth: 202502\n",
      "\n",
      "     REMARK      METRIC_CD                 METRIC_NAME TM_KEY_MTH           LOAD_DATE  C              P              G              H             HH           CCAA CCAATT  CNT_AREA_TYPE  CNT_AREA_CD  ROW_CNT\n",
      "0   jutar11     TB1R000100              Prepay Revenue     202502 2025-03-05 04:47:05  0              0  2,273,575,220  2,273,562,664  2,273,562,664  2,264,108,728      0              5         1104    30912\n",
      "1   jutar11     TB1R000101          Prepay New Revenue     202502 2025-03-05 04:42:38  0              0    254,667,955    254,667,955    254,667,955              0      0              4          176     4928\n",
      "2   jutar11     TB1R000102     Prepay Existing Revenue     202502 2025-03-05 04:45:50  0              0  2,018,907,264  2,018,894,708  2,018,894,708              0      0              4          176     4928\n",
      "3   jutar11     TB1S000500           Prepay Usage Subs     202502 2025-03-03 04:50:27  0              0    492,224,701    492,224,701    492,224,701    490,496,985      0              5         1104    30912\n",
      "4   jutar11     TB1S000600   Prepay Active Caller Subs     202502 2025-03-04 04:51:05  0    410,394,600    404,927,228    404,927,228    404,927,228    403,517,574      0              6         1105    30940\n",
      "5   jutar11     TB2R000100            Postpaid Revenue     202502 2025-03-05 04:20:11  0  3,730,905,975  3,722,658,159  3,722,656,303  3,722,656,303              0      0              5          177     1593\n",
      "6   jutar11     TB2R000101        Postpaid New Revenue     202502 2025-03-05 04:20:20  0              0     73,390,918     73,390,918     73,390,918              0      0              4          176     1584\n",
      "7   jutar11     TB2R000102   Postpaid Existing Revenue     202502 2025-03-05 04:20:30  0  3,657,510,819  3,649,267,241  3,649,265,385  3,649,265,385              0      0              5          177     1593\n",
      "8   jutar11     TB2R010100        Postpaid Revenue B2C     202502 2025-03-05 04:21:07  0  3,340,800,782  3,332,739,819  3,332,737,963  3,332,737,963  3,322,241,761      0              6         1105     9945\n",
      "9   jutar11     TB2R020100        Postpaid Revenue B2B     202502 2025-03-05 04:20:48  0    390,105,193    389,918,340    389,918,340    389,918,340              0      0              5          177     1593\n",
      "10  jutar11  TB2R020100SMB  Postpaid Revenue SMB : TMH     202502 2025-03-05 04:20:58  0     85,238,065     85,237,794     85,237,794     85,237,794              0      0              5          177     1593\n",
      "11  jutar11     TB2S000500        Postpaid Active Subs     202502 2025-03-05 04:51:39  0    284,931,511    284,759,591    284,825,262    284,825,557    282,804,613      0              6         1105    30940\n",
      "12  jutar11     TB2S010500    Postpaid Active Subs B2C     202502 2025-03-05 04:53:53  0    251,504,567    251,359,769    251,417,137    251,417,414    250,147,798      0              6         1105    30940\n",
      "13  jutar11     TB2S020400    Postpaid Active Subs B2B     202502 2025-03-03 04:55:17  0     33,426,944     33,399,822     33,408,125     33,408,143              0      0              5          177     4956\n",
      "14   salisa     TB3R000100           Broadband Revenue     202502 2025-03-03 05:01:33  0              0  1,433,151,303  1,433,151,303  1,433,151,263  1,433,151,303      0              5         1102     9909\n",
      "15   salisa     TB3R000101       Broadband New Revenue     202502 2025-03-03 05:01:03  0              0     53,415,710     53,415,710     53,415,710              0      0              4          176     1584\n",
      "16   salisa     TB3R000102  Broadband Exisitng Revenue     202502 2025-03-03 05:01:03  0              0  1,379,735,593  1,379,735,593  1,379,735,553              0      0              4          176     1584\n",
      "17   salisa     TB3S000500       Broadband Active Subs     202502 2025-03-01 04:55:28  0              0     86,856,435     86,856,435     86,856,435     86,856,435      0              5         1102    30856\n",
      "18   salisa     TB4R000100                 TVS Revenue     202502 2025-02-24 05:11:52  0              0    162,246,310    162,553,925    162,538,837              0      0              4          176     1232\n",
      "19   salisa     TB4R000101             TVS New Revenue     202502 2025-02-24 05:12:05  0              0        141,659        138,895        138,895              0      0              4          176     1231\n",
      "20   salisa     TB4R000102        TVS Exisitng Revenue     202502 2025-02-24 05:12:05  0              0    162,020,270    162,345,439    162,334,275              0      0              4          176     1232\n",
      "21   salisa     TB4R000103       TVS Revenue : Premium     202502 2025-02-24 05:17:32  0     50,421,669     49,957,645     50,744,206     50,846,343              0      0              4          169     1159\n",
      "22   salisa     TB4R000104           TVS Revenue : Mid     202502 2025-02-24 05:36:55  0     15,023,275     14,937,078     15,121,536     15,145,641              0      0              4          169     1182\n",
      "23   salisa     TB4R000105          TVS Revenue : Mass     202502 2025-02-24 05:30:42  0     88,549,721     87,067,491     87,055,118     87,020,126              0      0              4          169     1183\n",
      "24   salisa     TB4R000106          TVS Revenue : CMDU     202502 2025-02-24 05:24:00  0        808,380        808,380        808,380        808,380              0      0              4           31       54\n",
      "25   salisa     TB4S000500             TVS Active Subs     202502 2025-03-01 04:55:38  0              0     32,662,297     32,662,297     32,662,297     32,661,877      0              5         1104    30912\n"
     ]
    }
   ],
   "source": [
    "''' Display '''\n",
    "\n",
    "v_tm_key_mth = '202502'\n",
    "print(f'\\nParameter input...\\n')\n",
    "print(f'   -> v_tm_key_mth: {v_tm_key_mth}')\n",
    "\n",
    "pd.set_option('future.no_silent_downcasting', True)\n",
    "\n",
    "src_t_revenue_df = chk_src_df.copy()\n",
    "src_t_revenue_df = src_t_revenue_df.loc[src_t_revenue_df['TM_KEY_MTH']==v_tm_key_mth]\n",
    "src_t_revenue_df = src_t_revenue_df.fillna(0).sort_values(by=['REMARK', 'METRIC_CD', 'TM_KEY_MTH']).reset_index(drop=True)\n",
    "\n",
    "mod_col_list = src_t_revenue_df.iloc[:, 5:12].columns.tolist()\n",
    "for col in mod_col_list:\n",
    "    src_t_revenue_df[col] = src_t_revenue_df[col].apply(lambda x: format(x, ',.0f'))\n",
    "\n",
    "print(f'\\n{src_t_revenue_df.to_string(max_cols=15)}')"
   ]
  }
 ],
 "metadata": {
  "kernelspec": {
   "display_name": "Python 3",
   "language": "python",
   "name": "python3"
  },
  "language_info": {
   "codemirror_mode": {
    "name": "ipython",
    "version": 3
   },
   "file_extension": ".py",
   "mimetype": "text/x-python",
   "name": "python",
   "nbconvert_exporter": "python",
   "pygments_lexer": "ipython3",
   "version": "3.11.4"
  }
 },
 "nbformat": 4,
 "nbformat_minor": 2
}
