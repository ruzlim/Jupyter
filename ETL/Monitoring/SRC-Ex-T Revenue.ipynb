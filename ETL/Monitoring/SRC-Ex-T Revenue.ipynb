{
 "cells": [
  {
   "cell_type": "markdown",
   "metadata": {},
   "source": [
    "# * Ex-T Revenue & Subs"
   ]
  },
  {
   "cell_type": "markdown",
   "metadata": {},
   "source": [
    "## Parameter"
   ]
  },
  {
   "cell_type": "code",
   "execution_count": 50,
   "metadata": {},
   "outputs": [],
   "source": [
    "import configparser\n",
    "import datetime as dt\n",
    "import pandas as pd\n",
    "import numpy as np\n",
    "import xlrd\n",
    "import oracledb\n",
    "import re\n",
    "import FN_Monitoring as fn\n",
    "\n",
    "config = configparser.ConfigParser()\n",
    "config.read('../../my_config.ini')\n",
    "config.sections()\n",
    "\n",
    "pd.set_option('future.no_silent_downcasting', True)\n",
    "\n",
    "TDMDBPR_user = config['TDMDBPR']['username']\n",
    "TDMDBPR_pwd = config['TDMDBPR']['password']\n",
    "TDMDBPR_db = config['TDMDBPR']['db']\n",
    "TDMDBPR_host = config['TDMDBPR']['host']\n",
    "TDMDBPR_port = config['TDMDBPR']['port']\n",
    "\n",
    "AKPIPRD_user = config['AKPIPRD']['username']\n",
    "AKPIPRD_pwd = config['AKPIPRD']['password']\n",
    "AKPIPRD_db = config['AKPIPRD']['db']\n",
    "AKPIPRD_host = config['AKPIPRD']['host']\n",
    "AKPIPRD_port = config['AKPIPRD']['port']\n",
    "\n",
    "curr_dt = dt.datetime.now().date()\n",
    "str_curr_dt = curr_dt.strftime('%Y%m%d')"
   ]
  },
  {
   "cell_type": "markdown",
   "metadata": {},
   "source": [
    "## Actual : Ex-T Revenue\n",
    "->  FCT_KPI_NEWCO_PERF_ACTUAL"
   ]
  },
  {
   "cell_type": "code",
   "execution_count": 49,
   "metadata": {},
   "outputs": [
    {
     "name": "stdout",
     "output_type": "stream",
     "text": [
      "\n",
      "Parameter input...\n",
      "\n",
      "   -> v_start_date: 20240101\n",
      "\n",
      "TDMDBPR : Connected\n",
      "\n",
      "   -> Execute query... 2025-03-06, 18:27:33\n",
      "\n",
      "   -> Ex-T Revenue DataFrame : 418 rows, 17 columns\n",
      "\n",
      "TDMDBPR : Disconnected\n"
     ]
    }
   ],
   "source": [
    "''' Execute query '''\n",
    "\n",
    "\n",
    "# Input parameter\n",
    "curr_datetime = dt.datetime.now().strftime('%Y-%m-%d, %H:%M:%S')\n",
    "v_start_date = 20240101\n",
    "print(f'\\nParameter input...\\n')\n",
    "print(f'   -> v_start_date: {v_start_date}')\n",
    "\n",
    "\n",
    "# Connect : TDMDBPR\n",
    "src_dsn = f'{TDMDBPR_user}/{TDMDBPR_pwd}@{TDMDBPR_host}:{TDMDBPR_port}/{TDMDBPR_db}'\n",
    "src_conn = oracledb.connect(src_dsn)\n",
    "print(f'\\n{TDMDBPR_db} : Connected')\n",
    "src_cur = src_conn.cursor()\n",
    "query = (f\"\"\"\n",
    "    SELECT /*+PARALLEL(8)*/ REMARK, METRIC_CD, METRIC_NAME\n",
    "        , SUBSTR(TM_KEY_DAY,1,6) AS TM_KEY_MTH\n",
    "        , MIN(TM_KEY_DAY) AS START_DAY, MAX(TM_KEY_DAY) AS END_DAY, MAX(LOAD_DATE) LOAD_DATE\n",
    "        , CAST(SUM(CASE WHEN AREA_TYPE = 'C' THEN ACTUAL END) AS DECIMAL(18)) C\n",
    "        , CAST(SUM(CASE WHEN AREA_TYPE = 'P' THEN ACTUAL END) AS DECIMAL(18)) P\n",
    "        , CAST(SUM(CASE WHEN AREA_TYPE = 'G' THEN ACTUAL END) AS DECIMAL(18)) G\n",
    "        , CAST(SUM(CASE WHEN AREA_TYPE = 'H' THEN ACTUAL END) AS DECIMAL(18)) H\n",
    "        , CAST(SUM(CASE WHEN AREA_TYPE = 'HH' THEN ACTUAL END) AS DECIMAL(18)) HH\n",
    "        , CAST(SUM(CASE WHEN AREA_TYPE = 'CCAA' THEN ACTUAL END) AS DECIMAL(18)) CCAA\n",
    "        , CAST(SUM(CASE WHEN AREA_TYPE = 'CCAATT' THEN ACTUAL END) AS DECIMAL(18)) CCAATT\n",
    "        , COUNT(DISTINCT AREA_TYPE) CNT_AREA_TYPE, COUNT(DISTINCT AREA_CD) CNT_AREA_CD, COUNT(1) ROW_CNT\n",
    "    FROM GEOSPCAPPO.FCT_KPI_NEWCO_PERF_ACTUAL\n",
    "    WHERE REMARK IN ('salisa', 'jutar11')\n",
    "    AND NOT REGEXP_LIKE(METRIC_CD, '^TCAP|CORP$')\n",
    "    AND EXISTS (\n",
    "        SELECT 1 -->> AREA_CD IN (P, G, H, R, HH, CCAA, CCAATT)\n",
    "        FROM (\n",
    "            SELECT DISTINCT ORGID_P AS TMP_CD FROM CDSAPPO.DIM_MOOC_AREA NOLOCK WHERE REMARK <> 'Dummy' AND TEAM_CODE <> 'ไม่ระบุ'\n",
    "            UNION SELECT DISTINCT ORGID_G AS TMP_CD FROM CDSAPPO.DIM_MOOC_AREA NOLOCK WHERE REMARK <> 'Dummy' AND TEAM_CODE <> 'ไม่ระบุ'\n",
    "            UNION SELECT DISTINCT ORGID_R AS TMP_CD FROM CDSAPPO.DIM_MOOC_AREA NOLOCK WHERE REMARK <> 'Dummy' AND TEAM_CODE <> 'ไม่ระบุ'\n",
    "            UNION SELECT DISTINCT ORGID_H AS TMP_CD FROM CDSAPPO.DIM_MOOC_AREA NOLOCK WHERE REMARK <> 'Dummy' AND TEAM_CODE <> 'ไม่ระบุ'\n",
    "            UNION SELECT DISTINCT ORGID_HH AS TMP_CD FROM CDSAPPO.DIM_MOOC_AREA NOLOCK WHERE REMARK <> 'Dummy' AND TEAM_CODE <> 'ไม่ระบุ'\n",
    "            UNION SELECT DISTINCT SUBSTR(CCAATT,1,4) AS TMP_CD FROM CDSAPPO.DIM_MOOC_AREA NOLOCK WHERE REMARK <> 'Dummy' AND TEAM_CODE <> 'ไม่ระบุ'\n",
    "            UNION SELECT DISTINCT CCAATT AS TMP_CD FROM CDSAPPO.DIM_MOOC_AREA NOLOCK WHERE REMARK <> 'Dummy' AND TEAM_CODE <> 'ไม่ระบุ'\n",
    "        ) TMP\n",
    "        WHERE TMP_CD = AREA_CD )\n",
    "    AND TM_KEY_DAY >= {v_start_date}\n",
    "    GROUP BY REMARK, METRIC_CD, METRIC_NAME, SUBSTR(TM_KEY_DAY,1,6)\n",
    "    --ORDER BY REMARK, METRIC_CD, SUBSTR(TM_KEY_DAY,1,6)\n",
    "\"\"\")\n",
    "\n",
    "\n",
    "try:\n",
    "    execute_datetime = dt.datetime.now().strftime('%Y-%m-%d, %H:%M:%S')\n",
    "    print(f'\\n   -> Execute query... {execute_datetime}')\n",
    "\n",
    "    # Get : Ex-T Revenue\n",
    "    src_cur.execute(query)\n",
    "    rows = src_cur.fetchall()\n",
    "    chk_src_df = pd.DataFrame.from_records(rows, columns=[x[0] for x in src_cur.description])\n",
    "    print(f'\\n   -> Ex-T Revenue DataFrame : {chk_src_df.shape[0]} rows, {chk_src_df.shape[1]} columns')\n",
    "\n",
    "    src_cur.close()\n",
    "\n",
    "\n",
    "except oracledb.DatabaseError as e:\n",
    "    print(f'\\nError with Oracle : {e}')\n",
    "\n",
    "\n",
    "finally:\n",
    "    src_conn.close()\n",
    "    print(f'\\n{TDMDBPR_db} : Disconnected')"
   ]
  },
  {
   "cell_type": "code",
   "execution_count": 81,
   "metadata": {},
   "outputs": [
    {
     "name": "stdout",
     "output_type": "stream",
     "text": [
      "\n",
      "     REMARK      METRIC_CD                 METRIC_NAME           LOAD_DATE  START_DAY   END_DAY                  P  CNT_AREA_TYPE  CNT_AREA_CD  ROW_CNT\n",
      "0   jutar11     TB1R000100              Prepay Revenue 2025-03-05 04:53:19   20240101  20250302                  0              5         1104   471408\n",
      "1   jutar11     TB1R000101          Prepay New Revenue 2025-03-05 04:49:11   20240101  20250302                  0              4          176    75152\n",
      "2   jutar11     TB1R000102     Prepay Existing Revenue 2025-03-05 04:51:34   20240101  20250302                  0              4          176    75152\n",
      "3   jutar11     TB1S000500           Prepay Usage Subs 2025-03-05 04:53:25   20240101  20250303                  0              5         1104   471408\n",
      "4   jutar11     TB1S000600   Prepay Active Caller Subs 2025-03-05 04:53:27   20240101  20250303      6,174,691,544              6         1105   472927\n",
      "5   jutar11     TB2R000100            Postpaid Revenue 2025-03-05 04:21:17   20240102  20250302     52,429,171,334              5          177    24780\n",
      "6   jutar11     TB2R000101        Postpaid New Revenue 2025-03-05 04:21:24   20240102  20250302                  0              4          176    24288\n",
      "7   jutar11     TB2R000102   Postpaid Existing Revenue 2025-03-05 04:21:30   20240102  20250302     47,932,596,017              5          177    24780\n",
      "8   jutar11     TB2R010100        Postpaid Revenue B2C 2025-03-05 04:21:55   20240102  20250302     46,574,766,933              6         1105   149337\n",
      "9   jutar11     TB2R020100        Postpaid Revenue B2B 2025-03-05 04:21:42   20240102  20250302      5,854,404,401              5          177    24780\n",
      "10  jutar11  TB2R020100SMB  Postpaid Revenue SMB : TMH 2025-03-05 04:21:49   20240102  20250302      1,226,950,008              5          177    23782\n",
      "11  jutar11     TB2S000500        Postpaid Active Subs 2025-03-05 05:13:16   20240101  20250304      4,283,502,616              6         1105   474045\n",
      "12  jutar11     TB2S010500    Postpaid Active Subs B2C 2025-03-05 05:13:59   20240101  20250304      3,802,513,448              6         1105   474045\n",
      "13  jutar11     TB2S020400    Postpaid Active Subs B2B 2025-03-05 05:12:15   20240101  20250304        480,989,189              5          177    75930\n",
      "14   salisa       CAP00001                      EBITDA 2024-10-25 11:20:47   20240101  20240930                  0              2           71    19454\n",
      "15   salisa       CAP00006               EBITDA Margin 2025-02-21 20:57:38   20240101  20250131             16,406              3           72    28492\n",
      "16   salisa       CAP00009                      EBITDA 2025-02-21 20:57:38   20240101  20250131  1,950,344,544,712              3           72    28492\n",
      "17   salisa     TB3R000100           Broadband Revenue 2025-03-05 05:06:39   20240102  20250302                  0              5         1102   139820\n",
      "18   salisa     TB3R000101       Broadband New Revenue 2025-03-05 05:05:30   20240102  20250302                  0              4          176    22331\n",
      "19   salisa     TB3R000102  Broadband Exisitng Revenue 2025-03-05 05:05:30   20240102  20250302                  0              4          176    22352\n",
      "20   salisa     TB3S000500       Broadband Active Subs 2025-03-05 04:55:32   20240101  20250304                  0              5         1102   467438\n",
      "21   salisa     TB4R000100                 TVS Revenue 2025-02-24 05:11:52   20240102  20250222                  0              5         1104   105949\n",
      "22   salisa     TB4R000101             TVS New Revenue 2025-02-24 05:12:05   20240102  20250222                  0              4          176    22630\n",
      "23   salisa     TB4R000102        TVS Exisitng Revenue 2025-02-24 05:12:05   20240102  20250222                  0              4          176    24239\n",
      "24   salisa     TB4R000103       TVS Revenue : Premium 2025-02-24 05:17:32   20240102  20250222      1,633,872,670              4          169    22964\n",
      "25   salisa     TB4R000104           TVS Revenue : Mid 2025-02-24 05:36:55   20240102  20250222        407,702,246              4          169    23264\n",
      "26   salisa     TB4R000105          TVS Revenue : Mass 2025-02-24 05:30:42   20240102  20250222      2,174,243,573              4          169    23271\n",
      "27   salisa     TB4R000106          TVS Revenue : CMDU 2025-02-24 05:24:00   20240102  20250219        573,582,746              4          151     2975\n",
      "28   salisa     TB4S000500             TVS Active Subs 2025-03-05 04:55:43   20240101  20250304                  0              5         8408   485664\n"
     ]
    }
   ],
   "source": [
    "''' METRIC Summary '''\n",
    "\n",
    "src_t_revenue_df = chk_src_df.copy()\n",
    "src_t_revenue_df = src_t_revenue_df.groupby(['REMARK', 'METRIC_CD', 'METRIC_NAME']).agg({'LOAD_DATE':'max', 'START_DAY':'min', 'END_DAY':'max', 'P':'sum', 'CNT_AREA_TYPE':'max', 'CNT_AREA_CD':'max', 'ROW_CNT':'sum'})\n",
    "src_t_revenue_df = src_t_revenue_df.fillna(0).sort_values(by=['REMARK', 'METRIC_CD']).reset_index()\n",
    "\n",
    "mod_col_list = src_t_revenue_df.iloc[:, 6:7].columns.tolist()\n",
    "for col in mod_col_list:\n",
    "    src_t_revenue_df[col] = src_t_revenue_df[col].apply(lambda x: format(x, ',.0f'))\n",
    "\n",
    "print(f'\\n{src_t_revenue_df.to_string(max_cols=10)}')"
   ]
  },
  {
   "cell_type": "code",
   "execution_count": 84,
   "metadata": {},
   "outputs": [
    {
     "name": "stdout",
     "output_type": "stream",
     "text": [
      "\n",
      "Parameter input...\n",
      "\n",
      "   -> v_tm_key_mth: 202502\n",
      "\n",
      "     REMARK      METRIC_CD                 METRIC_NAME           LOAD_DATE TM_KEY_MTH  START_DAY   END_DAY  C              P              G              H             HH           CCAA CCAATT\n",
      "0   jutar11     TB1R000100              Prepay Revenue 2025-03-05 04:47:05     202502   20250201  20250228  0              0  2,273,575,220  2,273,562,664  2,273,562,664  2,264,108,728      0\n",
      "1   jutar11     TB1R000101          Prepay New Revenue 2025-03-05 04:42:38     202502   20250201  20250228  0              0    254,667,955    254,667,955    254,667,955              0      0\n",
      "2   jutar11     TB1R000102     Prepay Existing Revenue 2025-03-05 04:45:50     202502   20250201  20250228  0              0  2,018,907,264  2,018,894,708  2,018,894,708              0      0\n",
      "3   jutar11     TB1S000500           Prepay Usage Subs 2025-03-03 04:50:27     202502   20250201  20250228  0              0    492,224,701    492,224,701    492,224,701    490,496,985      0\n",
      "4   jutar11     TB1S000600   Prepay Active Caller Subs 2025-03-04 04:51:05     202502   20250201  20250228  0    410,394,600    404,927,228    404,927,228    404,927,228    403,517,574      0\n",
      "5   jutar11     TB2R000100            Postpaid Revenue 2025-03-05 04:20:11     202502   20250202  20250228  0  3,730,905,975  3,722,658,159  3,722,656,303  3,722,656,303              0      0\n",
      "6   jutar11     TB2R000101        Postpaid New Revenue 2025-03-05 04:20:20     202502   20250202  20250228  0              0     73,390,918     73,390,918     73,390,918              0      0\n",
      "7   jutar11     TB2R000102   Postpaid Existing Revenue 2025-03-05 04:20:30     202502   20250202  20250228  0  3,657,510,819  3,649,267,241  3,649,265,385  3,649,265,385              0      0\n",
      "8   jutar11     TB2R010100        Postpaid Revenue B2C 2025-03-05 04:21:07     202502   20250202  20250228  0  3,340,800,782  3,332,739,819  3,332,737,963  3,332,737,963  3,322,241,761      0\n",
      "9   jutar11     TB2R020100        Postpaid Revenue B2B 2025-03-05 04:20:48     202502   20250202  20250228  0    390,105,193    389,918,340    389,918,340    389,918,340              0      0\n",
      "10  jutar11  TB2R020100SMB  Postpaid Revenue SMB : TMH 2025-03-05 04:20:58     202502   20250202  20250228  0     85,238,065     85,237,794     85,237,794     85,237,794              0      0\n",
      "11  jutar11     TB2S000500        Postpaid Active Subs 2025-03-05 04:51:39     202502   20250201  20250228  0    284,931,511    284,759,591    284,825,262    284,825,557    282,804,613      0\n",
      "12  jutar11     TB2S010500    Postpaid Active Subs B2C 2025-03-05 04:53:53     202502   20250201  20250228  0    251,504,567    251,359,769    251,417,137    251,417,414    250,147,798      0\n",
      "13  jutar11     TB2S020400    Postpaid Active Subs B2B 2025-03-03 04:55:17     202502   20250201  20250228  0     33,426,944     33,399,822     33,408,125     33,408,143              0      0\n",
      "14   salisa     TB3R000100           Broadband Revenue 2025-03-03 05:01:33     202502   20250202  20250228  0              0  1,433,151,303  1,433,151,303  1,433,151,263  1,433,151,303      0\n",
      "15   salisa     TB3R000101       Broadband New Revenue 2025-03-03 05:01:03     202502   20250202  20250228  0              0     53,415,710     53,415,710     53,415,710              0      0\n",
      "16   salisa     TB3R000102  Broadband Exisitng Revenue 2025-03-03 05:01:03     202502   20250202  20250228  0              0  1,379,735,593  1,379,735,593  1,379,735,553              0      0\n",
      "17   salisa     TB3S000500       Broadband Active Subs 2025-03-01 04:55:28     202502   20250201  20250228  0              0     86,856,435     86,856,435     86,856,435     86,856,435      0\n",
      "18   salisa     TB4R000100                 TVS Revenue 2025-02-24 05:11:52     202502   20250202  20250222  0              0    162,246,310    162,553,925    162,538,837              0      0\n",
      "19   salisa     TB4R000101             TVS New Revenue 2025-02-24 05:12:05     202502   20250202  20250222  0              0        141,659        138,895        138,895              0      0\n",
      "20   salisa     TB4R000102        TVS Exisitng Revenue 2025-02-24 05:12:05     202502   20250202  20250222  0              0    162,020,270    162,345,439    162,334,275              0      0\n",
      "21   salisa     TB4R000103       TVS Revenue : Premium 2025-02-24 05:17:32     202502   20250202  20250222  0     50,421,669     49,957,645     50,744,206     50,846,343              0      0\n",
      "22   salisa     TB4R000104           TVS Revenue : Mid 2025-02-24 05:36:55     202502   20250202  20250222  0     15,023,275     14,937,078     15,121,536     15,145,641              0      0\n",
      "23   salisa     TB4R000105          TVS Revenue : Mass 2025-02-24 05:30:42     202502   20250202  20250222  0     88,549,721     87,067,491     87,055,118     87,020,126              0      0\n",
      "24   salisa     TB4R000106          TVS Revenue : CMDU 2025-02-24 05:24:00     202502   20250202  20250219  0        808,380        808,380        808,380        808,380              0      0\n",
      "25   salisa     TB4S000500             TVS Active Subs 2025-03-01 04:55:38     202502   20250201  20250228  0              0     32,662,297     32,662,297     32,662,297     32,661,877      0\n"
     ]
    }
   ],
   "source": [
    "''' METRIC by Month '''\n",
    "\n",
    "v_tm_key_mth = '202502'\n",
    "src_t_revenue_df_cols = ['REMARK', 'METRIC_CD', 'METRIC_NAME', 'LOAD_DATE', 'TM_KEY_MTH', 'START_DAY', 'END_DAY', 'C', 'P', 'G', 'H', 'HH', 'CCAA', 'CCAATT']\n",
    "print(f'\\nParameter input...\\n')\n",
    "print(f'   -> v_tm_key_mth: {v_tm_key_mth}')\n",
    "\n",
    "src_t_revenue_df = chk_src_df[src_t_revenue_df_cols].copy()\n",
    "src_t_revenue_df = src_t_revenue_df.loc[src_t_revenue_df['TM_KEY_MTH']==v_tm_key_mth]\n",
    "src_t_revenue_df = src_t_revenue_df.fillna(0).sort_values(by=['REMARK', 'METRIC_CD', 'TM_KEY_MTH']).reset_index(drop=True)\n",
    "\n",
    "mod_col_list = src_t_revenue_df.iloc[:, 7:14].columns.tolist()\n",
    "for col in mod_col_list:\n",
    "    src_t_revenue_df[col] = src_t_revenue_df[col].apply(lambda x: format(x, ',.0f'))\n",
    "\n",
    "print(f'\\n{src_t_revenue_df.to_string(max_cols=17)}')"
   ]
  }
 ],
 "metadata": {
  "kernelspec": {
   "display_name": "Python 3",
   "language": "python",
   "name": "python3"
  },
  "language_info": {
   "codemirror_mode": {
    "name": "ipython",
    "version": 3
   },
   "file_extension": ".py",
   "mimetype": "text/x-python",
   "name": "python",
   "nbconvert_exporter": "python",
   "pygments_lexer": "ipython3",
   "version": "3.11.4"
  }
 },
 "nbformat": 4,
 "nbformat_minor": 2
}
