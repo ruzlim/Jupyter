{
 "cells": [
  {
   "cell_type": "markdown",
   "metadata": {},
   "source": [
    "# * VINSIGHT : Daily Status"
   ]
  },
  {
   "cell_type": "markdown",
   "metadata": {},
   "source": [
    "## Parameter"
   ]
  },
  {
   "cell_type": "code",
   "execution_count": 1,
   "metadata": {},
   "outputs": [],
   "source": [
    "import configparser\n",
    "import datetime as dt\n",
    "import pandas as pd\n",
    "import numpy as np\n",
    "import xlrd\n",
    "import oracledb\n",
    "import re\n",
    "import FN_Monitoring as fn\n",
    "\n",
    "config = configparser.ConfigParser()\n",
    "config.read('../../my_config.ini')\n",
    "config.sections()\n",
    "\n",
    "TDMDBPR_user = config['TDMDBPR']['username']\n",
    "TDMDBPR_pwd = config['TDMDBPR']['password']\n",
    "TDMDBPR_db = config['TDMDBPR']['db']\n",
    "TDMDBPR_host = config['TDMDBPR']['host']\n",
    "TDMDBPR_port = config['TDMDBPR']['port']\n",
    "\n",
    "AKPIPRD_user = config['AKPIPRD']['username']\n",
    "AKPIPRD_pwd = config['AKPIPRD']['password']\n",
    "AKPIPRD_db = config['AKPIPRD']['db']\n",
    "AKPIPRD_host = config['AKPIPRD']['host']\n",
    "AKPIPRD_port = config['AKPIPRD']['port']\n",
    "\n",
    "curr_dt = dt.datetime.now().date()\n",
    "str_curr_dt = curr_dt.strftime('%Y%m%d')"
   ]
  },
  {
   "cell_type": "markdown",
   "metadata": {},
   "source": [
    "## LOAD_DATE Summary"
   ]
  },
  {
   "cell_type": "code",
   "execution_count": 2,
   "metadata": {},
   "outputs": [
    {
     "name": "stdout",
     "output_type": "stream",
     "text": [
      "\n",
      "Parameter input...\n",
      "\n",
      "   -> v_start_date: 20250201\n",
      "\n",
      "Current LOAD_DATE Summary...\n",
      "\n",
      "                PPN_TM AREA_TYPE  CNT_METRIC  ROW_CNT    MIN_DT    MAX_DT  LAST_ACTUAL\n",
      "0  2025-03-04 23:53:32      CCAA         166  4775488  20250201  20250303     20250302\n",
      "1  2025-03-05 08:39:02         C         530    16960  20250201  20250304     20250303\n",
      "2  2025-03-05 08:39:02         G         317    81152  20250201  20250304     20250303\n",
      "3  2025-03-05 08:39:02         P         341    10912  20250201  20250304     20250303\n",
      "4  2025-03-05 08:39:02         Z          29     6496  20250201  20250304     20250302\n",
      "5  2025-03-05 08:41:07         C           4      128  20250201  20250304     20250304\n",
      "6  2025-03-05 08:41:07         G           4     1024  20250201  20250304     20250304\n",
      "7  2025-03-05 08:41:07         P           4      128  20250201  20250304     20250304\n",
      "8  2025-03-05 10:46:31         H         316   667392  20250201  20250304     20250303\n",
      "9  2025-03-05 10:50:15         H           4     8448  20250201  20250304     20250304\n",
      "10 2025-03-05 12:46:34        HH         258   792576  20250201  20250304     20250303\n",
      "11 2025-03-05 12:50:50        HH           4    12288  20250201  20250304     20250304\n"
     ]
    }
   ],
   "source": [
    "# Input parameter\n",
    "v_start_date = 20250201\n",
    "print(f'\\nParameter input...\\n')\n",
    "print(f'   -> v_start_date: {v_start_date}')\n",
    "\n",
    "\n",
    "# Connect : TDMDBPR\n",
    "src_dsn = f'{TDMDBPR_user}/{TDMDBPR_pwd}@{TDMDBPR_host}:{TDMDBPR_port}/{TDMDBPR_db}'\n",
    "src_conn = oracledb.connect(src_dsn)\n",
    "src_cur = src_conn.cursor()\n",
    "query = (f\"\"\"\n",
    "    SELECT /*+PARALLEL(8)*/ PPN_TM, AREA_TYPE\n",
    "        , COUNT(DISTINCT METRIC_CD) CNT_METRIC, COUNT(1) ROW_CNT\n",
    "        , MIN(TM_KEY_DAY) MIN_DT, MAX(TM_KEY_DAY) MAX_DT, MAX(ACTUAL_AS_OF) LAST_ACTUAL\n",
    "    FROM GEOSPCAPPO.AGG_PERF_NEWCO\n",
    "    WHERE CENTER IN ('Revenue', 'Sales', 'Profitability')\n",
    "    AND TM_KEY_DAY >= {v_start_date} \n",
    "    GROUP BY PPN_TM, AREA_TYPE\n",
    "    ORDER BY 1,2\n",
    "\"\"\")\n",
    "\n",
    "\n",
    "try:\n",
    "    # Get : LOAD_DATE Summary\n",
    "    src_cur.execute(query)\n",
    "    rows = src_cur.fetchall()\n",
    "    print(f'\\nCurrent LOAD_DATE Summary...')\n",
    "    chk_src_df = pd.DataFrame.from_records(rows, columns=[x[0] for x in src_cur.description])\n",
    "\n",
    "    # Display\n",
    "    tmp_src_df = chk_src_df.copy()\n",
    "    print(f'\\n{tmp_src_df.to_string(line_width=100)}')\n",
    "    \n",
    "    src_cur.close()\n",
    "\n",
    "\n",
    "except oracledb.DatabaseError as e:\n",
    "    print(f'\\nError with Oracle : {e}')\n",
    "\n",
    "\n",
    "finally:\n",
    "    src_conn.close()"
   ]
  }
 ],
 "metadata": {
  "kernelspec": {
   "display_name": "Python 3",
   "language": "python",
   "name": "python3"
  },
  "language_info": {
   "codemirror_mode": {
    "name": "ipython",
    "version": 3
   },
   "file_extension": ".py",
   "mimetype": "text/x-python",
   "name": "python",
   "nbconvert_exporter": "python",
   "pygments_lexer": "ipython3",
   "version": "3.11.4"
  }
 },
 "nbformat": 4,
 "nbformat_minor": 2
}
