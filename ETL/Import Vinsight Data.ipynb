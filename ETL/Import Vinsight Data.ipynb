{
 "cells": [
  {
   "cell_type": "markdown",
   "metadata": {},
   "source": [
    "# * Import Vinsight Data"
   ]
  },
  {
   "cell_type": "markdown",
   "metadata": {},
   "source": [
    "## Parameter"
   ]
  },
  {
   "cell_type": "code",
   "execution_count": 1,
   "metadata": {},
   "outputs": [],
   "source": [
    "import os\n",
    "import glob\n",
    "import configparser\n",
    "import oracledb\n",
    "import pandas as pd\n",
    "import datetime as dt"
   ]
  },
  {
   "cell_type": "code",
   "execution_count": 2,
   "metadata": {},
   "outputs": [],
   "source": [
    "config = configparser.ConfigParser()\n",
    "config.read('../my_config.ini')\n",
    "config.sections()\n",
    "\n",
    "username = config['TDMDBPR']['username']\n",
    "password = config['TDMDBPR']['password']\n",
    "db = config['TDMDBPR']['db']\n",
    "host = config['TDMDBPR']['host']\n",
    "port = config['TDMDBPR']['port']"
   ]
  },
  {
   "cell_type": "code",
   "execution_count": 3,
   "metadata": {},
   "outputs": [
    {
     "data": {
      "text/plain": [
       "'../data/raw/Agg_Perf_Nationwide-20240610.csv'"
      ]
     },
     "execution_count": 3,
     "metadata": {},
     "output_type": "execute_result"
    }
   ],
   "source": [
    "raw_dir = f\"../data/raw\"\n",
    "curr_dt = dt.datetime.now().date()\n",
    "str_curr_dt = curr_dt.strftime('%Y%m%d')\n",
    "op_file_name = f'Agg_Perf_Nationwide-{str_curr_dt}'\n",
    "op_raw_file = f'{raw_dir}/{op_file_name}.csv'\n",
    "\n",
    "op_raw_file"
   ]
  },
  {
   "cell_type": "markdown",
   "metadata": {},
   "source": [
    "## Query"
   ]
  },
  {
   "cell_type": "code",
   "execution_count": 4,
   "metadata": {},
   "outputs": [
    {
     "name": "stdout",
     "output_type": "stream",
     "text": [
      "\n",
      "Job Start...\n",
      "TDMDBPR : Connected\n",
      "\n",
      " Processing...\n",
      "\n",
      "Execute query as of 2024-06-10...\n",
      "\n",
      "df : 564431 rows, 46 columns\n",
      "\n",
      "TDMDBPR : Disconnected\n",
      "\n",
      "Job Done !!!\n"
     ]
    }
   ],
   "source": [
    "# Import AGG_PERF_NEWCO : Sales & Revenue(Nationwide only)\n",
    "\n",
    "print(f'\\nJob Start...')\n",
    "\n",
    "# TDMDBPR\n",
    "\n",
    "# conn = oracledb.connect(user=username, password=password, dsn=f'{host}/{db}')\n",
    "dsn = f'{username}/{password}@{host}:{port}/{db}'\n",
    "conn = oracledb.connect(dsn)\n",
    "print(f'\\n{db} : Connected')\n",
    "cur = conn.cursor()\n",
    "v_date = (curr_dt, )\n",
    "\n",
    "# query = \"\"\"\n",
    "#     SELECT TM_KEY_DAY, TM_KEY_WK, TM_KEY_MTH, TM_KEY_QTR, TM_KEY_YR, CENTER, PRODUCT_GRP, COMP_CD, METRIC_GRP, METRIC_NAME_GROUP, METRIC_CD, METRIC_NAME, AREA_TYPE, AREA_CD, AREA_NAME\n",
    "#         , ACTUAL_AS_OF, AGG_TYPE, RR_IND, GRY_IND, UOM, PERIOD, ACTUAL_SNAP, ACTUAL_AGG, TARGET_SNAP, TARGET_AGG, BASELINE_SNAP, BASELINE_AGG, ACH_SNAP, ACH_AGG, GAP_SNAP, GAP_AGG\n",
    "#         , WOW, WOW_PERCENT, MOM, MOM_PERCENT, QOQ, QOQ_PERCENT, YOY, YOY_PERCENT, RR, RR_ACH, WTD, MTD, QTD, YTD, PPN_TM\n",
    "#     FROM GEOSPCAPPO.AGG_PERF_NEWCO NOLOCK\n",
    "#     WHERE CENTER IN ('Revenue', 'Sales')\n",
    "#     AND AREA_TYPE = 'P'\n",
    "# \"\"\"\n",
    "\n",
    "with open('SQL/Import Vinsight Data.sql', 'r') as sql_file:\n",
    "    queries = sql_file.read().split(';')\n",
    "    query = queries[0].strip()\n",
    "    sql_file.close()\n",
    "    # print(query)\n",
    "\n",
    "try:\n",
    "    print(f'\\n Processing...')\n",
    "    print(f'\\nExecute query as of {v_date[0]}...')\n",
    "    cur.execute(query)\n",
    "    rows = cur.fetchall()\n",
    "    df = pd.DataFrame.from_records(rows, columns=[x[0] for x in cur.description])\n",
    "    print(f'\\ndf : {df.shape[0]} rows, {df.shape[1]} columns')\n",
    "\n",
    "\n",
    "except oracledb.DatabaseError as e:\n",
    "    print(f'Error with Oracle : {e}')\n",
    "\n",
    "\n",
    "finally:\n",
    "    cur.close()\n",
    "    conn.close()\n",
    "    print(f'\\n{db} : Disconnected')\n",
    "    print(f'\\nJob Done !!!')"
   ]
  },
  {
   "cell_type": "markdown",
   "metadata": {},
   "source": [
    "## Sample data"
   ]
  },
  {
   "cell_type": "code",
   "execution_count": 9,
   "metadata": {},
   "outputs": [
    {
     "data": {
      "text/html": [
       "<div>\n",
       "<style scoped>\n",
       "    .dataframe tbody tr th:only-of-type {\n",
       "        vertical-align: middle;\n",
       "    }\n",
       "\n",
       "    .dataframe tbody tr th {\n",
       "        vertical-align: top;\n",
       "    }\n",
       "\n",
       "    .dataframe thead th {\n",
       "        text-align: right;\n",
       "    }\n",
       "</style>\n",
       "<table border=\"1\" class=\"dataframe\">\n",
       "  <thead>\n",
       "    <tr style=\"text-align: right;\">\n",
       "      <th></th>\n",
       "      <th>TM_KEY_DAY</th>\n",
       "      <th>TM_KEY_WK</th>\n",
       "      <th>TM_KEY_MTH</th>\n",
       "      <th>TM_KEY_QTR</th>\n",
       "      <th>TM_KEY_YR</th>\n",
       "      <th>CENTER</th>\n",
       "      <th>PRODUCT_GRP</th>\n",
       "      <th>COMP_CD</th>\n",
       "      <th>METRIC_GRP</th>\n",
       "      <th>METRIC_NAME_GROUP</th>\n",
       "      <th>...</th>\n",
       "      <th>QOQ_PERCENT</th>\n",
       "      <th>YOY</th>\n",
       "      <th>YOY_PERCENT</th>\n",
       "      <th>RR</th>\n",
       "      <th>RR_ACH</th>\n",
       "      <th>WTD</th>\n",
       "      <th>MTD</th>\n",
       "      <th>QTD</th>\n",
       "      <th>YTD</th>\n",
       "      <th>PPN_TM</th>\n",
       "    </tr>\n",
       "  </thead>\n",
       "  <tbody>\n",
       "    <tr>\n",
       "      <th>556890</th>\n",
       "      <td>20240606</td>\n",
       "      <td>2024023</td>\n",
       "      <td>202406</td>\n",
       "      <td>20242</td>\n",
       "      <td>2024</td>\n",
       "      <td>Revenue</td>\n",
       "      <td>Postpaid</td>\n",
       "      <td>TRUE</td>\n",
       "      <td>Subs</td>\n",
       "      <td>Postpaid %NAD 30DPDB2</td>\n",
       "      <td>...</td>\n",
       "      <td>NaN</td>\n",
       "      <td>None</td>\n",
       "      <td>None</td>\n",
       "      <td>NaN</td>\n",
       "      <td>NaN</td>\n",
       "      <td>None</td>\n",
       "      <td>None</td>\n",
       "      <td>None</td>\n",
       "      <td>None</td>\n",
       "      <td>2024-06-07 11:55:57</td>\n",
       "    </tr>\n",
       "    <tr>\n",
       "      <th>556891</th>\n",
       "      <td>20240606</td>\n",
       "      <td>2024023</td>\n",
       "      <td>202406</td>\n",
       "      <td>20242</td>\n",
       "      <td>2024</td>\n",
       "      <td>Revenue</td>\n",
       "      <td>None</td>\n",
       "      <td>TRUE</td>\n",
       "      <td>Market Share</td>\n",
       "      <td>Broadband Subs Share : AIS Fibre</td>\n",
       "      <td>...</td>\n",
       "      <td>1.602720</td>\n",
       "      <td>None</td>\n",
       "      <td>None</td>\n",
       "      <td>NaN</td>\n",
       "      <td>NaN</td>\n",
       "      <td>None</td>\n",
       "      <td>None</td>\n",
       "      <td>None</td>\n",
       "      <td>None</td>\n",
       "      <td>2024-06-07 11:55:57</td>\n",
       "    </tr>\n",
       "    <tr>\n",
       "      <th>556892</th>\n",
       "      <td>20240606</td>\n",
       "      <td>2024023</td>\n",
       "      <td>202406</td>\n",
       "      <td>20242</td>\n",
       "      <td>2024</td>\n",
       "      <td>Revenue</td>\n",
       "      <td>None</td>\n",
       "      <td>TRUE</td>\n",
       "      <td>Market Share</td>\n",
       "      <td>Postpaid Subs Share : TMH</td>\n",
       "      <td>...</td>\n",
       "      <td>1.795463</td>\n",
       "      <td>None</td>\n",
       "      <td>None</td>\n",
       "      <td>NaN</td>\n",
       "      <td>NaN</td>\n",
       "      <td>None</td>\n",
       "      <td>None</td>\n",
       "      <td>None</td>\n",
       "      <td>None</td>\n",
       "      <td>2024-06-07 11:55:57</td>\n",
       "    </tr>\n",
       "    <tr>\n",
       "      <th>556893</th>\n",
       "      <td>20240606</td>\n",
       "      <td>2024023</td>\n",
       "      <td>202406</td>\n",
       "      <td>20242</td>\n",
       "      <td>2024</td>\n",
       "      <td>Revenue</td>\n",
       "      <td>Postpaid</td>\n",
       "      <td>ALL</td>\n",
       "      <td>Subs</td>\n",
       "      <td>Postpaid %NAD 30DPDB2</td>\n",
       "      <td>...</td>\n",
       "      <td>NaN</td>\n",
       "      <td>None</td>\n",
       "      <td>None</td>\n",
       "      <td>NaN</td>\n",
       "      <td>NaN</td>\n",
       "      <td>None</td>\n",
       "      <td>None</td>\n",
       "      <td>None</td>\n",
       "      <td>None</td>\n",
       "      <td>2024-06-07 11:55:57</td>\n",
       "    </tr>\n",
       "    <tr>\n",
       "      <th>556894</th>\n",
       "      <td>20240606</td>\n",
       "      <td>2024023</td>\n",
       "      <td>202406</td>\n",
       "      <td>20242</td>\n",
       "      <td>2024</td>\n",
       "      <td>Revenue</td>\n",
       "      <td>Postpaid</td>\n",
       "      <td>DTAC</td>\n",
       "      <td>Sales</td>\n",
       "      <td>Postpaid Inflow M1</td>\n",
       "      <td>...</td>\n",
       "      <td>-16.022650</td>\n",
       "      <td>None</td>\n",
       "      <td>None</td>\n",
       "      <td>NaN</td>\n",
       "      <td>NaN</td>\n",
       "      <td>None</td>\n",
       "      <td>None</td>\n",
       "      <td>None</td>\n",
       "      <td>None</td>\n",
       "      <td>2024-06-07 11:55:57</td>\n",
       "    </tr>\n",
       "  </tbody>\n",
       "</table>\n",
       "<p>5 rows × 46 columns</p>\n",
       "</div>"
      ],
      "text/plain": [
       "        TM_KEY_DAY  TM_KEY_WK  TM_KEY_MTH  TM_KEY_QTR  TM_KEY_YR   CENTER  \\\n",
       "556890    20240606    2024023      202406       20242       2024  Revenue   \n",
       "556891    20240606    2024023      202406       20242       2024  Revenue   \n",
       "556892    20240606    2024023      202406       20242       2024  Revenue   \n",
       "556893    20240606    2024023      202406       20242       2024  Revenue   \n",
       "556894    20240606    2024023      202406       20242       2024  Revenue   \n",
       "\n",
       "       PRODUCT_GRP COMP_CD    METRIC_GRP                 METRIC_NAME_GROUP  \\\n",
       "556890    Postpaid    TRUE          Subs             Postpaid %NAD 30DPDB2   \n",
       "556891        None    TRUE  Market Share  Broadband Subs Share : AIS Fibre   \n",
       "556892        None    TRUE  Market Share         Postpaid Subs Share : TMH   \n",
       "556893    Postpaid     ALL          Subs             Postpaid %NAD 30DPDB2   \n",
       "556894    Postpaid    DTAC         Sales                Postpaid Inflow M1   \n",
       "\n",
       "        ... QOQ_PERCENT   YOY YOY_PERCENT  RR RR_ACH   WTD   MTD   QTD   YTD  \\\n",
       "556890  ...         NaN  None        None NaN    NaN  None  None  None  None   \n",
       "556891  ...    1.602720  None        None NaN    NaN  None  None  None  None   \n",
       "556892  ...    1.795463  None        None NaN    NaN  None  None  None  None   \n",
       "556893  ...         NaN  None        None NaN    NaN  None  None  None  None   \n",
       "556894  ...  -16.022650  None        None NaN    NaN  None  None  None  None   \n",
       "\n",
       "                    PPN_TM  \n",
       "556890 2024-06-07 11:55:57  \n",
       "556891 2024-06-07 11:55:57  \n",
       "556892 2024-06-07 11:55:57  \n",
       "556893 2024-06-07 11:55:57  \n",
       "556894 2024-06-07 11:55:57  \n",
       "\n",
       "[5 rows x 46 columns]"
      ]
     },
     "execution_count": 9,
     "metadata": {},
     "output_type": "execute_result"
    }
   ],
   "source": [
    "df.tail()\n",
    "# df.columns\n",
    "# df.dtypes\n",
    "# df.describe()"
   ]
  },
  {
   "cell_type": "markdown",
   "metadata": {},
   "source": [
    "## Generate Output file"
   ]
  },
  {
   "cell_type": "code",
   "execution_count": 6,
   "metadata": {},
   "outputs": [
    {
     "name": "stdout",
     "output_type": "stream",
     "text": [
      "\n",
      "\"../data/raw/Agg_Perf_Nationwide-20240607.csv\" is generated\n"
     ]
    }
   ],
   "source": [
    "df.to_csv(f'{op_raw_file}', index=False, encoding='utf-8')\n",
    "\n",
    "print(f'\\n\"{op_raw_file}\" is generated')"
   ]
  },
  {
   "cell_type": "code",
   "execution_count": 7,
   "metadata": {},
   "outputs": [
    {
     "data": {
      "text/plain": [
       "0"
      ]
     },
     "execution_count": 7,
     "metadata": {},
     "output_type": "execute_result"
    }
   ],
   "source": [
    "os.chdir('../data/raw')\n",
    "# cmd_cwd = os.getcwd()\n",
    "# cmd_cwd\n",
    "\n",
    "# cmd_rm = f'rm *.tar.gz'\n",
    "# os.system(cmd_rm)\n",
    "# cmd_rm\n",
    "\n",
    "# Remove old files\n",
    "old_files = glob.glob('Agg_Perf_Nationwide*.tar.gz')\n",
    "for file in old_files:\n",
    "    os.remove(file)\n",
    "\n",
    "# Add tar.gz\n",
    "cmd_tar = f'Tar -cvzf {op_file_name}.tar.gz {op_file_name}.csv'\n",
    "os.system(cmd_tar)"
   ]
  },
  {
   "cell_type": "markdown",
   "metadata": {},
   "source": [
    "### Manual Step"
   ]
  },
  {
   "cell_type": "code",
   "execution_count": 8,
   "metadata": {},
   "outputs": [
    {
     "data": {
      "text/plain": [
       "'Agg_Perf_Nationwide-20240607'"
      ]
     },
     "execution_count": 8,
     "metadata": {},
     "output_type": "execute_result"
    }
   ],
   "source": [
    "op_file_name\n",
    "\n",
    "# cd data/raw\n",
    "# Tar -cvzf Agg_Perf_Nationwide-20240604.tar.gz Agg_Perf_Nationwide-20240604.csv"
   ]
  }
 ],
 "metadata": {
  "kernelspec": {
   "display_name": "py310",
   "language": "python",
   "name": "python3"
  },
  "language_info": {
   "codemirror_mode": {
    "name": "ipython",
    "version": 3
   },
   "file_extension": ".py",
   "mimetype": "text/x-python",
   "name": "python",
   "nbconvert_exporter": "python",
   "pygments_lexer": "ipython3",
   "version": "3.10.13"
  }
 },
 "nbformat": 4,
 "nbformat_minor": 2
}
