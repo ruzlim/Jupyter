{
 "cells": [
  {
   "cell_type": "markdown",
   "metadata": {},
   "source": [
    "# * ETL-Actual MKS : Broadband\n",
    "    (P, G, H, HH, Z) level"
   ]
  },
  {
   "cell_type": "markdown",
   "metadata": {},
   "source": [
    "## Parameter"
   ]
  },
  {
   "cell_type": "code",
   "execution_count": 1,
   "metadata": {},
   "outputs": [],
   "source": [
    "import configparser\n",
    "import datetime as dt\n",
    "import pandas as pd\n",
    "import numpy as np\n",
    "import oracledb\n",
    "import re\n",
    "import FN_Actual_MKS_Broadband as fn\n",
    "\n",
    "config = configparser.ConfigParser()\n",
    "config.read('../../../my_config.ini')\n",
    "config.sections()\n",
    "\n",
    "TDMDBPR_user = config['TDMDBPR']['username']\n",
    "TDMDBPR_pwd = config['TDMDBPR']['password']\n",
    "TDMDBPR_db = config['TDMDBPR']['db']\n",
    "TDMDBPR_host = config['TDMDBPR']['host']\n",
    "TDMDBPR_port = config['TDMDBPR']['port']\n",
    "\n",
    "AKPIPRD_user = config['AKPIPRD']['username']\n",
    "AKPIPRD_pwd = config['AKPIPRD']['password']\n",
    "AKPIPRD_db = config['AKPIPRD']['db']\n",
    "AKPIPRD_host = config['AKPIPRD']['host']\n",
    "AKPIPRD_port = config['AKPIPRD']['port']\n",
    "\n",
    "curr_dt = dt.datetime.now().date()\n",
    "next_week_dt = curr_dt + dt.timedelta(days=7)\n",
    "str_curr_dt = curr_dt.strftime('%Y%m%d')\n",
    "str_next_week_dt = next_week_dt.strftime('%Y%m%d')\n",
    "yyyymm_curr = curr_dt.strftime('%Y%m')\n",
    "yyyymm_next_week = next_week_dt.strftime('%Y%m')"
   ]
  },
  {
   "cell_type": "markdown",
   "metadata": {},
   "source": [
    "### Lasted Source Summary"
   ]
  },
  {
   "cell_type": "code",
   "execution_count": 2,
   "metadata": {},
   "outputs": [
    {
     "name": "stdout",
     "output_type": "stream",
     "text": [
      "\n",
      "   TM_KEY_MTH         TOTAL      TOL           3BB           AIS            NT\n",
      "0      202401  8.392163e+06  3062361  2.206741e+06  1.703305e+06  1.419756e+06\n",
      "1      202402  8.399105e+06  3065282  2.197017e+06  1.716028e+06  1.420779e+06\n",
      "2      202403  8.414203e+06  3072991  2.187215e+06  1.732168e+06  1.421829e+06\n",
      "3      202404  8.422602e+06  3073168  2.177393e+06  1.749183e+06  1.422858e+06\n",
      "4      202405  8.439795e+06  3082458  2.167565e+06  1.765884e+06  1.423888e+06\n"
     ]
    }
   ],
   "source": [
    "# Connect : TDMDBPR\n",
    "src_dsn = f'{TDMDBPR_user}/{TDMDBPR_pwd}@{TDMDBPR_host}:{TDMDBPR_port}/{TDMDBPR_db}'\n",
    "src_conn = oracledb.connect(src_dsn)\n",
    "# print(f'\\n{TDMDBPR_db} : Connected')\n",
    "src_cur = src_conn.cursor()\n",
    "\n",
    "\n",
    "try:\n",
    "    src_cur.execute(\"\"\"\n",
    "        SELECT TM_KEY_MTH\n",
    "            , SUM(SUBS) TOTAL\n",
    "            , SUM(CASE WHEN ISP = 'TOL' THEN SUBS END) TOL\n",
    "            , SUM(CASE WHEN ISP = '3BB' THEN SUBS END) \"3BB\"\n",
    "            , SUM(CASE WHEN ISP = 'AIS' THEN SUBS END) AIS\n",
    "            , SUM(CASE WHEN ISP IN ('CAT', 'TOT') THEN SUBS END) NT\n",
    "        FROM CORPNSBOX.FCT_BB_SHARE_SUBS_CCAATT A\n",
    "        WHERE TM_KEY_MTH >= 202401\n",
    "        --WHERE TM_KEY_MTH = (SELECT MAX(TM_KEY_MTH) FROM CORPNSBOX.FCT_BB_SHARE_SUBS_CCAATT NOLOCK)\n",
    "        AND EXISTS (SELECT 1 FROM CDSAPPO.DIM_MOOC_AREA O\n",
    "\t\t\t        WHERE O.REMARK <> 'Dummy'\n",
    "\t\t\t        AND O.CCAATT = A.CCAATT)\n",
    "        GROUP BY TM_KEY_MTH\n",
    "        ORDER BY 1\n",
    "    \"\"\")\n",
    "    rows = src_cur.fetchall()\n",
    "    # print(f'\\nCurrent Source Summary...')\n",
    "    chk_src_df = pd.DataFrame.from_records(rows, columns=[x[0] for x in src_cur.description])\n",
    "    # chk_src_df['DATA'] = 'Source'\n",
    "    mod_col_list = chk_src_df.iloc[:, 1:6].columns.tolist()\n",
    "    # for col in mod_col_list:\n",
    "    #     chk_src_df[col] = chk_src_df[col].apply(lambda x: format(x, ',.0f'))\n",
    "    print(f'\\n{chk_src_df}')\n",
    "\n",
    "\n",
    "except oracledb.DatabaseError as e:\n",
    "    print(f'\\nError with Oracle : {e}')\n",
    "\n",
    "\n",
    "finally:\n",
    "    src_conn.close()\n",
    "    # print(f'\\n{TDMDBPR_db} : Disconnected')"
   ]
  },
  {
   "cell_type": "markdown",
   "metadata": {},
   "source": [
    "### Lasted Fact Summary"
   ]
  },
  {
   "cell_type": "code",
   "execution_count": 3,
   "metadata": {},
   "outputs": [
    {
     "name": "stdout",
     "output_type": "stream",
     "text": [
      "\n",
      "   TM_KEY_MTH         TOTAL      TOL           3BB           AIS            NT\n",
      "0      202401  8.392163e+06  3062361  2.206741e+06  1.703305e+06  1.419756e+06\n",
      "1      202402  8.399105e+06  3065282  2.197017e+06  1.716028e+06  1.420779e+06\n",
      "2      202403  8.414203e+06  3072991  2.187215e+06  1.732168e+06  1.421829e+06\n",
      "3      202404  8.422602e+06  3073168  2.177393e+06  1.749183e+06  1.422858e+06\n",
      "4      202405  8.439795e+06  3082458  2.167565e+06  1.765884e+06  1.423888e+06\n"
     ]
    }
   ],
   "source": [
    "# Connect : AKPIPRD\n",
    "tgt_dsn = f'{AKPIPRD_user}/{AKPIPRD_pwd}@{AKPIPRD_host}:{AKPIPRD_port}/{AKPIPRD_db}'\n",
    "tgt_conn = oracledb.connect(tgt_dsn)\n",
    "# print(f'\\n{AKPIPRD_db} : Connected')\n",
    "tgt_cur = tgt_conn.cursor()\n",
    "\n",
    "\n",
    "try:\n",
    "    tgt_cur.execute(\"\"\"\n",
    "        SELECT TM_KEY_MTH\n",
    "            , SUM(CASE WHEN METRIC_CD IN ('VIN00025', 'VIN00026', 'VIN00027', 'VIN00028') THEN METRIC_VALUE END) TOTAL\n",
    "            , SUM(CASE WHEN METRIC_CD = 'VIN00025' THEN METRIC_VALUE END) TOL\n",
    "            , SUM(CASE WHEN METRIC_CD = 'VIN00026' THEN METRIC_VALUE END) \"3BB\"\n",
    "            , SUM(CASE WHEN METRIC_CD = 'VIN00027' THEN METRIC_VALUE END) AIS\n",
    "            , SUM(CASE WHEN METRIC_CD = 'VIN00028' THEN METRIC_VALUE END) NT\n",
    "            --, MAX(LOAD_DATE) LOAD_DATE\n",
    "        FROM AUTOKPI.FCT_BROADBAND_MKS NOLOCK\n",
    "        WHERE TM_KEY_MTH >= 202401 --AND TM_KEY_MTH <= 202404\n",
    "        --WHERE TM_KEY_MTH = 202403\n",
    "        --WHERE TM_KEY_MTH = (SELECT MAX(TM_KEY_MTH) FROM AUTOKPI.FCT_BROADBAND_MKS NOLOCK WHERE REMARK IS NULL)\n",
    "        AND TM_KEY_DAY LIKE '%01'\n",
    "        AND AREA_TYPE = 'P'\n",
    "        AND REMARK IS NULL\n",
    "        GROUP BY TM_KEY_MTH\n",
    "        ORDER BY 1\n",
    "    \"\"\")\n",
    "    rows = tgt_cur.fetchall()\n",
    "    # print(f'\\nCurrent Fact Summary...')\n",
    "    chk_tgt_df = pd.DataFrame.from_records(rows, columns=[x[0] for x in tgt_cur.description])\n",
    "    # chk_tgt_df['DATA'] = 'Fact'\n",
    "    mod_col_list = chk_tgt_df.iloc[:, 1:6].columns.tolist()\n",
    "    # for col in mod_col_list:\n",
    "    #     chk_tgt_df[col] = chk_tgt_df[col].apply(lambda x: format(x, ',.0f'))\n",
    "    print(f'\\n{chk_tgt_df}')\n",
    "\n",
    "\n",
    "except oracledb.DatabaseError as e:\n",
    "    print(f'\\nError with Oracle : {e}')\n",
    "\n",
    "\n",
    "finally:\n",
    "    tgt_conn.close()\n",
    "    # print(f'\\n{AKPIPRD_db} : Disconnected')"
   ]
  },
  {
   "cell_type": "markdown",
   "metadata": {},
   "source": [
    "### Check Diff Summary"
   ]
  },
  {
   "cell_type": "code",
   "execution_count": 4,
   "metadata": {},
   "outputs": [
    {
     "data": {
      "text/html": [
       "<div>\n",
       "<style scoped>\n",
       "    .dataframe tbody tr th:only-of-type {\n",
       "        vertical-align: middle;\n",
       "    }\n",
       "\n",
       "    .dataframe tbody tr th {\n",
       "        vertical-align: top;\n",
       "    }\n",
       "\n",
       "    .dataframe thead th {\n",
       "        text-align: right;\n",
       "    }\n",
       "</style>\n",
       "<table border=\"1\" class=\"dataframe\">\n",
       "  <thead>\n",
       "    <tr style=\"text-align: right;\">\n",
       "      <th></th>\n",
       "      <th>self</th>\n",
       "      <th>other</th>\n",
       "      <th>diff</th>\n",
       "    </tr>\n",
       "  </thead>\n",
       "  <tbody>\n",
       "  </tbody>\n",
       "</table>\n",
       "</div>"
      ],
      "text/plain": [
       "Empty DataFrame\n",
       "Columns: [self, other, diff]\n",
       "Index: []"
      ]
     },
     "execution_count": 4,
     "metadata": {},
     "output_type": "execute_result"
    }
   ],
   "source": [
    "chk_diff_df = chk_src_df.iloc[-1].compare(chk_tgt_df.iloc[-1])\n",
    "chk_diff_df['diff'] = chk_diff_df['self'] - chk_diff_df['other']\n",
    "mod_col_list = chk_diff_df.columns.tolist()\n",
    "for col in mod_col_list:\n",
    "    chk_diff_df[col] = chk_diff_df[col].apply(lambda x: format(x, ',.0f'))\n",
    "\n",
    "chk_diff_df"
   ]
  },
  {
   "cell_type": "markdown",
   "metadata": {},
   "source": [
    "### Input Parameter"
   ]
  },
  {
   "cell_type": "code",
   "execution_count": 5,
   "metadata": {},
   "outputs": [
    {
     "name": "stdout",
     "output_type": "stream",
     "text": [
      "v_update_flag: N\n",
      "yyyymm_next_week: 202407\n",
      "v_mth_end_src: 202405.0\n",
      "v_mth_end_fct: 202405.0\n",
      "v_prev_mth_fct: 202404.0\n"
     ]
    }
   ],
   "source": [
    "# v_update_flag = 'Y' # Test\n",
    "\n",
    "v_update_flag = 'Y' if chk_diff_df.size > 0 else 'N'\n",
    "v_mth_end_src = chk_src_df['TM_KEY_MTH'].max().astype(float)\n",
    "v_mth_end_fct = chk_tgt_df['TM_KEY_MTH'].max().astype(float)\n",
    "v_mth_end_fct_year = pd.to_datetime(v_mth_end_fct, format='%Y%m').year\n",
    "v_mth_end_fct_month = pd.to_datetime(v_mth_end_fct, format='%Y%m').month\n",
    "v_prev_mth_fct = v_mth_end_fct-1 if v_mth_end_fct_month != 1 else float(str(v_mth_end_fct_year-1)+str(12))\n",
    "\n",
    "print(f'v_update_flag: {v_update_flag}')\n",
    "print(f'yyyymm_next_week: {yyyymm_next_week}')\n",
    "print(f'v_mth_end_src: {v_mth_end_src}')\n",
    "print(f'v_mth_end_fct: {v_mth_end_fct}')\n",
    "print(f'v_prev_mth_fct: {v_prev_mth_fct}')"
   ]
  },
  {
   "cell_type": "markdown",
   "metadata": {},
   "source": [
    "## ETL Process..."
   ]
  },
  {
   "cell_type": "markdown",
   "metadata": {},
   "source": [
    "### DB source to DB Target\n",
    "    Delete -> Insert\n",
    "\n",
    "    Source : CORPNSBOX.FCT_BB_SHARE_SUBS_CCAATT\n",
    "             CDSAPPO.DIM_MOOC_AREA\n",
    "             CDSAPPO.DIM_TIME\n",
    "    \n",
    "    Target : AUTOKPI.FCT_BROADBAND_MKS"
   ]
  },
  {
   "cell_type": "code",
   "execution_count": 6,
   "metadata": {},
   "outputs": [
    {
     "name": "stdout",
     "output_type": "stream",
     "text": [
      "\n",
      "Job Start... 2024-06-24, 12:25:00\n",
      "\n",
      "*** Last Fact mockup to next month ***\n",
      "mth_end_fct: 202405.0\n",
      "target_schema: AUTOKPI\n",
      "target_table: FCT_BROADBAND_MKS\n",
      "sql_mockup_fact: Mock-FCT_BROADBAND_MKS.sql\n",
      "v_param: {'mth_end_fct': 202405.0}\n",
      "\n",
      "AKPIPRD : Connected\n",
      "\n",
      "Processing...\n",
      "\n",
      "   -> DELETE : \"FCT_BROADBAND_MKS\" : Done !\n",
      "\n",
      "   -> INSERT : \"FCT_BROADBAND_MKS\" : Done !\n",
      "\n",
      "AKPIPRD : Disconnected\n",
      "\n",
      "Job Done !!!\n"
     ]
    }
   ],
   "source": [
    "# Create Param\n",
    "v_target_schema = 'AUTOKPI'\n",
    "v_target_table = 'FCT_BROADBAND_MKS'\n",
    "v_sql_rawdata_fact = 'Raw-FCT_BROADBAND_MKS.sql'\n",
    "v_sql_mockup_fact = 'Mock-FCT_BROADBAND_MKS.sql'\n",
    "\n",
    "job_start_datetime = dt.datetime.now().strftime('%Y-%m-%d, %H:%M:%S')\n",
    "print(f'\\nJob Start... {job_start_datetime}')\n",
    "\n",
    "\n",
    "# Process flow\n",
    "if v_update_flag == 'Y':\n",
    "    if yyyymm_next_week > str(v_mth_end_fct):\n",
    "        print(f'\\n*** Source update & mockup to next month Fact ***')\n",
    "        fn.src_update_to_fact(v_mth_end_fct, v_target_schema, v_target_table, v_sql_rawdata_fact)\n",
    "    else:\n",
    "        print(f'\\n*** Source update current month Fact ***')\n",
    "        fn.src_update_to_fact(v_prev_mth_fct, v_target_schema, v_target_table, v_sql_rawdata_fact)\n",
    "\n",
    "elif v_update_flag == 'N':\n",
    "    if yyyymm_next_week > str(v_mth_end_fct):\n",
    "        print(f'\\n*** Last Fact mockup to next month ***')\n",
    "        fn.mockup_to_fact(v_mth_end_fct, v_target_schema, v_target_table, v_sql_mockup_fact)\n",
    "    else:\n",
    "        print(f'\\n*** Not update ***')"
   ]
  },
  {
   "cell_type": "code",
   "execution_count": 7,
   "metadata": {},
   "outputs": [
    {
     "ename": "NameError",
     "evalue": "name 'src_df' is not defined",
     "output_type": "error",
     "traceback": [
      "\u001b[1;31m---------------------------------------------------------------------------\u001b[0m",
      "\u001b[1;31mNameError\u001b[0m                                 Traceback (most recent call last)",
      "Cell \u001b[1;32mIn[7], line 5\u001b[0m\n\u001b[0;32m      1\u001b[0m \u001b[38;5;124;03m''' Example DataFrame '''\u001b[39;00m\n\u001b[0;32m      3\u001b[0m \u001b[38;5;66;03m# tmp_df = src_df.groupby(['VERSION', 'COMP_CD', 'METRIC_CD', 'METRIC_NAME']).agg({'METRIC_VALUE': 'mean', 'TM_KEY_MTH': 'nunique', 'AREA_TYPE': 'nunique', 'AREA_CD': 'nunique'}).reset_index()\u001b[39;00m\n\u001b[0;32m      4\u001b[0m \u001b[38;5;66;03m# tmp_df = src_df.groupby(['VERSION', 'COMP_CD', 'METRIC_CD', 'METRIC_NAME']).agg({'TM_KEY_MTH': ['min','max'], 'METRIC_VALUE': 'mean', 'AREA_TYPE': 'nunique', 'AREA_CD': 'nunique'}).reset_index()\u001b[39;00m\n\u001b[1;32m----> 5\u001b[0m tmp_df \u001b[38;5;241m=\u001b[39m \u001b[43msrc_df\u001b[49m\u001b[38;5;241m.\u001b[39mgroupby([\u001b[38;5;124m'\u001b[39m\u001b[38;5;124mVERSION\u001b[39m\u001b[38;5;124m'\u001b[39m, \u001b[38;5;124m'\u001b[39m\u001b[38;5;124mCOMP_CD\u001b[39m\u001b[38;5;124m'\u001b[39m, \u001b[38;5;124m'\u001b[39m\u001b[38;5;124mMETRIC_CD\u001b[39m\u001b[38;5;124m'\u001b[39m, \u001b[38;5;124m'\u001b[39m\u001b[38;5;124mMETRIC_NAME\u001b[39m\u001b[38;5;124m'\u001b[39m])\u001b[38;5;241m.\u001b[39magg({\u001b[38;5;124m'\u001b[39m\u001b[38;5;124mTM_KEY_DAY\u001b[39m\u001b[38;5;124m'\u001b[39m: [\u001b[38;5;124m'\u001b[39m\u001b[38;5;124mmin\u001b[39m\u001b[38;5;124m'\u001b[39m,\u001b[38;5;124m'\u001b[39m\u001b[38;5;124mmax\u001b[39m\u001b[38;5;124m'\u001b[39m], \u001b[38;5;124m'\u001b[39m\u001b[38;5;124mMETRIC_VALUE\u001b[39m\u001b[38;5;124m'\u001b[39m: \u001b[38;5;124m'\u001b[39m\u001b[38;5;124mmean\u001b[39m\u001b[38;5;124m'\u001b[39m, \u001b[38;5;124m'\u001b[39m\u001b[38;5;124mAREA_TYPE\u001b[39m\u001b[38;5;124m'\u001b[39m: \u001b[38;5;124m'\u001b[39m\u001b[38;5;124mnunique\u001b[39m\u001b[38;5;124m'\u001b[39m, \u001b[38;5;124m'\u001b[39m\u001b[38;5;124mAREA_CD\u001b[39m\u001b[38;5;124m'\u001b[39m: \u001b[38;5;124m'\u001b[39m\u001b[38;5;124mnunique\u001b[39m\u001b[38;5;124m'\u001b[39m})\u001b[38;5;241m.\u001b[39mreset_index()\n\u001b[0;32m      6\u001b[0m tmp_df\n",
      "\u001b[1;31mNameError\u001b[0m: name 'src_df' is not defined"
     ]
    }
   ],
   "source": [
    "''' Example DataFrame '''\n",
    "\n",
    "# tmp_df = src_df.groupby(['VERSION', 'COMP_CD', 'METRIC_CD', 'METRIC_NAME']).agg({'METRIC_VALUE': 'mean', 'TM_KEY_MTH': 'nunique', 'AREA_TYPE': 'nunique', 'AREA_CD': 'nunique'}).reset_index()\n",
    "# tmp_df = src_df.groupby(['VERSION', 'COMP_CD', 'METRIC_CD', 'METRIC_NAME']).agg({'TM_KEY_MTH': ['min','max'], 'METRIC_VALUE': 'mean', 'AREA_TYPE': 'nunique', 'AREA_CD': 'nunique'}).reset_index()\n",
    "tmp_df = src_df.groupby(['VERSION', 'COMP_CD', 'METRIC_CD', 'METRIC_NAME']).agg({'TM_KEY_DAY': ['min','max'], 'METRIC_VALUE': 'mean', 'AREA_TYPE': 'nunique', 'AREA_CD': 'nunique'}).reset_index()\n",
    "tmp_df"
   ]
  }
 ],
 "metadata": {
  "kernelspec": {
   "display_name": "py310",
   "language": "python",
   "name": "python3"
  },
  "language_info": {
   "codemirror_mode": {
    "name": "ipython",
    "version": 3
   },
   "file_extension": ".py",
   "mimetype": "text/x-python",
   "name": "python",
   "nbconvert_exporter": "python",
   "pygments_lexer": "ipython3",
   "version": "3.11.4"
  }
 },
 "nbformat": 4,
 "nbformat_minor": 2
}
