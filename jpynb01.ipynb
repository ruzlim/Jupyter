{
 "cells": [
  {
   "attachments": {},
   "cell_type": "markdown",
   "metadata": {},
   "source": [
    "# Demo"
   ]
  },
  {
   "cell_type": "code",
   "execution_count": 1,
   "metadata": {},
   "outputs": [
    {
     "name": "stdout",
     "output_type": "stream",
     "text": [
      "Hello Ruzlim!\n"
     ]
    }
   ],
   "source": [
    "print(\"Hello Ruzlim!\")"
   ]
  },
  {
   "cell_type": "code",
   "execution_count": 2,
   "metadata": {},
   "outputs": [
    {
     "name": "stdout",
     "output_type": "stream",
     "text": [
      "\n",
      "lib_dir = c:\\Users\\Narut4\\coding\\Lib\n",
      "\n",
      "\n",
      "i : c:\\Users\\Narut4\\coding\\Jupyter\n",
      "i : c:\\Users\\Narut4\\AppData\\Local\\miniconda3\\envs\\py310\\python311.zip\n",
      "i : c:\\Users\\Narut4\\AppData\\Local\\miniconda3\\envs\\py310\\DLLs\n",
      "i : c:\\Users\\Narut4\\AppData\\Local\\miniconda3\\envs\\py310\\Lib\n",
      "i : c:\\Users\\Narut4\\AppData\\Local\\miniconda3\\envs\\py310\n",
      "i : \n",
      "i : c:\\Users\\Narut4\\AppData\\Local\\miniconda3\\envs\\py310\\Lib\\site-packages\n",
      "i : c:\\Users\\Narut4\\AppData\\Local\\miniconda3\\envs\\py310\\Lib\\site-packages\\win32\n",
      "i : c:\\Users\\Narut4\\AppData\\Local\\miniconda3\\envs\\py310\\Lib\\site-packages\\win32\\lib\n",
      "i : c:\\Users\\Narut4\\AppData\\Local\\miniconda3\\envs\\py310\\Lib\\site-packages\\Pythonwin\n",
      "i : c:\\Users\\Narut4\\coding\\Lib\n",
      "\n",
      "pd : <module 'pandas' from 'c:\\\\Users\\\\Narut4\\\\AppData\\\\Local\\\\miniconda3\\\\envs\\\\py310\\\\Lib\\\\site-packages\\\\pandas\\\\__init__.py'>\n",
      "\n",
      "\n",
      "i, factor: 0, 0.9\n",
      "i, factor: 1, 0.95\n",
      "i, factor: 2, 1\n",
      "i, factor: 3, 1.05\n",
      "i, factor: 4, 1.1\n"
     ]
    }
   ],
   "source": [
    "import os\n",
    "import sys\n",
    "\n",
    "lib_dir = os.path.join(os.path.dirname(os.getcwd()), 'Lib')\n",
    "sys.path.append(lib_dir)\n",
    "\n",
    "print(f'\\nlib_dir = {lib_dir}')\n",
    "print('\\n')\n",
    "for i in sys.path:\n",
    "    print(f'i : {i}')\n",
    "\n",
    "import pandas as pd\n",
    "# import numpy as np\n",
    "# import datetime\n",
    "# import os\n",
    "# import argparse\n",
    "\n",
    "print(f'\\npd : {pd}')\n",
    "# print(f'\\nnp : {np}')\n",
    "\n",
    "print('\\n')\n",
    "for i, factor in enumerate([0.9, 0.95, 1, 1.05, 1.1]):\n",
    "    print(f'i, factor: {i}, {factor}')\n"
   ]
  },
  {
   "cell_type": "code",
   "execution_count": null,
   "metadata": {},
   "outputs": [],
   "source": []
  }
 ],
 "metadata": {
  "kernelspec": {
   "display_name": "py310",
   "language": "python",
   "name": "python3"
  },
  "language_info": {
   "codemirror_mode": {
    "name": "ipython",
    "version": 3
   },
   "file_extension": ".py",
   "mimetype": "text/x-python",
   "name": "python",
   "nbconvert_exporter": "python",
   "pygments_lexer": "ipython3",
   "version": "3.11.3"
  },
  "orig_nbformat": 4
 },
 "nbformat": 4,
 "nbformat_minor": 2
}
