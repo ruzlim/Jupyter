{
 "cells": [
  {
   "attachments": {},
   "cell_type": "markdown",
   "metadata": {},
   "source": [
    "# Demo"
   ]
  },
  {
   "cell_type": "code",
   "execution_count": null,
   "metadata": {},
   "outputs": [],
   "source": [
    "print(\"Hello Ruzlim!\")"
   ]
  },
  {
   "cell_type": "code",
   "execution_count": null,
   "metadata": {},
   "outputs": [],
   "source": [
    "import os\n",
    "import sys\n",
    "import pandas as pd\n",
    "import numpy as np\n",
    "import datetime as dt\n",
    "import argparse as ap\n",
    "import openpyxl\n",
    "\n",
    "# lib_dir = ''\n",
    "lib_dir = os.path.join(os.path.dirname(os.getcwd()), 'Lib')\n",
    "# sys.path.clear()\n",
    "# sys.path.append(lib_dir)\n",
    "\n",
    "print(f'\\nlib_dir = {lib_dir}')\n",
    "print(f'sys.path : {sys.path}')\n",
    "print('\\n')\n",
    "for i in sys.path:\n",
    "    print(f'i : {i}')\n",
    "\n",
    "print(f'\\npd : {pd}')\n",
    "print(f'\\nnp : {np}')\n",
    "print(f'\\ndt : {dt}')\n",
    "print(f'\\nap : {ap}')\n",
    "print(f'\\nopenpyxl : {openpyxl}')\n",
    "\n",
    "print('\\n')\n",
    "for i, factor in enumerate([0.9, 0.95, 1, 1.05, 1.1]):\n",
    "    print(f'i, factor: {i}, {factor}')\n"
   ]
  },
  {
   "cell_type": "code",
   "execution_count": null,
   "metadata": {},
   "outputs": [],
   "source": [
    "import cx_Oracle\n",
    "import pandas as pd\n",
    "\n",
    "print(f'\\ncx_Oracle.version :{cx_Oracle.version}')\n",
    "\n",
    "# cx_Oracle.clientversion()\n",
    "# cx_Oracle.init_oracle_client(lib_dir=\"C:\\Oracle\\Ora11\\product\\11.2.0.4\\client_1\")\n",
    "# cx_Oracle.init_oracle_client(lib_dir=\"C:\\Instantclient\\instantclient_21_10\")\n",
    "\n",
    "# AIMD2CDB\n",
    "# conStr = 'NARUT_E01044451/v9VzR8xsuwp#tyTb@TDM-scan.dc2.true.th:1521/TDMDBPR'\n",
    "conStr = 'AUTOKPI/SNRpAssw0rd#001@172.16.54.52:1555/AKPIPRD'\n",
    "conn = cx_Oracle.connect(conStr)\n",
    "cur = conn.cursor()\n",
    "\n",
    "# sqlTxt = \"select sys_context('AUTOKPI','AKPIPRD') from dual\"\n",
    "# cur.execute(sqlTxt)\n",
    "\n",
    "# sqlTxt = \"SELECT * FROM AUTOKPI.TARGET_BILL_CYCLE_DAILY WHERE TM_KEY_DAY = 20230501\"\n",
    "# cur.execute(sqlTxt)\n",
    "# sqlTxt = \"SELECT * FROM AUTOKPI.TARGET_BILL_CYCLE_DAILY WHERE TM_KEY_DAY =:1\"\n",
    "# cur.execute(sqlTxt, ('20230501',))\n",
    "sqlTxt = \"SELECT * FROM AUTOKPI.DIM_MOOC_AREA WHERE ROWNUM <= :1\"\n",
    "cur.execute(sqlTxt, ('100',))\n",
    "\n",
    "# print(f'\\ndesctiption :\\n{cur.description}')\n",
    "\n",
    "rows = cur.fetchall()\n",
    "# print(f'\\nrows :\\n{rows}')\n",
    "# print(f'rows :', cur.rowcount)\n",
    "# TM_KEY_YR, TM_KEY_MTH, TRUE_TM_KEY_WK, TM_KEY_DAY, DAYS_IN_MONTH, PERIODFLAG, METRIC_CD, METRIC_NAME, METRIC_GRP, METRIC_VALUE, COMP_CD, VERSION, AREA_CD, AREA_DESC, AREA_TYPE, LOAD_DATE, REMARK\n",
    "\n",
    "df = pd.DataFrame.from_records(rows, columns=[x[0] for x in cur.description])\n",
    "print(f'\\ndf :\\n{df}')\n",
    "\n",
    "cur.close()\n",
    "conn.close()\n"
   ]
  },
  {
   "cell_type": "code",
   "execution_count": null,
   "metadata": {},
   "outputs": [],
   "source": []
  }
 ],
 "metadata": {
  "kernelspec": {
   "display_name": "py310",
   "language": "python",
   "name": "python3"
  },
  "language_info": {
   "codemirror_mode": {
    "name": "ipython",
    "version": 3
   },
   "file_extension": ".py",
   "mimetype": "text/x-python",
   "name": "python",
   "nbconvert_exporter": "python",
   "pygments_lexer": "ipython3",
   "version": "3.10.11"
  },
  "orig_nbformat": 4
 },
 "nbformat": 4,
 "nbformat_minor": 2
}
