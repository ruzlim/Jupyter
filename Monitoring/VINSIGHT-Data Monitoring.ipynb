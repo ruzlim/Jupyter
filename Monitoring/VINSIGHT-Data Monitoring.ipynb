{
 "cells": [
  {
   "cell_type": "markdown",
   "metadata": {},
   "source": [
    "# * VINSIGHT : Data Monitoring\n",
    "    Process required -> \"ETL-AGG_PERF_NEWCO_SNAP\""
   ]
  },
  {
   "cell_type": "markdown",
   "metadata": {},
   "source": [
    "## Parameter"
   ]
  },
  {
   "cell_type": "code",
   "execution_count": 1,
   "metadata": {},
   "outputs": [],
   "source": [
    "import os\n",
    "import glob\n",
    "import configparser\n",
    "import datetime as dt\n",
    "import pandas as pd\n",
    "import numpy as np\n",
    "import xlrd\n",
    "import oracledb"
   ]
  },
  {
   "cell_type": "code",
   "execution_count": 2,
   "metadata": {},
   "outputs": [
    {
     "data": {
      "text/plain": [
       "datetime.date(2024, 6, 16)"
      ]
     },
     "execution_count": 2,
     "metadata": {},
     "output_type": "execute_result"
    }
   ],
   "source": [
    "config = configparser.ConfigParser()\n",
    "config.read('../my_config.ini')\n",
    "config.sections()\n",
    "\n",
    "TDMDBPR_user = config['TDMDBPR']['username']\n",
    "TDMDBPR_pwd = config['TDMDBPR']['password']\n",
    "TDMDBPR_db = config['TDMDBPR']['db']\n",
    "TDMDBPR_host = config['TDMDBPR']['host']\n",
    "TDMDBPR_port = config['TDMDBPR']['port']\n",
    "\n",
    "AKPIPRD_user = config['AKPIPRD']['username']\n",
    "AKPIPRD_pwd = config['AKPIPRD']['password']\n",
    "AKPIPRD_db = config['AKPIPRD']['db']\n",
    "AKPIPRD_host = config['AKPIPRD']['host']\n",
    "AKPIPRD_port = config['AKPIPRD']['port']\n",
    "\n",
    "curr_dt = dt.datetime.now().date()\n",
    "str_curr_dt = curr_dt.strftime('%Y%m%d')\n",
    "curr_dt"
   ]
  },
  {
   "cell_type": "markdown",
   "metadata": {},
   "source": [
    "## Create DataFrame\n",
    "    from \"AGG_PERF_NEWCO_SNAP\""
   ]
  },
  {
   "cell_type": "code",
   "execution_count": 4,
   "metadata": {},
   "outputs": [
    {
     "name": "stdout",
     "output_type": "stream",
     "text": [
      "\n",
      "Connecting... AKPIPRD\n",
      "\n",
      "  -> Execute query... 2024-06-16, 16:01:52\n",
      "\n",
      "  -> DataFrame : 7188 rows, 19 columns\n",
      "\n",
      "AKPIPRD : Disconnected\n"
     ]
    }
   ],
   "source": [
    "# Create DataFrame\n",
    "\n",
    "dsn = f'{AKPIPRD_user}/{AKPIPRD_pwd}@{AKPIPRD_host}:{AKPIPRD_port}/{AKPIPRD_db}'\n",
    "conn = oracledb.connect(dsn)\n",
    "print(f'\\nConnecting... {AKPIPRD_db}')\n",
    "cur = conn.cursor()\n",
    "# v_date = (curr_dt, )\n",
    "\n",
    "query = \"\"\"\n",
    "    -->> Actual Monthly\n",
    "\n",
    "    SELECT TM_KEY_MTH, CENTER, METRIC_GRP, PRODUCT_GRP, COMP_CD, METRIC_CD, METRIC_NAME, CHANNEL_CD, AGG_TYPE, UOM\n",
    "        , CAST(SUM(CASE WHEN AREA_TYPE = 'P' THEN ACTUAL_TMP END) AS DECIMAL(18,2)) AS P_ACTUAL\n",
    "        , CAST(SUM(CASE WHEN AREA_TYPE = 'G' THEN ACTUAL_TMP END) AS DECIMAL(18,2)) AS G_ACTUAL\n",
    "        , CAST(SUM(CASE WHEN AREA_TYPE = 'H' THEN ACTUAL_TMP END) AS DECIMAL(18,2)) AS H_ACTUAL\n",
    "        , CAST(SUM(CASE WHEN AREA_TYPE = 'HH' THEN ACTUAL_TMP END) AS DECIMAL(18,2)) AS HH_ACTUAL\n",
    "        , MAX(ACTUAL_AS_OF) ACTUAL_AS_OF, MIN(TM_KEY_DAY) MIN_DAY, MAX(TM_KEY_DAY) MAX_DAY, MAX(PPN_TM) PPN_TM, MAX(LOAD_DATE) LOAD_DATE\n",
    "        \n",
    "    FROM (\n",
    "        SELECT TM_KEY_YR, TM_KEY_QTR, TM_KEY_MTH, TM_KEY_WK, TM_KEY_DAY\n",
    "            , CENTER, PRODUCT_GRP, COMP_CD, METRIC_GRP, METRIC_CD, METRIC_NAME, SEQ, ACTUAL_AS_OF, AGG_TYPE, RR_IND, GRY_IND, UOM, AREA_TYPE, AREA_CD, AREA_NAME\n",
    "            , CASE \tWHEN AGG_TYPE = 'S' THEN ACTUAL_SNAP \n",
    "                    ELSE (CASE WHEN TM_KEY_DAY = MAX(TM_KEY_DAY) OVER(PARTITION BY METRIC_CD, TM_KEY_MTH) THEN ACTUAL_AGG END)\n",
    "                    END ACTUAL_TMP\n",
    "            , CASE \tWHEN AGG_TYPE = 'S' THEN TARGET_SNAP \n",
    "                    ELSE (CASE WHEN TM_KEY_DAY = MAX(TM_KEY_DAY) OVER(PARTITION BY METRIC_CD, TM_KEY_MTH) THEN TARGET_AGG END)\n",
    "                    END TARGET_TMP\n",
    "            , ACTUAL_SNAP, TARGET_SNAP, BASELINE_SNAP, ACTUAL_AGG, TARGET_AGG, BASELINE_AGG, PPN_TM, LOAD_DATE\n",
    "            , CASE WHEN REGEXP_LIKE(METRIC_CD, '[0-9]A[A-K]$') THEN SUBSTR(METRIC_CD,-2) ELSE 'ALL' END CHANNEL_CD\n",
    "        FROM AUTOKPI.AGG_PERF_NEWCO_SNAP NOLOCK\n",
    "    ) TMP_MTH\n",
    "\n",
    "    --WHERE CHANNEL_CD = 'ALL'\n",
    "    GROUP BY TM_KEY_MTH, CENTER, METRIC_GRP, PRODUCT_GRP, COMP_CD, METRIC_CD, METRIC_NAME, CHANNEL_CD, AGG_TYPE, UOM\n",
    "    ORDER BY TM_KEY_MTH, CENTER, METRIC_GRP, PRODUCT_GRP, COMP_CD, METRIC_CD\n",
    "\"\"\"\n",
    "\n",
    "try:\n",
    "    execute_datetime = dt.datetime.now().strftime('%Y-%m-%d, %H:%M:%S')\n",
    "    print(f'\\n  -> Execute query... {execute_datetime}')\n",
    "    cur.execute(query)\n",
    "    rows = cur.fetchall()\n",
    "    df = pd.DataFrame.from_records(rows, columns=[x[0] for x in cur.description])\n",
    "    print(f'\\n  -> DataFrame : {df.shape[0]} rows, {df.shape[1]} columns')\n",
    "\n",
    "\n",
    "except oracledb.DatabaseError as e:\n",
    "    print(f'Error with Oracle : {e}')\n",
    "\n",
    "\n",
    "finally:\n",
    "    cur.close()\n",
    "    conn.close()\n",
    "    print(f'\\n{AKPIPRD_db} : Disconnected')\n"
   ]
  },
  {
   "cell_type": "code",
   "execution_count": 5,
   "metadata": {},
   "outputs": [
    {
     "data": {
      "text/html": [
       "<div>\n",
       "<style scoped>\n",
       "    .dataframe tbody tr th:only-of-type {\n",
       "        vertical-align: middle;\n",
       "    }\n",
       "\n",
       "    .dataframe tbody tr th {\n",
       "        vertical-align: top;\n",
       "    }\n",
       "\n",
       "    .dataframe thead th {\n",
       "        text-align: right;\n",
       "    }\n",
       "</style>\n",
       "<table border=\"1\" class=\"dataframe\">\n",
       "  <thead>\n",
       "    <tr style=\"text-align: right;\">\n",
       "      <th></th>\n",
       "      <th>TM_KEY_MTH</th>\n",
       "      <th>CENTER</th>\n",
       "      <th>METRIC_GRP</th>\n",
       "      <th>PRODUCT_GRP</th>\n",
       "      <th>COMP_CD</th>\n",
       "      <th>METRIC_CD</th>\n",
       "      <th>METRIC_NAME</th>\n",
       "      <th>CHANNEL_CD</th>\n",
       "      <th>AGG_TYPE</th>\n",
       "      <th>UOM</th>\n",
       "      <th>P_ACTUAL</th>\n",
       "      <th>G_ACTUAL</th>\n",
       "      <th>H_ACTUAL</th>\n",
       "      <th>HH_ACTUAL</th>\n",
       "      <th>ACTUAL_AS_OF</th>\n",
       "      <th>MIN_DAY</th>\n",
       "      <th>MAX_DAY</th>\n",
       "      <th>PPN_TM</th>\n",
       "      <th>LOAD_DATE</th>\n",
       "    </tr>\n",
       "  </thead>\n",
       "  <tbody>\n",
       "    <tr>\n",
       "      <th>7187</th>\n",
       "      <td>202406</td>\n",
       "      <td>Sales</td>\n",
       "      <td>Subs</td>\n",
       "      <td>TOL</td>\n",
       "      <td>TRUE</td>\n",
       "      <td>TB3S000700GEO</td>\n",
       "      <td>TOL %NAD 30DPDB2 (Due Date)</td>\n",
       "      <td>ALL</td>\n",
       "      <td>N</td>\n",
       "      <td>%</td>\n",
       "      <td>NaN</td>\n",
       "      <td>NaN</td>\n",
       "      <td>NaN</td>\n",
       "      <td>NaN</td>\n",
       "      <td>NaN</td>\n",
       "      <td>20240601</td>\n",
       "      <td>20240613</td>\n",
       "      <td>2024-06-14 11:01:19</td>\n",
       "      <td>2024-06-14 17:04:20.682192</td>\n",
       "    </tr>\n",
       "  </tbody>\n",
       "</table>\n",
       "</div>"
      ],
      "text/plain": [
       "      TM_KEY_MTH CENTER METRIC_GRP PRODUCT_GRP COMP_CD      METRIC_CD  \\\n",
       "7187      202406  Sales       Subs         TOL    TRUE  TB3S000700GEO   \n",
       "\n",
       "                      METRIC_NAME CHANNEL_CD AGG_TYPE UOM  P_ACTUAL  G_ACTUAL  \\\n",
       "7187  TOL %NAD 30DPDB2 (Due Date)        ALL        N   %       NaN       NaN   \n",
       "\n",
       "      H_ACTUAL  HH_ACTUAL  ACTUAL_AS_OF   MIN_DAY   MAX_DAY  \\\n",
       "7187       NaN        NaN           NaN  20240601  20240613   \n",
       "\n",
       "                  PPN_TM                  LOAD_DATE  \n",
       "7187 2024-06-14 11:01:19 2024-06-14 17:04:20.682192  "
      ]
     },
     "execution_count": 5,
     "metadata": {},
     "output_type": "execute_result"
    }
   ],
   "source": [
    "# Rawdata\n",
    "\n",
    "df.tail(1)"
   ]
  },
  {
   "cell_type": "markdown",
   "metadata": {},
   "source": [
    "## Reconcile"
   ]
  },
  {
   "cell_type": "code",
   "execution_count": 16,
   "metadata": {},
   "outputs": [
    {
     "name": "stdout",
     "output_type": "stream",
     "text": [
      "\n",
      " -> Generate \"Metric_Grp_List.xlsx\" successfully\n",
      "\n",
      " -> Generate \"Metric_Cd_List.xlsx\" successfully\n"
     ]
    }
   ],
   "source": [
    "# Generate Temp files\n",
    "\n",
    "# GROUP list\n",
    "grp_list_df = df[['METRIC_GRP', 'PRODUCT_GRP']].drop_duplicates().reset_index(drop=True)\n",
    "grp_list_df.dropna(how='all')\n",
    "# grp_list_df.dropna(axis=1, how='all')\n",
    "# grp_list_df.dropna(subset=['PRODUCT_GRP'])\n",
    "grp_list_df.to_excel(f'temp/Metric_Grp_List.xlsx', sheet_name='Data', index=False)\n",
    "print(f'\\n -> Generate \"Metric_Grp_List.xlsx\" successfully')\n",
    "\n",
    "# METRIC list\n",
    "metric_list_df = df[['METRIC_GRP', 'PRODUCT_GRP', 'COMP_CD', 'METRIC_CD', 'METRIC_NAME']].drop_duplicates().reset_index(drop=True)\n",
    "metric_list_df.dropna(how='all')\n",
    "metric_list_df.to_excel(f'temp/Metric_Cd_List.xlsx', sheet_name='Data', index=False)\n",
    "print(f'\\n -> Generate \"Metric_Cd_List.xlsx\" successfully')\n"
   ]
  },
  {
   "cell_type": "code",
   "execution_count": 18,
   "metadata": {},
   "outputs": [
    {
     "data": {
      "text/html": [
       "<div>\n",
       "<style scoped>\n",
       "    .dataframe tbody tr th:only-of-type {\n",
       "        vertical-align: middle;\n",
       "    }\n",
       "\n",
       "    .dataframe tbody tr th {\n",
       "        vertical-align: top;\n",
       "    }\n",
       "\n",
       "    .dataframe thead th {\n",
       "        text-align: right;\n",
       "    }\n",
       "</style>\n",
       "<table border=\"1\" class=\"dataframe\">\n",
       "  <thead>\n",
       "    <tr style=\"text-align: right;\">\n",
       "      <th></th>\n",
       "      <th>TM_KEY_MTH</th>\n",
       "      <th>CENTER</th>\n",
       "      <th>METRIC_GRP</th>\n",
       "      <th>PRODUCT_GRP</th>\n",
       "      <th>COMP_CD</th>\n",
       "      <th>METRIC_CD</th>\n",
       "      <th>METRIC_NAME</th>\n",
       "      <th>CHANNEL_CD</th>\n",
       "      <th>AGG_TYPE</th>\n",
       "      <th>UOM</th>\n",
       "      <th>P_ACTUAL</th>\n",
       "      <th>G_ACTUAL</th>\n",
       "      <th>H_ACTUAL</th>\n",
       "      <th>HH_ACTUAL</th>\n",
       "      <th>ACTUAL_AS_OF</th>\n",
       "      <th>MIN_DAY</th>\n",
       "      <th>MAX_DAY</th>\n",
       "      <th>PPN_TM</th>\n",
       "      <th>LOAD_DATE</th>\n",
       "    </tr>\n",
       "  </thead>\n",
       "  <tbody>\n",
       "    <tr>\n",
       "      <th>471</th>\n",
       "      <td>202406</td>\n",
       "      <td>Sales</td>\n",
       "      <td>Subs</td>\n",
       "      <td>TOL</td>\n",
       "      <td>TRUE</td>\n",
       "      <td>TB3S000700GEO</td>\n",
       "      <td>TOL %NAD 30DPDB2 (Due Date)</td>\n",
       "      <td>ALL</td>\n",
       "      <td>N</td>\n",
       "      <td>%</td>\n",
       "      <td>NaN</td>\n",
       "      <td>NaN</td>\n",
       "      <td>NaN</td>\n",
       "      <td>NaN</td>\n",
       "      <td>NaN</td>\n",
       "      <td>20240601</td>\n",
       "      <td>20240613</td>\n",
       "      <td>2024-06-14 11:01:19</td>\n",
       "      <td>2024-06-14 17:04:20.682192</td>\n",
       "    </tr>\n",
       "  </tbody>\n",
       "</table>\n",
       "</div>"
      ],
      "text/plain": [
       "     TM_KEY_MTH CENTER METRIC_GRP PRODUCT_GRP COMP_CD      METRIC_CD  \\\n",
       "471      202406  Sales       Subs         TOL    TRUE  TB3S000700GEO   \n",
       "\n",
       "                     METRIC_NAME CHANNEL_CD AGG_TYPE UOM  P_ACTUAL  G_ACTUAL  \\\n",
       "471  TOL %NAD 30DPDB2 (Due Date)        ALL        N   %       NaN       NaN   \n",
       "\n",
       "     H_ACTUAL  HH_ACTUAL  ACTUAL_AS_OF   MIN_DAY   MAX_DAY  \\\n",
       "471       NaN        NaN           NaN  20240601  20240613   \n",
       "\n",
       "                 PPN_TM                  LOAD_DATE  \n",
       "471 2024-06-14 11:01:19 2024-06-14 17:04:20.682192  "
      ]
     },
     "execution_count": 18,
     "metadata": {},
     "output_type": "execute_result"
    }
   ],
   "source": [
    "# Create Reconcile Data\n",
    "\n",
    "rec_df = df[df['TM_KEY_MTH']==202406]\n",
    "rec_df = rec_df[rec_df['CHANNEL_CD']=='ALL']\n",
    "rec_df = rec_df.reset_index(drop=True)\n",
    "\n",
    "rec_df.tail(1)"
   ]
  },
  {
   "cell_type": "code",
   "execution_count": 19,
   "metadata": {},
   "outputs": [
    {
     "data": {
      "text/plain": [
       "TM_KEY_MTH               int64\n",
       "CENTER                  object\n",
       "METRIC_GRP              object\n",
       "PRODUCT_GRP             object\n",
       "COMP_CD                 object\n",
       "METRIC_CD               object\n",
       "METRIC_NAME             object\n",
       "CHANNEL_CD              object\n",
       "AGG_TYPE                object\n",
       "UOM                     object\n",
       "P_ACTUAL               float64\n",
       "G_ACTUAL               float64\n",
       "H_ACTUAL               float64\n",
       "HH_ACTUAL              float64\n",
       "ACTUAL_AS_OF           float64\n",
       "MIN_DAY                  int64\n",
       "MAX_DAY                  int64\n",
       "PPN_TM          datetime64[ns]\n",
       "LOAD_DATE       datetime64[ns]\n",
       "dtype: object"
      ]
     },
     "execution_count": 19,
     "metadata": {},
     "output_type": "execute_result"
    }
   ],
   "source": [
    "# src_df[(src_df['TM_KEY_DAY']==20240501) & (src_df['METRIC_CD']=='VIN00020')].sort_values(['TM_KEY_DAY', 'METRIC_CD', 'AREA_NO', 'AREA_CD']).reset_index(drop=True)\n",
    "rec_df.dtypes"
   ]
  },
  {
   "cell_type": "markdown",
   "metadata": {},
   "source": [
    "## Generate Output file"
   ]
  },
  {
   "cell_type": "code",
   "execution_count": 45,
   "metadata": {},
   "outputs": [
    {
     "name": "stdout",
     "output_type": "stream",
     "text": [
      "\n",
      " -> Generate \"Metric_List.xlsx\" successfully\n"
     ]
    }
   ],
   "source": [
    "# # to Excel file\n",
    "\n",
    "# op_dir = 'temp'\n",
    "# op_file = 'VINSIGHT Data Monitoring.xlsx'\n",
    "\n",
    "# df.to_excel(f'{op_dir}/{op_file}', sheet_name='Data', index=False)\n",
    "# print(f'\\n -> Generate \"{op_file}\" successfully')"
   ]
  },
  {
   "cell_type": "code",
   "execution_count": 44,
   "metadata": {},
   "outputs": [
    {
     "name": "stdout",
     "output_type": "stream",
     "text": [
      "\n",
      " -> Generate \"Metric_List.csv\" successfully\n"
     ]
    }
   ],
   "source": [
    "# # to CSV file\n",
    "\n",
    "# op_dir = 'temp'\n",
    "# op_file = 'VINSIGHT Data Monitoring.csv'\n",
    "\n",
    "# df.to_csv(f'{op_dir}/{op_file}', index=False, encoding='utf-8')\n",
    "# print(f'\\n -> Generate \"{op_file}\" successfully')"
   ]
  }
 ],
 "metadata": {
  "kernelspec": {
   "display_name": "py310",
   "language": "python",
   "name": "python3"
  },
  "language_info": {
   "codemirror_mode": {
    "name": "ipython",
    "version": 3
   },
   "file_extension": ".py",
   "mimetype": "text/x-python",
   "name": "python",
   "nbconvert_exporter": "python",
   "pygments_lexer": "ipython3",
   "version": "3.11.4"
  }
 },
 "nbformat": 4,
 "nbformat_minor": 2
}
