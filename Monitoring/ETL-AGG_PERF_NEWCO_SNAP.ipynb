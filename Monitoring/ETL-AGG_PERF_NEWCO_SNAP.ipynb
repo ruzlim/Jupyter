{
 "cells": [
  {
   "cell_type": "markdown",
   "metadata": {},
   "source": [
    "# * Import : \"AGG_PERF_NEWCO\" to \"AGG_PERF_NEWCO_SNAP\"\n",
    "    WHERE CENTER IN ('Revenue', 'Sales')\n",
    "    AND NOT REGEXP_LIKE(METRIC_CD, '[0-9]C$|[0-9]H$|[0-9]MCOM$')\n",
    "    AND TM_KEY_?"
   ]
  },
  {
   "cell_type": "markdown",
   "metadata": {},
   "source": [
    "## Parameter"
   ]
  },
  {
   "cell_type": "code",
   "execution_count": 1,
   "metadata": {},
   "outputs": [],
   "source": [
    "import os\n",
    "import glob\n",
    "import configparser\n",
    "import datetime as dt\n",
    "import pandas as pd\n",
    "import numpy as np\n",
    "import xlrd\n",
    "import oracledb"
   ]
  },
  {
   "cell_type": "code",
   "execution_count": 2,
   "metadata": {},
   "outputs": [
    {
     "data": {
      "text/plain": [
       "datetime.date(2024, 6, 17)"
      ]
     },
     "execution_count": 2,
     "metadata": {},
     "output_type": "execute_result"
    }
   ],
   "source": [
    "config = configparser.ConfigParser()\n",
    "config.read('../my_config.ini')\n",
    "config.sections()\n",
    "\n",
    "TDMDBPR_user = config['TDMDBPR']['username']\n",
    "TDMDBPR_pwd = config['TDMDBPR']['password']\n",
    "TDMDBPR_db = config['TDMDBPR']['db']\n",
    "TDMDBPR_host = config['TDMDBPR']['host']\n",
    "TDMDBPR_port = config['TDMDBPR']['port']\n",
    "\n",
    "AKPIPRD_user = config['AKPIPRD']['username']\n",
    "AKPIPRD_pwd = config['AKPIPRD']['password']\n",
    "AKPIPRD_db = config['AKPIPRD']['db']\n",
    "AKPIPRD_host = config['AKPIPRD']['host']\n",
    "AKPIPRD_port = config['AKPIPRD']['port']\n",
    "\n",
    "curr_dt = dt.datetime.now().date()\n",
    "str_curr_dt = curr_dt.strftime('%Y%m%d')\n",
    "curr_dt"
   ]
  },
  {
   "cell_type": "markdown",
   "metadata": {},
   "source": [
    "## ETL Process"
   ]
  },
  {
   "cell_type": "markdown",
   "metadata": {},
   "source": [
    "### Step 1 : AGG_PERF_NEWCO_SNAP\n",
    "    Delete -> Insert"
   ]
  },
  {
   "cell_type": "code",
   "execution_count": 116,
   "metadata": {},
   "outputs": [
    {
     "name": "stdout",
     "output_type": "stream",
     "text": [
      "\n",
      "Job Start... 2024-06-14, 18:26:22\n",
      "\n",
      "TDMDBPR : Connected\n",
      "\n",
      "Processing...\n",
      "\n",
      " -> data as of (YR: 0, MTH_Start: 202401, MTH_End: 202403, DT: 0)\n",
      "\n",
      " -> df : 7452566 rows, 27 columns\n",
      "\n",
      "AKPIPRD : Connected\n",
      "\n",
      " -> DELETE : AGG_PERF_NEWCO_SNAP : Done !\n",
      "\n",
      " -> INSERT : \"AGG_PERF_NEWCO_SNAP\" : Done !\n",
      "\n",
      "TDMDBPR : Disconnected\n",
      "\n",
      "AKPIPRD : Disconnected\n",
      "\n",
      "Job Done !!!\n"
     ]
    }
   ],
   "source": [
    "# Input : 0 for dummy parameter\n",
    "\n",
    "v_param = dict(yr=0, mth_start=202406, mth_end=202406, dt=0)\n",
    "# v_param = dict(yr=0, mth=202404, day=0)\n",
    "\n",
    "job_start_datetime = dt.datetime.now().strftime('%Y-%m-%d, %H:%M:%S')\n",
    "print(f'\\nJob Start... {job_start_datetime}')\n",
    "\n",
    "with open('SQL/Import-AGG_PERF_NEWCO_SNAP.sql', 'r') as sql_file:\n",
    "    queries = sql_file.read().split(';')\n",
    "    query = queries[0].strip()\n",
    "    sql_file.close()\n",
    "\n",
    "# Connect : TDMDBPR\n",
    "src_dsn = f'{TDMDBPR_user}/{TDMDBPR_pwd}@{TDMDBPR_host}:{TDMDBPR_port}/{TDMDBPR_db}'\n",
    "src_conn = oracledb.connect(src_dsn)\n",
    "print(f'\\n{TDMDBPR_db} : Connected')\n",
    "src_cur = src_conn.cursor()\n",
    "v_date = (curr_dt, )\n",
    "\n",
    "\n",
    "try:\n",
    "    print(f\"\\nProcessing...\\n\\n   -> data as of (YR: {v_param['yr']}, MTH_Start: {v_param['mth_start']}, MTH_End: {v_param['mth_end']}, DT: {v_param['dt']})\")\n",
    "\n",
    "    # Create Dataframe\n",
    "    src_cur.execute(query, v_param)\n",
    "\n",
    "    print(f'\\nGet rows...')\n",
    "    rows = src_cur.fetchall()\n",
    "\n",
    "    print(f'\\nGet src_df...')\n",
    "    src_df = pd.DataFrame.from_records(rows, columns=[x[0] for x in src_cur.description])\n",
    "    print(f'\\n   -> df : {src_df.shape[0]} rows, {src_df.shape[1]} columns') \n",
    "\n",
    "    # Connect : AKPIPRD\n",
    "    tgt_dsn = f'{AKPIPRD_user}/{AKPIPRD_pwd}@{AKPIPRD_host}:{AKPIPRD_port}/{AKPIPRD_db}'\n",
    "    tgt_conn = oracledb.connect(tgt_dsn)\n",
    "    # print(f'\\n{AKPIPRD_db} : Connected')\n",
    "    print(f'\\nConnecting... {AKPIPRD_db}')\n",
    "    tgt_cur = tgt_conn.cursor()\n",
    "\n",
    "    # # Truncate\n",
    "    # tgt_cur.execute(\"TRUNCATE TABLE AUTOKPI.AGG_PERF_NEWCO_SNAP\")\n",
    "    # print(f'\\n  -> TRUNCATE : \"AGG_PERF_NEWCO_SNAP\" : Done !')\n",
    "\n",
    "    # Delete\n",
    "    tgt_cur.execute(\"\"\"\n",
    "        DELETE AUTOKPI.AGG_PERF_NEWCO_SNAP \n",
    "        WHERE TM_KEY_MTH BETWEEN :mth_start AND :mth_end\n",
    "        \"\"\", (v_param['mth_start'], v_param['mth_end']))\n",
    "    print(f'\\n   -> DELETE : \"AGG_PERF_NEWCO_SNAP\" : Done !')\n",
    "    # tgt_cur.execute(\"\"\"\n",
    "    #     DELETE AUTOKPI.AGG_PERF_NEWCO_SNAP \n",
    "    #     WHERE TM_KEY_MTH = :tm_key_mth\n",
    "    #     \"\"\", (v_param['mth_end'], ))\n",
    "    # print(f'\\n  -> DELETE : AGG_PERF_NEWCO_SNAP : Done !')\n",
    "\n",
    "    # Insert\n",
    "    tgt_cur.executemany(\"\"\"\n",
    "        INSERT INTO AGG_PERF_NEWCO_SNAP \n",
    "        (TM_KEY_YR, TM_KEY_QTR, TM_KEY_MTH, TM_KEY_WK, TM_KEY_DAY, CENTER, PRODUCT_GRP, COMP_CD, METRIC_GRP, METRIC_CD, METRIC_NAME, SEQ, ACTUAL_AS_OF, AGG_TYPE, RR_IND, GRY_IND, UOM, AREA_TYPE, AREA_CD, AREA_NAME, ACTUAL_SNAP, TARGET_SNAP, BASELINE_SNAP, ACTUAL_AGG, TARGET_AGG, BASELINE_AGG, PPN_TM) \n",
    "        VALUES (:1,:2,:3,:4,:5,:6,:7,:8,:9,:10,:11,:12,:13,:14,:15,:16,:17,:18,:19,:20,:21,:22,:23,:24,:25,:26,:27)\n",
    "        \"\"\", rows)\n",
    "    tgt_cur.close()\n",
    "    tgt_conn.commit()\n",
    "    print(f'\\n   -> INSERT : \"AGG_PERF_NEWCO_SNAP\" : Done !')\n",
    "\n",
    "\n",
    "except oracledb.DatabaseError as e:\n",
    "    print(f'\\nError with Oracle : {e}')\n",
    "\n",
    "\n",
    "finally:\n",
    "    src_conn.close()\n",
    "    print(f'\\n{TDMDBPR_db} : Disconnected')\n",
    "\n",
    "    tgt_conn.close()\n",
    "    print(f'\\n{AKPIPRD_db} : Disconnected')\n",
    "    \n",
    "    print(f'\\nJob Done !!!')\n"
   ]
  },
  {
   "cell_type": "code",
   "execution_count": 2,
   "metadata": {},
   "outputs": [
    {
     "ename": "NameError",
     "evalue": "name 'src_df' is not defined",
     "output_type": "error",
     "traceback": [
      "\u001b[1;31m---------------------------------------------------------------------------\u001b[0m",
      "\u001b[1;31mNameError\u001b[0m                                 Traceback (most recent call last)",
      "Cell \u001b[1;32mIn[2], line 1\u001b[0m\n\u001b[1;32m----> 1\u001b[0m \u001b[43msrc_df\u001b[49m\u001b[38;5;241m.\u001b[39mtail()\n\u001b[0;32m      2\u001b[0m \u001b[38;5;66;03m# src_df.dtypes\u001b[39;00m\n\u001b[0;32m      3\u001b[0m \u001b[38;5;66;03m# df[['PRODUCT_GRP', 'COMP_CD', 'METRIC_CD', 'METRIC_NAME']].drop_duplicates()\u001b[39;00m\n",
      "\u001b[1;31mNameError\u001b[0m: name 'src_df' is not defined"
     ]
    }
   ],
   "source": [
    "src_df.tail()\n",
    "# src_df.dtypes\n",
    "# df[['PRODUCT_GRP', 'COMP_CD', 'METRIC_CD', 'METRIC_NAME']].drop_duplicates()"
   ]
  }
 ],
 "metadata": {
  "kernelspec": {
   "display_name": "py310",
   "language": "python",
   "name": "python3"
  },
  "language_info": {
   "codemirror_mode": {
    "name": "ipython",
    "version": 3
   },
   "file_extension": ".py",
   "mimetype": "text/x-python",
   "name": "python",
   "nbconvert_exporter": "python",
   "pygments_lexer": "ipython3",
   "version": "3.11.4"
  }
 },
 "nbformat": 4,
 "nbformat_minor": 2
}
