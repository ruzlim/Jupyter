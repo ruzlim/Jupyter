{
 "cells": [
  {
   "cell_type": "code",
   "execution_count": 3,
   "metadata": {},
   "outputs": [],
   "source": [
    "import pandas as pd\n",
    "import os\n",
    "\n",
    "# import lnwtrue"
   ]
  },
  {
   "cell_type": "code",
   "execution_count": 4,
   "metadata": {},
   "outputs": [
    {
     "name": "stdout",
     "output_type": "stream",
     "text": [
      "data_path : https://docs.google.com/spreadsheets/d/e/2PACX-1vRm0gQJxZ3P-xEeSgLmCFc6FedCygnhdg7ZJI31htrtnKhXq2xbCCHOqVHEpYanzspYf6wJUBCDeUt2/pub?output=xlsx\n"
     ]
    }
   ],
   "source": [
    "MONTH_COLS = ['Jan', 'Feb', 'Mar', 'Apr', 'May', 'Jun', 'Jul', 'Aug', 'Sept', 'Oct', 'Nov', 'Dec']\n",
    "\n",
    "# data_path = 'https://docs.google.com/spreadsheets/d/e/2PACX-1vRm0gQJxZ3P-xEeSgLmCFc6FedCygnhdg7ZJI31htrtnKhXq2xbCCHOqVHEpYanzspYf6wJUBCDeUt2/pub?output=xlsx'\n",
    "data_path = 'https://docs.google.com/spreadsheets/d/e/2PACX-1vRm0gQJxZ3P-xEeSgLmCFc6FedCygnhdg7ZJI31htrtnKhXq2xbCCHOqVHEpYanzspYf6wJUBCDeUt2/pub?output=xlsx'\n",
    "print(f'data_path : {data_path}')\n",
    "\n",
    "# year = 2022\n",
    "# OUTPUT_DIR = 'output/online_channels'\n",
    "\n",
    "# KPI_NAMES = {\n",
    "#     'Revenue : Online Channel / E-Commerce': 'Service Revenue : E-Commerce (Online Channel) Actual', \n",
    "#     'Product Sold : Online Channel / E-Commerce': 'Product Sold : E-Commerce (Online Channel) Actual',\n",
    "#     'Revenue : Online Channel / Digital Telesales': 'Total Digital Telesale Actual'\n",
    "#             }"
   ]
  },
  {
   "cell_type": "code",
   "execution_count": 3,
   "metadata": {},
   "outputs": [],
   "source": [
    "# score = lnwtrue.score\n",
    "# trueconnect = lnwtrue.trueconnect\n",
    "# trueid = trueconnect.TrueconnectID()"
   ]
  },
  {
   "cell_type": "code",
   "execution_count": 6,
   "metadata": {},
   "outputs": [
    {
     "name": "stdout",
     "output_type": "stream",
     "text": [
      "data :                                              KPI_NAME           Jan   \n",
      "0            Total E-Commerce (Online Channel) Target  2.524574e+09  \\\n",
      "1            Total E-Commerce (Online Channel) Actual  2.435795e+09   \n",
      "2   Service Revenue : E-Commerce (Online Channel) ...  2.147280e+09   \n",
      "3   Service Revenue : E-Commerce (Online Channel) ...  2.093177e+09   \n",
      "4   Product Sold : E-Commerce (Online Channel) Target  3.772940e+08   \n",
      "5   Product Sold : E-Commerce (Online Channel) Actual  3.426186e+08   \n",
      "6                       Total Digital Telesale Target  1.530202e+07   \n",
      "7                       Total Digital Telesale Actual  7.424554e+06   \n",
      "8    1month-rc e-commerce target (เปลี่ยนชื่อได้ครับ)           NaN   \n",
      "9   E-commerce new subscribtion actual (Prepaid, P...           NaN   \n",
      "10     1month-rc telesale target (เปลี่ยนชื่อได้ครับ)           NaN   \n",
      "11     1month-rc telesale  actual(เปลี่ยนชื่อได้ครับ)           NaN   \n",
      "12                     Total service revenue (Target)           NaN   \n",
      "13                     Total service revenue (Actual)           NaN   \n",
      "14                 service revenue - Postpay (Actual)           NaN   \n",
      "15                  service revenue - Prepay (Actual)           NaN   \n",
      "16              service revenue - ฺBroadband (Actual)           NaN   \n",
      "17                    service revenue - ฺTVS (Actual)           NaN   \n",
      "18                                   TVS now (Actual)           NaN   \n",
      "19                              Content Rev. (Actual)           NaN   \n",
      "\n",
      "             Feb           Mar           Apr           May           Jun   \n",
      "0   2.474854e+09  2.494152e+09  2.469349e+09  2.455006e+09  2.493140e+09  \\\n",
      "1   2.572018e+09  2.982001e+09  2.458432e+09  3.033328e+09  3.123661e+09   \n",
      "2   2.097496e+09  2.108599e+09  2.079522e+09  2.062562e+09  2.095736e+09   \n",
      "3   2.027214e+09  2.551849e+09  2.142113e+09  2.671787e+09  2.749310e+09   \n",
      "4   3.773580e+08  3.855531e+08  3.898278e+08  3.924438e+08  3.974048e+08   \n",
      "5   5.448036e+08  4.301514e+08  3.163189e+08  3.615403e+08  3.743505e+08   \n",
      "6   1.530202e+07  1.549093e+07  1.549093e+07  1.549093e+07  1.567984e+07   \n",
      "7   7.266453e+06  7.097683e+06  7.330017e+06  6.611698e+06  6.243795e+06   \n",
      "8            NaN           NaN           NaN           NaN           NaN   \n",
      "9            NaN           NaN           NaN           NaN           NaN   \n",
      "10           NaN           NaN           NaN           NaN           NaN   \n",
      "11           NaN           NaN           NaN           NaN           NaN   \n",
      "12           NaN           NaN           NaN           NaN           NaN   \n",
      "13           NaN           NaN           NaN           NaN           NaN   \n",
      "14           NaN           NaN           NaN           NaN           NaN   \n",
      "15           NaN           NaN           NaN           NaN           NaN   \n",
      "16           NaN           NaN           NaN           NaN           NaN   \n",
      "17           NaN           NaN           NaN           NaN           NaN   \n",
      "18           NaN           NaN           NaN           NaN           NaN   \n",
      "19           NaN           NaN           NaN           NaN           NaN   \n",
      "\n",
      "             Jul           Aug          Sept           Oct           Nov   \n",
      "0   2.468263e+09  2.484454e+09  2.519994e+09  2.545992e+09  2.536663e+09  \\\n",
      "1   3.124970e+09  3.124706e+09  2.708662e+09  2.349493e+09  2.317939e+09   \n",
      "2   2.069920e+09  2.077916e+09  2.102611e+09  2.085517e+09  2.092873e+09   \n",
      "3   2.812694e+09  2.741387e+09  2.170663e+09  1.709528e+09  1.688092e+09   \n",
      "4   3.983429e+08  4.065380e+08  4.173834e+08  4.604750e+08  4.437897e+08   \n",
      "5   3.122764e+08  3.833196e+08  5.379983e+08  6.399654e+08  6.298467e+08   \n",
      "6   1.567984e+07  1.586876e+07  1.586876e+07  1.605767e+07  1.624658e+07   \n",
      "7   5.891049e+06  5.372530e+06  5.253869e+06  5.241985e+06  4.508425e+06   \n",
      "8            NaN           NaN           NaN           NaN           NaN   \n",
      "9            NaN           NaN           NaN           NaN           NaN   \n",
      "10           NaN           NaN           NaN           NaN           NaN   \n",
      "11           NaN           NaN           NaN           NaN           NaN   \n",
      "12           NaN           NaN           NaN           NaN           NaN   \n",
      "13           NaN           NaN           NaN           NaN           NaN   \n",
      "14           NaN           NaN           NaN           NaN           NaN   \n",
      "15           NaN           NaN           NaN           NaN           NaN   \n",
      "16           NaN           NaN           NaN           NaN           NaN   \n",
      "17           NaN           NaN           NaN           NaN           NaN   \n",
      "18           NaN           NaN           NaN           NaN           NaN   \n",
      "19           NaN           NaN           NaN           NaN           NaN   \n",
      "\n",
      "             Dec   Unnamed: 13  \n",
      "0   2.610147e+09  3.007659e+10  \n",
      "1   2.161296e+09  3.239230e+10  \n",
      "2   2.178850e+09  2.519888e+10  \n",
      "3   1.741875e+09  2.709969e+10  \n",
      "4   4.312960e+08  4.877707e+09  \n",
      "5   4.194210e+08  5.292611e+09  \n",
      "6   1.643550e+07  1.889138e+08  \n",
      "7   4.059093e+06  7.230115e+07  \n",
      "8            NaN           NaN  \n",
      "9            NaN           NaN  \n",
      "10           NaN           NaN  \n",
      "11           NaN           NaN  \n",
      "12           NaN           NaN  \n",
      "13           NaN           NaN  \n",
      "14           NaN           NaN  \n",
      "15           NaN           NaN  \n",
      "16           NaN           NaN  \n",
      "17           NaN           NaN  \n",
      "18           NaN           NaN  \n",
      "19           NaN           NaN  \n"
     ]
    }
   ],
   "source": [
    "data = pd.read_excel(data_path, sheet_name='2022')\n",
    "print(f'data : {data}')"
   ]
  },
  {
   "cell_type": "code",
   "execution_count": 5,
   "metadata": {},
   "outputs": [],
   "source": [
    "if not os.path.exists(OUTPUT_DIR):\n",
    "    os.makedirs(OUTPUT_DIR)"
   ]
  },
  {
   "cell_type": "code",
   "execution_count": 6,
   "metadata": {
    "scrolled": true
   },
   "outputs": [
    {
     "name": "stdout",
     "output_type": "stream",
     "text": [
      "Revenue : Online Channel / E-Commerce\n",
      "Product Sold : Online Channel / E-Commerce\n",
      "Revenue : Online Channel / Digital Telesales\n"
     ]
    }
   ],
   "source": [
    "for kpi_name, kpi_row in KPI_NAMES.items():\n",
    "    print(kpi_name)\n",
    "    template_gen = trueconnect.KPITemplateGenerator(kpi_name, trueid)\n",
    "    \n",
    "    kpi_data = data[data['KPI_NAME']==kpi_row][MONTH_COLS]\n",
    "    kpi_score = score.MonthlyScore(kpi_data.values[0])\n",
    "    \n",
    "#     template = template_gen.gen_corporate(kpi_score.weekly_scores_accum, year)\n",
    "    template = template_gen.gen_corporate(kpi_score.weekly_scores, year)\n",
    "    \n",
    "    template.save(f'{OUTPUT_DIR}/{kpi_name.replace(\":\", \"\").replace(\"/\", \"\")}.xlsx')"
   ]
  },
  {
   "attachments": {},
   "cell_type": "markdown",
   "metadata": {},
   "source": [
    "combine files"
   ]
  },
  {
   "cell_type": "code",
   "execution_count": 7,
   "metadata": {},
   "outputs": [
    {
     "name": "stdout",
     "output_type": "stream",
     "text": [
      "output/online_channels/Product Sold  Online Channel  E-Commerce.xlsx\n",
      "output/online_channels/Revenue  Online Channel  Digital Telesales.xlsx\n",
      "output/online_channels/Revenue  Online Channel  E-Commerce.xlsx\n",
      "combine files saved atoutput/combine/online_channal_all.xlsx\n"
     ]
    },
    {
     "name": "stderr",
     "output_type": "stream",
     "text": [
      "C:\\Users\\usana\\anaconda3\\lib\\site-packages\\xlsxwriter\\workbook.py:338: UserWarning: Calling close() on already closed file.\n",
      "  warn(\"Calling close() on already closed file.\")\n"
     ]
    }
   ],
   "source": [
    "trueconnect.MicroorgActualTemplate.combine_output(OUTPUT_DIR, 'output/combine/online_channal_all.xlsx')"
   ]
  }
 ],
 "metadata": {
  "kernelspec": {
   "display_name": "Python 3 (ipykernel)",
   "language": "python",
   "name": "python3"
  },
  "language_info": {
   "codemirror_mode": {
    "name": "ipython",
    "version": 3
   },
   "file_extension": ".py",
   "mimetype": "text/x-python",
   "name": "python",
   "nbconvert_exporter": "python",
   "pygments_lexer": "ipython3",
   "version": "3.11.3"
  }
 },
 "nbformat": 4,
 "nbformat_minor": 4
}
