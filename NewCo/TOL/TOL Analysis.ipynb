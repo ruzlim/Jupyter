{
 "cells": [
  {
   "cell_type": "markdown",
   "metadata": {},
   "source": [
    "# * TOL Analysis"
   ]
  },
  {
   "cell_type": "markdown",
   "metadata": {},
   "source": [
    "## Import Data Source"
   ]
  },
  {
   "cell_type": "code",
   "execution_count": 1,
   "metadata": {},
   "outputs": [],
   "source": [
    "import pandas as pd\n",
    "import numpy as np\n",
    "import matplotlib as mpl\n",
    "from matplotlib import pyplot as plt\n",
    "from matplotlib.gridspec import GridSpec\n",
    "from functools import reduce\n",
    "import datetime\n",
    "\n",
    "mpl.rcParams['axes.spines.top'] = False\n",
    "mpl.rcParams['axes.spines.right'] = False"
   ]
  },
  {
   "cell_type": "code",
   "execution_count": 2,
   "metadata": {},
   "outputs": [],
   "source": [
    "as_week = 2023026\n",
    "data_src = f\"../../data/raw/Raw-Agg Perf Area_Wk {as_week}.csv\"\n",
    "df = pd.read_csv(data_src, low_memory=False)\n",
    "cols = ['TM_KEY_DAY', 'TM_KEY_WK', 'TM_KEY_MTH', 'TM_KEY_QTR', 'TM_KEY_YR', 'CENTER', 'METRIC_GRP', 'COMP_CD', 'PRODUCT_GRP', 'METRIC_CD', 'METRIC_NAME', 'ACTUAL_AS_OF', 'AGG_TYPE', 'RR_IND', 'GRY_IND', 'UOM', 'PERIOD', 'ACTUAL_SNAP', 'ACTUAL_AGG', 'TARGET_SNAP', 'TARGET_AGG', 'PPN_TM']\n",
    "df = df[cols]\n",
    "\n",
    "''' Fix Metric CD List '''\n",
    "tol_analysis_cd_list = ['TB3R000100', 'TB3R000101', 'TB3R000102', # \"TOL Revenue\", \"TOL New Revenue\", \"TOL Exisitng Revenue\"\n",
    "                        'TB3S000100', 'TB3S000101', 'TB3S000400', 'TB3S000500', # \"TOL Connected Subs\", \"TOL Registration Subs\", \"TOL Net Add\", \"TOL Active Subs\"\n",
    "                        'TSER13100', 'TB3R000600'] # \"TOL Churn Subs\", \"TOL Connected 1MTH RC\""
   ]
  },
  {
   "cell_type": "code",
   "execution_count": 3,
   "metadata": {},
   "outputs": [
    {
     "data": {
      "text/plain": [
       "(133632, 22)"
      ]
     },
     "execution_count": 3,
     "metadata": {},
     "output_type": "execute_result"
    }
   ],
   "source": [
    "df.shape"
   ]
  },
  {
   "cell_type": "markdown",
   "metadata": {},
   "source": [
    "## Data Preporation"
   ]
  },
  {
   "cell_type": "code",
   "execution_count": 4,
   "metadata": {},
   "outputs": [],
   "source": [
    "''' Functions '''\n",
    "\n",
    "def unit_mb(baht):\n",
    "    n = baht\n",
    "    unit_mb = n / 1000000\n",
    "    return unit_mb\n",
    "\n",
    "def unit_k(baht):\n",
    "    n = baht\n",
    "    unit_k = n / 1000\n",
    "    return unit_k"
   ]
  },
  {
   "cell_type": "code",
   "execution_count": 5,
   "metadata": {},
   "outputs": [
    {
     "data": {
      "text/html": [
       "<div>\n",
       "<style scoped>\n",
       "    .dataframe tbody tr th:only-of-type {\n",
       "        vertical-align: middle;\n",
       "    }\n",
       "\n",
       "    .dataframe tbody tr th {\n",
       "        vertical-align: top;\n",
       "    }\n",
       "\n",
       "    .dataframe thead th {\n",
       "        text-align: right;\n",
       "    }\n",
       "</style>\n",
       "<table border=\"1\" class=\"dataframe\">\n",
       "  <thead>\n",
       "    <tr style=\"text-align: right;\">\n",
       "      <th></th>\n",
       "      <th>TM_KEY_DAY</th>\n",
       "      <th>TM_KEY_WK</th>\n",
       "      <th>TM_KEY_MTH</th>\n",
       "      <th>TM_KEY_QTR</th>\n",
       "      <th>TM_KEY_YR</th>\n",
       "      <th>CENTER</th>\n",
       "      <th>METRIC_GRP</th>\n",
       "      <th>COMP_CD</th>\n",
       "      <th>PRODUCT_GRP</th>\n",
       "      <th>METRIC_CD</th>\n",
       "      <th>...</th>\n",
       "      <th>UOM</th>\n",
       "      <th>PERIOD</th>\n",
       "      <th>ACT_SNAP</th>\n",
       "      <th>ACT_AGG</th>\n",
       "      <th>TGT_SNAP</th>\n",
       "      <th>TGT_AGG</th>\n",
       "      <th>PPN_TM</th>\n",
       "      <th>MTH_DESC</th>\n",
       "      <th>WK_LABEL</th>\n",
       "      <th>DAY_LABEL</th>\n",
       "    </tr>\n",
       "  </thead>\n",
       "  <tbody>\n",
       "    <tr>\n",
       "      <th>132933</th>\n",
       "      <td>20230630</td>\n",
       "      <td>2023026</td>\n",
       "      <td>202306</td>\n",
       "      <td>20232</td>\n",
       "      <td>2023</td>\n",
       "      <td>Sales &amp; Revenue</td>\n",
       "      <td>Revenue</td>\n",
       "      <td>True</td>\n",
       "      <td>TOL</td>\n",
       "      <td>TB3R000100</td>\n",
       "      <td>...</td>\n",
       "      <td>baht</td>\n",
       "      <td>M</td>\n",
       "      <td>NaN</td>\n",
       "      <td>9.025240e+06</td>\n",
       "      <td>NaN</td>\n",
       "      <td>9.268493e+06</td>\n",
       "      <td>2023-07-07 09:33:10</td>\n",
       "      <td>June</td>\n",
       "      <td>26</td>\n",
       "      <td>30</td>\n",
       "    </tr>\n",
       "    <tr>\n",
       "      <th>132934</th>\n",
       "      <td>20230630</td>\n",
       "      <td>2023026</td>\n",
       "      <td>202306</td>\n",
       "      <td>20232</td>\n",
       "      <td>2023</td>\n",
       "      <td>Sales &amp; Revenue</td>\n",
       "      <td>Revenue</td>\n",
       "      <td>True</td>\n",
       "      <td>TOL</td>\n",
       "      <td>TB3R000100</td>\n",
       "      <td>...</td>\n",
       "      <td>baht</td>\n",
       "      <td>M</td>\n",
       "      <td>NaN</td>\n",
       "      <td>1.908368e+07</td>\n",
       "      <td>NaN</td>\n",
       "      <td>1.930833e+07</td>\n",
       "      <td>2023-07-07 09:33:10</td>\n",
       "      <td>June</td>\n",
       "      <td>26</td>\n",
       "      <td>30</td>\n",
       "    </tr>\n",
       "    <tr>\n",
       "      <th>132935</th>\n",
       "      <td>20230630</td>\n",
       "      <td>2023026</td>\n",
       "      <td>202306</td>\n",
       "      <td>20232</td>\n",
       "      <td>2023</td>\n",
       "      <td>Sales &amp; Revenue</td>\n",
       "      <td>Revenue</td>\n",
       "      <td>True</td>\n",
       "      <td>TOL</td>\n",
       "      <td>TB3R000100</td>\n",
       "      <td>...</td>\n",
       "      <td>baht</td>\n",
       "      <td>M</td>\n",
       "      <td>NaN</td>\n",
       "      <td>1.199223e+07</td>\n",
       "      <td>NaN</td>\n",
       "      <td>1.361917e+07</td>\n",
       "      <td>2023-07-07 09:33:10</td>\n",
       "      <td>June</td>\n",
       "      <td>26</td>\n",
       "      <td>30</td>\n",
       "    </tr>\n",
       "  </tbody>\n",
       "</table>\n",
       "<p>3 rows × 25 columns</p>\n",
       "</div>"
      ],
      "text/plain": [
       "        TM_KEY_DAY  TM_KEY_WK  TM_KEY_MTH  TM_KEY_QTR  TM_KEY_YR  \\\n",
       "132933    20230630    2023026      202306       20232       2023   \n",
       "132934    20230630    2023026      202306       20232       2023   \n",
       "132935    20230630    2023026      202306       20232       2023   \n",
       "\n",
       "                 CENTER METRIC_GRP  COMP_CD PRODUCT_GRP   METRIC_CD  ...  \\\n",
       "132933  Sales & Revenue    Revenue     True         TOL  TB3R000100  ...   \n",
       "132934  Sales & Revenue    Revenue     True         TOL  TB3R000100  ...   \n",
       "132935  Sales & Revenue    Revenue     True         TOL  TB3R000100  ...   \n",
       "\n",
       "         UOM  PERIOD ACT_SNAP       ACT_AGG TGT_SNAP       TGT_AGG  \\\n",
       "132933  baht       M      NaN  9.025240e+06      NaN  9.268493e+06   \n",
       "132934  baht       M      NaN  1.908368e+07      NaN  1.930833e+07   \n",
       "132935  baht       M      NaN  1.199223e+07      NaN  1.361917e+07   \n",
       "\n",
       "                     PPN_TM  MTH_DESC  WK_LABEL  DAY_LABEL  \n",
       "132933  2023-07-07 09:33:10      June        26         30  \n",
       "132934  2023-07-07 09:33:10      June        26         30  \n",
       "132935  2023-07-07 09:33:10      June        26         30  \n",
       "\n",
       "[3 rows x 25 columns]"
      ]
     },
     "execution_count": 5,
     "metadata": {},
     "output_type": "execute_result"
    }
   ],
   "source": [
    "''' Rawdata '''\n",
    "\n",
    "''' Filters '''\n",
    "df = df[df['TM_KEY_MTH'] <= 202306] # MONTH filter\n",
    "# df = df[df['TM_KEY_WK'] <= 2023022] # WEEK filter\n",
    "# df = df[df['TM_KEY_DAY'] <= 20230630] # DAY filter\n",
    "df = df[df['METRIC_CD'].isin(tol_analysis_cd_list)]\n",
    "\n",
    "''' Modify '''\n",
    "df = df.rename(columns={'ACTUAL_SNAP':'ACT_SNAP', 'ACTUAL_AGG':'ACT_AGG', 'TARGET_SNAP':'TGT_SNAP', 'TARGET_AGG':'TGT_AGG'})\n",
    "\n",
    "''' Add new column '''\n",
    "df['MTH_DESC'] = pd.to_datetime(df['TM_KEY_MTH'], format='%Y%m', errors='coerce').dt.strftime('%B')\n",
    "df['WK_LABEL'] = df['TM_KEY_WK'].apply(str).str[5:].astype(int)\n",
    "df['DAY_LABEL'] = df['TM_KEY_DAY'].apply(str).str[6:].astype(int)\n",
    "\n",
    "df.tail(3)"
   ]
  },
  {
   "cell_type": "code",
   "execution_count": 6,
   "metadata": {},
   "outputs": [],
   "source": [
    "''' Create Dataframe '''\n",
    "\n",
    "''' Aggregate type : S '''\n",
    "df_agg_s = df[df['AGG_TYPE']=='S']\n",
    "df_agg_s = df_agg_s.rename(columns={'ACT_SNAP':'ACT', 'TGT_SNAP':'TGT'})\n",
    "\n",
    "''' Aggregate type : N '''\n",
    "df_agg_n = df[df['AGG_TYPE']=='N'].dropna(subset='ACT_SNAP')\n",
    "df_agg_n = df_agg_n.rename(columns={'ACT_SNAP':'ACT', 'TGT_SNAP':'TGT'})"
   ]
  },
  {
   "cell_type": "code",
   "execution_count": 7,
   "metadata": {},
   "outputs": [],
   "source": [
    "''' Period Values '''\n",
    "\n",
    "curr_yr = df['TM_KEY_YR'].max()\n",
    "last_yr = df['TM_KEY_YR'].max() - 1\n",
    "curr_mth = df['TM_KEY_MTH'].max()\n",
    "curr_mth_desc = pd.to_datetime(curr_mth, format='%Y%m', errors='coerce').strftime('%B')\n",
    "last_mth = int(f'{str(last_yr)}12') if str(curr_mth)[4:]=='01' else curr_mth-1\n",
    "curr_wk = df['TM_KEY_WK'].max()\n",
    "last_wk = df['TM_KEY_WK'].drop_duplicates().shift().max()\n",
    "curr_wk_label = df['WK_LABEL'].iloc[-1]\n",
    "curr_day = df['TM_KEY_DAY'].max()\n",
    "last_day = df['TM_KEY_DAY'].drop_duplicates().shift().max()\n",
    "curr_day_label = df['DAY_LABEL'].iloc[-1]\n",
    "last_ppn_tm = df['PPN_TM'].max()\n",
    "\n",
    "wk_day_start = int(str(df[df['TM_KEY_WK']==curr_wk]['TM_KEY_DAY'].min())[6:])\n",
    "wk_day_end = int(str(df[df['TM_KEY_WK']==curr_wk]['TM_KEY_DAY'].max())[6:])"
   ]
  }
 ],
 "metadata": {
  "kernelspec": {
   "display_name": "py310",
   "language": "python",
   "name": "python3"
  },
  "language_info": {
   "codemirror_mode": {
    "name": "ipython",
    "version": 3
   },
   "file_extension": ".py",
   "mimetype": "text/x-python",
   "name": "python",
   "nbconvert_exporter": "python",
   "pygments_lexer": "ipython3",
   "version": "3.10.11"
  },
  "orig_nbformat": 4
 },
 "nbformat": 4,
 "nbformat_minor": 2
}
