{
 "cells": [
  {
   "attachments": {},
   "cell_type": "markdown",
   "metadata": {},
   "source": [
    "# Import Agg Performance Nationwide Data"
   ]
  },
  {
   "cell_type": "code",
   "execution_count": 3,
   "metadata": {},
   "outputs": [],
   "source": [
    "import cx_Oracle\n",
    "import pandas as pd\n",
    "import numpy as np"
   ]
  },
  {
   "cell_type": "code",
   "execution_count": 4,
   "metadata": {},
   "outputs": [
    {
     "name": "stdout",
     "output_type": "stream",
     "text": [
      "TDMDBPR : Connected\n",
      "\n",
      "Execute query as Week 2023022...\n",
      "\n",
      "Done !!!\n",
      "\n",
      "TDMDBPR : Disconnected\n"
     ]
    }
   ],
   "source": [
    "conStr = 'NARUT_E01044451/v9VzR8xsuwp#tyTb@TDM-scan.dc2.true.th:1521/TDMDBPR'\n",
    "conn = cx_Oracle.connect(conStr)\n",
    "print('TDMDBPR : Connected')\n",
    "cur = conn.cursor()\n",
    "\n",
    "v_week = (2023022, )\n",
    "\n",
    "\n",
    "try:\n",
    "    # print(\"Database version:\", conn.version)\n",
    "    print(f'\\nExecute query as Week {v_week[0]}...')\n",
    "\n",
    "    sqlTxt = \"\"\"\n",
    "        SELECT TM_KEY_DAY, TM_KEY_WK, TM_KEY_MTH, TM_KEY_QTR, TM_KEY_YR, DAY_DESC, MONTH_DESC, QUARTER_DESC, COMP_CD, METRIC_CD, METRIC_NAME, ACTUAL_AS_OF, AGG_TYPE, RR_IND, GRY_IND, UOM, PERIOD, ACTUAL_SNAP, TARGET_SNAP, BASELINE_SNAP, ACH_SNAP, GAP_SNAP, ACTUAL_AGG, TARGET_AGG, BASELINE_AGG, ACH_AGG, GAP_AGG, WOW, WOW_PERCENT, MOM, MOM_PERCENT, QOQ, QOQ_PERCENT, YOY, YOY_PERCENT, RR, RR_ACH, WTD, MTD, QTD, YTD, CENTER, METRIC_GRP, PRODUCT_GRP, SEQ, PRIORITY, REMARK, AREA_TYPE, AREA_CD, AREA_NAME, REMARK_ACTUAL, REMARK_TARGET, PPN_TM, METRIC_NAME_GROUP\n",
    "        FROM GEOSPCAPPO.AGG_PERFORMANCE_NEWCO NOLOCK\n",
    "        WHERE AREA_TYPE = 'P'\n",
    "    \"\"\"\n",
    "    \n",
    "    cur.execute(sqlTxt)\n",
    "\n",
    "    print(f'\\nDone !!!')\n",
    "\n",
    "    rows = cur.fetchall()\n",
    "    \n",
    "    df = pd.DataFrame.from_records(rows, columns=[x[0] for x in cur.description])\n",
    "\n",
    "\n",
    "except cx_Oracle.DatabaseError as e:\n",
    "    print(f'Error with Oracle : {e}')\n",
    "\n",
    "\n",
    "finally:\n",
    "    cur.close()\n",
    "    conn.close()\n",
    "    print('\\nTDMDBPR : Disconnected')"
   ]
  },
  {
   "cell_type": "code",
   "execution_count": 5,
   "metadata": {},
   "outputs": [
    {
     "data": {
      "text/plain": [
       "(52400, 54)"
      ]
     },
     "execution_count": 5,
     "metadata": {},
     "output_type": "execute_result"
    }
   ],
   "source": [
    "# df.columns\n",
    "# df.dtypes\n",
    "# df.describe()\n",
    "df.shape\n",
    "\n",
    "# df.head()"
   ]
  },
  {
   "attachments": {},
   "cell_type": "markdown",
   "metadata": {},
   "source": [
    "## Generate Output file"
   ]
  },
  {
   "cell_type": "code",
   "execution_count": 6,
   "metadata": {},
   "outputs": [
    {
     "name": "stdout",
     "output_type": "stream",
     "text": [
      "\n",
      "\"Raw-Agg Perf Nationwide_Wk 2023022.csv\" is generated\n"
     ]
    }
   ],
   "source": [
    "# C:\\Users\\Narut4\\coding\\Jupyter\\Work with Oracle.ipynb\n",
    "\n",
    "output_name = f'Raw-Agg Perf Nationwide_Wk {v_week[0]}'\n",
    "\n",
    "df.to_csv(f'{output_name}.csv', index=False, encoding='utf-8')\n",
    "\n",
    "print(f'\\n\"{output_name}.csv\" is generated')"
   ]
  }
 ],
 "metadata": {
  "kernelspec": {
   "display_name": "py310",
   "language": "python",
   "name": "python3"
  },
  "language_info": {
   "codemirror_mode": {
    "name": "ipython",
    "version": 3
   },
   "file_extension": ".py",
   "mimetype": "text/x-python",
   "name": "python",
   "nbconvert_exporter": "python",
   "pygments_lexer": "ipython3",
   "version": "3.10.11"
  },
  "orig_nbformat": 4
 },
 "nbformat": 4,
 "nbformat_minor": 2
}
