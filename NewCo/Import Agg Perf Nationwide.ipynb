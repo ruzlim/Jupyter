{
 "cells": [
  {
   "attachments": {},
   "cell_type": "markdown",
   "metadata": {},
   "source": [
    "# Import Agg Performance Nationwide Data"
   ]
  },
  {
   "cell_type": "code",
   "execution_count": 1,
   "metadata": {},
   "outputs": [],
   "source": [
    "import cx_Oracle\n",
    "import pandas as pd\n",
    "import numpy as np"
   ]
  },
  {
   "cell_type": "code",
   "execution_count": 2,
   "metadata": {},
   "outputs": [
    {
     "name": "stdout",
     "output_type": "stream",
     "text": [
      "TDMDBPR : Connected\n",
      "\n",
      "Execute query as Week 2023021...\n",
      "\n",
      "Done !!!\n",
      "\n",
      "TDMDBPR : Disconnected\n"
     ]
    }
   ],
   "source": [
    "conStr = 'NARUT_E01044451/v9VzR8xsuwp#tyTb@TDM-scan.dc2.true.th:1521/TDMDBPR'\n",
    "conn = cx_Oracle.connect(conStr)\n",
    "print('TDMDBPR : Connected')\n",
    "cur = conn.cursor()\n",
    "\n",
    "v_week = (2023021, )\n",
    "\n",
    "\n",
    "try:\n",
    "    # print(\"Database version:\", conn.version)\n",
    "    print(f'\\nExecute query as Week {v_week[0]}...')\n",
    "\n",
    "    sqlTxt = \"\"\"\n",
    "        SELECT TM_KEY_DAY, TM_KEY_WK, TM_KEY_MTH, TM_KEY_QTR, TM_KEY_YR, DAY_DESC, MONTH_DESC, QUARTER_DESC, COMP_CD, METRIC_CD, METRIC_NAME, ACTUAL_AS_OF, AGG_TYPE, RR_IND, GRY_IND, UOM, PERIOD, ACTUAL_SNAP, TARGET_SNAP, BASELINE_SNAP, ACH_SNAP, GAP_SNAP, ACTUAL_AGG, TARGET_AGG, BASELINE_AGG, ACH_AGG, GAP_AGG, WOW, WOW_PERCENT, MOM, MOM_PERCENT, QOQ, QOQ_PERCENT, YOY, YOY_PERCENT, RR, RR_ACH, WTD, MTD, QTD, YTD, CENTER, METRIC_GRP, PRODUCT_GRP, SEQ, PRIORITY, REMARK, AREA_TYPE, AREA_CD, AREA_NAME, REMARK_ACTUAL, REMARK_TARGET, PPN_TM, METRIC_NAME_GROUP\n",
    "        FROM GEOSPCAPPO.AGG_PERFORMANCE_NEWCO NOLOCK\n",
    "        WHERE AREA_TYPE = 'P'\n",
    "    \"\"\"\n",
    "    \n",
    "    cur.execute(sqlTxt)\n",
    "\n",
    "    print(f'\\nDone !!!')\n",
    "\n",
    "    rows = cur.fetchall()\n",
    "    \n",
    "    df = pd.DataFrame.from_records(rows, columns=[x[0] for x in cur.description])\n",
    "\n",
    "\n",
    "except cx_Oracle.DatabaseError as e:\n",
    "    print(f'Error with Oracle : {e}')\n",
    "\n",
    "\n",
    "finally:\n",
    "    cur.close()\n",
    "    conn.close()\n",
    "    print('\\nTDMDBPR : Disconnected')"
   ]
  },
  {
   "cell_type": "code",
   "execution_count": 3,
   "metadata": {},
   "outputs": [
    {
     "data": {
      "text/plain": [
       "(46080, 54)"
      ]
     },
     "execution_count": 3,
     "metadata": {},
     "output_type": "execute_result"
    }
   ],
   "source": [
    "df.shape"
   ]
  },
  {
   "cell_type": "code",
   "execution_count": null,
   "metadata": {},
   "outputs": [],
   "source": [
    "df.columns"
   ]
  },
  {
   "cell_type": "code",
   "execution_count": null,
   "metadata": {},
   "outputs": [],
   "source": [
    "df.dtypes"
   ]
  },
  {
   "cell_type": "code",
   "execution_count": null,
   "metadata": {},
   "outputs": [],
   "source": [
    "df.describe()"
   ]
  },
  {
   "cell_type": "code",
   "execution_count": 5,
   "metadata": {},
   "outputs": [
    {
     "data": {
      "text/html": [
       "<div>\n",
       "<style scoped>\n",
       "    .dataframe tbody tr th:only-of-type {\n",
       "        vertical-align: middle;\n",
       "    }\n",
       "\n",
       "    .dataframe tbody tr th {\n",
       "        vertical-align: top;\n",
       "    }\n",
       "\n",
       "    .dataframe thead th {\n",
       "        text-align: right;\n",
       "    }\n",
       "</style>\n",
       "<table border=\"1\" class=\"dataframe\">\n",
       "  <thead>\n",
       "    <tr style=\"text-align: right;\">\n",
       "      <th></th>\n",
       "      <th>TM_KEY_DAY</th>\n",
       "      <th>TM_KEY_WK</th>\n",
       "      <th>TM_KEY_MTH</th>\n",
       "      <th>TM_KEY_QTR</th>\n",
       "      <th>TM_KEY_YR</th>\n",
       "      <th>DAY_DESC</th>\n",
       "      <th>MONTH_DESC</th>\n",
       "      <th>QUARTER_DESC</th>\n",
       "      <th>COMP_CD</th>\n",
       "      <th>METRIC_CD</th>\n",
       "      <th>...</th>\n",
       "      <th>SEQ</th>\n",
       "      <th>PRIORITY</th>\n",
       "      <th>REMARK</th>\n",
       "      <th>AREA_TYPE</th>\n",
       "      <th>AREA_CD</th>\n",
       "      <th>AREA_NAME</th>\n",
       "      <th>REMARK_ACTUAL</th>\n",
       "      <th>REMARK_TARGET</th>\n",
       "      <th>PPN_TM</th>\n",
       "      <th>METRIC_NAME_GROUP</th>\n",
       "    </tr>\n",
       "  </thead>\n",
       "  <tbody>\n",
       "    <tr>\n",
       "      <th>0</th>\n",
       "      <td>20230301</td>\n",
       "      <td>2023009</td>\n",
       "      <td>202303</td>\n",
       "      <td>20231</td>\n",
       "      <td>2023</td>\n",
       "      <td>Wednesday</td>\n",
       "      <td>March</td>\n",
       "      <td>Quarter 1</td>\n",
       "      <td>TRUE</td>\n",
       "      <td>DIS10015</td>\n",
       "      <td>...</td>\n",
       "      <td>7015.0</td>\n",
       "      <td>High</td>\n",
       "      <td>None</td>\n",
       "      <td>P</td>\n",
       "      <td>P</td>\n",
       "      <td>Nationwide</td>\n",
       "      <td>None</td>\n",
       "      <td>None</td>\n",
       "      <td>2023-05-30 08:50:36</td>\n",
       "      <td>% After-Sales Service via Digital Channels</td>\n",
       "    </tr>\n",
       "    <tr>\n",
       "      <th>1</th>\n",
       "      <td>20230302</td>\n",
       "      <td>2023009</td>\n",
       "      <td>202303</td>\n",
       "      <td>20231</td>\n",
       "      <td>2023</td>\n",
       "      <td>Thursday</td>\n",
       "      <td>March</td>\n",
       "      <td>Quarter 1</td>\n",
       "      <td>TRUE</td>\n",
       "      <td>DIS10015</td>\n",
       "      <td>...</td>\n",
       "      <td>7015.0</td>\n",
       "      <td>High</td>\n",
       "      <td>None</td>\n",
       "      <td>P</td>\n",
       "      <td>P</td>\n",
       "      <td>Nationwide</td>\n",
       "      <td>None</td>\n",
       "      <td>None</td>\n",
       "      <td>2023-05-30 08:50:36</td>\n",
       "      <td>% After-Sales Service via Digital Channels</td>\n",
       "    </tr>\n",
       "    <tr>\n",
       "      <th>2</th>\n",
       "      <td>20230303</td>\n",
       "      <td>2023009</td>\n",
       "      <td>202303</td>\n",
       "      <td>20231</td>\n",
       "      <td>2023</td>\n",
       "      <td>Friday</td>\n",
       "      <td>March</td>\n",
       "      <td>Quarter 1</td>\n",
       "      <td>TRUE</td>\n",
       "      <td>DIS10015</td>\n",
       "      <td>...</td>\n",
       "      <td>7015.0</td>\n",
       "      <td>High</td>\n",
       "      <td>None</td>\n",
       "      <td>P</td>\n",
       "      <td>P</td>\n",
       "      <td>Nationwide</td>\n",
       "      <td>None</td>\n",
       "      <td>None</td>\n",
       "      <td>2023-05-30 08:50:36</td>\n",
       "      <td>% After-Sales Service via Digital Channels</td>\n",
       "    </tr>\n",
       "    <tr>\n",
       "      <th>3</th>\n",
       "      <td>20230304</td>\n",
       "      <td>2023009</td>\n",
       "      <td>202303</td>\n",
       "      <td>20231</td>\n",
       "      <td>2023</td>\n",
       "      <td>Saturday</td>\n",
       "      <td>March</td>\n",
       "      <td>Quarter 1</td>\n",
       "      <td>TRUE</td>\n",
       "      <td>DIS10015</td>\n",
       "      <td>...</td>\n",
       "      <td>7015.0</td>\n",
       "      <td>High</td>\n",
       "      <td>None</td>\n",
       "      <td>P</td>\n",
       "      <td>P</td>\n",
       "      <td>Nationwide</td>\n",
       "      <td>None</td>\n",
       "      <td>None</td>\n",
       "      <td>2023-05-30 08:50:36</td>\n",
       "      <td>% After-Sales Service via Digital Channels</td>\n",
       "    </tr>\n",
       "    <tr>\n",
       "      <th>4</th>\n",
       "      <td>20230305</td>\n",
       "      <td>2023009</td>\n",
       "      <td>202303</td>\n",
       "      <td>20231</td>\n",
       "      <td>2023</td>\n",
       "      <td>Sunday</td>\n",
       "      <td>March</td>\n",
       "      <td>Quarter 1</td>\n",
       "      <td>TRUE</td>\n",
       "      <td>DIS10015</td>\n",
       "      <td>...</td>\n",
       "      <td>7015.0</td>\n",
       "      <td>High</td>\n",
       "      <td>None</td>\n",
       "      <td>P</td>\n",
       "      <td>P</td>\n",
       "      <td>Nationwide</td>\n",
       "      <td>None</td>\n",
       "      <td>None</td>\n",
       "      <td>2023-05-30 08:50:36</td>\n",
       "      <td>% After-Sales Service via Digital Channels</td>\n",
       "    </tr>\n",
       "  </tbody>\n",
       "</table>\n",
       "<p>5 rows × 54 columns</p>\n",
       "</div>"
      ],
      "text/plain": [
       "   TM_KEY_DAY  TM_KEY_WK  TM_KEY_MTH  TM_KEY_QTR  TM_KEY_YR   DAY_DESC  \\\n",
       "0    20230301    2023009      202303       20231       2023  Wednesday   \n",
       "1    20230302    2023009      202303       20231       2023   Thursday   \n",
       "2    20230303    2023009      202303       20231       2023     Friday   \n",
       "3    20230304    2023009      202303       20231       2023   Saturday   \n",
       "4    20230305    2023009      202303       20231       2023     Sunday   \n",
       "\n",
       "  MONTH_DESC QUARTER_DESC COMP_CD METRIC_CD  ...     SEQ  PRIORITY REMARK  \\\n",
       "0      March    Quarter 1    TRUE  DIS10015  ...  7015.0      High   None   \n",
       "1      March    Quarter 1    TRUE  DIS10015  ...  7015.0      High   None   \n",
       "2      March    Quarter 1    TRUE  DIS10015  ...  7015.0      High   None   \n",
       "3      March    Quarter 1    TRUE  DIS10015  ...  7015.0      High   None   \n",
       "4      March    Quarter 1    TRUE  DIS10015  ...  7015.0      High   None   \n",
       "\n",
       "   AREA_TYPE AREA_CD   AREA_NAME REMARK_ACTUAL  REMARK_TARGET  \\\n",
       "0          P       P  Nationwide          None           None   \n",
       "1          P       P  Nationwide          None           None   \n",
       "2          P       P  Nationwide          None           None   \n",
       "3          P       P  Nationwide          None           None   \n",
       "4          P       P  Nationwide          None           None   \n",
       "\n",
       "               PPN_TM                           METRIC_NAME_GROUP  \n",
       "0 2023-05-30 08:50:36  % After-Sales Service via Digital Channels  \n",
       "1 2023-05-30 08:50:36  % After-Sales Service via Digital Channels  \n",
       "2 2023-05-30 08:50:36  % After-Sales Service via Digital Channels  \n",
       "3 2023-05-30 08:50:36  % After-Sales Service via Digital Channels  \n",
       "4 2023-05-30 08:50:36  % After-Sales Service via Digital Channels  \n",
       "\n",
       "[5 rows x 54 columns]"
      ]
     },
     "execution_count": 5,
     "metadata": {},
     "output_type": "execute_result"
    }
   ],
   "source": [
    "df.head()"
   ]
  },
  {
   "attachments": {},
   "cell_type": "markdown",
   "metadata": {},
   "source": [
    "## Generate Output file"
   ]
  },
  {
   "cell_type": "code",
   "execution_count": 6,
   "metadata": {},
   "outputs": [
    {
     "name": "stdout",
     "output_type": "stream",
     "text": [
      "\n",
      "\"Raw-Agg Perf Nationwide_Wk 2023021.csv\" is generated\n"
     ]
    }
   ],
   "source": [
    "# C:\\Users\\Narut4\\coding\\Jupyter\\Work with Oracle.ipynb\n",
    "\n",
    "output_name = f'Raw-Agg Perf Nationwide_Wk {v_week[0]}'\n",
    "\n",
    "df.to_csv(f'{output_name}.csv', index=False, encoding='utf-8')\n",
    "\n",
    "print(f'\\n\"{output_name}.csv\" is generated')"
   ]
  }
 ],
 "metadata": {
  "kernelspec": {
   "display_name": "py310",
   "language": "python",
   "name": "python3"
  },
  "language_info": {
   "codemirror_mode": {
    "name": "ipython",
    "version": 3
   },
   "file_extension": ".py",
   "mimetype": "text/x-python",
   "name": "python",
   "nbconvert_exporter": "python",
   "pygments_lexer": "ipython3",
   "version": "3.10.11"
  },
  "orig_nbformat": 4
 },
 "nbformat": 4,
 "nbformat_minor": 2
}
