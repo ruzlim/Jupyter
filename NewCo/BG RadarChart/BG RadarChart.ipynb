{
 "cells": [
  {
   "attachments": {},
   "cell_type": "markdown",
   "metadata": {},
   "source": [
    "# Business Growth Radar Chart"
   ]
  },
  {
   "attachments": {},
   "cell_type": "markdown",
   "metadata": {},
   "source": [
    "## Import Data Source"
   ]
  },
  {
   "cell_type": "code",
   "execution_count": 1,
   "metadata": {},
   "outputs": [],
   "source": [
    "import pandas as pd\n",
    "import numpy as np\n",
    "import matplotlib as mpl\n",
    "from matplotlib import pyplot as plt\n",
    "from matplotlib.gridspec import GridSpec\n",
    "from functools import reduce\n",
    "import datetime\n",
    "\n",
    "mpl.rcParams['axes.spines.top'] = False\n",
    "mpl.rcParams['axes.spines.right'] = False"
   ]
  },
  {
   "cell_type": "code",
   "execution_count": 2,
   "metadata": {},
   "outputs": [
    {
     "data": {
      "text/html": [
       "<div>\n",
       "<style scoped>\n",
       "    .dataframe tbody tr th:only-of-type {\n",
       "        vertical-align: middle;\n",
       "    }\n",
       "\n",
       "    .dataframe tbody tr th {\n",
       "        vertical-align: top;\n",
       "    }\n",
       "\n",
       "    .dataframe thead th {\n",
       "        text-align: right;\n",
       "    }\n",
       "</style>\n",
       "<table border=\"1\" class=\"dataframe\">\n",
       "  <thead>\n",
       "    <tr style=\"text-align: right;\">\n",
       "      <th></th>\n",
       "      <th>TM_KEY_DAY</th>\n",
       "      <th>TM_KEY_WK</th>\n",
       "      <th>TM_KEY_MTH</th>\n",
       "      <th>TM_KEY_QTR</th>\n",
       "      <th>TM_KEY_YR</th>\n",
       "      <th>METRIC_CD</th>\n",
       "      <th>METRIC_NAME</th>\n",
       "      <th>AGG_TYPE</th>\n",
       "      <th>ACTUAL_SNAP</th>\n",
       "      <th>ACTUAL_AGG</th>\n",
       "      <th>TARGET_SNAP</th>\n",
       "      <th>TARGET_AGG</th>\n",
       "      <th>PPN_TM</th>\n",
       "    </tr>\n",
       "  </thead>\n",
       "  <tbody>\n",
       "    <tr>\n",
       "      <th>0</th>\n",
       "      <td>20230301</td>\n",
       "      <td>2023009</td>\n",
       "      <td>202303</td>\n",
       "      <td>20231</td>\n",
       "      <td>2023</td>\n",
       "      <td>B2R000100</td>\n",
       "      <td>Postpaid Revenue</td>\n",
       "      <td>S</td>\n",
       "      <td>1.376380e+07</td>\n",
       "      <td>1.376380e+07</td>\n",
       "      <td>6.416632e+06</td>\n",
       "      <td>6.416632e+06</td>\n",
       "      <td>2023-06-22 08:49:59</td>\n",
       "    </tr>\n",
       "    <tr>\n",
       "      <th>1</th>\n",
       "      <td>20230302</td>\n",
       "      <td>2023009</td>\n",
       "      <td>202303</td>\n",
       "      <td>20231</td>\n",
       "      <td>2023</td>\n",
       "      <td>B2R000100</td>\n",
       "      <td>Postpaid Revenue</td>\n",
       "      <td>S</td>\n",
       "      <td>8.521882e+08</td>\n",
       "      <td>8.659520e+08</td>\n",
       "      <td>8.645637e+08</td>\n",
       "      <td>8.709803e+08</td>\n",
       "      <td>2023-06-22 08:49:59</td>\n",
       "    </tr>\n",
       "    <tr>\n",
       "      <th>2</th>\n",
       "      <td>20230303</td>\n",
       "      <td>2023009</td>\n",
       "      <td>202303</td>\n",
       "      <td>20231</td>\n",
       "      <td>2023</td>\n",
       "      <td>B2R000100</td>\n",
       "      <td>Postpaid Revenue</td>\n",
       "      <td>S</td>\n",
       "      <td>9.943611e+07</td>\n",
       "      <td>9.653881e+08</td>\n",
       "      <td>9.872504e+07</td>\n",
       "      <td>9.697053e+08</td>\n",
       "      <td>2023-06-22 08:49:59</td>\n",
       "    </tr>\n",
       "  </tbody>\n",
       "</table>\n",
       "</div>"
      ],
      "text/plain": [
       "   TM_KEY_DAY  TM_KEY_WK  TM_KEY_MTH  TM_KEY_QTR  TM_KEY_YR  METRIC_CD   \n",
       "0    20230301    2023009      202303       20231       2023  B2R000100  \\\n",
       "1    20230302    2023009      202303       20231       2023  B2R000100   \n",
       "2    20230303    2023009      202303       20231       2023  B2R000100   \n",
       "\n",
       "        METRIC_NAME AGG_TYPE   ACTUAL_SNAP    ACTUAL_AGG   TARGET_SNAP   \n",
       "0  Postpaid Revenue        S  1.376380e+07  1.376380e+07  6.416632e+06  \\\n",
       "1  Postpaid Revenue        S  8.521882e+08  8.659520e+08  8.645637e+08   \n",
       "2  Postpaid Revenue        S  9.943611e+07  9.653881e+08  9.872504e+07   \n",
       "\n",
       "     TARGET_AGG               PPN_TM  \n",
       "0  6.416632e+06  2023-06-22 08:49:59  \n",
       "1  8.709803e+08  2023-06-22 08:49:59  \n",
       "2  9.697053e+08  2023-06-22 08:49:59  "
      ]
     },
     "execution_count": 2,
     "metadata": {},
     "output_type": "execute_result"
    }
   ],
   "source": [
    "as_week = 2023024\n",
    "data_src = f\"../../data/raw/Raw-Agg Perf_Wk {as_week}.csv\"\n",
    "df_bg = pd.read_csv(data_src)\n",
    "\n",
    "cols = ['TM_KEY_DAY', 'TM_KEY_WK', 'TM_KEY_MTH', 'TM_KEY_QTR', 'TM_KEY_YR', 'METRIC_CD', 'METRIC_NAME', 'AGG_TYPE', 'ACTUAL_SNAP', 'ACTUAL_AGG', 'TARGET_SNAP', 'TARGET_AGG', 'PPN_TM']\n",
    "df_bg = df_bg[cols]\n",
    "df_bg.head(3)"
   ]
  },
  {
   "cell_type": "code",
   "execution_count": 3,
   "metadata": {},
   "outputs": [
    {
     "data": {
      "text/plain": [
       "(565, 13)"
      ]
     },
     "execution_count": 3,
     "metadata": {},
     "output_type": "execute_result"
    }
   ],
   "source": [
    "df_bg.shape"
   ]
  },
  {
   "cell_type": "code",
   "execution_count": 4,
   "metadata": {},
   "outputs": [
    {
     "data": {
      "text/plain": [
       "array(['Postpaid Revenue', 'Prepaid Revenue',\n",
       "       'TDG Revenue (Performance View)', 'TOL Revenue', 'TVS Revenue'],\n",
       "      dtype=object)"
      ]
     },
     "execution_count": 4,
     "metadata": {},
     "output_type": "execute_result"
    }
   ],
   "source": [
    "df_bg['METRIC_NAME'].unique()"
   ]
  },
  {
   "attachments": {},
   "cell_type": "markdown",
   "metadata": {},
   "source": [
    "## Data Preporation"
   ]
  },
  {
   "cell_type": "code",
   "execution_count": 5,
   "metadata": {},
   "outputs": [],
   "source": [
    "''' Dict '''\n",
    "\n",
    "weight_dict = {'Prepaid Revenue': 0.28, \n",
    "              'Postpaid Revenue': 0.45, \n",
    "              'TOL Revenue': 0.12, \n",
    "              'TVS Revenue': 0.04, \n",
    "              'TDG Revenue (Performance View)': 0.02}\n",
    "\n",
    "score_dict = {1: 0.8, \n",
    "              2: 0.9, \n",
    "              3: 1, \n",
    "              4: 1.1, \n",
    "              5: 1.2}"
   ]
  },
  {
   "cell_type": "code",
   "execution_count": 6,
   "metadata": {},
   "outputs": [],
   "source": [
    "''' Functions '''\n",
    "\n",
    "\n",
    "def unit_mb(baht):\n",
    "    n = baht\n",
    "\n",
    "    unit_mb = n / 1000000\n",
    "    \n",
    "    return unit_mb\n",
    "\n",
    "\n",
    "def weight_score(achv):\n",
    "    n = achv\n",
    "    score = 0\n",
    "\n",
    "    if n < score_dict[1]: score = 1 \n",
    "    elif n < score_dict[2]: score = (n-score_dict[1]) / (score_dict[2]-score_dict[1]) + 1\n",
    "    elif n < score_dict[3]: score = (n-score_dict[2]) / (score_dict[3]-score_dict[2]) + 2\n",
    "    elif n < score_dict[4]: score = (n-score_dict[3]) / (score_dict[4]-score_dict[3]) + 3\n",
    "    elif n < score_dict[5]: score = (n-score_dict[4]) / (score_dict[5]-score_dict[4]) + 4\n",
    "    elif n >= score_dict[5]: score = 5\n",
    "    else: score = 0\n",
    "\n",
    "    return score"
   ]
  },
  {
   "cell_type": "code",
   "execution_count": 7,
   "metadata": {},
   "outputs": [],
   "source": [
    "''' Rawdata '''\n",
    "\n",
    "''' Filters '''\n",
    "# df_bg = df_bg[df_bg['TM_KEY_MTH'] <= 202306] # MONTH filter\n",
    "# df_bg = df_bg[df_bg['TM_KEY_WK'] <= 2023024] # WEEK filter\n",
    "# df_bg = df_bg[df_bg['TM_KEY_DAY'] <= 20230620] # DAY filter\n",
    "\n",
    "''' Modify '''\n",
    "df_bg = df_bg.rename(columns={'ACTUAL_SNAP':'ACT_SNAP', 'ACTUAL_AGG':'ACT_AGG', 'TARGET_SNAP':'TGT_SNAP', 'TARGET_AGG':'TGT_AGG'})\n",
    "\n",
    "''' Add new column '''\n",
    "df_bg['MTH_DESC'] = pd.to_datetime(df_bg['TM_KEY_MTH'], format='%Y%m', errors='coerce').dt.strftime('%B')\n",
    "df_bg['WK_LABEL'] = df_bg['TM_KEY_WK'].apply(str).str[5:].astype(int)\n",
    "df_bg['DAY_LABEL'] = df_bg['TM_KEY_DAY'].apply(str).str[6:].astype(int)"
   ]
  },
  {
   "cell_type": "code",
   "execution_count": 8,
   "metadata": {},
   "outputs": [],
   "source": [
    "''' Create Dataframe '''\n",
    "\n",
    "''' Aggregate type : S '''\n",
    "df_agg_s = df_bg[df_bg['AGG_TYPE']=='S']\n",
    "\n",
    "''' Aggregate type : N '''\n",
    "df_agg_n = df_bg[df_bg['AGG_TYPE']=='N'].dropna(subset='ACT_SNAP')"
   ]
  },
  {
   "cell_type": "code",
   "execution_count": 9,
   "metadata": {},
   "outputs": [],
   "source": [
    "''' Period Values '''\n",
    "\n",
    "curr_yr = df_bg['TM_KEY_YR'].max()\n",
    "last_yr = df_bg['TM_KEY_YR'].max() - 1\n",
    "curr_mth = df_bg['TM_KEY_MTH'].max()\n",
    "curr_mth_desc = pd.to_datetime(curr_mth, format='%Y%m', errors='coerce').strftime('%B')\n",
    "last_mth = int(f'{str(last_yr)}12') if str(curr_mth)[4:]=='01' else curr_mth-1\n",
    "curr_wk = df_bg['TM_KEY_WK'].max()\n",
    "last_wk = df_bg['TM_KEY_WK'].drop_duplicates().shift().max()\n",
    "curr_wk_label = df_bg['WK_LABEL'].iloc[-1]\n",
    "curr_day = df_bg['TM_KEY_DAY'].max()\n",
    "last_day = df_bg['TM_KEY_DAY'].drop_duplicates().shift().max()\n",
    "curr_day_label = df_bg['DAY_LABEL'].iloc[-1]\n",
    "last_ppn_tm = df_bg['PPN_TM'].max()\n",
    "\n",
    "wk_day_start = int(str(df_bg[df_bg['TM_KEY_WK']==curr_wk]['TM_KEY_DAY'].min())[6:])\n",
    "wk_day_end = int(str(df_bg[df_bg['TM_KEY_WK']==curr_wk]['TM_KEY_DAY'].max())[6:])"
   ]
  },
  {
   "attachments": {},
   "cell_type": "markdown",
   "metadata": {},
   "source": [
    "## ** Yearly **"
   ]
  },
  {
   "attachments": {},
   "cell_type": "markdown",
   "metadata": {},
   "source": [
    "### YR : Aggregation"
   ]
  },
  {
   "cell_type": "code",
   "execution_count": 10,
   "metadata": {},
   "outputs": [
    {
     "data": {
      "text/html": [
       "<div>\n",
       "<style scoped>\n",
       "    .dataframe tbody tr th:only-of-type {\n",
       "        vertical-align: middle;\n",
       "    }\n",
       "\n",
       "    .dataframe tbody tr th {\n",
       "        vertical-align: top;\n",
       "    }\n",
       "\n",
       "    .dataframe thead th {\n",
       "        text-align: right;\n",
       "    }\n",
       "</style>\n",
       "<table border=\"1\" class=\"dataframe\">\n",
       "  <thead>\n",
       "    <tr style=\"text-align: right;\">\n",
       "      <th></th>\n",
       "      <th>METRIC_CD</th>\n",
       "      <th>METRIC_NAME</th>\n",
       "      <th>TM_KEY_YR</th>\n",
       "      <th>AGG_TYPE</th>\n",
       "      <th>ACT_SNAP</th>\n",
       "      <th>TGT_SNAP</th>\n",
       "      <th>BASELINE</th>\n",
       "      <th>%ACHV</th>\n",
       "      <th>WEIGHT</th>\n",
       "      <th>WEIGHT_ACT</th>\n",
       "    </tr>\n",
       "  </thead>\n",
       "  <tbody>\n",
       "    <tr>\n",
       "      <th>0</th>\n",
       "      <td>B1R000100</td>\n",
       "      <td>Prepaid Revenue</td>\n",
       "      <td>2023</td>\n",
       "      <td>S</td>\n",
       "      <td>1.329163e+10</td>\n",
       "      <td>1.334196e+10</td>\n",
       "      <td>0.0</td>\n",
       "      <td>0.996228</td>\n",
       "      <td>0.28</td>\n",
       "      <td>0.278944</td>\n",
       "    </tr>\n",
       "    <tr>\n",
       "      <th>1</th>\n",
       "      <td>B2R000100</td>\n",
       "      <td>Postpaid Revenue</td>\n",
       "      <td>2023</td>\n",
       "      <td>S</td>\n",
       "      <td>2.405308e+10</td>\n",
       "      <td>2.434912e+10</td>\n",
       "      <td>0.0</td>\n",
       "      <td>0.987842</td>\n",
       "      <td>0.45</td>\n",
       "      <td>0.444529</td>\n",
       "    </tr>\n",
       "    <tr>\n",
       "      <th>2</th>\n",
       "      <td>TB3R000100</td>\n",
       "      <td>TOL Revenue</td>\n",
       "      <td>2023</td>\n",
       "      <td>S</td>\n",
       "      <td>5.057140e+09</td>\n",
       "      <td>5.559712e+09</td>\n",
       "      <td>0.0</td>\n",
       "      <td>0.909605</td>\n",
       "      <td>0.12</td>\n",
       "      <td>0.109153</td>\n",
       "    </tr>\n",
       "    <tr>\n",
       "      <th>3</th>\n",
       "      <td>TB4R000100</td>\n",
       "      <td>TVS Revenue</td>\n",
       "      <td>2023</td>\n",
       "      <td>S</td>\n",
       "      <td>1.090575e+09</td>\n",
       "      <td>1.432222e+09</td>\n",
       "      <td>0.0</td>\n",
       "      <td>0.761457</td>\n",
       "      <td>0.04</td>\n",
       "      <td>0.030458</td>\n",
       "    </tr>\n",
       "    <tr>\n",
       "      <th>336</th>\n",
       "      <td>TNSC00142</td>\n",
       "      <td>TDG Revenue (Performance View)</td>\n",
       "      <td>2023</td>\n",
       "      <td>N</td>\n",
       "      <td>5.180000e+08</td>\n",
       "      <td>4.600000e+08</td>\n",
       "      <td>0.0</td>\n",
       "      <td>1.126087</td>\n",
       "      <td>0.02</td>\n",
       "      <td>0.022522</td>\n",
       "    </tr>\n",
       "  </tbody>\n",
       "</table>\n",
       "</div>"
      ],
      "text/plain": [
       "      METRIC_CD                     METRIC_NAME  TM_KEY_YR AGG_TYPE   \n",
       "0     B1R000100                 Prepaid Revenue       2023        S  \\\n",
       "1     B2R000100                Postpaid Revenue       2023        S   \n",
       "2    TB3R000100                     TOL Revenue       2023        S   \n",
       "3    TB4R000100                     TVS Revenue       2023        S   \n",
       "336   TNSC00142  TDG Revenue (Performance View)       2023        N   \n",
       "\n",
       "         ACT_SNAP      TGT_SNAP  BASELINE     %ACHV  WEIGHT  WEIGHT_ACT  \n",
       "0    1.329163e+10  1.334196e+10       0.0  0.996228    0.28    0.278944  \n",
       "1    2.405308e+10  2.434912e+10       0.0  0.987842    0.45    0.444529  \n",
       "2    5.057140e+09  5.559712e+09       0.0  0.909605    0.12    0.109153  \n",
       "3    1.090575e+09  1.432222e+09       0.0  0.761457    0.04    0.030458  \n",
       "336  5.180000e+08  4.600000e+08       0.0  1.126087    0.02    0.022522  "
      ]
     },
     "execution_count": 10,
     "metadata": {},
     "output_type": "execute_result"
    }
   ],
   "source": [
    "''' Create Dataframe '''\n",
    "\n",
    "df_agg_s_yr = df_agg_s.groupby(['METRIC_CD', 'METRIC_NAME', 'TM_KEY_YR', 'AGG_TYPE']).agg({'ACT_SNAP': 'sum', 'TGT_SNAP': 'sum'}).reset_index()\n",
    "df_agg_n_yr = df_agg_n.loc[df_agg_n.groupby('TM_KEY_YR')['TM_KEY_DAY'].idxmax(), ['METRIC_CD', 'METRIC_NAME', 'TM_KEY_YR', 'AGG_TYPE', 'ACT_SNAP', 'TGT_SNAP']]\n",
    "df_rev_yr = pd.concat([df_agg_s_yr, df_agg_n_yr])\n",
    "\n",
    "''' YTD '''\n",
    "df_rev_yr = df_rev_yr[df_rev_yr['TM_KEY_YR']==curr_yr]\n",
    "\n",
    "''' Aggregation '''\n",
    "df_rev_yr['BASELINE'] = df_rev_yr.groupby('METRIC_CD')['ACT_SNAP'].shift().fillna(0)\n",
    "df_rev_yr['%ACHV'] = (df_rev_yr['ACT_SNAP']-df_rev_yr['BASELINE']) / (df_rev_yr['TGT_SNAP']-df_rev_yr['BASELINE'])\n",
    "df_rev_yr['%ACHV'] = np.where(df_rev_yr['%ACHV'] < 1.2, df_rev_yr['%ACHV'], 1.2)\n",
    "df_rev_yr['WEIGHT'] = df_rev_yr['METRIC_NAME'].map(weight_dict)\n",
    "df_rev_yr['WEIGHT_ACT'] = df_rev_yr['%ACHV'] * df_rev_yr['WEIGHT']\n",
    "\n",
    "df_rev_yr"
   ]
  },
  {
   "cell_type": "code",
   "execution_count": 11,
   "metadata": {},
   "outputs": [
    {
     "data": {
      "text/plain": [
       "2.731926320275357"
      ]
     },
     "execution_count": 11,
     "metadata": {},
     "output_type": "execute_result"
    }
   ],
   "source": [
    "''' YTD Values '''\n",
    "\n",
    "ytd_bg_achv = df_rev_yr['WEIGHT_ACT'].sum() / df_rev_yr['WEIGHT'].sum()\n",
    "ytd_bg_act = df_rev_yr['ACT_SNAP'].sum()\n",
    "ytd_bg_tgt = df_rev_yr['TGT_SNAP'].sum()\n",
    "ytd_bg_score = weight_score(ytd_bg_achv)\n",
    "\n",
    "ytd_bg_score"
   ]
  },
  {
   "attachments": {},
   "cell_type": "markdown",
   "metadata": {},
   "source": [
    "### YR : Visualizations"
   ]
  },
  {
   "cell_type": "code",
   "execution_count": 12,
   "metadata": {},
   "outputs": [
    {
     "data": {
      "image/png": "[encoded data removed]",
      "text/plain": [
       "<Figure size 1400x100 with 2 Axes>"
      ]
     },
     "metadata": {},
     "output_type": "display_data"
    }
   ],
   "source": [
    "\n",
    "fig = plt.figure(figsize=(14, 1))\n",
    "gs = GridSpec(2, 1)\n",
    "ax1 = fig.add_subplot(gs[0, :])\n",
    "ax2 = fig.add_subplot(gs[1, :])\n",
    "\n",
    "ax1.text(0.5, 0.5, f\"Business Growth : Y{curr_yr}\", size=25, ha='center', va='center', weight='bold')\n",
    "ax1.spines[['top','left','right','bottom']].set_visible(False)\n",
    "ax1.set_axis_off()\n",
    "\n",
    "ax2.text(0.5, 0.5, f\"YTD (1 March - {curr_day_label} {curr_mth_desc})\", size=16, ha='center', va='center')\n",
    "ax2.spines[['top','left','right','bottom']].set_visible(False)\n",
    "ax2.set_axis_off()\n",
    "\n",
    "fig.tight_layout()\n",
    "plt.show()"
   ]
  },
  {
   "cell_type": "code",
   "execution_count": 13,
   "metadata": {},
   "outputs": [
    {
     "data": {
      "image/png": "[encoded data removed]",
      "text/plain": [
       "<Figure size 1400x100 with 4 Axes>"
      ]
     },
     "metadata": {},
     "output_type": "display_data"
    }
   ],
   "source": [
    "''' YTD Summary '''\n",
    "\n",
    "fig = plt.figure(figsize=(14, 1))\n",
    "gs = GridSpec(1, 4)\n",
    "ax1 = fig.add_subplot(gs[:, 0])\n",
    "ax2 = fig.add_subplot(gs[:, 1])\n",
    "ax3 = fig.add_subplot(gs[:, 2])\n",
    "ax4 = fig.add_subplot(gs[:, 3])\n",
    "\n",
    "ax1.text(0.5, 0.5, f\"Act: {format(unit_mb(ytd_bg_act),',.1f')} M\", size=22, ha='center', va='center')\n",
    "ax1.spines[['top','left','right','bottom']].set_visible(False)\n",
    "ax1.set_axis_off()\n",
    "\n",
    "ax2.text(0.5, 0.5, f\"Tgt: {format(unit_mb(ytd_bg_tgt),',.1f')} M\", size=22, ha='center', va='center')\n",
    "ax2.spines[['top','left','right','bottom']].set_visible(False)\n",
    "ax2.set_axis_off()\n",
    "\n",
    "ax3.text(0.5, 0.5, f\"Ach: {format(ytd_bg_achv,',.1%')}\", size=22, ha='center', va='center')\n",
    "ax3.spines[['top','left','right','bottom']].set_visible(False)\n",
    "ax3.set_axis_off()\n",
    "\n",
    "ax4.text(0.5, 0.5, f\"Score: {format(ytd_bg_score,',.2f')}\", size=22, ha='center', va='center')\n",
    "ax4.spines[['top','left','right','bottom']].set_visible(False)\n",
    "ax4.set_axis_off()\n",
    "\n",
    "fig.tight_layout()\n",
    "plt.show()"
   ]
  },
  {
   "attachments": {},
   "cell_type": "markdown",
   "metadata": {},
   "source": [
    "## ** Monthly **"
   ]
  },
  {
   "attachments": {},
   "cell_type": "markdown",
   "metadata": {},
   "source": [
    "### MTH : Aggregation"
   ]
  },
  {
   "cell_type": "code",
   "execution_count": 14,
   "metadata": {},
   "outputs": [
    {
     "data": {
      "text/html": [
       "<div>\n",
       "<style scoped>\n",
       "    .dataframe tbody tr th:only-of-type {\n",
       "        vertical-align: middle;\n",
       "    }\n",
       "\n",
       "    .dataframe tbody tr th {\n",
       "        vertical-align: top;\n",
       "    }\n",
       "\n",
       "    .dataframe thead th {\n",
       "        text-align: right;\n",
       "    }\n",
       "</style>\n",
       "<table border=\"1\" class=\"dataframe\">\n",
       "  <thead>\n",
       "    <tr style=\"text-align: right;\">\n",
       "      <th></th>\n",
       "      <th>METRIC_CD</th>\n",
       "      <th>METRIC_NAME</th>\n",
       "      <th>TM_KEY_MTH</th>\n",
       "      <th>MTH_DESC</th>\n",
       "      <th>AGG_TYPE</th>\n",
       "      <th>ACT_SNAP</th>\n",
       "      <th>TGT_SNAP</th>\n",
       "      <th>BASELINE</th>\n",
       "      <th>%ACHV</th>\n",
       "      <th>WEIGHT</th>\n",
       "      <th>WEIGHT_ACT</th>\n",
       "    </tr>\n",
       "  </thead>\n",
       "  <tbody>\n",
       "    <tr>\n",
       "      <th>3</th>\n",
       "      <td>B1R000100</td>\n",
       "      <td>Prepaid Revenue</td>\n",
       "      <td>202306</td>\n",
       "      <td>June</td>\n",
       "      <td>S</td>\n",
       "      <td>2.289664e+09</td>\n",
       "      <td>2.319163e+09</td>\n",
       "      <td>0.0</td>\n",
       "      <td>0.987280</td>\n",
       "      <td>0.28</td>\n",
       "      <td>0.276438</td>\n",
       "    </tr>\n",
       "    <tr>\n",
       "      <th>7</th>\n",
       "      <td>B2R000100</td>\n",
       "      <td>Postpaid Revenue</td>\n",
       "      <td>202306</td>\n",
       "      <td>June</td>\n",
       "      <td>S</td>\n",
       "      <td>4.213153e+09</td>\n",
       "      <td>4.385945e+09</td>\n",
       "      <td>0.0</td>\n",
       "      <td>0.960603</td>\n",
       "      <td>0.45</td>\n",
       "      <td>0.432271</td>\n",
       "    </tr>\n",
       "    <tr>\n",
       "      <th>11</th>\n",
       "      <td>TB3R000100</td>\n",
       "      <td>TOL Revenue</td>\n",
       "      <td>202306</td>\n",
       "      <td>June</td>\n",
       "      <td>S</td>\n",
       "      <td>9.779204e+08</td>\n",
       "      <td>1.039215e+09</td>\n",
       "      <td>0.0</td>\n",
       "      <td>0.941018</td>\n",
       "      <td>0.12</td>\n",
       "      <td>0.112922</td>\n",
       "    </tr>\n",
       "    <tr>\n",
       "      <th>15</th>\n",
       "      <td>TB4R000100</td>\n",
       "      <td>TVS Revenue</td>\n",
       "      <td>202306</td>\n",
       "      <td>June</td>\n",
       "      <td>S</td>\n",
       "      <td>1.685308e+08</td>\n",
       "      <td>1.913725e+08</td>\n",
       "      <td>0.0</td>\n",
       "      <td>0.880643</td>\n",
       "      <td>0.04</td>\n",
       "      <td>0.035226</td>\n",
       "    </tr>\n",
       "    <tr>\n",
       "      <th>336</th>\n",
       "      <td>TNSC00142</td>\n",
       "      <td>TDG Revenue (Performance View)</td>\n",
       "      <td>202306</td>\n",
       "      <td>June</td>\n",
       "      <td>N</td>\n",
       "      <td>5.180000e+08</td>\n",
       "      <td>4.600000e+08</td>\n",
       "      <td>0.0</td>\n",
       "      <td>1.126087</td>\n",
       "      <td>0.02</td>\n",
       "      <td>0.022522</td>\n",
       "    </tr>\n",
       "  </tbody>\n",
       "</table>\n",
       "</div>"
      ],
      "text/plain": [
       "      METRIC_CD                     METRIC_NAME  TM_KEY_MTH MTH_DESC AGG_TYPE   \n",
       "3     B1R000100                 Prepaid Revenue      202306     June        S  \\\n",
       "7     B2R000100                Postpaid Revenue      202306     June        S   \n",
       "11   TB3R000100                     TOL Revenue      202306     June        S   \n",
       "15   TB4R000100                     TVS Revenue      202306     June        S   \n",
       "336   TNSC00142  TDG Revenue (Performance View)      202306     June        N   \n",
       "\n",
       "         ACT_SNAP      TGT_SNAP  BASELINE     %ACHV  WEIGHT  WEIGHT_ACT  \n",
       "3    2.289664e+09  2.319163e+09       0.0  0.987280    0.28    0.276438  \n",
       "7    4.213153e+09  4.385945e+09       0.0  0.960603    0.45    0.432271  \n",
       "11   9.779204e+08  1.039215e+09       0.0  0.941018    0.12    0.112922  \n",
       "15   1.685308e+08  1.913725e+08       0.0  0.880643    0.04    0.035226  \n",
       "336  5.180000e+08  4.600000e+08       0.0  1.126087    0.02    0.022522  "
      ]
     },
     "execution_count": 14,
     "metadata": {},
     "output_type": "execute_result"
    }
   ],
   "source": [
    "''' Create Dataframe '''\n",
    "\n",
    "df_agg_s_mth = df_agg_s.groupby(['METRIC_CD', 'METRIC_NAME', 'TM_KEY_MTH', 'MTH_DESC', 'AGG_TYPE']).agg({'ACT_SNAP': 'sum', 'TGT_SNAP': 'sum'}).reset_index()\n",
    "df_agg_n_mth = df_agg_n.loc[df_agg_n.groupby('TM_KEY_MTH')['TM_KEY_DAY'].idxmax(), ['METRIC_CD', 'METRIC_NAME', 'TM_KEY_MTH', 'MTH_DESC', 'AGG_TYPE', 'ACT_SNAP', 'TGT_SNAP']]\n",
    "df_rev_mth = pd.concat([df_agg_s_mth, df_agg_n_mth])\n",
    "\n",
    "''' MTD '''\n",
    "df_rev_mth = df_rev_mth[df_rev_mth['TM_KEY_MTH']==curr_mth]\n",
    "\n",
    "''' Aggregation '''\n",
    "df_rev_mth['BASELINE'] = df_rev_mth.groupby('METRIC_CD')['ACT_SNAP'].shift().fillna(0)\n",
    "df_rev_mth['%ACHV'] = (df_rev_mth['ACT_SNAP']-df_rev_mth['BASELINE']) / (df_rev_mth['TGT_SNAP']-df_rev_mth['BASELINE'])\n",
    "df_rev_mth['%ACHV'] = np.where(df_rev_mth['%ACHV'] < 1.2, df_rev_mth['%ACHV'], 1.2)\n",
    "df_rev_mth['WEIGHT'] = df_rev_mth['METRIC_NAME'].map(weight_dict)\n",
    "df_rev_mth['WEIGHT_ACT'] = df_rev_mth['%ACHV'] * df_rev_mth['WEIGHT']\n",
    "\n",
    "df_rev_mth"
   ]
  },
  {
   "cell_type": "code",
   "execution_count": 15,
   "metadata": {},
   "outputs": [
    {
     "data": {
      "text/plain": [
       "2.663511529324894"
      ]
     },
     "execution_count": 15,
     "metadata": {},
     "output_type": "execute_result"
    }
   ],
   "source": [
    "''' MTD Values '''\n",
    "\n",
    "mtd_bg_achv = df_rev_mth['WEIGHT_ACT'].sum() / df_rev_mth['WEIGHT'].sum()\n",
    "mtd_bg_act = df_rev_mth['ACT_SNAP'].sum()\n",
    "mtd_bg_tgt = df_rev_mth['TGT_SNAP'].sum()\n",
    "mtd_bg_score = weight_score(mtd_bg_achv)\n",
    "\n",
    "mtd_bg_score"
   ]
  },
  {
   "attachments": {},
   "cell_type": "markdown",
   "metadata": {},
   "source": [
    "### MTH : Visualizations"
   ]
  },
  {
   "cell_type": "code",
   "execution_count": 16,
   "metadata": {},
   "outputs": [
    {
     "data": {
      "image/png": "[encoded data removed]",
      "text/plain": [
       "<Figure size 1400x100 with 2 Axes>"
      ]
     },
     "metadata": {},
     "output_type": "display_data"
    }
   ],
   "source": [
    "\n",
    "fig = plt.figure(figsize=(14, 1))\n",
    "gs = GridSpec(2, 1)\n",
    "ax1 = fig.add_subplot(gs[0, :])\n",
    "ax2 = fig.add_subplot(gs[1, :])\n",
    "\n",
    "ax1.text(0.5, 0.5, f\"Business Growth : {curr_mth_desc} {curr_yr}\", size=25, ha='center', va='center', weight='bold')\n",
    "ax1.spines[['top','left','right','bottom']].set_visible(False)\n",
    "ax1.set_axis_off()\n",
    "\n",
    "ax2.text(0.5, 0.5, f\"MTD (1 - {curr_day_label} {curr_mth_desc})\", size=16, ha='center', va='center')\n",
    "ax2.spines[['top','left','right','bottom']].set_visible(False)\n",
    "ax2.set_axis_off()\n",
    "\n",
    "fig.tight_layout()\n",
    "plt.show()"
   ]
  },
  {
   "cell_type": "code",
   "execution_count": 17,
   "metadata": {},
   "outputs": [
    {
     "data": {
      "image/png": "[encoded data removed]",
      "text/plain": [
       "<Figure size 1400x100 with 4 Axes>"
      ]
     },
     "metadata": {},
     "output_type": "display_data"
    }
   ],
   "source": [
    "''' MTD Summary '''\n",
    "\n",
    "fig = plt.figure(figsize=(14, 1))\n",
    "gs = GridSpec(1, 4)\n",
    "ax1 = fig.add_subplot(gs[:, 0])\n",
    "ax2 = fig.add_subplot(gs[:, 1])\n",
    "ax3 = fig.add_subplot(gs[:, 2])\n",
    "ax4 = fig.add_subplot(gs[:, 3])\n",
    "\n",
    "ax1.text(0.5, 0.5, f\"Act: {format(unit_mb(mtd_bg_act),',.1f')} M\", size=22, ha='center', va='center')\n",
    "ax1.spines[['top','left','right','bottom']].set_visible(False)\n",
    "ax1.set_axis_off()\n",
    "\n",
    "ax2.text(0.5, 0.5, f\"Tgt: {format(unit_mb(mtd_bg_tgt),',.1f')} M\", size=22, ha='center', va='center')\n",
    "ax2.spines[['top','left','right','bottom']].set_visible(False)\n",
    "ax2.set_axis_off()\n",
    "\n",
    "ax3.text(0.5, 0.5, f\"Ach: {format(mtd_bg_achv,',.1%')}\", size=22, ha='center', va='center')\n",
    "ax3.spines[['top','left','right','bottom']].set_visible(False)\n",
    "ax3.set_axis_off()\n",
    "\n",
    "ax4.text(0.5, 0.5, f\"Score: {format(mtd_bg_score,',.2f')}\", size=22, ha='center', va='center')\n",
    "ax4.spines[['top','left','right','bottom']].set_visible(False)\n",
    "ax4.set_axis_off()\n",
    "\n",
    "fig.tight_layout()\n",
    "plt.show()"
   ]
  },
  {
   "attachments": {},
   "cell_type": "markdown",
   "metadata": {},
   "source": [
    "## ** Weekly **"
   ]
  },
  {
   "attachments": {},
   "cell_type": "markdown",
   "metadata": {},
   "source": [
    "### WK : Aggregation"
   ]
  },
  {
   "cell_type": "code",
   "execution_count": 18,
   "metadata": {},
   "outputs": [
    {
     "data": {
      "text/html": [
       "<div>\n",
       "<style scoped>\n",
       "    .dataframe tbody tr th:only-of-type {\n",
       "        vertical-align: middle;\n",
       "    }\n",
       "\n",
       "    .dataframe tbody tr th {\n",
       "        vertical-align: top;\n",
       "    }\n",
       "\n",
       "    .dataframe thead th {\n",
       "        text-align: right;\n",
       "    }\n",
       "</style>\n",
       "<table border=\"1\" class=\"dataframe\">\n",
       "  <thead>\n",
       "    <tr style=\"text-align: right;\">\n",
       "      <th></th>\n",
       "      <th>METRIC_CD</th>\n",
       "      <th>METRIC_NAME</th>\n",
       "      <th>TM_KEY_WK</th>\n",
       "      <th>WK_LABEL</th>\n",
       "      <th>AGG_TYPE</th>\n",
       "      <th>ACT_SNAP</th>\n",
       "      <th>TGT_SNAP</th>\n",
       "      <th>DAY_LABEL</th>\n",
       "      <th>BASELINE</th>\n",
       "      <th>%ACHV</th>\n",
       "      <th>WEIGHT</th>\n",
       "      <th>WEIGHT_ACT</th>\n",
       "    </tr>\n",
       "  </thead>\n",
       "  <tbody>\n",
       "    <tr>\n",
       "      <th>16</th>\n",
       "      <td>B1R000100</td>\n",
       "      <td>Prepaid Revenue</td>\n",
       "      <td>2023025</td>\n",
       "      <td>25</td>\n",
       "      <td>S</td>\n",
       "      <td>1.166162e+08</td>\n",
       "      <td>1.189196e+08</td>\n",
       "      <td>19.0</td>\n",
       "      <td>0.0</td>\n",
       "      <td>0.980631</td>\n",
       "      <td>0.28</td>\n",
       "      <td>0.274577</td>\n",
       "    </tr>\n",
       "    <tr>\n",
       "      <th>33</th>\n",
       "      <td>B2R000100</td>\n",
       "      <td>Postpaid Revenue</td>\n",
       "      <td>2023025</td>\n",
       "      <td>25</td>\n",
       "      <td>S</td>\n",
       "      <td>4.364674e+08</td>\n",
       "      <td>4.651401e+08</td>\n",
       "      <td>19.0</td>\n",
       "      <td>0.0</td>\n",
       "      <td>0.938357</td>\n",
       "      <td>0.45</td>\n",
       "      <td>0.422261</td>\n",
       "    </tr>\n",
       "    <tr>\n",
       "      <th>50</th>\n",
       "      <td>TB3R000100</td>\n",
       "      <td>TOL Revenue</td>\n",
       "      <td>2023025</td>\n",
       "      <td>25</td>\n",
       "      <td>S</td>\n",
       "      <td>1.477397e+08</td>\n",
       "      <td>1.602484e+08</td>\n",
       "      <td>19.0</td>\n",
       "      <td>0.0</td>\n",
       "      <td>0.921942</td>\n",
       "      <td>0.12</td>\n",
       "      <td>0.110633</td>\n",
       "    </tr>\n",
       "    <tr>\n",
       "      <th>67</th>\n",
       "      <td>TB4R000100</td>\n",
       "      <td>TVS Revenue</td>\n",
       "      <td>2023025</td>\n",
       "      <td>25</td>\n",
       "      <td>S</td>\n",
       "      <td>2.481360e+07</td>\n",
       "      <td>2.811601e+07</td>\n",
       "      <td>19.0</td>\n",
       "      <td>0.0</td>\n",
       "      <td>0.882543</td>\n",
       "      <td>0.04</td>\n",
       "      <td>0.035302</td>\n",
       "    </tr>\n",
       "    <tr>\n",
       "      <th>336</th>\n",
       "      <td>TNSC00142</td>\n",
       "      <td>TDG Revenue (Performance View)</td>\n",
       "      <td>2023025</td>\n",
       "      <td>25</td>\n",
       "      <td>N</td>\n",
       "      <td>5.180000e+08</td>\n",
       "      <td>4.600000e+08</td>\n",
       "      <td>NaN</td>\n",
       "      <td>0.0</td>\n",
       "      <td>1.126087</td>\n",
       "      <td>0.02</td>\n",
       "      <td>0.022522</td>\n",
       "    </tr>\n",
       "  </tbody>\n",
       "</table>\n",
       "</div>"
      ],
      "text/plain": [
       "      METRIC_CD                     METRIC_NAME  TM_KEY_WK  WK_LABEL AGG_TYPE   \n",
       "16    B1R000100                 Prepaid Revenue    2023025        25        S  \\\n",
       "33    B2R000100                Postpaid Revenue    2023025        25        S   \n",
       "50   TB3R000100                     TOL Revenue    2023025        25        S   \n",
       "67   TB4R000100                     TVS Revenue    2023025        25        S   \n",
       "336   TNSC00142  TDG Revenue (Performance View)    2023025        25        N   \n",
       "\n",
       "         ACT_SNAP      TGT_SNAP  DAY_LABEL  BASELINE     %ACHV  WEIGHT   \n",
       "16   1.166162e+08  1.189196e+08       19.0       0.0  0.980631    0.28  \\\n",
       "33   4.364674e+08  4.651401e+08       19.0       0.0  0.938357    0.45   \n",
       "50   1.477397e+08  1.602484e+08       19.0       0.0  0.921942    0.12   \n",
       "67   2.481360e+07  2.811601e+07       19.0       0.0  0.882543    0.04   \n",
       "336  5.180000e+08  4.600000e+08        NaN       0.0  1.126087    0.02   \n",
       "\n",
       "     WEIGHT_ACT  \n",
       "16     0.274577  \n",
       "33     0.422261  \n",
       "50     0.110633  \n",
       "67     0.035302  \n",
       "336    0.022522  "
      ]
     },
     "execution_count": 18,
     "metadata": {},
     "output_type": "execute_result"
    }
   ],
   "source": [
    "''' Create Dataframe '''\n",
    "\n",
    "df_agg_s_wk = df_agg_s.groupby(['METRIC_CD', 'METRIC_NAME', 'TM_KEY_WK', 'WK_LABEL', 'AGG_TYPE']).agg({'ACT_SNAP': 'sum', 'TGT_SNAP': 'sum', 'DAY_LABEL': 'min'}).reset_index()\n",
    "df_agg_n_wk = df_agg_n.loc[df_agg_n.groupby('TM_KEY_WK')['TM_KEY_DAY'].idxmax(), ['METRIC_CD', 'METRIC_NAME', 'TM_KEY_WK', 'WK_LABEL', 'AGG_TYPE', 'ACT_SNAP', 'TGT_SNAP']]\n",
    "df_rev_wk = pd.concat([df_agg_s_wk, df_agg_n_wk])\n",
    "\n",
    "''' WTD '''\n",
    "df_rev_wk = df_rev_wk[df_rev_wk['TM_KEY_WK']==curr_wk]\n",
    "\n",
    "''' Aggregation '''\n",
    "df_rev_wk['BASELINE'] = df_rev_wk.groupby('METRIC_CD')['ACT_SNAP'].shift().fillna(0)\n",
    "df_rev_wk['%ACHV'] = (df_rev_wk['ACT_SNAP']-df_rev_wk['BASELINE']) / (df_rev_wk['TGT_SNAP']-df_rev_wk['BASELINE'])\n",
    "df_rev_wk['%ACHV'] = np.where(df_rev_wk['%ACHV'] < 1.2, df_rev_wk['%ACHV'], 1.2)\n",
    "df_rev_wk['WEIGHT'] = df_rev_wk['METRIC_NAME'].map(weight_dict)\n",
    "df_rev_wk['WEIGHT_ACT'] = df_rev_wk['%ACHV'] * df_rev_wk['WEIGHT']\n",
    "\n",
    "df_rev_wk"
   ]
  },
  {
   "cell_type": "code",
   "execution_count": 19,
   "metadata": {},
   "outputs": [
    {
     "data": {
      "text/plain": [
       "2.5087209228859138"
      ]
     },
     "execution_count": 19,
     "metadata": {},
     "output_type": "execute_result"
    }
   ],
   "source": [
    "''' WTD Values '''\n",
    "\n",
    "wtd_bg_achv = df_rev_wk['WEIGHT_ACT'].sum() / df_rev_wk['WEIGHT'].sum()\n",
    "wtd_bg_act = df_rev_wk['ACT_SNAP'].sum()\n",
    "wtd_bg_tgt = df_rev_wk['TGT_SNAP'].sum()\n",
    "wtd_bg_score = weight_score(wtd_bg_achv)\n",
    "\n",
    "wtd_bg_score"
   ]
  },
  {
   "attachments": {},
   "cell_type": "markdown",
   "metadata": {},
   "source": [
    "### WK : Visualizations"
   ]
  },
  {
   "cell_type": "code",
   "execution_count": 20,
   "metadata": {},
   "outputs": [
    {
     "data": {
      "image/png": "[encoded data removed]",
      "text/plain": [
       "<Figure size 1400x100 with 2 Axes>"
      ]
     },
     "metadata": {},
     "output_type": "display_data"
    }
   ],
   "source": [
    "\n",
    "fig = plt.figure(figsize=(14, 1))\n",
    "gs = GridSpec(2, 1)\n",
    "ax1 = fig.add_subplot(gs[0, :])\n",
    "ax2 = fig.add_subplot(gs[1, :])\n",
    "\n",
    "ax1.text(0.5, 0.5, f\"Business Growth : Week {curr_wk_label} Y{curr_yr}\", size=25, ha='center', va='center', weight='bold')\n",
    "ax1.spines[['top','left','right','bottom']].set_visible(False)\n",
    "ax1.set_axis_off()\n",
    "\n",
    "ax2.text(0.5, 0.5, f\"WTD (day {wk_day_start} - {wk_day_end}) as of {curr_day_label} {curr_mth_desc}\", size=16, ha='center', va='center')\n",
    "ax2.spines[['top','left','right','bottom']].set_visible(False)\n",
    "ax2.set_axis_off()\n",
    "\n",
    "fig.tight_layout()\n",
    "plt.show()"
   ]
  },
  {
   "cell_type": "code",
   "execution_count": 21,
   "metadata": {},
   "outputs": [
    {
     "data": {
      "image/png": "[encoded data removed]",
      "text/plain": [
       "<Figure size 1400x100 with 4 Axes>"
      ]
     },
     "metadata": {},
     "output_type": "display_data"
    }
   ],
   "source": [
    "''' WTD Summary '''\n",
    "\n",
    "fig = plt.figure(figsize=(14, 1))\n",
    "gs = GridSpec(1, 4)\n",
    "ax1 = fig.add_subplot(gs[:, 0])\n",
    "ax2 = fig.add_subplot(gs[:, 1])\n",
    "ax3 = fig.add_subplot(gs[:, 2])\n",
    "ax4 = fig.add_subplot(gs[:, 3])\n",
    "\n",
    "ax1.text(0.5, 0.5, f\"Act: {format(unit_mb(wtd_bg_act),',.1f')} M\", size=22, ha='center', va='center')\n",
    "ax1.spines[['top','left','right','bottom']].set_visible(False)\n",
    "ax1.set_axis_off()\n",
    "\n",
    "ax2.text(0.5, 0.5, f\"Tgt: {format(unit_mb(wtd_bg_tgt),',.1f')} M\", size=22, ha='center', va='center')\n",
    "ax2.spines[['top','left','right','bottom']].set_visible(False)\n",
    "ax2.set_axis_off()\n",
    "\n",
    "ax3.text(0.5, 0.5, f\"Ach: {format(wtd_bg_achv,',.1%')}\", size=22, ha='center', va='center')\n",
    "ax3.spines[['top','left','right','bottom']].set_visible(False)\n",
    "ax3.set_axis_off()\n",
    "\n",
    "ax4.text(0.5, 0.5, f\"Score: {format(wtd_bg_score,',.2f')}\", size=22, ha='center', va='center')\n",
    "ax4.spines[['top','left','right','bottom']].set_visible(False)\n",
    "ax4.set_axis_off()\n",
    "\n",
    "fig.tight_layout()\n",
    "plt.show()"
   ]
  }
 ],
 "metadata": {
  "kernelspec": {
   "display_name": "py310",
   "language": "python",
   "name": "python3"
  },
  "language_info": {
   "codemirror_mode": {
    "name": "ipython",
    "version": 3
   },
   "file_extension": ".py",
   "mimetype": "text/x-python",
   "name": "python",
   "nbconvert_exporter": "python",
   "pygments_lexer": "ipython3",
   "version": "3.10.11"
  },
  "orig_nbformat": 4
 },
 "nbformat": 4,
 "nbformat_minor": 2
}
