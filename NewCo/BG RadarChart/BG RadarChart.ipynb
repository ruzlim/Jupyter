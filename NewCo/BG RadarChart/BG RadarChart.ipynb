{
 "cells": [
  {
   "attachments": {},
   "cell_type": "markdown",
   "metadata": {},
   "source": [
    "# Business Growth Radar Chart"
   ]
  },
  {
   "attachments": {},
   "cell_type": "markdown",
   "metadata": {},
   "source": [
    "## Import Data Source"
   ]
  },
  {
   "cell_type": "code",
   "execution_count": 149,
   "metadata": {},
   "outputs": [],
   "source": [
    "import pandas as pd\n",
    "import numpy as np\n",
    "import matplotlib as mpl\n",
    "from matplotlib import pyplot as plt\n",
    "from matplotlib.gridspec import GridSpec\n",
    "from functools import reduce\n",
    "import datetime\n",
    "\n",
    "mpl.rcParams['axes.spines.top'] = False\n",
    "mpl.rcParams['axes.spines.right'] = False"
   ]
  },
  {
   "cell_type": "code",
   "execution_count": 150,
   "metadata": {},
   "outputs": [
    {
     "data": {
      "text/html": [
       "<div>\n",
       "<style scoped>\n",
       "    .dataframe tbody tr th:only-of-type {\n",
       "        vertical-align: middle;\n",
       "    }\n",
       "\n",
       "    .dataframe tbody tr th {\n",
       "        vertical-align: top;\n",
       "    }\n",
       "\n",
       "    .dataframe thead th {\n",
       "        text-align: right;\n",
       "    }\n",
       "</style>\n",
       "<table border=\"1\" class=\"dataframe\">\n",
       "  <thead>\n",
       "    <tr style=\"text-align: right;\">\n",
       "      <th></th>\n",
       "      <th>TM_KEY_DAY</th>\n",
       "      <th>TM_KEY_WK</th>\n",
       "      <th>TM_KEY_MTH</th>\n",
       "      <th>TM_KEY_QTR</th>\n",
       "      <th>TM_KEY_YR</th>\n",
       "      <th>METRIC_CD</th>\n",
       "      <th>METRIC_NAME</th>\n",
       "      <th>AGG_TYPE</th>\n",
       "      <th>ACTUAL_SNAP</th>\n",
       "      <th>ACTUAL_AGG</th>\n",
       "      <th>TARGET_SNAP</th>\n",
       "      <th>TARGET_AGG</th>\n",
       "      <th>PPN_TM</th>\n",
       "    </tr>\n",
       "  </thead>\n",
       "  <tbody>\n",
       "    <tr>\n",
       "      <th>0</th>\n",
       "      <td>20230301</td>\n",
       "      <td>2023009</td>\n",
       "      <td>202303</td>\n",
       "      <td>20231</td>\n",
       "      <td>2023</td>\n",
       "      <td>B2R000100</td>\n",
       "      <td>Postpaid Revenue</td>\n",
       "      <td>S</td>\n",
       "      <td>1.376380e+07</td>\n",
       "      <td>1.376380e+07</td>\n",
       "      <td>6.416632e+06</td>\n",
       "      <td>6.416632e+06</td>\n",
       "      <td>2023-06-21 17:48:01</td>\n",
       "    </tr>\n",
       "    <tr>\n",
       "      <th>1</th>\n",
       "      <td>20230302</td>\n",
       "      <td>2023009</td>\n",
       "      <td>202303</td>\n",
       "      <td>20231</td>\n",
       "      <td>2023</td>\n",
       "      <td>B2R000100</td>\n",
       "      <td>Postpaid Revenue</td>\n",
       "      <td>S</td>\n",
       "      <td>8.521882e+08</td>\n",
       "      <td>8.659520e+08</td>\n",
       "      <td>8.645637e+08</td>\n",
       "      <td>8.709803e+08</td>\n",
       "      <td>2023-06-21 17:48:01</td>\n",
       "    </tr>\n",
       "    <tr>\n",
       "      <th>2</th>\n",
       "      <td>20230303</td>\n",
       "      <td>2023009</td>\n",
       "      <td>202303</td>\n",
       "      <td>20231</td>\n",
       "      <td>2023</td>\n",
       "      <td>B2R000100</td>\n",
       "      <td>Postpaid Revenue</td>\n",
       "      <td>S</td>\n",
       "      <td>9.943611e+07</td>\n",
       "      <td>9.653881e+08</td>\n",
       "      <td>9.872504e+07</td>\n",
       "      <td>9.697053e+08</td>\n",
       "      <td>2023-06-21 17:48:01</td>\n",
       "    </tr>\n",
       "  </tbody>\n",
       "</table>\n",
       "</div>"
      ],
      "text/plain": [
       "   TM_KEY_DAY  TM_KEY_WK  TM_KEY_MTH  TM_KEY_QTR  TM_KEY_YR  METRIC_CD   \n",
       "0    20230301    2023009      202303       20231       2023  B2R000100  \\\n",
       "1    20230302    2023009      202303       20231       2023  B2R000100   \n",
       "2    20230303    2023009      202303       20231       2023  B2R000100   \n",
       "\n",
       "        METRIC_NAME AGG_TYPE   ACTUAL_SNAP    ACTUAL_AGG   TARGET_SNAP   \n",
       "0  Postpaid Revenue        S  1.376380e+07  1.376380e+07  6.416632e+06  \\\n",
       "1  Postpaid Revenue        S  8.521882e+08  8.659520e+08  8.645637e+08   \n",
       "2  Postpaid Revenue        S  9.943611e+07  9.653881e+08  9.872504e+07   \n",
       "\n",
       "     TARGET_AGG               PPN_TM  \n",
       "0  6.416632e+06  2023-06-21 17:48:01  \n",
       "1  8.709803e+08  2023-06-21 17:48:01  \n",
       "2  9.697053e+08  2023-06-21 17:48:01  "
      ]
     },
     "execution_count": 150,
     "metadata": {},
     "output_type": "execute_result"
    }
   ],
   "source": [
    "as_week = 2023024\n",
    "data_src = f\"../../data/raw/Raw-Agg Perf_Wk {as_week}.csv\"\n",
    "df_bg = pd.read_csv(data_src)\n",
    "\n",
    "cols = ['TM_KEY_DAY', 'TM_KEY_WK', 'TM_KEY_MTH', 'TM_KEY_QTR', 'TM_KEY_YR', 'METRIC_CD', 'METRIC_NAME', 'AGG_TYPE', 'ACTUAL_SNAP', 'ACTUAL_AGG', 'TARGET_SNAP', 'TARGET_AGG', 'PPN_TM']\n",
    "df_bg = df_bg[cols]\n",
    "df_bg.head(3)"
   ]
  },
  {
   "cell_type": "code",
   "execution_count": 151,
   "metadata": {},
   "outputs": [
    {
     "data": {
      "text/plain": [
       "(550, 13)"
      ]
     },
     "execution_count": 151,
     "metadata": {},
     "output_type": "execute_result"
    }
   ],
   "source": [
    "df_bg.shape"
   ]
  },
  {
   "cell_type": "code",
   "execution_count": 152,
   "metadata": {},
   "outputs": [
    {
     "data": {
      "text/plain": [
       "array(['Postpaid Revenue', 'Prepaid Revenue',\n",
       "       'TDG Revenue (Performance View)', 'TOL Revenue', 'TVS Revenue'],\n",
       "      dtype=object)"
      ]
     },
     "execution_count": 152,
     "metadata": {},
     "output_type": "execute_result"
    }
   ],
   "source": [
    "df_bg['METRIC_NAME'].unique()"
   ]
  },
  {
   "attachments": {},
   "cell_type": "markdown",
   "metadata": {},
   "source": [
    "## Data Preporation"
   ]
  },
  {
   "cell_type": "code",
   "execution_count": 153,
   "metadata": {},
   "outputs": [],
   "source": [
    "''' Dict '''\n",
    "\n",
    "weight_dict = {'Prepaid Revenue': 0.28, \n",
    "              'Postpaid Revenue': 0.45, \n",
    "              'TOL Revenue': 0.12, \n",
    "              'TVS Revenue': 0.04, \n",
    "              'TDG Revenue (Performance View)': 0.02}\n",
    "\n",
    "score_dict = {1: 0.8, \n",
    "              2: 0.9, \n",
    "              3: 1, \n",
    "              4: 1.1, \n",
    "              5: 1.2}"
   ]
  },
  {
   "cell_type": "code",
   "execution_count": 154,
   "metadata": {},
   "outputs": [],
   "source": [
    "''' Functions '''\n",
    "\n",
    "\n",
    "def unit_mb(baht):\n",
    "    n = baht\n",
    "\n",
    "    unit_mb = n / 1000000\n",
    "    \n",
    "    return unit_mb\n",
    "\n",
    "\n",
    "def weight_score(achv):\n",
    "    n = achv\n",
    "    score = 0\n",
    "\n",
    "    if n < score_dict[1]: score = 1 \n",
    "    elif n < score_dict[2]: score = (n-score_dict[1]) / (score_dict[2]-score_dict[1]) + 1\n",
    "    elif n < score_dict[3]: score = (n-score_dict[2]) / (score_dict[3]-score_dict[2]) + 2\n",
    "    elif n < score_dict[4]: score = (n-score_dict[3]) / (score_dict[4]-score_dict[3]) + 3\n",
    "    elif n < score_dict[5]: score = (n-score_dict[4]) / (score_dict[5]-score_dict[4]) + 4\n",
    "    elif n >= score_dict[5]: score = 5\n",
    "    else: score = 0\n",
    "\n",
    "    return score"
   ]
  },
  {
   "cell_type": "code",
   "execution_count": 155,
   "metadata": {},
   "outputs": [],
   "source": [
    "''' Rawdata '''\n",
    "\n",
    "''' Filters '''\n",
    "# df_bg = df_bg[df_bg['TM_KEY_MTH'] <= 202306] # MONTH filter\n",
    "df_bg = df_bg[df_bg['TM_KEY_WK'] <= 2023023] # WEEK filter\n",
    "# df_bg = df_bg[df_bg['TM_KEY_DAY'] <= 20230618] # DAY filter\n",
    "\n",
    "''' Modify '''\n",
    "df_bg = df_bg.rename(columns={'ACTUAL_SNAP':'ACT_SNAP', 'ACTUAL_AGG':'ACT_AGG', 'TARGET_SNAP':'TGT_SNAP', 'TARGET_AGG':'TGT_AGG'})\n",
    "\n",
    "''' Add new column '''\n",
    "df_bg['MTH_DESC'] = pd.to_datetime(df_bg['TM_KEY_MTH'], format='%Y%m', errors='coerce').dt.strftime('%B')\n",
    "df_bg['WK_LABEL'] = df_bg['TM_KEY_WK'].apply(str).str[5:].astype(int)\n",
    "df_bg['DAY_LABEL'] = df_bg['TM_KEY_DAY'].apply(str).str[6:].astype(int)"
   ]
  },
  {
   "cell_type": "code",
   "execution_count": 156,
   "metadata": {},
   "outputs": [],
   "source": [
    "''' Create Dataframe '''\n",
    "\n",
    "''' Aggregate type : S '''\n",
    "df_agg_s = df_bg[df_bg['AGG_TYPE']=='S']\n",
    "\n",
    "''' Aggregate type : N '''\n",
    "df_agg_n = df_bg[df_bg['AGG_TYPE']=='N'].dropna(subset='ACT_SNAP')"
   ]
  },
  {
   "cell_type": "code",
   "execution_count": 157,
   "metadata": {},
   "outputs": [],
   "source": [
    "''' Period Values '''\n",
    "\n",
    "curr_yr = df_bg['TM_KEY_YR'].max()\n",
    "last_yr = df_bg['TM_KEY_YR'].max() - 1\n",
    "curr_mth = df_bg['TM_KEY_MTH'].max()\n",
    "curr_mth_desc = pd.to_datetime(curr_mth, format='%Y%m', errors='coerce').strftime('%B')\n",
    "last_mth = int(f'{str(last_yr)}12') if str(curr_mth)[4:]=='01' else curr_mth-1\n",
    "curr_wk = df_bg['TM_KEY_WK'].max()\n",
    "last_wk = df_bg['TM_KEY_WK'].drop_duplicates().shift().max()\n",
    "curr_wk_label = df_bg['WK_LABEL'].iloc[-1]\n",
    "curr_day = df_bg['TM_KEY_DAY'].max()\n",
    "last_day = df_bg['TM_KEY_DAY'].drop_duplicates().shift().max()\n",
    "curr_day_label = df_bg['DAY_LABEL'].iloc[-1]\n",
    "last_ppn_tm = df_bg['PPN_TM'].max()\n",
    "\n",
    "wk_day_start = df_bg[df_bg['TM_KEY_WK']==curr_wk]['DAY_LABEL'].min()\n",
    "wk_day_end = df_bg[df_bg['TM_KEY_WK']==curr_wk]['DAY_LABEL'].max()\n"
   ]
  },
  {
   "attachments": {},
   "cell_type": "markdown",
   "metadata": {},
   "source": [
    "## ** Yearly **"
   ]
  },
  {
   "attachments": {},
   "cell_type": "markdown",
   "metadata": {},
   "source": [
    "### YR : Aggregation"
   ]
  },
  {
   "cell_type": "code",
   "execution_count": 158,
   "metadata": {},
   "outputs": [
    {
     "data": {
      "text/html": [
       "<div>\n",
       "<style scoped>\n",
       "    .dataframe tbody tr th:only-of-type {\n",
       "        vertical-align: middle;\n",
       "    }\n",
       "\n",
       "    .dataframe tbody tr th {\n",
       "        vertical-align: top;\n",
       "    }\n",
       "\n",
       "    .dataframe thead th {\n",
       "        text-align: right;\n",
       "    }\n",
       "</style>\n",
       "<table border=\"1\" class=\"dataframe\">\n",
       "  <thead>\n",
       "    <tr style=\"text-align: right;\">\n",
       "      <th></th>\n",
       "      <th>METRIC_CD</th>\n",
       "      <th>METRIC_NAME</th>\n",
       "      <th>TM_KEY_YR</th>\n",
       "      <th>AGG_TYPE</th>\n",
       "      <th>ACT_SNAP</th>\n",
       "      <th>TGT_SNAP</th>\n",
       "      <th>BASELINE</th>\n",
       "      <th>%ACHV</th>\n",
       "      <th>WEIGHT</th>\n",
       "      <th>WEIGHT_ACT</th>\n",
       "    </tr>\n",
       "  </thead>\n",
       "  <tbody>\n",
       "    <tr>\n",
       "      <th>0</th>\n",
       "      <td>B1R000100</td>\n",
       "      <td>Prepaid Revenue</td>\n",
       "      <td>2023</td>\n",
       "      <td>S</td>\n",
       "      <td>1.236993e+10</td>\n",
       "      <td>1.238421e+10</td>\n",
       "      <td>0.0</td>\n",
       "      <td>0.998847</td>\n",
       "      <td>0.28</td>\n",
       "      <td>0.279677</td>\n",
       "    </tr>\n",
       "    <tr>\n",
       "      <th>1</th>\n",
       "      <td>B2R000100</td>\n",
       "      <td>Postpaid Revenue</td>\n",
       "      <td>2023</td>\n",
       "      <td>S</td>\n",
       "      <td>2.224813e+10</td>\n",
       "      <td>2.246292e+10</td>\n",
       "      <td>0.0</td>\n",
       "      <td>0.990438</td>\n",
       "      <td>0.45</td>\n",
       "      <td>0.445697</td>\n",
       "    </tr>\n",
       "    <tr>\n",
       "      <th>2</th>\n",
       "      <td>TB3R000100</td>\n",
       "      <td>TOL Revenue</td>\n",
       "      <td>2023</td>\n",
       "      <td>S</td>\n",
       "      <td>4.595481e+09</td>\n",
       "      <td>5.062014e+09</td>\n",
       "      <td>0.0</td>\n",
       "      <td>0.907836</td>\n",
       "      <td>0.12</td>\n",
       "      <td>0.108940</td>\n",
       "    </tr>\n",
       "    <tr>\n",
       "      <th>3</th>\n",
       "      <td>TB4R000100</td>\n",
       "      <td>TVS Revenue</td>\n",
       "      <td>2023</td>\n",
       "      <td>S</td>\n",
       "      <td>1.010863e+09</td>\n",
       "      <td>1.341658e+09</td>\n",
       "      <td>0.0</td>\n",
       "      <td>0.753443</td>\n",
       "      <td>0.04</td>\n",
       "      <td>0.030138</td>\n",
       "    </tr>\n",
       "    <tr>\n",
       "      <th>316</th>\n",
       "      <td>TNSC00142</td>\n",
       "      <td>TDG Revenue (Performance View)</td>\n",
       "      <td>2023</td>\n",
       "      <td>N</td>\n",
       "      <td>5.400000e+08</td>\n",
       "      <td>4.600000e+08</td>\n",
       "      <td>0.0</td>\n",
       "      <td>1.173913</td>\n",
       "      <td>0.02</td>\n",
       "      <td>0.023478</td>\n",
       "    </tr>\n",
       "  </tbody>\n",
       "</table>\n",
       "</div>"
      ],
      "text/plain": [
       "      METRIC_CD                     METRIC_NAME  TM_KEY_YR AGG_TYPE   \n",
       "0     B1R000100                 Prepaid Revenue       2023        S  \\\n",
       "1     B2R000100                Postpaid Revenue       2023        S   \n",
       "2    TB3R000100                     TOL Revenue       2023        S   \n",
       "3    TB4R000100                     TVS Revenue       2023        S   \n",
       "316   TNSC00142  TDG Revenue (Performance View)       2023        N   \n",
       "\n",
       "         ACT_SNAP      TGT_SNAP  BASELINE     %ACHV  WEIGHT  WEIGHT_ACT  \n",
       "0    1.236993e+10  1.238421e+10       0.0  0.998847    0.28    0.279677  \n",
       "1    2.224813e+10  2.246292e+10       0.0  0.990438    0.45    0.445697  \n",
       "2    4.595481e+09  5.062014e+09       0.0  0.907836    0.12    0.108940  \n",
       "3    1.010863e+09  1.341658e+09       0.0  0.753443    0.04    0.030138  \n",
       "316  5.400000e+08  4.600000e+08       0.0  1.173913    0.02    0.023478  "
      ]
     },
     "execution_count": 158,
     "metadata": {},
     "output_type": "execute_result"
    }
   ],
   "source": [
    "''' Create Dataframe '''\n",
    "\n",
    "df_agg_s_yr = df_agg_s.groupby(['METRIC_CD', 'METRIC_NAME', 'TM_KEY_YR', 'AGG_TYPE']).agg({'ACT_SNAP': 'sum', 'TGT_SNAP': 'sum'}).reset_index()\n",
    "df_agg_n_yr = df_agg_n.loc[df_agg_n.groupby('TM_KEY_YR')['TM_KEY_DAY'].idxmax(), ['METRIC_CD', 'METRIC_NAME', 'TM_KEY_YR', 'AGG_TYPE', 'ACT_SNAP', 'TGT_SNAP']]\n",
    "df_rev_yr = pd.concat([df_agg_s_yr, df_agg_n_yr])\n",
    "\n",
    "''' YTD '''\n",
    "df_rev_yr = df_rev_yr[df_rev_yr['TM_KEY_YR']==curr_yr]\n",
    "\n",
    "''' Aggregation '''\n",
    "df_rev_yr['BASELINE'] = df_rev_yr.groupby('METRIC_CD')['ACT_SNAP'].shift().fillna(0)\n",
    "df_rev_yr['%ACHV'] = (df_rev_yr['ACT_SNAP']-df_rev_yr['BASELINE']) / (df_rev_yr['TGT_SNAP']-df_rev_yr['BASELINE'])\n",
    "df_rev_yr['%ACHV'] = np.where(df_rev_yr['%ACHV'] < 1.2, df_rev_yr['%ACHV'], 1.2)\n",
    "df_rev_yr['WEIGHT'] = df_rev_yr['METRIC_NAME'].map(weight_dict)\n",
    "df_rev_yr['WEIGHT_ACT'] = df_rev_yr['%ACHV'] * df_rev_yr['WEIGHT']\n",
    "\n",
    "df_rev_yr"
   ]
  },
  {
   "cell_type": "code",
   "execution_count": 159,
   "metadata": {},
   "outputs": [
    {
     "data": {
      "text/plain": [
       "2.757477816039933"
      ]
     },
     "execution_count": 159,
     "metadata": {},
     "output_type": "execute_result"
    }
   ],
   "source": [
    "''' YTD Values '''\n",
    "\n",
    "ytd_bg_achv = df_rev_yr['WEIGHT_ACT'].sum() / df_rev_yr['WEIGHT'].sum()\n",
    "ytd_bg_act = df_rev_yr['ACT_SNAP'].sum()\n",
    "ytd_bg_tgt = df_rev_yr['TGT_SNAP'].sum()\n",
    "ytd_bg_score = weight_score(ytd_bg_achv)\n",
    "\n",
    "ytd_bg_score"
   ]
  },
  {
   "cell_type": "code",
   "execution_count": 160,
   "metadata": {},
   "outputs": [],
   "source": [
    "# ''' BG Year to Date Values '''\n",
    "\n",
    "# df_last_yr = df_rev_day_agg[df_rev_day_agg['TM_KEY_YR']==last_yr][['TM_KEY_DAY', 'TM_KEY_WK', 'TM_KEY_MTH', 'TM_KEY_YR', 'ACT_BG', 'TGT_BG']].reset_index()\n",
    "# day_cnt_curr_yr = len(df_rev_day_agg[(df_rev_day_agg['TM_KEY_YR']==curr_yr) & (df_rev_day_agg['ACT_BG']>0)]['TM_KEY_DAY'].unique())\n",
    "# ytd_last_act = (df_last_yr['ACT_BG'].sum() / len(df_last_yr['TM_KEY_DAY'].unique())) * day_cnt_curr_yr\n",
    "# ytd_act = df_rev_day_agg[df_rev_day_agg['TM_KEY_YR']==curr_yr]['ACT_BG'].sum()\n",
    "# ytd_tgt = df_rev_day_agg[df_rev_day_agg['TM_KEY_YR']==curr_yr]['TGT_BG'].sum()\n",
    "# ytd_achv = ytd_act / ytd_tgt\n",
    "# ytd_yoy = (ytd_act / ytd_last_act) - 1\n",
    "# ytd_act_gap = ytd_act - ytd_last_act"
   ]
  },
  {
   "attachments": {},
   "cell_type": "markdown",
   "metadata": {},
   "source": [
    "### YR : Business Growth"
   ]
  },
  {
   "cell_type": "code",
   "execution_count": 161,
   "metadata": {},
   "outputs": [
    {
     "data": {
      "image/png": "[encoded data removed]",
      "text/plain": [
       "<Figure size 1400x100 with 2 Axes>"
      ]
     },
     "metadata": {},
     "output_type": "display_data"
    }
   ],
   "source": [
    "\n",
    "fig = plt.figure(figsize=(14, 1))\n",
    "gs = GridSpec(2, 1)\n",
    "ax1 = fig.add_subplot(gs[0, :])\n",
    "ax2 = fig.add_subplot(gs[1, :])\n",
    "\n",
    "ax1.text(0.5, 0.5, f\"Business Growth : Y{curr_yr}\", size=25, ha='center', va='center', weight='bold')\n",
    "ax1.spines[['top','left','right','bottom']].set_visible(False)\n",
    "ax1.set_axis_off()\n",
    "\n",
    "ax2.text(0.5, 0.5, f\"YTD (1 March - {curr_day_label} {curr_mth_desc})\", size=16, ha='center', va='center')\n",
    "ax2.spines[['top','left','right','bottom']].set_visible(False)\n",
    "ax2.set_axis_off()\n",
    "\n",
    "fig.tight_layout()\n",
    "plt.show()"
   ]
  },
  {
   "cell_type": "code",
   "execution_count": 171,
   "metadata": {},
   "outputs": [
    {
     "data": {
      "image/png": "[encoded data removed]",
      "text/plain": [
       "<Figure size 1400x100 with 4 Axes>"
      ]
     },
     "metadata": {},
     "output_type": "display_data"
    }
   ],
   "source": [
    "''' YTD Summary '''\n",
    "\n",
    "fig = plt.figure(figsize=(14, 1))\n",
    "gs = GridSpec(1, 4)\n",
    "ax1 = fig.add_subplot(gs[:, 0])\n",
    "ax2 = fig.add_subplot(gs[:, 1])\n",
    "ax3 = fig.add_subplot(gs[:, 2])\n",
    "ax4 = fig.add_subplot(gs[:, 3])\n",
    "\n",
    "ax1.text(0.5, 0.5, f\"Act: {format(unit_mb(ytd_bg_act),',.1f')} M\", size=22, ha='center', va='center')\n",
    "ax1.spines[['top','left','right','bottom']].set_visible(False)\n",
    "ax1.set_axis_off()\n",
    "\n",
    "ax2.text(0.5, 0.5, f\"Tgt: {format(unit_mb(ytd_bg_tgt),',.1f')} M\", size=22, ha='center', va='center')\n",
    "ax2.spines[['top','left','right','bottom']].set_visible(False)\n",
    "ax2.set_axis_off()\n",
    "\n",
    "ax3.text(0.5, 0.5, f\"Ach: {format(ytd_bg_achv,',.1%')}\", size=22, ha='center', va='center')\n",
    "ax3.spines[['top','left','right','bottom']].set_visible(False)\n",
    "ax3.set_axis_off()\n",
    "\n",
    "ax4.text(0.5, 0.5, f\"Score: {format(ytd_bg_score,',.2f')}\", size=22, ha='center', va='center')\n",
    "ax4.spines[['top','left','right','bottom']].set_visible(False)\n",
    "ax4.set_axis_off()\n",
    "\n",
    "fig.tight_layout()\n",
    "plt.show()"
   ]
  },
  {
   "attachments": {},
   "cell_type": "markdown",
   "metadata": {},
   "source": [
    "## ** Monthly **"
   ]
  },
  {
   "attachments": {},
   "cell_type": "markdown",
   "metadata": {},
   "source": [
    "### MTH : Aggregation"
   ]
  },
  {
   "cell_type": "code",
   "execution_count": 163,
   "metadata": {},
   "outputs": [
    {
     "data": {
      "text/html": [
       "<div>\n",
       "<style scoped>\n",
       "    .dataframe tbody tr th:only-of-type {\n",
       "        vertical-align: middle;\n",
       "    }\n",
       "\n",
       "    .dataframe tbody tr th {\n",
       "        vertical-align: top;\n",
       "    }\n",
       "\n",
       "    .dataframe thead th {\n",
       "        text-align: right;\n",
       "    }\n",
       "</style>\n",
       "<table border=\"1\" class=\"dataframe\">\n",
       "  <thead>\n",
       "    <tr style=\"text-align: right;\">\n",
       "      <th></th>\n",
       "      <th>METRIC_CD</th>\n",
       "      <th>METRIC_NAME</th>\n",
       "      <th>TM_KEY_MTH</th>\n",
       "      <th>MTH_DESC</th>\n",
       "      <th>AGG_TYPE</th>\n",
       "      <th>ACT_SNAP</th>\n",
       "      <th>TGT_SNAP</th>\n",
       "      <th>BASELINE</th>\n",
       "      <th>%ACHV</th>\n",
       "      <th>WEIGHT</th>\n",
       "      <th>WEIGHT_ACT</th>\n",
       "    </tr>\n",
       "  </thead>\n",
       "  <tbody>\n",
       "    <tr>\n",
       "      <th>3</th>\n",
       "      <td>B1R000100</td>\n",
       "      <td>Prepaid Revenue</td>\n",
       "      <td>202306</td>\n",
       "      <td>June</td>\n",
       "      <td>S</td>\n",
       "      <td>1.367962e+09</td>\n",
       "      <td>1.361421e+09</td>\n",
       "      <td>0.0</td>\n",
       "      <td>1.004805</td>\n",
       "      <td>0.28</td>\n",
       "      <td>0.281345</td>\n",
       "    </tr>\n",
       "    <tr>\n",
       "      <th>7</th>\n",
       "      <td>B2R000100</td>\n",
       "      <td>Postpaid Revenue</td>\n",
       "      <td>202306</td>\n",
       "      <td>June</td>\n",
       "      <td>S</td>\n",
       "      <td>2.408206e+09</td>\n",
       "      <td>2.499749e+09</td>\n",
       "      <td>0.0</td>\n",
       "      <td>0.963379</td>\n",
       "      <td>0.45</td>\n",
       "      <td>0.433521</td>\n",
       "    </tr>\n",
       "    <tr>\n",
       "      <th>11</th>\n",
       "      <td>TB3R000100</td>\n",
       "      <td>TOL Revenue</td>\n",
       "      <td>202306</td>\n",
       "      <td>June</td>\n",
       "      <td>S</td>\n",
       "      <td>5.162608e+08</td>\n",
       "      <td>5.415177e+08</td>\n",
       "      <td>0.0</td>\n",
       "      <td>0.953359</td>\n",
       "      <td>0.12</td>\n",
       "      <td>0.114403</td>\n",
       "    </tr>\n",
       "    <tr>\n",
       "      <th>15</th>\n",
       "      <td>TB4R000100</td>\n",
       "      <td>TVS Revenue</td>\n",
       "      <td>202306</td>\n",
       "      <td>June</td>\n",
       "      <td>S</td>\n",
       "      <td>8.881878e+07</td>\n",
       "      <td>1.008094e+08</td>\n",
       "      <td>0.0</td>\n",
       "      <td>0.881056</td>\n",
       "      <td>0.04</td>\n",
       "      <td>0.035242</td>\n",
       "    </tr>\n",
       "    <tr>\n",
       "      <th>316</th>\n",
       "      <td>TNSC00142</td>\n",
       "      <td>TDG Revenue (Performance View)</td>\n",
       "      <td>202306</td>\n",
       "      <td>June</td>\n",
       "      <td>N</td>\n",
       "      <td>5.400000e+08</td>\n",
       "      <td>4.600000e+08</td>\n",
       "      <td>0.0</td>\n",
       "      <td>1.173913</td>\n",
       "      <td>0.02</td>\n",
       "      <td>0.023478</td>\n",
       "    </tr>\n",
       "  </tbody>\n",
       "</table>\n",
       "</div>"
      ],
      "text/plain": [
       "      METRIC_CD                     METRIC_NAME  TM_KEY_MTH MTH_DESC AGG_TYPE   \n",
       "3     B1R000100                 Prepaid Revenue      202306     June        S  \\\n",
       "7     B2R000100                Postpaid Revenue      202306     June        S   \n",
       "11   TB3R000100                     TOL Revenue      202306     June        S   \n",
       "15   TB4R000100                     TVS Revenue      202306     June        S   \n",
       "316   TNSC00142  TDG Revenue (Performance View)      202306     June        N   \n",
       "\n",
       "         ACT_SNAP      TGT_SNAP  BASELINE     %ACHV  WEIGHT  WEIGHT_ACT  \n",
       "3    1.367962e+09  1.361421e+09       0.0  1.004805    0.28    0.281345  \n",
       "7    2.408206e+09  2.499749e+09       0.0  0.963379    0.45    0.433521  \n",
       "11   5.162608e+08  5.415177e+08       0.0  0.953359    0.12    0.114403  \n",
       "15   8.881878e+07  1.008094e+08       0.0  0.881056    0.04    0.035242  \n",
       "316  5.400000e+08  4.600000e+08       0.0  1.173913    0.02    0.023478  "
      ]
     },
     "execution_count": 163,
     "metadata": {},
     "output_type": "execute_result"
    }
   ],
   "source": [
    "''' Create Dataframe '''\n",
    "\n",
    "df_agg_s_mth = df_agg_s.groupby(['METRIC_CD', 'METRIC_NAME', 'TM_KEY_MTH', 'MTH_DESC', 'AGG_TYPE']).agg({'ACT_SNAP': 'sum', 'TGT_SNAP': 'sum'}).reset_index()\n",
    "df_agg_n_mth = df_agg_n.loc[df_agg_n.groupby('TM_KEY_MTH')['TM_KEY_DAY'].idxmax(), ['METRIC_CD', 'METRIC_NAME', 'TM_KEY_MTH', 'MTH_DESC', 'AGG_TYPE', 'ACT_SNAP', 'TGT_SNAP']]\n",
    "df_rev_mth = pd.concat([df_agg_s_mth, df_agg_n_mth])\n",
    "\n",
    "''' MTD '''\n",
    "df_rev_mth = df_rev_mth[df_rev_mth['TM_KEY_MTH']==curr_mth]\n",
    "\n",
    "''' Aggregation '''\n",
    "df_rev_mth['BASELINE'] = df_rev_mth.groupby('METRIC_CD')['ACT_SNAP'].shift().fillna(0)\n",
    "df_rev_mth['%ACHV'] = (df_rev_mth['ACT_SNAP']-df_rev_mth['BASELINE']) / (df_rev_mth['TGT_SNAP']-df_rev_mth['BASELINE'])\n",
    "df_rev_mth['%ACHV'] = np.where(df_rev_mth['%ACHV'] < 1.2, df_rev_mth['%ACHV'], 1.2)\n",
    "df_rev_mth['WEIGHT'] = df_rev_mth['METRIC_NAME'].map(weight_dict)\n",
    "df_rev_mth['WEIGHT_ACT'] = df_rev_mth['%ACHV'] * df_rev_mth['WEIGHT']\n",
    "\n",
    "df_rev_mth"
   ]
  },
  {
   "cell_type": "code",
   "execution_count": 164,
   "metadata": {},
   "outputs": [
    {
     "data": {
      "text/plain": [
       "2.7581267365243285"
      ]
     },
     "execution_count": 164,
     "metadata": {},
     "output_type": "execute_result"
    }
   ],
   "source": [
    "''' MTD Values '''\n",
    "\n",
    "mtd_bg_achv = df_rev_mth['WEIGHT_ACT'].sum() / df_rev_mth['WEIGHT'].sum()\n",
    "mtd_bg_act = df_rev_mth['ACT_SNAP'].sum()\n",
    "mtd_bg_tgt = df_rev_mth['TGT_SNAP'].sum()\n",
    "mtd_bg_score = weight_score(mtd_bg_achv)\n",
    "\n",
    "mtd_bg_score"
   ]
  },
  {
   "attachments": {},
   "cell_type": "markdown",
   "metadata": {},
   "source": [
    "### MTH : Business Growth"
   ]
  },
  {
   "cell_type": "code",
   "execution_count": 165,
   "metadata": {},
   "outputs": [
    {
     "data": {
      "image/png": "[encoded data removed]",
      "text/plain": [
       "<Figure size 1400x100 with 2 Axes>"
      ]
     },
     "metadata": {},
     "output_type": "display_data"
    }
   ],
   "source": [
    "\n",
    "fig = plt.figure(figsize=(14, 1))\n",
    "gs = GridSpec(2, 1)\n",
    "ax1 = fig.add_subplot(gs[0, :])\n",
    "ax2 = fig.add_subplot(gs[1, :])\n",
    "\n",
    "ax1.text(0.5, 0.5, f\"Business Growth : {curr_mth_desc} {curr_yr}\", size=25, ha='center', va='center', weight='bold')\n",
    "ax1.spines[['top','left','right','bottom']].set_visible(False)\n",
    "ax1.set_axis_off()\n",
    "\n",
    "ax2.text(0.5, 0.5, f\"MTD (1 - {curr_day_label} {curr_mth_desc})\", size=16, ha='center', va='center')\n",
    "ax2.spines[['top','left','right','bottom']].set_visible(False)\n",
    "ax2.set_axis_off()\n",
    "\n",
    "fig.tight_layout()\n",
    "plt.show()"
   ]
  },
  {
   "cell_type": "code",
   "execution_count": 166,
   "metadata": {},
   "outputs": [
    {
     "data": {
      "image/png": "[encoded data removed]",
      "text/plain": [
       "<Figure size 1400x100 with 4 Axes>"
      ]
     },
     "metadata": {},
     "output_type": "display_data"
    }
   ],
   "source": [
    "''' MTD Summary '''\n",
    "\n",
    "fig = plt.figure(figsize=(14, 1))\n",
    "gs = GridSpec(1, 4)\n",
    "ax1 = fig.add_subplot(gs[:, 0])\n",
    "ax2 = fig.add_subplot(gs[:, 1])\n",
    "ax3 = fig.add_subplot(gs[:, 2])\n",
    "ax4 = fig.add_subplot(gs[:, 3])\n",
    "\n",
    "ax1.text(0.5, 0.5, f\"Act: {format(unit_mb(mtd_bg_act),',.1f')} M\", size=22, ha='center', va='center')\n",
    "ax1.spines[['top','left','right','bottom']].set_visible(False)\n",
    "ax1.set_axis_off()\n",
    "\n",
    "ax2.text(0.5, 0.5, f\"Tgt: {format(unit_mb(mtd_bg_tgt),',.1f')} M\", size=22, ha='center', va='center')\n",
    "ax2.spines[['top','left','right','bottom']].set_visible(False)\n",
    "ax2.set_axis_off()\n",
    "\n",
    "ax3.text(0.5, 0.5, f\"Ach: {format(mtd_bg_achv,',.1%')}\", size=22, ha='center', va='center')\n",
    "ax3.spines[['top','left','right','bottom']].set_visible(False)\n",
    "ax3.set_axis_off()\n",
    "\n",
    "ax4.text(0.5, 0.5, f\"Score: {format(mtd_bg_score,',.2f')}\", size=22, ha='center', va='center')\n",
    "ax4.spines[['top','left','right','bottom']].set_visible(False)\n",
    "ax4.set_axis_off()\n",
    "\n",
    "fig.tight_layout()\n",
    "plt.show()"
   ]
  },
  {
   "attachments": {},
   "cell_type": "markdown",
   "metadata": {},
   "source": [
    "## ** Weekly **"
   ]
  },
  {
   "attachments": {},
   "cell_type": "markdown",
   "metadata": {},
   "source": [
    "### WK : Aggregation"
   ]
  },
  {
   "cell_type": "code",
   "execution_count": 167,
   "metadata": {},
   "outputs": [
    {
     "data": {
      "text/html": [
       "<div>\n",
       "<style scoped>\n",
       "    .dataframe tbody tr th:only-of-type {\n",
       "        vertical-align: middle;\n",
       "    }\n",
       "\n",
       "    .dataframe tbody tr th {\n",
       "        vertical-align: top;\n",
       "    }\n",
       "\n",
       "    .dataframe thead th {\n",
       "        text-align: right;\n",
       "    }\n",
       "</style>\n",
       "<table border=\"1\" class=\"dataframe\">\n",
       "  <thead>\n",
       "    <tr style=\"text-align: right;\">\n",
       "      <th></th>\n",
       "      <th>METRIC_CD</th>\n",
       "      <th>METRIC_NAME</th>\n",
       "      <th>TM_KEY_WK</th>\n",
       "      <th>WK_LABEL</th>\n",
       "      <th>AGG_TYPE</th>\n",
       "      <th>ACT_SNAP</th>\n",
       "      <th>TGT_SNAP</th>\n",
       "      <th>DAY_LABEL</th>\n",
       "      <th>BASELINE</th>\n",
       "      <th>%ACHV</th>\n",
       "      <th>WEIGHT</th>\n",
       "      <th>WEIGHT_ACT</th>\n",
       "    </tr>\n",
       "  </thead>\n",
       "  <tbody>\n",
       "    <tr>\n",
       "      <th>14</th>\n",
       "      <td>B1R000100</td>\n",
       "      <td>Prepaid Revenue</td>\n",
       "      <td>2023023</td>\n",
       "      <td>23</td>\n",
       "      <td>S</td>\n",
       "      <td>8.347299e+08</td>\n",
       "      <td>8.565297e+08</td>\n",
       "      <td>5.0</td>\n",
       "      <td>0.0</td>\n",
       "      <td>0.974549</td>\n",
       "      <td>0.28</td>\n",
       "      <td>0.272874</td>\n",
       "    </tr>\n",
       "    <tr>\n",
       "      <th>29</th>\n",
       "      <td>B2R000100</td>\n",
       "      <td>Postpaid Revenue</td>\n",
       "      <td>2023023</td>\n",
       "      <td>23</td>\n",
       "      <td>S</td>\n",
       "      <td>1.363180e+09</td>\n",
       "      <td>1.406488e+09</td>\n",
       "      <td>5.0</td>\n",
       "      <td>0.0</td>\n",
       "      <td>0.969208</td>\n",
       "      <td>0.45</td>\n",
       "      <td>0.436144</td>\n",
       "    </tr>\n",
       "    <tr>\n",
       "      <th>44</th>\n",
       "      <td>TB3R000100</td>\n",
       "      <td>TOL Revenue</td>\n",
       "      <td>2023023</td>\n",
       "      <td>23</td>\n",
       "      <td>S</td>\n",
       "      <td>3.198776e+08</td>\n",
       "      <td>3.325761e+08</td>\n",
       "      <td>5.0</td>\n",
       "      <td>0.0</td>\n",
       "      <td>0.961818</td>\n",
       "      <td>0.12</td>\n",
       "      <td>0.115418</td>\n",
       "    </tr>\n",
       "    <tr>\n",
       "      <th>59</th>\n",
       "      <td>TB4R000100</td>\n",
       "      <td>TVS Revenue</td>\n",
       "      <td>2023023</td>\n",
       "      <td>23</td>\n",
       "      <td>S</td>\n",
       "      <td>4.736705e+07</td>\n",
       "      <td>5.325349e+07</td>\n",
       "      <td>5.0</td>\n",
       "      <td>0.0</td>\n",
       "      <td>0.889464</td>\n",
       "      <td>0.04</td>\n",
       "      <td>0.035579</td>\n",
       "    </tr>\n",
       "    <tr>\n",
       "      <th>316</th>\n",
       "      <td>TNSC00142</td>\n",
       "      <td>TDG Revenue (Performance View)</td>\n",
       "      <td>2023023</td>\n",
       "      <td>23</td>\n",
       "      <td>N</td>\n",
       "      <td>5.400000e+08</td>\n",
       "      <td>4.600000e+08</td>\n",
       "      <td>NaN</td>\n",
       "      <td>0.0</td>\n",
       "      <td>1.173913</td>\n",
       "      <td>0.02</td>\n",
       "      <td>0.023478</td>\n",
       "    </tr>\n",
       "  </tbody>\n",
       "</table>\n",
       "</div>"
      ],
      "text/plain": [
       "      METRIC_CD                     METRIC_NAME  TM_KEY_WK  WK_LABEL AGG_TYPE   \n",
       "14    B1R000100                 Prepaid Revenue    2023023        23        S  \\\n",
       "29    B2R000100                Postpaid Revenue    2023023        23        S   \n",
       "44   TB3R000100                     TOL Revenue    2023023        23        S   \n",
       "59   TB4R000100                     TVS Revenue    2023023        23        S   \n",
       "316   TNSC00142  TDG Revenue (Performance View)    2023023        23        N   \n",
       "\n",
       "         ACT_SNAP      TGT_SNAP  DAY_LABEL  BASELINE     %ACHV  WEIGHT   \n",
       "14   8.347299e+08  8.565297e+08        5.0       0.0  0.974549    0.28  \\\n",
       "29   1.363180e+09  1.406488e+09        5.0       0.0  0.969208    0.45   \n",
       "44   3.198776e+08  3.325761e+08        5.0       0.0  0.961818    0.12   \n",
       "59   4.736705e+07  5.325349e+07        5.0       0.0  0.889464    0.04   \n",
       "316  5.400000e+08  4.600000e+08        NaN       0.0  1.173913    0.02   \n",
       "\n",
       "     WEIGHT_ACT  \n",
       "14     0.272874  \n",
       "29     0.436144  \n",
       "44     0.115418  \n",
       "59     0.035579  \n",
       "316    0.023478  "
      ]
     },
     "execution_count": 167,
     "metadata": {},
     "output_type": "execute_result"
    }
   ],
   "source": [
    "''' Create Dataframe '''\n",
    "\n",
    "df_agg_s_wk = df_agg_s.groupby(['METRIC_CD', 'METRIC_NAME', 'TM_KEY_WK', 'WK_LABEL', 'AGG_TYPE']).agg({'ACT_SNAP': 'sum', 'TGT_SNAP': 'sum', 'DAY_LABEL': 'min'}).reset_index()\n",
    "df_agg_n_wk = df_agg_n.loc[df_agg_n.groupby('TM_KEY_WK')['TM_KEY_DAY'].idxmax(), ['METRIC_CD', 'METRIC_NAME', 'TM_KEY_WK', 'WK_LABEL', 'AGG_TYPE', 'ACT_SNAP', 'TGT_SNAP']]\n",
    "df_rev_wk = pd.concat([df_agg_s_wk, df_agg_n_wk])\n",
    "\n",
    "''' WTD '''\n",
    "df_rev_wk = df_rev_wk[df_rev_wk['TM_KEY_WK']==curr_wk]\n",
    "\n",
    "''' Aggregation '''\n",
    "df_rev_wk['BASELINE'] = df_rev_wk.groupby('METRIC_CD')['ACT_SNAP'].shift().fillna(0)\n",
    "df_rev_wk['%ACHV'] = (df_rev_wk['ACT_SNAP']-df_rev_wk['BASELINE']) / (df_rev_wk['TGT_SNAP']-df_rev_wk['BASELINE'])\n",
    "df_rev_wk['%ACHV'] = np.where(df_rev_wk['%ACHV'] < 1.2, df_rev_wk['%ACHV'], 1.2)\n",
    "df_rev_wk['WEIGHT'] = df_rev_wk['METRIC_NAME'].map(weight_dict)\n",
    "df_rev_wk['WEIGHT_ACT'] = df_rev_wk['%ACHV'] * df_rev_wk['WEIGHT']\n",
    "\n",
    "df_rev_wk"
   ]
  },
  {
   "cell_type": "code",
   "execution_count": 168,
   "metadata": {},
   "outputs": [
    {
     "data": {
      "text/plain": [
       "2.7087066046023383"
      ]
     },
     "execution_count": 168,
     "metadata": {},
     "output_type": "execute_result"
    }
   ],
   "source": [
    "''' WTD Values '''\n",
    "\n",
    "wtd_bg_achv = df_rev_wk['WEIGHT_ACT'].sum() / df_rev_wk['WEIGHT'].sum()\n",
    "wtd_bg_act = df_rev_wk['ACT_SNAP'].sum()\n",
    "wtd_bg_tgt = df_rev_wk['TGT_SNAP'].sum()\n",
    "wtd_bg_score = weight_score(wtd_bg_achv)\n",
    "\n",
    "wtd_bg_score"
   ]
  },
  {
   "attachments": {},
   "cell_type": "markdown",
   "metadata": {},
   "source": [
    "### WK : Business Growth"
   ]
  },
  {
   "cell_type": "code",
   "execution_count": 169,
   "metadata": {},
   "outputs": [
    {
     "data": {
      "image/png": "[encoded data removed]",
      "text/plain": [
       "<Figure size 1400x100 with 2 Axes>"
      ]
     },
     "metadata": {},
     "output_type": "display_data"
    }
   ],
   "source": [
    "\n",
    "fig = plt.figure(figsize=(14, 1))\n",
    "gs = GridSpec(2, 1)\n",
    "ax1 = fig.add_subplot(gs[0, :])\n",
    "ax2 = fig.add_subplot(gs[1, :])\n",
    "\n",
    "ax1.text(0.5, 0.5, f\"Business Growth : Week {curr_wk_label} Y{curr_yr}\", size=25, ha='center', va='center', weight='bold')\n",
    "ax1.spines[['top','left','right','bottom']].set_visible(False)\n",
    "ax1.set_axis_off()\n",
    "\n",
    "ax2.text(0.5, 0.5, f\"WTD (day {wk_day_start}-{wk_day_end}) as of {curr_day_label} {curr_mth_desc}\", size=16, ha='center', va='center')\n",
    "ax2.spines[['top','left','right','bottom']].set_visible(False)\n",
    "ax2.set_axis_off()\n",
    "\n",
    "fig.tight_layout()\n",
    "plt.show()"
   ]
  },
  {
   "cell_type": "code",
   "execution_count": 170,
   "metadata": {},
   "outputs": [
    {
     "data": {
      "image/png": "[encoded data removed]",
      "text/plain": [
       "<Figure size 1400x100 with 4 Axes>"
      ]
     },
     "metadata": {},
     "output_type": "display_data"
    }
   ],
   "source": [
    "''' WTD Summary '''\n",
    "\n",
    "fig = plt.figure(figsize=(14, 1))\n",
    "gs = GridSpec(1, 4)\n",
    "ax1 = fig.add_subplot(gs[:, 0])\n",
    "ax2 = fig.add_subplot(gs[:, 1])\n",
    "ax3 = fig.add_subplot(gs[:, 2])\n",
    "ax4 = fig.add_subplot(gs[:, 3])\n",
    "\n",
    "ax1.text(0.5, 0.5, f\"Act: {format(unit_mb(wtd_bg_act),',.1f')} M\", size=22, ha='center', va='center')\n",
    "ax1.spines[['top','left','right','bottom']].set_visible(False)\n",
    "ax1.set_axis_off()\n",
    "\n",
    "ax2.text(0.5, 0.5, f\"Tgt: {format(unit_mb(wtd_bg_tgt),',.1f')} M\", size=22, ha='center', va='center')\n",
    "ax2.spines[['top','left','right','bottom']].set_visible(False)\n",
    "ax2.set_axis_off()\n",
    "\n",
    "ax3.text(0.5, 0.5, f\"Ach: {format(wtd_bg_achv,',.1%')}\", size=22, ha='center', va='center')\n",
    "ax3.spines[['top','left','right','bottom']].set_visible(False)\n",
    "ax3.set_axis_off()\n",
    "\n",
    "ax4.text(0.5, 0.5, f\"WoW: {format(wtd_bg_score,',.2f')}\", size=22, ha='center', va='center')\n",
    "ax4.spines[['top','left','right','bottom']].set_visible(False)\n",
    "ax4.set_axis_off()\n",
    "\n",
    "fig.tight_layout()\n",
    "plt.show()"
   ]
  }
 ],
 "metadata": {
  "kernelspec": {
   "display_name": "py310",
   "language": "python",
   "name": "python3"
  },
  "language_info": {
   "codemirror_mode": {
    "name": "ipython",
    "version": 3
   },
   "file_extension": ".py",
   "mimetype": "text/x-python",
   "name": "python",
   "nbconvert_exporter": "python",
   "pygments_lexer": "ipython3",
   "version": "3.10.11"
  },
  "orig_nbformat": 4
 },
 "nbformat": 4,
 "nbformat_minor": 2
}
