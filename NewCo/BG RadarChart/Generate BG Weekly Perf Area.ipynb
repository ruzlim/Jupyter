{
 "cells": [
  {
   "attachments": {},
   "cell_type": "markdown",
   "metadata": {},
   "source": [
    "# 6 Dimension KPI 2023"
   ]
  },
  {
   "cell_type": "code",
   "execution_count": 1,
   "metadata": {},
   "outputs": [],
   "source": [
    "import cx_Oracle\n",
    "import pandas as pd\n",
    "import numpy as np\n",
    "import matplotlib.pyplot as plt\n",
    "import configparser"
   ]
  },
  {
   "attachments": {},
   "cell_type": "markdown",
   "metadata": {},
   "source": [
    "## Parameter"
   ]
  },
  {
   "cell_type": "code",
   "execution_count": 2,
   "metadata": {},
   "outputs": [],
   "source": [
    "as_week = 2023025\n",
    "raw_dir = f\"..\\..\\data\\\\raw\"\n",
    "op_dir = f\"..\\..\\data\\output\"\n",
    "raw_file_name = f'Raw-Agg Perf_Wk_Area {as_week}'\n",
    "op_file_name = f'{raw_file_name.replace(\"Raw-Agg\", \"BG\")}'"
   ]
  },
  {
   "cell_type": "code",
   "execution_count": 3,
   "metadata": {},
   "outputs": [],
   "source": [
    "config = configparser.ConfigParser()\n",
    "config.read('../../my_config.ini')\n",
    "config.sections()\n",
    "\n",
    "username = config['TDMDBPR']['username']\n",
    "password = config['TDMDBPR']['password']\n",
    "db = config['TDMDBPR']['db']\n",
    "host = config['TDMDBPR']['host']\n",
    "port = config['TDMDBPR']['port']"
   ]
  },
  {
   "attachments": {},
   "cell_type": "markdown",
   "metadata": {},
   "source": [
    "## Import Business Growth data"
   ]
  },
  {
   "cell_type": "code",
   "execution_count": 4,
   "metadata": {},
   "outputs": [
    {
     "name": "stdout",
     "output_type": "stream",
     "text": [
      "TDMDBPR : Connected\n",
      "\n",
      "Execute query as Week 2023025...\n",
      "\n",
      "Done !!!\n",
      "\n",
      "TDMDBPR : Disconnected\n"
     ]
    }
   ],
   "source": [
    "conStr = f'{username}/{password}@{host}:{port}/{db}'\n",
    "conn = cx_Oracle.connect(conStr)\n",
    "print(f'{db} : Connected')\n",
    "cur = conn.cursor()\n",
    "\n",
    "v_week = (as_week, )\n",
    "\n",
    "\n",
    "try:\n",
    "    print(f'\\nExecute query as Week {v_week[0]}...')\n",
    "\n",
    "    sqlTxt = \"\"\"\n",
    "        WITH W_VAR (AS_OF_WK) AS \n",
    "        ( \n",
    "            SELECT :1 AS AS_OF_WK FROM DUAL \n",
    "        ) \n",
    "        -----------------------------------------------------------------------------------------------------------------------\n",
    "\n",
    "        SELECT *\n",
    "        FROM ( \n",
    "            SELECT TM_KEY_DAY, TM_KEY_WK, TM_KEY_MTH, TM_KEY_QTR, TM_KEY_YR, DAY_DESC, MONTH_DESC, QUARTER_DESC, CENTER, METRIC_GRP, COMP_CD, PRODUCT_GRP, METRIC_CD, METRIC_NAME, DIMENSION_KPI_FLAG, BG_FLAG--, METRIC_NAME_GROUP\n",
    "                , ARAE_NO, AREA_TYPE, AREA_CD, AREA_NAME\n",
    "                , AGG_TYPE, RR_IND, GRY_IND, UOM, PERIOD \n",
    "                , ACTUAL_SNAP, ACTUAL_AGG, TARGET_SNAP, TARGET_AGG, PPN_TM\n",
    "            FROM ( \n",
    "                SELECT TM_KEY_DAY, TM_KEY_WK, TM_KEY_MTH, TM_KEY_QTR, TM_KEY_YR, DAY_DESC, MONTH_DESC, QUARTER_DESC, CENTER, METRIC_GRP, COMP_CD, PRODUCT_GRP, METRIC_CD, METRIC_NAME \n",
    "                    , CASE \tWHEN AREA_TYPE = 'P' THEN 1 WHEN AREA_TYPE = 'G' THEN 2 WHEN AREA_TYPE = 'H' THEN 3 ELSE 0 END ARAE_NO\n",
    "                    , AREA_TYPE, AREA_CD, AREA_NAME\n",
    "                    , CASE \tWHEN ( METRIC_CD IN ('DNEC10006', 'TNEC10002', 'TNEC20002') --NETWORK EXPERIENCE \n",
    "                                OR METRIC_CD IN ('B1R000100', 'B2R000100', 'TB3R000100', 'TB4R000100', 'TNSC00142') --BUSINESS GROWTH \n",
    "                                OR METRIC_CD IN ('DSER21101', 'DSER22101', 'TSER21101', 'TSER22101', 'TSER23101', 'DB2S000200', 'DB1S000200', 'TB2S000200', 'TB1S000200', 'TSER13100', 'TSER14100') --CUSTOMER RETENTION & EXPERIENCE \n",
    "                                OR METRIC_CD IN ('TNSC00011', 'TNSC00013', 'TNSC00087', 'TNSC00101', 'TNSC00144', 'TNSC00020', 'TNSC00130') --NEW S-CURVE \n",
    "                                --COST & PRODUCTIVITY (Unknown ?) \n",
    "                                OR METRIC_CD IN ('DIS10007', 'DIS10011', 'DIS10001') --DIGITALIZATION \n",
    "                            ) THEN 'Y' ELSE 'N' END DIMENSION_KPI_FLAG \n",
    "                    , CASE \tWHEN METRIC_CD IN ('B1R000100', 'B2R000100', 'TB3R000100', 'TB4R000100', 'TNSC00142') --BUSINESS GROWTH \n",
    "                            THEN 'Y' ELSE 'N' END BG_FLAG \n",
    "                    , METRIC_NAME_GROUP, PPN_TM, AGG_TYPE, RR_IND, GRY_IND, UOM, PERIOD, ACTUAL_SNAP, ACTUAL_AGG, TARGET_SNAP, TARGET_AGG\n",
    "                FROM GEOSPCAPPO.AGG_PERFORMANCE_NEWCO NOLOCK \n",
    "                WHERE TM_KEY_WK <= (SELECT AS_OF_WK FROM W_VAR)\n",
    "                AND AREA_TYPE IN ('P', 'G', 'H')\n",
    "            ) A \n",
    "        ) B \n",
    "        WHERE METRIC_CD IN ('B1R000100', 'B2R000100', 'TB3R000100', 'TB4R000100', 'TNSC00142')\n",
    "    \"\"\"\n",
    "    \n",
    "    cur.execute(sqlTxt, v_week)\n",
    "\n",
    "    print(f'\\nDone !!!')\n",
    "\n",
    "    rows = cur.fetchall()\n",
    "    \n",
    "    df = pd.DataFrame.from_records(rows, columns=[x[0] for x in cur.description])\n",
    "\n",
    "\n",
    "except cx_Oracle.DatabaseError as e:\n",
    "    print(f'Error with Oracle : {e}')\n",
    "\n",
    "\n",
    "finally:\n",
    "    cur.close()\n",
    "    conn.close()\n",
    "    print(f'\\n{db} : Disconnected')"
   ]
  },
  {
   "cell_type": "code",
   "execution_count": 5,
   "metadata": {},
   "outputs": [
    {
     "data": {
      "text/plain": [
       "(67860, 30)"
      ]
     },
     "execution_count": 5,
     "metadata": {},
     "output_type": "execute_result"
    }
   ],
   "source": [
    "df.shape"
   ]
  },
  {
   "cell_type": "code",
   "execution_count": 6,
   "metadata": {},
   "outputs": [
    {
     "data": {
      "text/html": [
       "<div>\n",
       "<style scoped>\n",
       "    .dataframe tbody tr th:only-of-type {\n",
       "        vertical-align: middle;\n",
       "    }\n",
       "\n",
       "    .dataframe tbody tr th {\n",
       "        vertical-align: top;\n",
       "    }\n",
       "\n",
       "    .dataframe thead th {\n",
       "        text-align: right;\n",
       "    }\n",
       "</style>\n",
       "<table border=\"1\" class=\"dataframe\">\n",
       "  <thead>\n",
       "    <tr style=\"text-align: right;\">\n",
       "      <th></th>\n",
       "      <th>TM_KEY_DAY</th>\n",
       "      <th>TM_KEY_WK</th>\n",
       "      <th>TM_KEY_MTH</th>\n",
       "      <th>TM_KEY_QTR</th>\n",
       "      <th>TM_KEY_YR</th>\n",
       "      <th>DAY_DESC</th>\n",
       "      <th>MONTH_DESC</th>\n",
       "      <th>QUARTER_DESC</th>\n",
       "      <th>CENTER</th>\n",
       "      <th>METRIC_GRP</th>\n",
       "      <th>...</th>\n",
       "      <th>AGG_TYPE</th>\n",
       "      <th>RR_IND</th>\n",
       "      <th>GRY_IND</th>\n",
       "      <th>UOM</th>\n",
       "      <th>PERIOD</th>\n",
       "      <th>ACTUAL_SNAP</th>\n",
       "      <th>ACTUAL_AGG</th>\n",
       "      <th>TARGET_SNAP</th>\n",
       "      <th>TARGET_AGG</th>\n",
       "      <th>PPN_TM</th>\n",
       "    </tr>\n",
       "  </thead>\n",
       "  <tbody>\n",
       "    <tr>\n",
       "      <th>67857</th>\n",
       "      <td>20230625</td>\n",
       "      <td>2023025</td>\n",
       "      <td>202306</td>\n",
       "      <td>20232</td>\n",
       "      <td>2023</td>\n",
       "      <td>Sunday</td>\n",
       "      <td>June</td>\n",
       "      <td>Quarter 2</td>\n",
       "      <td>Sales &amp; Revenue</td>\n",
       "      <td>Revenue</td>\n",
       "      <td>...</td>\n",
       "      <td>S</td>\n",
       "      <td>0</td>\n",
       "      <td>GYR</td>\n",
       "      <td>baht</td>\n",
       "      <td>M</td>\n",
       "      <td>1187858.01</td>\n",
       "      <td>13207851.57</td>\n",
       "      <td>1.537517e+06</td>\n",
       "      <td>1.323853e+07</td>\n",
       "      <td>2023-06-29 10:06:31</td>\n",
       "    </tr>\n",
       "    <tr>\n",
       "      <th>67858</th>\n",
       "      <td>20230625</td>\n",
       "      <td>2023025</td>\n",
       "      <td>202306</td>\n",
       "      <td>20232</td>\n",
       "      <td>2023</td>\n",
       "      <td>Sunday</td>\n",
       "      <td>June</td>\n",
       "      <td>Quarter 2</td>\n",
       "      <td>Sales &amp; Revenue</td>\n",
       "      <td>Revenue</td>\n",
       "      <td>...</td>\n",
       "      <td>S</td>\n",
       "      <td>0</td>\n",
       "      <td>GYR</td>\n",
       "      <td>baht</td>\n",
       "      <td>M</td>\n",
       "      <td>79941.97</td>\n",
       "      <td>799861.26</td>\n",
       "      <td>9.846239e+04</td>\n",
       "      <td>8.477937e+05</td>\n",
       "      <td>2023-06-29 10:06:31</td>\n",
       "    </tr>\n",
       "    <tr>\n",
       "      <th>67859</th>\n",
       "      <td>20230625</td>\n",
       "      <td>2023025</td>\n",
       "      <td>202306</td>\n",
       "      <td>20232</td>\n",
       "      <td>2023</td>\n",
       "      <td>Sunday</td>\n",
       "      <td>June</td>\n",
       "      <td>Quarter 2</td>\n",
       "      <td>Sales &amp; Revenue</td>\n",
       "      <td>Revenue</td>\n",
       "      <td>...</td>\n",
       "      <td>S</td>\n",
       "      <td>0</td>\n",
       "      <td>GYR</td>\n",
       "      <td>baht</td>\n",
       "      <td>M</td>\n",
       "      <td>3190.00</td>\n",
       "      <td>252333.12</td>\n",
       "      <td>NaN</td>\n",
       "      <td>NaN</td>\n",
       "      <td>2023-06-29 10:06:31</td>\n",
       "    </tr>\n",
       "  </tbody>\n",
       "</table>\n",
       "<p>3 rows × 30 columns</p>\n",
       "</div>"
      ],
      "text/plain": [
       "       TM_KEY_DAY  TM_KEY_WK  TM_KEY_MTH  TM_KEY_QTR  TM_KEY_YR DAY_DESC  \\\n",
       "67857    20230625    2023025      202306       20232       2023   Sunday   \n",
       "67858    20230625    2023025      202306       20232       2023   Sunday   \n",
       "67859    20230625    2023025      202306       20232       2023   Sunday   \n",
       "\n",
       "      MONTH_DESC QUARTER_DESC           CENTER METRIC_GRP  ... AGG_TYPE  \\\n",
       "67857       June    Quarter 2  Sales & Revenue    Revenue  ...        S   \n",
       "67858       June    Quarter 2  Sales & Revenue    Revenue  ...        S   \n",
       "67859       June    Quarter 2  Sales & Revenue    Revenue  ...        S   \n",
       "\n",
       "      RR_IND GRY_IND   UOM PERIOD ACTUAL_SNAP   ACTUAL_AGG   TARGET_SNAP  \\\n",
       "67857      0     GYR  baht      M  1187858.01  13207851.57  1.537517e+06   \n",
       "67858      0     GYR  baht      M    79941.97    799861.26  9.846239e+04   \n",
       "67859      0     GYR  baht      M     3190.00    252333.12           NaN   \n",
       "\n",
       "         TARGET_AGG              PPN_TM  \n",
       "67857  1.323853e+07 2023-06-29 10:06:31  \n",
       "67858  8.477937e+05 2023-06-29 10:06:31  \n",
       "67859           NaN 2023-06-29 10:06:31  \n",
       "\n",
       "[3 rows x 30 columns]"
      ]
     },
     "execution_count": 6,
     "metadata": {},
     "output_type": "execute_result"
    }
   ],
   "source": [
    "df.tail(3)"
   ]
  },
  {
   "attachments": {},
   "cell_type": "markdown",
   "metadata": {},
   "source": [
    "### Generate Rawdata as CSV file"
   ]
  },
  {
   "cell_type": "code",
   "execution_count": 7,
   "metadata": {},
   "outputs": [
    {
     "name": "stdout",
     "output_type": "stream",
     "text": [
      "\n",
      "\"..\\..\\data\\raw\\Raw-Agg Perf_Wk_Area 2023025.csv\" is generated\n"
     ]
    }
   ],
   "source": [
    "raw_file = f'{raw_dir}\\{raw_file_name}'\n",
    "\n",
    "df.to_csv(f'{raw_file}.csv', index=False, encoding='utf-8')\n",
    "\n",
    "print(f'\\n\"{raw_file}.csv\" is generated')"
   ]
  },
  {
   "attachments": {},
   "cell_type": "markdown",
   "metadata": {},
   "source": [
    "## Aggregation"
   ]
  },
  {
   "attachments": {},
   "cell_type": "markdown",
   "metadata": {},
   "source": [
    "### Data Prep"
   ]
  },
  {
   "cell_type": "code",
   "execution_count": 8,
   "metadata": {},
   "outputs": [
    {
     "name": "stderr",
     "output_type": "stream",
     "text": [
      "C:\\Users\\Narut4\\AppData\\Local\\Temp\\ipykernel_9528\\655902469.py:2: DtypeWarning: Columns (10) have mixed types. Specify dtype option on import or set low_memory=False.\n",
      "  df_bg = pd.read_csv(data_src)\n"
     ]
    },
    {
     "data": {
      "text/html": [
       "<div>\n",
       "<style scoped>\n",
       "    .dataframe tbody tr th:only-of-type {\n",
       "        vertical-align: middle;\n",
       "    }\n",
       "\n",
       "    .dataframe tbody tr th {\n",
       "        vertical-align: top;\n",
       "    }\n",
       "\n",
       "    .dataframe thead th {\n",
       "        text-align: right;\n",
       "    }\n",
       "</style>\n",
       "<table border=\"1\" class=\"dataframe\">\n",
       "  <thead>\n",
       "    <tr style=\"text-align: right;\">\n",
       "      <th></th>\n",
       "      <th>TM_KEY_DAY</th>\n",
       "      <th>TM_KEY_WK</th>\n",
       "      <th>TM_KEY_MTH</th>\n",
       "      <th>TM_KEY_QTR</th>\n",
       "      <th>TM_KEY_YR</th>\n",
       "      <th>DAY_DESC</th>\n",
       "      <th>MONTH_DESC</th>\n",
       "      <th>QUARTER_DESC</th>\n",
       "      <th>CENTER</th>\n",
       "      <th>METRIC_GRP</th>\n",
       "      <th>...</th>\n",
       "      <th>AGG_TYPE</th>\n",
       "      <th>RR_IND</th>\n",
       "      <th>GRY_IND</th>\n",
       "      <th>UOM</th>\n",
       "      <th>PERIOD</th>\n",
       "      <th>ACTUAL_SNAP</th>\n",
       "      <th>ACTUAL_AGG</th>\n",
       "      <th>TARGET_SNAP</th>\n",
       "      <th>TARGET_AGG</th>\n",
       "      <th>PPN_TM</th>\n",
       "    </tr>\n",
       "  </thead>\n",
       "  <tbody>\n",
       "    <tr>\n",
       "      <th>0</th>\n",
       "      <td>20230301</td>\n",
       "      <td>2023009</td>\n",
       "      <td>202303</td>\n",
       "      <td>20231</td>\n",
       "      <td>2023</td>\n",
       "      <td>Wednesday</td>\n",
       "      <td>March</td>\n",
       "      <td>Quarter 1</td>\n",
       "      <td>Sales &amp; Revenue</td>\n",
       "      <td>Revenue</td>\n",
       "      <td>...</td>\n",
       "      <td>S</td>\n",
       "      <td>0</td>\n",
       "      <td>GYR</td>\n",
       "      <td>baht</td>\n",
       "      <td>M</td>\n",
       "      <td>68778.3076</td>\n",
       "      <td>68778.3076</td>\n",
       "      <td>70927.3896</td>\n",
       "      <td>70927.3896</td>\n",
       "      <td>2023-06-29 10:06:31</td>\n",
       "    </tr>\n",
       "    <tr>\n",
       "      <th>1</th>\n",
       "      <td>20230301</td>\n",
       "      <td>2023009</td>\n",
       "      <td>202303</td>\n",
       "      <td>20231</td>\n",
       "      <td>2023</td>\n",
       "      <td>Wednesday</td>\n",
       "      <td>March</td>\n",
       "      <td>Quarter 1</td>\n",
       "      <td>Sales &amp; Revenue</td>\n",
       "      <td>Revenue</td>\n",
       "      <td>...</td>\n",
       "      <td>S</td>\n",
       "      <td>0</td>\n",
       "      <td>GYR</td>\n",
       "      <td>baht</td>\n",
       "      <td>M</td>\n",
       "      <td>82900.2484</td>\n",
       "      <td>82900.2484</td>\n",
       "      <td>70927.3896</td>\n",
       "      <td>70927.3896</td>\n",
       "      <td>2023-06-29 10:06:31</td>\n",
       "    </tr>\n",
       "    <tr>\n",
       "      <th>2</th>\n",
       "      <td>20230301</td>\n",
       "      <td>2023009</td>\n",
       "      <td>202303</td>\n",
       "      <td>20231</td>\n",
       "      <td>2023</td>\n",
       "      <td>Wednesday</td>\n",
       "      <td>March</td>\n",
       "      <td>Quarter 1</td>\n",
       "      <td>Sales &amp; Revenue</td>\n",
       "      <td>Revenue</td>\n",
       "      <td>...</td>\n",
       "      <td>S</td>\n",
       "      <td>0</td>\n",
       "      <td>GYR</td>\n",
       "      <td>baht</td>\n",
       "      <td>M</td>\n",
       "      <td>86156.4179</td>\n",
       "      <td>86156.4179</td>\n",
       "      <td>47615.4873</td>\n",
       "      <td>47615.4873</td>\n",
       "      <td>2023-06-29 10:06:31</td>\n",
       "    </tr>\n",
       "  </tbody>\n",
       "</table>\n",
       "<p>3 rows × 30 columns</p>\n",
       "</div>"
      ],
      "text/plain": [
       "   TM_KEY_DAY  TM_KEY_WK  TM_KEY_MTH  TM_KEY_QTR  TM_KEY_YR   DAY_DESC  \\\n",
       "0    20230301    2023009      202303       20231       2023  Wednesday   \n",
       "1    20230301    2023009      202303       20231       2023  Wednesday   \n",
       "2    20230301    2023009      202303       20231       2023  Wednesday   \n",
       "\n",
       "  MONTH_DESC QUARTER_DESC           CENTER METRIC_GRP  ... AGG_TYPE RR_IND  \\\n",
       "0      March    Quarter 1  Sales & Revenue    Revenue  ...        S      0   \n",
       "1      March    Quarter 1  Sales & Revenue    Revenue  ...        S      0   \n",
       "2      March    Quarter 1  Sales & Revenue    Revenue  ...        S      0   \n",
       "\n",
       "  GRY_IND   UOM PERIOD ACTUAL_SNAP  ACTUAL_AGG TARGET_SNAP  TARGET_AGG  \\\n",
       "0     GYR  baht      M  68778.3076  68778.3076  70927.3896  70927.3896   \n",
       "1     GYR  baht      M  82900.2484  82900.2484  70927.3896  70927.3896   \n",
       "2     GYR  baht      M  86156.4179  86156.4179  47615.4873  47615.4873   \n",
       "\n",
       "                PPN_TM  \n",
       "0  2023-06-29 10:06:31  \n",
       "1  2023-06-29 10:06:31  \n",
       "2  2023-06-29 10:06:31  \n",
       "\n",
       "[3 rows x 30 columns]"
      ]
     },
     "execution_count": 8,
     "metadata": {},
     "output_type": "execute_result"
    }
   ],
   "source": [
    "data_src = f'{raw_file}.csv'\n",
    "df_bg = pd.read_csv(data_src)\n",
    "df_bg.head(3)"
   ]
  },
  {
   "cell_type": "code",
   "execution_count": 9,
   "metadata": {},
   "outputs": [
    {
     "data": {
      "text/plain": [
       "(67860, 30)"
      ]
     },
     "execution_count": 9,
     "metadata": {},
     "output_type": "execute_result"
    }
   ],
   "source": [
    "df_bg.shape"
   ]
  },
  {
   "cell_type": "code",
   "execution_count": 10,
   "metadata": {},
   "outputs": [
    {
     "data": {
      "text/plain": [
       "array(['Postpaid Revenue', 'Prepaid Revenue',\n",
       "       'TDG Revenue (Performance View)', 'TOL Revenue', 'TVS Revenue'],\n",
       "      dtype=object)"
      ]
     },
     "execution_count": 10,
     "metadata": {},
     "output_type": "execute_result"
    }
   ],
   "source": [
    "df_bg['METRIC_NAME'].unique()"
   ]
  }
 ],
 "metadata": {
  "kernelspec": {
   "display_name": "py310",
   "language": "python",
   "name": "python3"
  },
  "language_info": {
   "codemirror_mode": {
    "name": "ipython",
    "version": 3
   },
   "file_extension": ".py",
   "mimetype": "text/x-python",
   "name": "python",
   "nbconvert_exporter": "python",
   "pygments_lexer": "ipython3",
   "version": "3.10.11"
  },
  "orig_nbformat": 4
 },
 "nbformat": 4,
 "nbformat_minor": 2
}
