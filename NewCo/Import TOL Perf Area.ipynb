{
 "cells": [
  {
   "attachments": {},
   "cell_type": "markdown",
   "metadata": {},
   "source": [
    "# Import TOL Performance by Area"
   ]
  },
  {
   "cell_type": "code",
   "execution_count": 7,
   "metadata": {},
   "outputs": [],
   "source": [
    "import cx_Oracle\n",
    "import pandas as pd\n",
    "import numpy as np\n",
    "import configparser"
   ]
  },
  {
   "attachments": {},
   "cell_type": "markdown",
   "metadata": {},
   "source": [
    "## Parameter"
   ]
  },
  {
   "cell_type": "code",
   "execution_count": 8,
   "metadata": {},
   "outputs": [],
   "source": [
    "config = configparser.ConfigParser()\n",
    "config.read('../my_config.ini')\n",
    "config.sections()\n",
    "\n",
    "username = config['TDMDBPR']['username']\n",
    "password = config['TDMDBPR']['password']\n",
    "db = config['TDMDBPR']['db']\n",
    "host = config['TDMDBPR']['host']\n",
    "port = config['TDMDBPR']['port']\n",
    "as_week = config['PARAM']['as_week']"
   ]
  },
  {
   "cell_type": "code",
   "execution_count": 9,
   "metadata": {},
   "outputs": [],
   "source": [
    "raw_dir = f\"../data/raw\"\n",
    "raw_file_name = f'Raw-TOL Perf Area_Wk {as_week}'"
   ]
  },
  {
   "attachments": {},
   "cell_type": "markdown",
   "metadata": {},
   "source": [
    "## Query"
   ]
  },
  {
   "cell_type": "code",
   "execution_count": 10,
   "metadata": {},
   "outputs": [
    {
     "name": "stdout",
     "output_type": "stream",
     "text": [
      "TDMDBPR : Connected\n",
      "\n",
      "Execute query as Week 2023027...\n",
      "\n",
      "Done !!!\n",
      "\n",
      "TDMDBPR : Disconnected\n"
     ]
    }
   ],
   "source": [
    "conStr = f'{username}/{password}@{host}:{port}/{db}'\n",
    "conn = cx_Oracle.connect(conStr)\n",
    "print(f'{db} : Connected')\n",
    "cur = conn.cursor()\n",
    "\n",
    "v_week = (as_week, )\n",
    "\n",
    "\n",
    "try:\n",
    "    print(f'\\nExecute query as Week {v_week[0]}...')\n",
    "\n",
    "    sqlTxt = \"\"\"\n",
    "        SELECT TM_KEY_DAY, TM_KEY_WK, TM_KEY_MTH, TM_KEY_QTR, TM_KEY_YR, DAY_DESC, MONTH_DESC, QUARTER_DESC, CENTER, METRIC_GRP, COMP_CD, PRODUCT_GRP, METRIC_CD, METRIC_NAME, ACTUAL_AS_OF\n",
    "            , AREA_NO, AREA_TYPE, AREA_CD, AREA_NAME\n",
    "            , AGG_TYPE, RR_IND, GRY_IND, UOM, PERIOD \n",
    "            , ACTUAL_SNAP, ACTUAL_AGG, TARGET_SNAP, TARGET_AGG, PPN_TM\n",
    "        FROM ( \n",
    "            SELECT TM_KEY_DAY, TM_KEY_WK, TM_KEY_MTH, TM_KEY_QTR, TM_KEY_YR, DAY_DESC, MONTH_DESC, QUARTER_DESC, CENTER, METRIC_GRP, COMP_CD, PRODUCT_GRP, METRIC_CD, METRIC_NAME, ACTUAL_AS_OF \n",
    "                , CASE WHEN AREA_TYPE = 'P' THEN 1 WHEN AREA_TYPE = 'G' THEN 2 WHEN AREA_TYPE = 'H' THEN 3 ELSE 0 END AREA_NO\n",
    "                , AREA_TYPE, AREA_CD, AREA_NAME, METRIC_NAME_GROUP, PPN_TM, AGG_TYPE, RR_IND, GRY_IND, UOM, PERIOD, ACTUAL_SNAP, ACTUAL_AGG, TARGET_SNAP, TARGET_AGG\n",
    "            FROM GEOSPCAPPO.AGG_PERFORMANCE_NEWCO NOLOCK \n",
    "            WHERE PRODUCT_GRP = 'TOL' --All about 500,000 rows, Analysis about 120,000 rows\n",
    "            AND (METRIC_CD IN ('TB3R000100', 'TB3R000101', 'TB3R000102') --\"TOL Revenue\". \"TOL New Revenue\", \"TOL Exisitng Revenue\"\n",
    "                OR METRIC_CD IN ('TB3S000100', 'TB3S000101', 'TB3S000400', 'TB3S000500') --\"TOL Connected Subs\", \"TOL Registration Subs\", \"TOL Net Add\", \"TOL Active Subs\"\n",
    "                OR METRIC_CD IN ('TSER13100', 'TB3R000600')) --\"TOL Churn Subs\", \"TOL Connected 1MTH RC\"\n",
    "            AND AREA_TYPE IN ('P', 'G', 'H')\n",
    "        ) TOL_ANALYSIS \n",
    "    \"\"\"\n",
    "    \n",
    "    cur.execute(sqlTxt)\n",
    "\n",
    "    rows = cur.fetchall()\n",
    "\n",
    "    print(f'\\nDone !!!')\n",
    "    \n",
    "    df = pd.DataFrame.from_records(rows, columns=[x[0] for x in cur.description])\n",
    "\n",
    "\n",
    "except cx_Oracle.DatabaseError as e:\n",
    "    print(f'Error with Oracle : {e}')\n",
    "\n",
    "\n",
    "finally:\n",
    "    cur.close()\n",
    "    conn.close()\n",
    "    print(f'\\n{db} : Disconnected')"
   ]
  },
  {
   "cell_type": "code",
   "execution_count": 11,
   "metadata": {},
   "outputs": [
    {
     "data": {
      "text/plain": [
       "(139896, 29)"
      ]
     },
     "execution_count": 11,
     "metadata": {},
     "output_type": "execute_result"
    }
   ],
   "source": [
    "df.shape\n",
    "# df.columns\n",
    "# df.dtypes\n",
    "# df.describe()\n",
    "\n",
    "# df.head()"
   ]
  },
  {
   "attachments": {},
   "cell_type": "markdown",
   "metadata": {},
   "source": [
    "## Generate Output file"
   ]
  },
  {
   "cell_type": "code",
   "execution_count": 12,
   "metadata": {},
   "outputs": [
    {
     "name": "stdout",
     "output_type": "stream",
     "text": [
      "\n",
      "\"../data/raw/Raw-TOL Perf Area_Wk 2023027.csv\" is generated\n"
     ]
    }
   ],
   "source": [
    "op_raw_file = f'{raw_dir}/{raw_file_name}.csv'\n",
    "\n",
    "df.to_csv(f'{op_raw_file}', index=False, encoding='utf-8')\n",
    "\n",
    "print(f'\\n\"{op_raw_file}\" is generated')"
   ]
  }
 ],
 "metadata": {
  "kernelspec": {
   "display_name": "py310",
   "language": "python",
   "name": "python3"
  },
  "language_info": {
   "codemirror_mode": {
    "name": "ipython",
    "version": 3
   },
   "file_extension": ".py",
   "mimetype": "text/x-python",
   "name": "python",
   "nbconvert_exporter": "python",
   "pygments_lexer": "ipython3",
   "version": "3.10.11"
  },
  "orig_nbformat": 4
 },
 "nbformat": 4,
 "nbformat_minor": 2
}
