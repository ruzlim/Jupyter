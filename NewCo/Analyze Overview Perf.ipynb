{
 "cells": [
  {
   "attachments": {},
   "cell_type": "markdown",
   "metadata": {},
   "source": [
    "# Overview Performance"
   ]
  },
  {
   "cell_type": "code",
   "execution_count": 1,
   "metadata": {},
   "outputs": [],
   "source": [
    "import pandas as pd\n",
    "import numpy as np\n",
    "import datetime"
   ]
  },
  {
   "attachments": {},
   "cell_type": "markdown",
   "metadata": {},
   "source": [
    "## Import Data Source"
   ]
  },
  {
   "cell_type": "code",
   "execution_count": 17,
   "metadata": {},
   "outputs": [
    {
     "data": {
      "text/plain": [
       "array(['Digitalization', 'Network Experience', 'New S-Curve',\n",
       "       'Customer Service Experience & Retention', 'Sales & Revenue'],\n",
       "      dtype=object)"
      ]
     },
     "execution_count": 17,
     "metadata": {},
     "output_type": "execute_result"
    }
   ],
   "source": [
    "# data_src = \"/Users/ruzlim/Code/Jupyter//Raw_Agg_Performance.csv\"\n",
    "# data_src = \"c/Users/Narut4/coding/Jupyter/Raw_Agg_Performance.csv\"\n",
    "\n",
    "data_src = \"Raw-Agg Perf_Wk 2023021.csv\"\n",
    "df = pd.read_csv(data_src)\n",
    "# df.head()\n",
    "df.CENTER.unique()"
   ]
  },
  {
   "attachments": {},
   "cell_type": "markdown",
   "metadata": {},
   "source": [
    "## Analyze Data"
   ]
  },
  {
   "cell_type": "code",
   "execution_count": 3,
   "metadata": {},
   "outputs": [
    {
     "data": {
      "text/plain": [
       "(7168, 18)"
      ]
     },
     "execution_count": 3,
     "metadata": {},
     "output_type": "execute_result"
    }
   ],
   "source": [
    "df.shape"
   ]
  },
  {
   "cell_type": "code",
   "execution_count": null,
   "metadata": {},
   "outputs": [],
   "source": [
    "df.dtypes"
   ]
  },
  {
   "cell_type": "code",
   "execution_count": null,
   "metadata": {},
   "outputs": [],
   "source": [
    "df.describe()"
   ]
  },
  {
   "cell_type": "code",
   "execution_count": null,
   "metadata": {},
   "outputs": [],
   "source": [
    "df.mean(numeric_only=True)"
   ]
  },
  {
   "cell_type": "code",
   "execution_count": null,
   "metadata": {},
   "outputs": [],
   "source": [
    "# Check null value in each column\n",
    "\n",
    "df.apply(lambda x: sum(x.isnull()), axis=0)"
   ]
  },
  {
   "cell_type": "code",
   "execution_count": null,
   "metadata": {},
   "outputs": [],
   "source": [
    "# Fullfill null value example\n",
    "\n",
    "# df_tmp = df\n",
    "\n",
    "# df_tmp['TARGET_AGG'].fillna(df_tmp['TARGET_AGG'].mean(), inplace=True)\n",
    "\n",
    "# df_tmp.apply(lambda x: sum(x.isnull()), axis=0)\n",
    "\n",
    "# df_tmp"
   ]
  },
  {
   "cell_type": "code",
   "execution_count": null,
   "metadata": {},
   "outputs": [],
   "source": [
    "# df['CENTER'].unique()\n",
    "# df['PRODUCT_GRP'].unique()\n",
    "df['METRIC_GRP'].unique()\n",
    "# df['METRIC_CD'].unique()\n",
    "# df['METRIC_NAME'].unique()\n",
    "\n",
    "# df.loc[:, ['METRIC_CD', 'METRIC_NAME']]\n",
    "\n",
    "# df_bg_agg_actual_mth = pd.DataFrame(df_bg.groupby(['TM_KEY_MTH', 'METRIC_CD', 'METRIC_NAME'])['ACTUAL_AGG'].sum().reset_index())\n",
    "\n",
    "# columns = ['Date','Fee']\n",
    "# df2 = df[columns].groupby(df['Courses']).nunique() \n",
    "\n",
    "# df_grp = df.loc[:, ['METRIC_CD', 'METRIC_NAME']].groupby\n",
    "# df_grp = df.groupby(['METRIC_CD', 'METRIC_NAME']).value_counts()\n",
    "# df_grp = df.groupby(['METRIC_CD', 'METRIC_NAME']).transform('count')\n",
    "# df_grp = df.groupby(['METRIC_CD', 'METRIC_NAME']).sum(1)\n",
    "# df_grp = df[['METRIC_CD', 'METRIC_NAME']].groupby(df['METRIC_CD']).nunique()\n",
    "\n",
    "# df_grp"
   ]
  },
  {
   "attachments": {},
   "cell_type": "markdown",
   "metadata": {},
   "source": [
    "## Business Growth"
   ]
  },
  {
   "cell_type": "code",
   "execution_count": 3,
   "metadata": {},
   "outputs": [
    {
     "data": {
      "text/html": [
       "<div>\n",
       "<style scoped>\n",
       "    .dataframe tbody tr th:only-of-type {\n",
       "        vertical-align: middle;\n",
       "    }\n",
       "\n",
       "    .dataframe tbody tr th {\n",
       "        vertical-align: top;\n",
       "    }\n",
       "\n",
       "    .dataframe thead th {\n",
       "        text-align: right;\n",
       "    }\n",
       "</style>\n",
       "<table border=\"1\" class=\"dataframe\">\n",
       "  <thead>\n",
       "    <tr style=\"text-align: right;\">\n",
       "      <th></th>\n",
       "      <th>TM_KEY_MTH</th>\n",
       "      <th>TM_KEY_WK</th>\n",
       "      <th>CENTER</th>\n",
       "      <th>METRIC_GRP</th>\n",
       "      <th>COMP_CD</th>\n",
       "      <th>PRODUCT_GRP</th>\n",
       "      <th>METRIC_CD</th>\n",
       "      <th>METRIC_NAME</th>\n",
       "      <th>DIMENSION_KPI_FLAG</th>\n",
       "      <th>BG_FLAG</th>\n",
       "      <th>AGG_TYPE</th>\n",
       "      <th>RR_IND</th>\n",
       "      <th>GRY_IND</th>\n",
       "      <th>UOM</th>\n",
       "      <th>PERIOD</th>\n",
       "      <th>ACTUAL_AGG</th>\n",
       "      <th>TARGET_AGG</th>\n",
       "      <th>PPN_TM</th>\n",
       "    </tr>\n",
       "  </thead>\n",
       "  <tbody>\n",
       "    <tr>\n",
       "      <th>408</th>\n",
       "      <td>202303</td>\n",
       "      <td>2023010</td>\n",
       "      <td>Sales &amp; Revenue</td>\n",
       "      <td>Revenue</td>\n",
       "      <td>ALL</td>\n",
       "      <td>Postpaid</td>\n",
       "      <td>B2R000100</td>\n",
       "      <td>Postpaid Revenue</td>\n",
       "      <td>Y</td>\n",
       "      <td>Y</td>\n",
       "      <td>S</td>\n",
       "      <td>0</td>\n",
       "      <td>GYR</td>\n",
       "      <td>baht</td>\n",
       "      <td>M</td>\n",
       "      <td>2.542705e+09</td>\n",
       "      <td>2.560220e+09</td>\n",
       "      <td>2023-05-26 09:56:03</td>\n",
       "    </tr>\n",
       "    <tr>\n",
       "      <th>409</th>\n",
       "      <td>202304</td>\n",
       "      <td>2023014</td>\n",
       "      <td>Sales &amp; Revenue</td>\n",
       "      <td>Revenue</td>\n",
       "      <td>ALL</td>\n",
       "      <td>Postpaid</td>\n",
       "      <td>B2R000100</td>\n",
       "      <td>Postpaid Revenue</td>\n",
       "      <td>Y</td>\n",
       "      <td>Y</td>\n",
       "      <td>S</td>\n",
       "      <td>0</td>\n",
       "      <td>GYR</td>\n",
       "      <td>baht</td>\n",
       "      <td>M</td>\n",
       "      <td>1.796362e+09</td>\n",
       "      <td>1.824547e+09</td>\n",
       "      <td>2023-05-26 09:56:03</td>\n",
       "    </tr>\n",
       "    <tr>\n",
       "      <th>410</th>\n",
       "      <td>202305</td>\n",
       "      <td>2023019</td>\n",
       "      <td>Sales &amp; Revenue</td>\n",
       "      <td>Revenue</td>\n",
       "      <td>ALL</td>\n",
       "      <td>Postpaid</td>\n",
       "      <td>B2R000100</td>\n",
       "      <td>Postpaid Revenue</td>\n",
       "      <td>Y</td>\n",
       "      <td>Y</td>\n",
       "      <td>S</td>\n",
       "      <td>0</td>\n",
       "      <td>GYR</td>\n",
       "      <td>baht</td>\n",
       "      <td>M</td>\n",
       "      <td>3.148715e+09</td>\n",
       "      <td>3.154019e+09</td>\n",
       "      <td>2023-05-26 09:56:03</td>\n",
       "    </tr>\n",
       "    <tr>\n",
       "      <th>622</th>\n",
       "      <td>202303</td>\n",
       "      <td>2023009</td>\n",
       "      <td>Sales &amp; Revenue</td>\n",
       "      <td>Revenue</td>\n",
       "      <td>ALL</td>\n",
       "      <td>Prepaid</td>\n",
       "      <td>B1R000100</td>\n",
       "      <td>Prepaid Revenue</td>\n",
       "      <td>Y</td>\n",
       "      <td>Y</td>\n",
       "      <td>S</td>\n",
       "      <td>1</td>\n",
       "      <td>GYR</td>\n",
       "      <td>baht</td>\n",
       "      <td>M</td>\n",
       "      <td>6.699010e+08</td>\n",
       "      <td>6.262193e+08</td>\n",
       "      <td>2023-05-26 09:56:03</td>\n",
       "    </tr>\n",
       "    <tr>\n",
       "      <th>623</th>\n",
       "      <td>202304</td>\n",
       "      <td>2023014</td>\n",
       "      <td>Sales &amp; Revenue</td>\n",
       "      <td>Revenue</td>\n",
       "      <td>ALL</td>\n",
       "      <td>Prepaid</td>\n",
       "      <td>B1R000100</td>\n",
       "      <td>Prepaid Revenue</td>\n",
       "      <td>Y</td>\n",
       "      <td>Y</td>\n",
       "      <td>S</td>\n",
       "      <td>1</td>\n",
       "      <td>GYR</td>\n",
       "      <td>baht</td>\n",
       "      <td>M</td>\n",
       "      <td>1.119646e+09</td>\n",
       "      <td>1.122306e+09</td>\n",
       "      <td>2023-05-26 09:56:03</td>\n",
       "    </tr>\n",
       "  </tbody>\n",
       "</table>\n",
       "</div>"
      ],
      "text/plain": [
       "     TM_KEY_MTH  TM_KEY_WK           CENTER METRIC_GRP COMP_CD PRODUCT_GRP   \n",
       "408      202303    2023010  Sales & Revenue    Revenue     ALL    Postpaid  \\\n",
       "409      202304    2023014  Sales & Revenue    Revenue     ALL    Postpaid   \n",
       "410      202305    2023019  Sales & Revenue    Revenue     ALL    Postpaid   \n",
       "622      202303    2023009  Sales & Revenue    Revenue     ALL     Prepaid   \n",
       "623      202304    2023014  Sales & Revenue    Revenue     ALL     Prepaid   \n",
       "\n",
       "     METRIC_CD       METRIC_NAME DIMENSION_KPI_FLAG BG_FLAG AGG_TYPE  RR_IND   \n",
       "408  B2R000100  Postpaid Revenue                  Y       Y        S       0  \\\n",
       "409  B2R000100  Postpaid Revenue                  Y       Y        S       0   \n",
       "410  B2R000100  Postpaid Revenue                  Y       Y        S       0   \n",
       "622  B1R000100   Prepaid Revenue                  Y       Y        S       1   \n",
       "623  B1R000100   Prepaid Revenue                  Y       Y        S       1   \n",
       "\n",
       "    GRY_IND   UOM PERIOD    ACTUAL_AGG    TARGET_AGG               PPN_TM  \n",
       "408     GYR  baht      M  2.542705e+09  2.560220e+09  2023-05-26 09:56:03  \n",
       "409     GYR  baht      M  1.796362e+09  1.824547e+09  2023-05-26 09:56:03  \n",
       "410     GYR  baht      M  3.148715e+09  3.154019e+09  2023-05-26 09:56:03  \n",
       "622     GYR  baht      M  6.699010e+08  6.262193e+08  2023-05-26 09:56:03  \n",
       "623     GYR  baht      M  1.119646e+09  1.122306e+09  2023-05-26 09:56:03  "
      ]
     },
     "execution_count": 3,
     "metadata": {},
     "output_type": "execute_result"
    }
   ],
   "source": [
    "# df_bg = df[(df['CENTER'] == 'Sales & Revenue') & (df['BG_FLAG'] == 'Y')]\n",
    "df_bg = df[(df['BG_FLAG'] == 'Y') | ('METRIC_NAME' == 'TDG Revenue (Performance View)')]\n",
    "df_bg.head()"
   ]
  },
  {
   "cell_type": "code",
   "execution_count": 4,
   "metadata": {},
   "outputs": [
    {
     "data": {
      "text/plain": [
       "(70, 18)"
      ]
     },
     "execution_count": 4,
     "metadata": {},
     "output_type": "execute_result"
    }
   ],
   "source": [
    "df_bg.shape"
   ]
  },
  {
   "cell_type": "code",
   "execution_count": null,
   "metadata": {},
   "outputs": [],
   "source": [
    "df_bg.describe()"
   ]
  },
  {
   "cell_type": "code",
   "execution_count": null,
   "metadata": {},
   "outputs": [],
   "source": [
    "# df_bg.sort_values(by=['TM_KEY_MTH', 'TM_KEY_WK', 'CENTER', 'METRIC_GRP', 'COMP_CD', 'PRODUCT_GRP', 'METRIC_CD'], ascending=True)\n",
    "# df_bg.head()"
   ]
  },
  {
   "attachments": {},
   "cell_type": "markdown",
   "metadata": {},
   "source": [
    "## Monthly Aggregate"
   ]
  },
  {
   "cell_type": "code",
   "execution_count": null,
   "metadata": {},
   "outputs": [],
   "source": [
    "df_bg_agg_actual_mth = pd.DataFrame(df_bg.groupby(['TM_KEY_MTH', 'METRIC_CD', 'METRIC_NAME'])['ACTUAL_AGG'].sum().reset_index())\n",
    "df_bg_agg_actual_mth.rename(columns={'ACTUAL_AGG': 'AGG'}, inplace=True)\n",
    "df_bg_agg_actual_mth['MEASURE'] = 'ACTUAL'\n",
    "# df_bg_agg_actual_mth.head()\n",
    "\n",
    "df_bg_agg_target_mth = pd.DataFrame(df_bg.groupby(['TM_KEY_MTH', 'METRIC_CD', 'METRIC_NAME'])['TARGET_AGG'].sum().reset_index())\n",
    "df_bg_agg_target_mth.rename(columns={'TARGET_AGG': 'AGG'}, inplace=True)\n",
    "df_bg_agg_target_mth['MEASURE'] = 'TARGET'\n",
    "# df_bg_agg_target_mth.head()\n",
    "\n",
    "df_bg_agg_mth = pd.concat([df_bg_agg_actual_mth, df_bg_agg_target_mth])\n",
    "df_bg_agg_mth['AGG'] = df_bg_agg_mth['AGG'] / 1000000\n",
    "df_bg_agg_mth.head()"
   ]
  },
  {
   "cell_type": "code",
   "execution_count": null,
   "metadata": {},
   "outputs": [],
   "source": [
    "df_bg_agg_mth_pivot = df_bg_agg_mth.pivot(index=['TM_KEY_MTH', 'MEASURE'], columns=['METRIC_CD', 'METRIC_NAME'], values='AGG')\n",
    "df_bg_agg_mth_pivot"
   ]
  },
  {
   "cell_type": "code",
   "execution_count": null,
   "metadata": {},
   "outputs": [],
   "source": [
    "df_bg_agg_mth_pivot.T.round(2)"
   ]
  },
  {
   "attachments": {},
   "cell_type": "markdown",
   "metadata": {},
   "source": [
    "## Weekly Aggregate"
   ]
  },
  {
   "cell_type": "code",
   "execution_count": null,
   "metadata": {},
   "outputs": [],
   "source": [
    "df_bg_agg_actual_wk = pd.DataFrame(df_bg.groupby(['TM_KEY_WK', 'METRIC_CD', 'METRIC_NAME'])['ACTUAL_AGG'].sum().reset_index())\n",
    "df_bg_agg_actual_wk.rename(columns={'ACTUAL_AGG': 'AGG'}, inplace=True)\n",
    "df_bg_agg_actual_wk['MEASURE'] = 'ACTUAL'\n",
    "# df_bg_agg_actual_wk.head()\n",
    "\n",
    "df_bg_agg_target_wk = pd.DataFrame(df_bg.groupby(['TM_KEY_WK', 'METRIC_CD', 'METRIC_NAME'])['TARGET_AGG'].sum().reset_index())\n",
    "df_bg_agg_target_wk.rename(columns={'TARGET_AGG': 'AGG'}, inplace=True)\n",
    "df_bg_agg_target_wk['MEASURE'] = 'TARGET'\n",
    "# df_bg_agg_target_wk.head()\n",
    "\n",
    "df_bg_agg_wk = pd.concat([df_bg_agg_actual_wk, df_bg_agg_target_wk])\n",
    "df_bg_agg_wk['AGG'] = df_bg_agg_wk['AGG'] / 1000000\n",
    "df_bg_agg_wk.head()"
   ]
  },
  {
   "cell_type": "code",
   "execution_count": null,
   "metadata": {},
   "outputs": [],
   "source": [
    "df_bg_agg_wk_pivot = df_bg_agg_wk.pivot(index=['TM_KEY_WK', 'MEASURE'], columns=['METRIC_CD', 'METRIC_NAME'], values='AGG')\n",
    "df_bg_agg_wk_pivot"
   ]
  },
  {
   "cell_type": "code",
   "execution_count": 10,
   "metadata": {},
   "outputs": [
    {
     "data": {
      "text/html": [
       "<div>\n",
       "<style scoped>\n",
       "    .dataframe tbody tr th:only-of-type {\n",
       "        vertical-align: middle;\n",
       "    }\n",
       "\n",
       "    .dataframe tbody tr th {\n",
       "        vertical-align: top;\n",
       "    }\n",
       "\n",
       "    .dataframe thead tr th {\n",
       "        text-align: left;\n",
       "    }\n",
       "\n",
       "    .dataframe thead tr:last-of-type th {\n",
       "        text-align: right;\n",
       "    }\n",
       "</style>\n",
       "<table border=\"1\" class=\"dataframe\">\n",
       "  <thead>\n",
       "    <tr>\n",
       "      <th></th>\n",
       "      <th>TM_KEY_WK</th>\n",
       "      <th colspan=\"2\" halign=\"left\">2023009</th>\n",
       "      <th colspan=\"2\" halign=\"left\">2023010</th>\n",
       "      <th colspan=\"2\" halign=\"left\">2023011</th>\n",
       "      <th colspan=\"2\" halign=\"left\">2023012</th>\n",
       "      <th colspan=\"2\" halign=\"left\">2023013</th>\n",
       "      <th>...</th>\n",
       "      <th colspan=\"2\" halign=\"left\">2023017</th>\n",
       "      <th colspan=\"2\" halign=\"left\">2023018</th>\n",
       "      <th colspan=\"2\" halign=\"left\">2023019</th>\n",
       "      <th colspan=\"2\" halign=\"left\">2023020</th>\n",
       "      <th colspan=\"2\" halign=\"left\">2023021</th>\n",
       "    </tr>\n",
       "    <tr>\n",
       "      <th></th>\n",
       "      <th>MEASURE</th>\n",
       "      <th>ACTUAL</th>\n",
       "      <th>TARGET</th>\n",
       "      <th>ACTUAL</th>\n",
       "      <th>TARGET</th>\n",
       "      <th>ACTUAL</th>\n",
       "      <th>TARGET</th>\n",
       "      <th>ACTUAL</th>\n",
       "      <th>TARGET</th>\n",
       "      <th>ACTUAL</th>\n",
       "      <th>TARGET</th>\n",
       "      <th>...</th>\n",
       "      <th>ACTUAL</th>\n",
       "      <th>TARGET</th>\n",
       "      <th>ACTUAL</th>\n",
       "      <th>TARGET</th>\n",
       "      <th>ACTUAL</th>\n",
       "      <th>TARGET</th>\n",
       "      <th>ACTUAL</th>\n",
       "      <th>TARGET</th>\n",
       "      <th>ACTUAL</th>\n",
       "      <th>TARGET</th>\n",
       "    </tr>\n",
       "    <tr>\n",
       "      <th>METRIC_CD</th>\n",
       "      <th>METRIC_NAME</th>\n",
       "      <th></th>\n",
       "      <th></th>\n",
       "      <th></th>\n",
       "      <th></th>\n",
       "      <th></th>\n",
       "      <th></th>\n",
       "      <th></th>\n",
       "      <th></th>\n",
       "      <th></th>\n",
       "      <th></th>\n",
       "      <th></th>\n",
       "      <th></th>\n",
       "      <th></th>\n",
       "      <th></th>\n",
       "      <th></th>\n",
       "      <th></th>\n",
       "      <th></th>\n",
       "      <th></th>\n",
       "      <th></th>\n",
       "      <th></th>\n",
       "      <th></th>\n",
       "    </tr>\n",
       "  </thead>\n",
       "  <tbody>\n",
       "    <tr>\n",
       "      <th>B1R000100</th>\n",
       "      <th>Prepaid Revenue</th>\n",
       "      <td>669.90</td>\n",
       "      <td>626.22</td>\n",
       "      <td>1489.02</td>\n",
       "      <td>1464.92</td>\n",
       "      <td>2265.82</td>\n",
       "      <td>2281.46</td>\n",
       "      <td>3055.20</td>\n",
       "      <td>3090.84</td>\n",
       "      <td>3957.43</td>\n",
       "      <td>3952.69</td>\n",
       "      <td>...</td>\n",
       "      <td>3584.68</td>\n",
       "      <td>3639.38</td>\n",
       "      <td>881.98</td>\n",
       "      <td>869.30</td>\n",
       "      <td>1696.81</td>\n",
       "      <td>1696.02</td>\n",
       "      <td>2506.47</td>\n",
       "      <td>2522.06</td>\n",
       "      <td>2623.56</td>\n",
       "      <td>2639.83</td>\n",
       "    </tr>\n",
       "    <tr>\n",
       "      <th>B2R000100</th>\n",
       "      <th>Postpaid Revenue</th>\n",
       "      <td>1157.23</td>\n",
       "      <td>1165.61</td>\n",
       "      <td>2542.70</td>\n",
       "      <td>2560.22</td>\n",
       "      <td>4320.11</td>\n",
       "      <td>4365.50</td>\n",
       "      <td>5690.43</td>\n",
       "      <td>5739.95</td>\n",
       "      <td>7480.29</td>\n",
       "      <td>7566.68</td>\n",
       "      <td>...</td>\n",
       "      <td>6654.11</td>\n",
       "      <td>6672.69</td>\n",
       "      <td>1598.82</td>\n",
       "      <td>1601.33</td>\n",
       "      <td>3148.72</td>\n",
       "      <td>3154.02</td>\n",
       "      <td>4513.73</td>\n",
       "      <td>4526.16</td>\n",
       "      <td>4950.01</td>\n",
       "      <td>4981.00</td>\n",
       "    </tr>\n",
       "    <tr>\n",
       "      <th>TB3R000100</th>\n",
       "      <th>TOL Revenue</th>\n",
       "      <td>189.71</td>\n",
       "      <td>205.17</td>\n",
       "      <td>495.35</td>\n",
       "      <td>531.75</td>\n",
       "      <td>952.87</td>\n",
       "      <td>1020.47</td>\n",
       "      <td>1246.04</td>\n",
       "      <td>1332.36</td>\n",
       "      <td>1594.48</td>\n",
       "      <td>1704.09</td>\n",
       "      <td>...</td>\n",
       "      <td>1405.52</td>\n",
       "      <td>1506.83</td>\n",
       "      <td>302.04</td>\n",
       "      <td>317.30</td>\n",
       "      <td>665.13</td>\n",
       "      <td>702.80</td>\n",
       "      <td>971.71</td>\n",
       "      <td>1032.97</td>\n",
       "      <td>1120.31</td>\n",
       "      <td>1191.07</td>\n",
       "    </tr>\n",
       "    <tr>\n",
       "      <th>TB4R000100</th>\n",
       "      <th>TVS Revenue</th>\n",
       "      <td>42.43</td>\n",
       "      <td>47.56</td>\n",
       "      <td>90.13</td>\n",
       "      <td>100.81</td>\n",
       "      <td>171.66</td>\n",
       "      <td>191.37</td>\n",
       "      <td>223.40</td>\n",
       "      <td>249.18</td>\n",
       "      <td>314.92</td>\n",
       "      <td>461.17</td>\n",
       "      <td>...</td>\n",
       "      <td>273.70</td>\n",
       "      <td>413.62</td>\n",
       "      <td>32.42</td>\n",
       "      <td>59.56</td>\n",
       "      <td>64.69</td>\n",
       "      <td>131.08</td>\n",
       "      <td>94.19</td>\n",
       "      <td>191.37</td>\n",
       "      <td>94.19</td>\n",
       "      <td>191.37</td>\n",
       "    </tr>\n",
       "    <tr>\n",
       "      <th>TNSC00142</th>\n",
       "      <th>TDG Revenue (Performance View)</th>\n",
       "      <td>0.00</td>\n",
       "      <td>0.00</td>\n",
       "      <td>572.77</td>\n",
       "      <td>522.00</td>\n",
       "      <td>572.77</td>\n",
       "      <td>522.00</td>\n",
       "      <td>572.77</td>\n",
       "      <td>522.00</td>\n",
       "      <td>572.77</td>\n",
       "      <td>522.00</td>\n",
       "      <td>...</td>\n",
       "      <td>538.00</td>\n",
       "      <td>535.00</td>\n",
       "      <td>561.00</td>\n",
       "      <td>503.00</td>\n",
       "      <td>561.00</td>\n",
       "      <td>503.00</td>\n",
       "      <td>561.00</td>\n",
       "      <td>503.00</td>\n",
       "      <td>561.00</td>\n",
       "      <td>503.00</td>\n",
       "    </tr>\n",
       "  </tbody>\n",
       "</table>\n",
       "<p>5 rows × 26 columns</p>\n",
       "</div>"
      ],
      "text/plain": [
       "TM_KEY_WK                                  2023009           2023010            \n",
       "MEASURE                                     ACTUAL   TARGET   ACTUAL   TARGET   \n",
       "METRIC_CD  METRIC_NAME                                                          \n",
       "B1R000100  Prepaid Revenue                  669.90   626.22  1489.02  1464.92  \\\n",
       "B2R000100  Postpaid Revenue                1157.23  1165.61  2542.70  2560.22   \n",
       "TB3R000100 TOL Revenue                      189.71   205.17   495.35   531.75   \n",
       "TB4R000100 TVS Revenue                       42.43    47.56    90.13   100.81   \n",
       "TNSC00142  TDG Revenue (Performance View)     0.00     0.00   572.77   522.00   \n",
       "\n",
       "TM_KEY_WK                                  2023011           2023012            \n",
       "MEASURE                                     ACTUAL   TARGET   ACTUAL   TARGET   \n",
       "METRIC_CD  METRIC_NAME                                                          \n",
       "B1R000100  Prepaid Revenue                 2265.82  2281.46  3055.20  3090.84  \\\n",
       "B2R000100  Postpaid Revenue                4320.11  4365.50  5690.43  5739.95   \n",
       "TB3R000100 TOL Revenue                      952.87  1020.47  1246.04  1332.36   \n",
       "TB4R000100 TVS Revenue                      171.66   191.37   223.40   249.18   \n",
       "TNSC00142  TDG Revenue (Performance View)   572.77   522.00   572.77   522.00   \n",
       "\n",
       "TM_KEY_WK                                  2023013           ...  2023017   \n",
       "MEASURE                                     ACTUAL   TARGET  ...   ACTUAL   \n",
       "METRIC_CD  METRIC_NAME                                       ...            \n",
       "B1R000100  Prepaid Revenue                 3957.43  3952.69  ...  3584.68  \\\n",
       "B2R000100  Postpaid Revenue                7480.29  7566.68  ...  6654.11   \n",
       "TB3R000100 TOL Revenue                     1594.48  1704.09  ...  1405.52   \n",
       "TB4R000100 TVS Revenue                      314.92   461.17  ...   273.70   \n",
       "TNSC00142  TDG Revenue (Performance View)   572.77   522.00  ...   538.00   \n",
       "\n",
       "TM_KEY_WK                                           2023018           2023019   \n",
       "MEASURE                                     TARGET   ACTUAL   TARGET   ACTUAL   \n",
       "METRIC_CD  METRIC_NAME                                                          \n",
       "B1R000100  Prepaid Revenue                 3639.38   881.98   869.30  1696.81  \\\n",
       "B2R000100  Postpaid Revenue                6672.69  1598.82  1601.33  3148.72   \n",
       "TB3R000100 TOL Revenue                     1506.83   302.04   317.30   665.13   \n",
       "TB4R000100 TVS Revenue                      413.62    32.42    59.56    64.69   \n",
       "TNSC00142  TDG Revenue (Performance View)   535.00   561.00   503.00   561.00   \n",
       "\n",
       "TM_KEY_WK                                           2023020           2023021   \n",
       "MEASURE                                     TARGET   ACTUAL   TARGET   ACTUAL   \n",
       "METRIC_CD  METRIC_NAME                                                          \n",
       "B1R000100  Prepaid Revenue                 1696.02  2506.47  2522.06  2623.56  \\\n",
       "B2R000100  Postpaid Revenue                3154.02  4513.73  4526.16  4950.01   \n",
       "TB3R000100 TOL Revenue                      702.80   971.71  1032.97  1120.31   \n",
       "TB4R000100 TVS Revenue                      131.08    94.19   191.37    94.19   \n",
       "TNSC00142  TDG Revenue (Performance View)   503.00   561.00   503.00   561.00   \n",
       "\n",
       "TM_KEY_WK                                           \n",
       "MEASURE                                     TARGET  \n",
       "METRIC_CD  METRIC_NAME                              \n",
       "B1R000100  Prepaid Revenue                 2639.83  \n",
       "B2R000100  Postpaid Revenue                4981.00  \n",
       "TB3R000100 TOL Revenue                     1191.07  \n",
       "TB4R000100 TVS Revenue                      191.37  \n",
       "TNSC00142  TDG Revenue (Performance View)   503.00  \n",
       "\n",
       "[5 rows x 26 columns]"
      ]
     },
     "execution_count": 10,
     "metadata": {},
     "output_type": "execute_result"
    }
   ],
   "source": [
    "output_data = df_bg_agg_wk_pivot.T\n",
    "output_data.round(2)"
   ]
  },
  {
   "attachments": {},
   "cell_type": "markdown",
   "metadata": {},
   "source": [
    "## Generate Output File"
   ]
  },
  {
   "cell_type": "code",
   "execution_count": 9,
   "metadata": {},
   "outputs": [
    {
     "name": "stdout",
     "output_type": "stream",
     "text": [
      "\n",
      "\"BG Perf_Wk 2023021.xlsx\" is generated\n"
     ]
    }
   ],
   "source": [
    "output_file = data_src.replace(\"Raw-Agg\", \"BG\").replace(\".csv\", \".xlsx\")\n",
    "\n",
    "output_data.to_excel(output_file)\n",
    "\n",
    "print(f'\\n\"{output_file}\" is generated')"
   ]
  },
  {
   "attachments": {},
   "cell_type": "markdown",
   "metadata": {},
   "source": [
    "## Visualization\n",
    "##### https://matplotlib.org/stable/tutorials/introductory/pyplot.html"
   ]
  },
  {
   "cell_type": "code",
   "execution_count": 11,
   "metadata": {},
   "outputs": [],
   "source": [
    "import matplotlib.pyplot as plt"
   ]
  },
  {
   "cell_type": "code",
   "execution_count": 12,
   "metadata": {},
   "outputs": [
    {
     "data": {
      "text/html": [
       "<div>\n",
       "<style scoped>\n",
       "    .dataframe tbody tr th:only-of-type {\n",
       "        vertical-align: middle;\n",
       "    }\n",
       "\n",
       "    .dataframe tbody tr th {\n",
       "        vertical-align: top;\n",
       "    }\n",
       "\n",
       "    .dataframe thead th {\n",
       "        text-align: right;\n",
       "    }\n",
       "</style>\n",
       "<table border=\"1\" class=\"dataframe\">\n",
       "  <thead>\n",
       "    <tr style=\"text-align: right;\">\n",
       "      <th></th>\n",
       "      <th>TM_KEY_MTH</th>\n",
       "      <th>TM_KEY_WK</th>\n",
       "      <th>METRIC_CD</th>\n",
       "      <th>METRIC_NAME</th>\n",
       "      <th>ACTUAL_AGG</th>\n",
       "      <th>TARGET_AGG</th>\n",
       "    </tr>\n",
       "  </thead>\n",
       "  <tbody>\n",
       "    <tr>\n",
       "      <th>0</th>\n",
       "      <td>202303</td>\n",
       "      <td>2023009</td>\n",
       "      <td>B1R000100</td>\n",
       "      <td>Prepaid Revenue</td>\n",
       "      <td>669.901008</td>\n",
       "      <td>626.219335</td>\n",
       "    </tr>\n",
       "    <tr>\n",
       "      <th>1</th>\n",
       "      <td>202303</td>\n",
       "      <td>2023009</td>\n",
       "      <td>B2R000100</td>\n",
       "      <td>Postpaid Revenue</td>\n",
       "      <td>1157.226110</td>\n",
       "      <td>1165.611851</td>\n",
       "    </tr>\n",
       "    <tr>\n",
       "      <th>2</th>\n",
       "      <td>202303</td>\n",
       "      <td>2023009</td>\n",
       "      <td>TB3R000100</td>\n",
       "      <td>TOL Revenue</td>\n",
       "      <td>189.713166</td>\n",
       "      <td>205.173356</td>\n",
       "    </tr>\n",
       "    <tr>\n",
       "      <th>3</th>\n",
       "      <td>202303</td>\n",
       "      <td>2023009</td>\n",
       "      <td>TB4R000100</td>\n",
       "      <td>TVS Revenue</td>\n",
       "      <td>42.430646</td>\n",
       "      <td>47.555946</td>\n",
       "    </tr>\n",
       "    <tr>\n",
       "      <th>4</th>\n",
       "      <td>202303</td>\n",
       "      <td>2023009</td>\n",
       "      <td>TNSC00142</td>\n",
       "      <td>TDG Revenue (Performance View)</td>\n",
       "      <td>0.000000</td>\n",
       "      <td>0.000000</td>\n",
       "    </tr>\n",
       "  </tbody>\n",
       "</table>\n",
       "</div>"
      ],
      "text/plain": [
       "   TM_KEY_MTH  TM_KEY_WK   METRIC_CD                     METRIC_NAME   \n",
       "0      202303    2023009   B1R000100                 Prepaid Revenue  \\\n",
       "1      202303    2023009   B2R000100                Postpaid Revenue   \n",
       "2      202303    2023009  TB3R000100                     TOL Revenue   \n",
       "3      202303    2023009  TB4R000100                     TVS Revenue   \n",
       "4      202303    2023009   TNSC00142  TDG Revenue (Performance View)   \n",
       "\n",
       "    ACTUAL_AGG   TARGET_AGG  \n",
       "0   669.901008   626.219335  \n",
       "1  1157.226110  1165.611851  \n",
       "2   189.713166   205.173356  \n",
       "3    42.430646    47.555946  \n",
       "4     0.000000     0.000000  "
      ]
     },
     "execution_count": 12,
     "metadata": {},
     "output_type": "execute_result"
    }
   ],
   "source": [
    "# df_bg_agg_1 = pd.DataFrame(df_bg.groupby(['TM_KEY_MTH', 'TM_KEY_WK', 'METRIC_CD', 'METRIC_NAME'])['ACTUAL_AGG'].sum().reset_index())\n",
    "# df_bg_agg_1\n",
    "\n",
    "# df_bg_agg_2 = pd.DataFrame(df_bg.groupby(['TM_KEY_MTH', 'TM_KEY_WK', 'METRIC_CD', 'METRIC_NAME'])['ACTUAL_AGG'].agg(['sum', 'count']).reset_index())\n",
    "# df_bg_agg_2\n",
    "\n",
    "df_bg_agg = pd.DataFrame(df_bg.groupby(['TM_KEY_MTH', 'TM_KEY_WK', 'METRIC_CD', 'METRIC_NAME']).agg({'ACTUAL_AGG': 'sum', 'TARGET_AGG': 'sum'}).reset_index())\n",
    "df_bg_agg['ACTUAL_AGG'] = df_bg_agg['ACTUAL_AGG'] / 1000000\n",
    "df_bg_agg['TARGET_AGG'] = df_bg_agg['TARGET_AGG'] / 1000000\n",
    "df_bg_agg.head()"
   ]
  },
  {
   "attachments": {},
   "cell_type": "markdown",
   "metadata": {},
   "source": [
    "## Bar Chart by month"
   ]
  },
  {
   "cell_type": "code",
   "execution_count": 13,
   "metadata": {},
   "outputs": [
    {
     "data": {
      "image/png": "[encoded data removed]",
      "text/plain": [
       "<Figure size 640x480 with 1 Axes>"
      ]
     },
     "metadata": {},
     "output_type": "display_data"
    }
   ],
   "source": [
    "# df_bg_chart_mth = df_bg_agg.groupby('TM_KEY_MTH').sum(numeric_only=True).round(2)\n",
    "# df_bg_chart_mth\n",
    "\n",
    "x = df_bg_agg['TM_KEY_MTH'].unique()\n",
    "x_axis = np.arange(len(x))\n",
    "y_act = df_bg_agg.groupby('TM_KEY_MTH')['ACTUAL_AGG'].sum().round(2)\n",
    "y_tgt = df_bg_agg.groupby('TM_KEY_MTH')['TARGET_AGG'].sum().round(2)\n",
    "\n",
    "# plt.figure(figsize=(12,6))\n",
    "\n",
    "plt.bar(x_axis - 0.2, y_act, 0.4, label='Actual')\n",
    "plt.bar(x_axis + 0.2, y_tgt, 0.4, label='Target')\n",
    "\n",
    "plt.xticks(x_axis, x)\n",
    "# plt.xticks(x, rotation='vertical')\n",
    "# plt.xticks(x_axis, x, rotation='horizontal')\n",
    "plt.xlabel('Month')\n",
    "plt.ylabel('Unit (mb.)')\n",
    "plt.title('Business Growth performance by month', fontdict={'fontweight': 'bold'})\n",
    "plt.legend()\n",
    "plt.show()"
   ]
  },
  {
   "attachments": {},
   "cell_type": "markdown",
   "metadata": {},
   "source": [
    "## Bar Chart by week"
   ]
  },
  {
   "cell_type": "code",
   "execution_count": 14,
   "metadata": {},
   "outputs": [
    {
     "data": {
      "image/png": "[encoded data removed]",
      "text/plain": [
       "<Figure size 640x480 with 1 Axes>"
      ]
     },
     "metadata": {},
     "output_type": "display_data"
    }
   ],
   "source": [
    "# df_bg_chart_wk = df_bg_agg.groupby('TM_KEY_WK').sum(numeric_only=True).round(2)\n",
    "# df_bg_chart_wk\n",
    "\n",
    "x = df_bg_agg['TM_KEY_WK'].unique()\n",
    "x_axis = np.arange(len(x))\n",
    "y_act = df_bg_agg.groupby('TM_KEY_WK')['ACTUAL_AGG'].sum().round(2)\n",
    "y_tgt = df_bg_agg.groupby('TM_KEY_WK')['TARGET_AGG'].sum().round(2)\n",
    "\n",
    "# plt.figure(figsize=(18,6))\n",
    "\n",
    "# plt.bar(x_axis, y_act)\n",
    "plt.bar(x_axis - 0.2, y_act, 0.4, label='Actual')\n",
    "plt.bar(x_axis + 0.2, y_tgt, 0.4, label='Target')\n",
    "\n",
    "plt.xticks(x_axis, x)\n",
    "plt.xlabel('Week', fontdict={'fontweight': 'bold'})\n",
    "plt.ylabel('Unit (mb.)', fontdict={'fontweight': 'bold'})\n",
    "plt.title('Business Growth performance by week', fontdict={'fontweight': 'bold'})\n",
    "plt.legend()\n",
    "plt.show()"
   ]
  },
  {
   "attachments": {},
   "cell_type": "markdown",
   "metadata": {},
   "source": [
    "## Plot Chart by week"
   ]
  },
  {
   "cell_type": "code",
   "execution_count": 15,
   "metadata": {},
   "outputs": [
    {
     "data": {
      "image/png": "[encoded data removed]",
      "text/plain": [
       "<Figure size 640x480 with 1 Axes>"
      ]
     },
     "metadata": {},
     "output_type": "display_data"
    }
   ],
   "source": [
    "x = df_bg_agg['TM_KEY_WK'].unique()\n",
    "x_axis = np.arange(len(x))\n",
    "y_act = df_bg_agg.groupby('TM_KEY_WK')['ACTUAL_AGG'].sum().round(2)\n",
    "y_tgt = df_bg_agg.groupby('TM_KEY_WK')['TARGET_AGG'].sum().round(2)\n",
    "\n",
    "# plt.figure(figsize=(18,6))\n",
    "\n",
    "# plt.plot(x_axis, y_act, marker='.', markeredgewidth=3, markeredgecolor='red')\n",
    "plt.plot(x_axis, y_act, marker='.', markeredgewidth=3, label='Actual', color='red')\n",
    "plt.plot(x_axis, y_tgt, marker='.', markeredgewidth=3, label='Target', color='orange')\n",
    "plt.grid()\n",
    "\n",
    "# plt.xticks(x_axis, rotation='horizontal')\n",
    "plt.xticks(x_axis, x)\n",
    "plt.xlabel('Week', fontdict={'fontweight': 'bold'})\n",
    "plt.ylabel('Unit (mb.)', fontdict={'fontweight': 'bold'})\n",
    "plt.title('Business Growth performance by week', fontdict={'fontweight': 'bold'})\n",
    "plt.legend()\n",
    "plt.show()  "
   ]
  },
  {
   "cell_type": "code",
   "execution_count": null,
   "metadata": {},
   "outputs": [],
   "source": []
  }
 ],
 "metadata": {
  "kernelspec": {
   "display_name": "py310",
   "language": "python",
   "name": "python3"
  },
  "language_info": {
   "codemirror_mode": {
    "name": "ipython",
    "version": 3
   },
   "file_extension": ".py",
   "mimetype": "text/x-python",
   "name": "python",
   "nbconvert_exporter": "python",
   "pygments_lexer": "ipython3",
   "version": "3.10.11"
  },
  "orig_nbformat": 4
 },
 "nbformat": 4,
 "nbformat_minor": 2
}
