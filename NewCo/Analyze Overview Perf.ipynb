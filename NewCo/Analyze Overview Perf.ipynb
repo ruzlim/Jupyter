{
 "cells": [
  {
   "attachments": {},
   "cell_type": "markdown",
   "metadata": {},
   "source": [
    "# Overview Performance"
   ]
  },
  {
   "cell_type": "code",
   "execution_count": null,
   "metadata": {},
   "outputs": [],
   "source": [
    "import pandas as pd\n",
    "import numpy as np\n",
    "import datetime"
   ]
  },
  {
   "attachments": {},
   "cell_type": "markdown",
   "metadata": {},
   "source": [
    "## Import Data Source"
   ]
  },
  {
   "cell_type": "code",
   "execution_count": null,
   "metadata": {},
   "outputs": [],
   "source": [
    "# data_src = \"/Users/ruzlim/Code/Jupyter//Raw_Agg_Performance.csv\"\n",
    "# data_src = \"c/Users/Narut4/coding/Jupyter/Raw_Agg_Performance.csv\"\n",
    "\n",
    "data_src = \"Raw-Agg Perf_Wk 2023021.csv\"\n",
    "df = pd.read_csv(data_src)\n",
    "df.head()"
   ]
  },
  {
   "attachments": {},
   "cell_type": "markdown",
   "metadata": {},
   "source": [
    "## Analyze Data"
   ]
  },
  {
   "cell_type": "code",
   "execution_count": null,
   "metadata": {},
   "outputs": [],
   "source": [
    "df.shape"
   ]
  },
  {
   "cell_type": "code",
   "execution_count": null,
   "metadata": {},
   "outputs": [],
   "source": [
    "df.dtypes"
   ]
  },
  {
   "cell_type": "code",
   "execution_count": null,
   "metadata": {},
   "outputs": [],
   "source": [
    "df.describe()"
   ]
  },
  {
   "cell_type": "code",
   "execution_count": null,
   "metadata": {},
   "outputs": [],
   "source": [
    "df.mean(numeric_only=True)"
   ]
  },
  {
   "attachments": {},
   "cell_type": "markdown",
   "metadata": {},
   "source": [
    "## Null values"
   ]
  },
  {
   "cell_type": "code",
   "execution_count": null,
   "metadata": {},
   "outputs": [],
   "source": [
    "# Check null value in each column\n",
    "\n",
    "df.apply(lambda x: sum(x.isnull()), axis=0)"
   ]
  },
  {
   "cell_type": "code",
   "execution_count": null,
   "metadata": {},
   "outputs": [],
   "source": [
    "# Fullfill null value example\n",
    "\n",
    "# df_tmp = df\n",
    "# df_tmp['ff_null'] = df_tmp['TARGET_AGG'].fillna(df_tmp['TARGET_AGG'].mean(), inplace=True)\n",
    "# df_tmp['ff_null'] = df_tmp.apply(lambda x: sum(x.isnull()), axis=0)\n",
    "# df_tmp.head()"
   ]
  },
  {
   "attachments": {},
   "cell_type": "markdown",
   "metadata": {},
   "source": [
    "## String"
   ]
  },
  {
   "cell_type": "code",
   "execution_count": null,
   "metadata": {},
   "outputs": [],
   "source": [
    "# txt = \"Sales & Revenue\"\n",
    "# txt.count(\"e\")\n",
    "\n",
    "# df_tmp = df_bg.iloc[:, :7]#.drop_duplicates()\n",
    "# df_tmp = df.iloc[:, [0,2,3,4,5]].drop_duplicates()\n",
    "# df_tmp = df_bg.iloc[:, [0,2,3,4,5]].drop_duplicates().sort_values(['TM_KEY_MTH','METRIC_GRP','COMP_CD','PRODUCT_GRP'])\n",
    "df_tmp = df.loc[:, ['CENTER']].drop_duplicates()\n",
    "\n",
    "# df_tmp['PRODUCT_GRP'].value_counts()['TDG']\n",
    "\n",
    "# find\n",
    "df_tmp['find_er'] = df_tmp['CENTER'].str.find('er')\n",
    "df_tmp['findall_er'] = df_tmp['CENTER'].str.findall('er')\n",
    "# count\n",
    "df_tmp['count_er'] = df_tmp['CENTER'].str.count('er')\n",
    "df_tmp['total_of_count_er'] = df_tmp['CENTER'].str.count('er').sum()\n",
    "# contains\n",
    "df_tmp['contains_er_on'] = df_tmp['CENTER'].str.contains(r'er|on')\n",
    "df_tmp['total_of_contains_er_on'] = df_tmp['CENTER'].str.contains(r'er|on').sum()\n",
    "\n",
    "# df_tmp.to_csv(\"temp.csv\")\n",
    "# df_tmp.to_excel(\"temp.xlsx\")\n",
    "# df_tmp.head()\n",
    "# df_tmp.tail()\n",
    "df_tmp"
   ]
  },
  {
   "attachments": {},
   "cell_type": "markdown",
   "metadata": {},
   "source": [
    "## Aggregate"
   ]
  },
  {
   "cell_type": "code",
   "execution_count": null,
   "metadata": {},
   "outputs": [],
   "source": [
    "df.nunique()\n",
    "# df.nunique(axis=1)\n",
    "\n",
    "df['TM_KEY_WK'].unique()\n",
    "df[['TM_KEY_MTH', 'TM_KEY_WK']].nunique()\n",
    "\n",
    "df.groupby(['TM_KEY_MTH']).size()\n",
    "# df.groupby(['TM_KEY_MTH']).count()\n",
    "# df.groupby(['TM_KEY_MTH']).value_counts()\n",
    "\n",
    "# How to count unique values ?\n",
    "df.groupby('TM_KEY_MTH')['TM_KEY_WK'].nunique()\n",
    "df.groupby(['TM_KEY_MTH', 'TM_KEY_WK'])['PRODUCT_GRP'].nunique()\n",
    "\n",
    "# How to display unique values ?\n",
    "df.groupby('TM_KEY_MTH')['TM_KEY_WK'].unique()\n",
    "df.groupby(['TM_KEY_MTH', 'TM_KEY_WK'])['PRODUCT_GRP'].unique()\n",
    "\n",
    "# df.head()"
   ]
  },
  {
   "attachments": {},
   "cell_type": "markdown",
   "metadata": {},
   "source": [
    "## Business Growth Data"
   ]
  },
  {
   "cell_type": "code",
   "execution_count": null,
   "metadata": {},
   "outputs": [],
   "source": [
    "# df_bg = df[(df['CENTER'] == 'Sales & Revenue') & (df['BG_FLAG'] == 'Y')]\n",
    "df_bg = df[(df['BG_FLAG'] == 'Y') | ('METRIC_NAME' == 'TDG Revenue (Performance View)')]\n",
    "# df_bg.sort_values(by=['TM_KEY_MTH', 'TM_KEY_WK', 'CENTER', 'METRIC_GRP', 'COMP_CD', 'PRODUCT_GRP', 'METRIC_CD'], ascending=True)\n",
    "df_bg.head()"
   ]
  },
  {
   "cell_type": "code",
   "execution_count": null,
   "metadata": {},
   "outputs": [],
   "source": [
    "df_bg.shape\n",
    "# df_bg.describe()"
   ]
  },
  {
   "attachments": {},
   "cell_type": "markdown",
   "metadata": {},
   "source": [
    "## Monthly Aggregate"
   ]
  },
  {
   "cell_type": "code",
   "execution_count": null,
   "metadata": {},
   "outputs": [],
   "source": [
    "df_bg_agg_actual_mth = pd.DataFrame(df_bg.groupby(['TM_KEY_MTH', 'METRIC_CD', 'METRIC_NAME'])['ACTUAL_AGG'].sum().reset_index())\n",
    "df_bg_agg_actual_mth.rename(columns={'ACTUAL_AGG': 'AGG'}, inplace=True)\n",
    "df_bg_agg_actual_mth['MEASURE'] = 'ACTUAL'\n",
    "# df_bg_agg_actual_mth.head()\n",
    "\n",
    "df_bg_agg_target_mth = pd.DataFrame(df_bg.groupby(['TM_KEY_MTH', 'METRIC_CD', 'METRIC_NAME'])['TARGET_AGG'].sum().reset_index())\n",
    "df_bg_agg_target_mth.rename(columns={'TARGET_AGG': 'AGG'}, inplace=True)\n",
    "df_bg_agg_target_mth['MEASURE'] = 'TARGET'\n",
    "# df_bg_agg_target_mth.head()\n",
    "\n",
    "df_bg_agg_mth = pd.concat([df_bg_agg_actual_mth, df_bg_agg_target_mth])\n",
    "df_bg_agg_mth['AGG'] = df_bg_agg_mth['AGG'] / 1000000\n",
    "# df_bg_agg_mth.head()"
   ]
  },
  {
   "cell_type": "code",
   "execution_count": null,
   "metadata": {},
   "outputs": [],
   "source": [
    "df_bg_agg_mth_pivot = df_bg_agg_mth.pivot(index=['TM_KEY_MTH', 'MEASURE'], columns=['METRIC_CD', 'METRIC_NAME'], values='AGG')\n",
    "# df_bg_agg_mth_pivot\n",
    "df_bg_agg_mth_pivot.T.round(2)"
   ]
  },
  {
   "attachments": {},
   "cell_type": "markdown",
   "metadata": {},
   "source": [
    "## Weekly Aggregate"
   ]
  },
  {
   "cell_type": "code",
   "execution_count": null,
   "metadata": {},
   "outputs": [],
   "source": [
    "df_bg_agg_actual_wk = pd.DataFrame(df_bg.groupby(['TM_KEY_WK', 'METRIC_CD', 'METRIC_NAME'])['ACTUAL_AGG'].sum().reset_index())\n",
    "df_bg_agg_actual_wk.rename(columns={'ACTUAL_AGG': 'AGG'}, inplace=True)\n",
    "df_bg_agg_actual_wk['MEASURE'] = 'ACTUAL'\n",
    "# df_bg_agg_actual_wk.head()\n",
    "\n",
    "df_bg_agg_target_wk = pd.DataFrame(df_bg.groupby(['TM_KEY_WK', 'METRIC_CD', 'METRIC_NAME'])['TARGET_AGG'].sum().reset_index())\n",
    "df_bg_agg_target_wk.rename(columns={'TARGET_AGG': 'AGG'}, inplace=True)\n",
    "df_bg_agg_target_wk['MEASURE'] = 'TARGET'\n",
    "# df_bg_agg_target_wk.head()\n",
    "\n",
    "df_bg_agg_wk = pd.concat([df_bg_agg_actual_wk, df_bg_agg_target_wk])\n",
    "df_bg_agg_wk['AGG'] = df_bg_agg_wk['AGG'] / 1000000\n",
    "# df_bg_agg_wk.head()"
   ]
  },
  {
   "cell_type": "code",
   "execution_count": null,
   "metadata": {},
   "outputs": [],
   "source": [
    "df_bg_agg_wk_pivot = df_bg_agg_wk.pivot(index=['TM_KEY_WK', 'MEASURE'], columns=['METRIC_CD', 'METRIC_NAME'], values='AGG')\n",
    "# df_bg_agg_wk_pivot\n",
    "\n",
    "output_data = df_bg_agg_wk_pivot.T\n",
    "output_data.round(2)"
   ]
  },
  {
   "attachments": {},
   "cell_type": "markdown",
   "metadata": {},
   "source": [
    "## Generate Output File"
   ]
  },
  {
   "cell_type": "code",
   "execution_count": null,
   "metadata": {},
   "outputs": [],
   "source": [
    "output_file = data_src.replace(\"Raw-Agg\", \"BG\").replace(\".csv\", \".xlsx\")\n",
    "\n",
    "output_data.to_excel(output_file)\n",
    "\n",
    "print(f'\\n\"{output_file}\" is generated')"
   ]
  },
  {
   "attachments": {},
   "cell_type": "markdown",
   "metadata": {},
   "source": [
    "## Visualization\n",
    "##### https://matplotlib.org/stable/tutorials/introductory/pyplot.html"
   ]
  },
  {
   "cell_type": "code",
   "execution_count": null,
   "metadata": {},
   "outputs": [],
   "source": [
    "import matplotlib.pyplot as plt"
   ]
  },
  {
   "cell_type": "code",
   "execution_count": null,
   "metadata": {},
   "outputs": [],
   "source": [
    "# df_bg_agg_1 = pd.DataFrame(df_bg.groupby(['TM_KEY_MTH', 'TM_KEY_WK', 'METRIC_CD', 'METRIC_NAME'])['ACTUAL_AGG'].sum().reset_index())\n",
    "# df_bg_agg_1\n",
    "# df_bg_agg_2 = pd.DataFrame(df_bg.groupby(['TM_KEY_MTH', 'TM_KEY_WK', 'METRIC_CD', 'METRIC_NAME'])['ACTUAL_AGG'].agg(['sum', 'count']).reset_index())\n",
    "# df_bg_agg_2\n",
    "\n",
    "# BG rawdata\n",
    "df_bg_agg = pd.DataFrame(df_bg.groupby(['TM_KEY_MTH', 'TM_KEY_WK', 'METRIC_CD', 'METRIC_NAME']).agg({'ACTUAL_AGG': 'sum', 'TARGET_AGG': 'sum'}).reset_index())\n",
    "df_bg_agg['ACTUAL_AGG'] = df_bg_agg['ACTUAL_AGG'] / 1000000\n",
    "df_bg_agg['TARGET_AGG'] = df_bg_agg['TARGET_AGG'] / 1000000\n",
    "df_bg_agg.head()"
   ]
  },
  {
   "attachments": {},
   "cell_type": "markdown",
   "metadata": {},
   "source": [
    "## Chart by month"
   ]
  },
  {
   "cell_type": "code",
   "execution_count": null,
   "metadata": {},
   "outputs": [],
   "source": [
    "# # df_bg_chart_mth = df_bg_agg.groupby('TM_KEY_MTH').sum(numeric_only=True).round(2)\n",
    "# # df_bg_chart_mth\n",
    "\n",
    "# x = df_bg_agg['TM_KEY_MTH'].unique()\n",
    "# x_axis = np.arange(len(x))\n",
    "# y_act = df_bg_agg.groupby('TM_KEY_MTH')['ACTUAL_AGG'].sum().round(2)\n",
    "# y_tgt = df_bg_agg.groupby('TM_KEY_MTH')['TARGET_AGG'].sum().round(2)\n",
    "# # z_ach = (y_act / y_tgt) * 100\n",
    "# z_ach = ((df_bg_agg.groupby('TM_KEY_MTH')['ACTUAL_AGG'].sum() / df_bg_agg.groupby('TM_KEY_MTH')['TARGET_AGG'].sum()) * 100).round(2)\n",
    "\n",
    "# Rawdata by month\n",
    "df_bg_mth = df_bg_agg.groupby('TM_KEY_MTH').sum()[['ACTUAL_AGG','TARGET_AGG']].reset_index()\n",
    "df_bg_mth['%ACHIEVE'] = (df_bg_mth['ACTUAL_AGG'] / df_bg_mth['TARGET_AGG']) * 100\n",
    "df_bg_mth['ACTUAL_DIFF'] = df_bg_mth['ACTUAL_AGG'].diff()\n",
    "df_bg_mth['LAST_MTH_ACTUAL'] = df_bg_mth['ACTUAL_AGG'] - df_bg_mth['ACTUAL_DIFF']\n",
    "\n",
    "# df_bg_mth"
   ]
  },
  {
   "attachments": {},
   "cell_type": "markdown",
   "metadata": {},
   "source": [
    "### Monthly Bar"
   ]
  },
  {
   "cell_type": "code",
   "execution_count": null,
   "metadata": {},
   "outputs": [],
   "source": [
    "x = df_bg_mth['TM_KEY_MTH']\n",
    "x_axis = np.arange(len(x))\n",
    "y_act = df_bg_mth['ACTUAL_AGG'].round(2)\n",
    "y_tgt = df_bg_mth['TARGET_AGG'].round(2)\n",
    "\n",
    "# plt.figure(figsize=(12,6))\n",
    "# plt.figure().set_figheight(4)\n",
    "# plt.figure().set_figwidth(12)\n",
    "\n",
    "plt.bar(x_axis - 0.2, y_act, 0.4, label='Actual')\n",
    "plt.bar(x_axis + 0.2, y_tgt, 0.4, label='Target')\n",
    "\n",
    "plt.xticks(x_axis, x)\n",
    "plt.xlabel('Month')\n",
    "plt.ylabel('Unit (mb.)')\n",
    "plt.title('Business Growth performance by month', fontdict={'fontweight': 'bold'})\n",
    "plt.legend()\n",
    "# plt.tight_layout()\n",
    "plt.show()"
   ]
  },
  {
   "attachments": {},
   "cell_type": "markdown",
   "metadata": {},
   "source": [
    "## Chart by week"
   ]
  },
  {
   "cell_type": "code",
   "execution_count": null,
   "metadata": {},
   "outputs": [],
   "source": [
    "# df_bg_chart_wk = df_bg_agg.groupby('TM_KEY_WK').sum(numeric_only=True).round(2)\n",
    "# df_bg_chart_wk\n",
    "\n",
    "# x = df_bg_agg['TM_KEY_WK'].unique()\n",
    "# x_axis = np.arange(len(x))\n",
    "# y_act = df_bg_agg.groupby('TM_KEY_WK')['ACTUAL_AGG'].sum().round(2)\n",
    "# y_tgt = df_bg_agg.groupby('TM_KEY_WK')['TARGET_AGG'].sum().round(2)\n",
    "\n",
    "# Rawdata by week\n",
    "df_bg_wk = df_bg_agg.groupby('TM_KEY_WK').sum()[['ACTUAL_AGG','TARGET_AGG']].reset_index()\n",
    "df_bg_wk['%ACHIEVE'] = (df_bg_wk['ACTUAL_AGG'] / df_bg_wk['TARGET_AGG']) * 100\n",
    "df_bg_wk['ACTUAL_DIFF'] = df_bg_wk['ACTUAL_AGG'].diff().fillna(0)\n",
    "df_bg_wk['LAST_WK_ACTUAL'] = df_bg_wk['ACTUAL_AGG'] - df_bg_wk['ACTUAL_DIFF']\n",
    "# df_bg_wk['FF_NULL_TEST'] = df_bg_wk['ACTUAL_DIFF'].fillna(0)\n",
    "# df_bg_wk\n",
    "\n",
    "x = df_bg_wk['TM_KEY_WK'].apply(str).str[5:]\n",
    "x_axis = np.arange(len(x))\n",
    "y_act = df_bg_wk['ACTUAL_AGG'].round(2)\n",
    "y_tgt = df_bg_wk['TARGET_AGG'].round(2)\n",
    "y_ach = df_bg_wk['%ACHIEVE'].round(2)\n",
    "y_diff = df_bg_wk['ACTUAL_DIFF'].round(2)\n",
    "y_last_act = df_bg_wk['LAST_WK_ACTUAL'].round(2)\n",
    "# df_bg_wk"
   ]
  },
  {
   "attachments": {},
   "cell_type": "markdown",
   "metadata": {},
   "source": [
    "### Weekly Bar"
   ]
  },
  {
   "cell_type": "code",
   "execution_count": null,
   "metadata": {},
   "outputs": [],
   "source": [
    "# plt.figure(figsize=(18,6))\n",
    "plt.figure().set_figwidth(12)\n",
    "\n",
    "plt.bar(x_axis, y_act, label='Actual', color='orange')\n",
    "# plt.bar(x_axis - 0.2, y_act, 0.4, label='Actual')\n",
    "# plt.bar(x_axis + 0.2, y_tgt, 0.4, label='Target')\n",
    "for i in x_axis:    \n",
    "    plt.annotate(str(format(y_act[i],',')), xy=(x_axis[i], y_act[i]), ha='center')\n",
    "    # plt.annotate(str(y_act[i]), xy=(x_axis[i], y_act[i]))\n",
    "    \n",
    "plt.xticks(x_axis, x)\n",
    "plt.xlabel('Week', fontdict={'fontweight': 'bold'})\n",
    "plt.ylabel('Unit (mb.)', fontdict={'fontweight': 'bold'})\n",
    "plt.title('Business Growth performance by week', fontdict={'fontweight': 'bold'})\n",
    "plt.legend()\n",
    "\n",
    "plt.tight_layout()\n",
    "plt.show()"
   ]
  },
  {
   "attachments": {},
   "cell_type": "markdown",
   "metadata": {},
   "source": [
    "### Weekly Plot"
   ]
  },
  {
   "cell_type": "code",
   "execution_count": null,
   "metadata": {},
   "outputs": [],
   "source": [
    "# plt.figure(figsize=(18,6))\n",
    "plt.figure().set_figwidth(12)\n",
    "\n",
    "# plt.plot(x_axis, y_act, marker='.', markeredgewidth=3, markeredgecolor='red')\n",
    "plt.plot(x_axis, y_act, marker='.', markeredgewidth=3, label='Actual', color='red')\n",
    "# plt.plot(x_axis, y_tgt, marker='.', markeredgewidth=3, label='Target', color='blue')\n",
    "plt.plot(x_axis, y_tgt, 'b--', markeredgewidth=3, label='Target')\n",
    "for i in x_axis:\n",
    "    plt.annotate(str(format(y_act[i],',.0f')), xy=(x_axis[i]+0.2, y_act[i]))\n",
    "\n",
    "# plt.xticks(x_axis, rotation='horizontal')\n",
    "plt.xticks(x_axis, x)\n",
    "plt.xlabel('Week', fontdict={'fontweight': 'bold'})\n",
    "plt.ylabel('Unit (mb.)', fontdict={'fontweight': 'bold'})\n",
    "plt.title('Business Growth Performance : Weekly trend', fontdict={'fontweight': 'bold'})\n",
    "plt.legend()\n",
    "plt.grid()\n",
    "\n",
    "plt.tight_layout()\n",
    "plt.show()"
   ]
  },
  {
   "cell_type": "code",
   "execution_count": null,
   "metadata": {},
   "outputs": [],
   "source": [
    "# plt.figure(figsize=(18,6))\n",
    "plt.figure().set_figwidth(12)\n",
    "\n",
    "plt.subplot(211)\n",
    "plt.plot(x_axis, y_ach, marker='.', markeredgewidth=3, label='% Achieve', color='y')\n",
    "for i in x_axis:\n",
    "    plt.annotate(str(format(y_ach[i]/100,',.2%')), xy=(x_axis[i]+0.1, y_ach[i]))\n",
    "plt.xticks(x_axis, x)\n",
    "plt.title('Business Growth %Achieve & Different by week', fontdict={'fontweight': 'bold'})\n",
    "plt.ylabel('% Achieve', fontdict={'fontweight': 'bold'})\n",
    "plt.legend()\n",
    "plt.grid()\n",
    "\n",
    "plt.subplot(212)\n",
    "plt.plot(x_axis, y_diff, marker='.', markeredgewidth=3, label='Diff by week', color='m')\n",
    "for i in x_axis:\n",
    "    plt.annotate(str(format(y_diff[i],',.0f')), xy=(x_axis[i]+0.1, y_diff[i]))\n",
    "plt.xticks(x_axis, x)\n",
    "plt.xlabel('Week', fontdict={'fontweight': 'bold'})\n",
    "plt.ylabel('Unit (mb.)', fontdict={'fontweight': 'bold'})\n",
    "plt.legend()\n",
    "plt.grid()\n",
    "\n",
    "plt.tight_layout()\n",
    "plt.show()"
   ]
  }
 ],
 "metadata": {
  "kernelspec": {
   "display_name": "py310",
   "language": "python",
   "name": "python3"
  },
  "language_info": {
   "codemirror_mode": {
    "name": "ipython",
    "version": 3
   },
   "file_extension": ".py",
   "mimetype": "text/x-python",
   "name": "python",
   "nbconvert_exporter": "python",
   "pygments_lexer": "ipython3",
   "version": "3.10.11"
  },
  "orig_nbformat": 4
 },
 "nbformat": 4,
 "nbformat_minor": 2
}
