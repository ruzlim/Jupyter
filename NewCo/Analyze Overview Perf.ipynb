{
 "cells": [
  {
   "attachments": {},
   "cell_type": "markdown",
   "metadata": {},
   "source": [
    "# Overview Performance"
   ]
  },
  {
   "cell_type": "code",
   "execution_count": null,
   "metadata": {},
   "outputs": [],
   "source": [
    "import pandas as pd\n",
    "import numpy as np\n",
    "import datetime"
   ]
  },
  {
   "attachments": {},
   "cell_type": "markdown",
   "metadata": {},
   "source": [
    "## Import Data Source"
   ]
  },
  {
   "cell_type": "code",
   "execution_count": null,
   "metadata": {},
   "outputs": [],
   "source": [
    "# data_src = \"/Users/ruzlim/Code/Jupyter//Raw_Agg_Performance.csv\"\n",
    "# data_src = \"c/Users/Narut4/coding/Jupyter/Raw_Agg_Performance.csv\"\n",
    "\n",
    "data_src = \"Raw-Agg Perf_Wk 2023021.csv\"\n",
    "df = pd.read_csv(data_src)\n",
    "df.head()"
   ]
  },
  {
   "attachments": {},
   "cell_type": "markdown",
   "metadata": {},
   "source": [
    "## Analyze Data"
   ]
  },
  {
   "cell_type": "code",
   "execution_count": null,
   "metadata": {},
   "outputs": [],
   "source": [
    "df.shape"
   ]
  },
  {
   "cell_type": "code",
   "execution_count": null,
   "metadata": {},
   "outputs": [],
   "source": [
    "df.dtypes"
   ]
  },
  {
   "cell_type": "code",
   "execution_count": null,
   "metadata": {},
   "outputs": [],
   "source": [
    "df.describe()"
   ]
  },
  {
   "cell_type": "code",
   "execution_count": null,
   "metadata": {},
   "outputs": [],
   "source": [
    "df.mean(numeric_only=True)"
   ]
  },
  {
   "cell_type": "code",
   "execution_count": null,
   "metadata": {},
   "outputs": [],
   "source": [
    "# Check null value in each column\n",
    "\n",
    "df.apply(lambda x: sum(x.isnull()), axis=0)"
   ]
  },
  {
   "cell_type": "code",
   "execution_count": null,
   "metadata": {},
   "outputs": [],
   "source": [
    "# Fullfill null value example\n",
    "\n",
    "# df_tmp = df\n",
    "\n",
    "# df_tmp['TARGET_AGG'].fillna(df_tmp['TARGET_AGG'].mean(), inplace=True)\n",
    "\n",
    "# df_tmp.apply(lambda x: sum(x.isnull()), axis=0)\n",
    "\n",
    "# df_tmp"
   ]
  },
  {
   "cell_type": "code",
   "execution_count": null,
   "metadata": {},
   "outputs": [],
   "source": [
    "# df['CENTER'].unique()\n",
    "# df['PRODUCT_GRP'].unique()\n",
    "df['METRIC_GRP'].unique()\n",
    "# df['METRIC_CD'].unique()\n",
    "# df['METRIC_NAME'].unique()\n",
    "\n",
    "# df.loc[:, ['METRIC_CD', 'METRIC_NAME']]\n",
    "\n",
    "# df_bg_agg_actual_mth = pd.DataFrame(df_bg.groupby(['TM_KEY_MTH', 'METRIC_CD', 'METRIC_NAME'])['ACTUAL_AGG'].sum().reset_index())\n",
    "\n",
    "# columns = ['Date','Fee']\n",
    "# df2 = df[columns].groupby(df['Courses']).nunique() \n",
    "\n",
    "# df_grp = df.loc[:, ['METRIC_CD', 'METRIC_NAME']].groupby\n",
    "# df_grp = df.groupby(['METRIC_CD', 'METRIC_NAME']).value_counts()\n",
    "# df_grp = df.groupby(['METRIC_CD', 'METRIC_NAME']).transform('count')\n",
    "# df_grp = df.groupby(['METRIC_CD', 'METRIC_NAME']).sum(1)\n",
    "# df_grp = df[['METRIC_CD', 'METRIC_NAME']].groupby(df['METRIC_CD']).nunique()\n",
    "\n",
    "# df_grp"
   ]
  },
  {
   "attachments": {},
   "cell_type": "markdown",
   "metadata": {},
   "source": [
    "## Business Growth"
   ]
  },
  {
   "cell_type": "code",
   "execution_count": null,
   "metadata": {},
   "outputs": [],
   "source": [
    "# df_bg = df[(df['CENTER'] == 'Sales & Revenue') & (df['BG_FLAG'] == 'Y')]\n",
    "df_bg = df[(df['BG_FLAG'] == 'Y') | ('METRIC_NAME' == 'TDG Revenue (Performance View)')]\n",
    "df_bg.head()"
   ]
  },
  {
   "cell_type": "code",
   "execution_count": null,
   "metadata": {},
   "outputs": [],
   "source": [
    "df_bg.shape"
   ]
  },
  {
   "cell_type": "code",
   "execution_count": null,
   "metadata": {},
   "outputs": [],
   "source": [
    "df_bg.describe()"
   ]
  },
  {
   "cell_type": "code",
   "execution_count": null,
   "metadata": {},
   "outputs": [],
   "source": [
    "# df_bg.sort_values(by=['TM_KEY_MTH', 'TM_KEY_WK', 'CENTER', 'METRIC_GRP', 'COMP_CD', 'PRODUCT_GRP', 'METRIC_CD'], ascending=True)\n",
    "# df_bg.head()"
   ]
  },
  {
   "attachments": {},
   "cell_type": "markdown",
   "metadata": {},
   "source": [
    "## Monthly Aggregate"
   ]
  },
  {
   "cell_type": "code",
   "execution_count": null,
   "metadata": {},
   "outputs": [],
   "source": [
    "df_bg_agg_actual_mth = pd.DataFrame(df_bg.groupby(['TM_KEY_MTH', 'METRIC_CD', 'METRIC_NAME'])['ACTUAL_AGG'].sum().reset_index())\n",
    "df_bg_agg_actual_mth.rename(columns={'ACTUAL_AGG': 'AGG'}, inplace=True)\n",
    "df_bg_agg_actual_mth['MEASURE'] = 'ACTUAL'\n",
    "# df_bg_agg_actual_mth.head()\n",
    "\n",
    "df_bg_agg_target_mth = pd.DataFrame(df_bg.groupby(['TM_KEY_MTH', 'METRIC_CD', 'METRIC_NAME'])['TARGET_AGG'].sum().reset_index())\n",
    "df_bg_agg_target_mth.rename(columns={'TARGET_AGG': 'AGG'}, inplace=True)\n",
    "df_bg_agg_target_mth['MEASURE'] = 'TARGET'\n",
    "# df_bg_agg_target_mth.head()\n",
    "\n",
    "df_bg_agg_mth = pd.concat([df_bg_agg_actual_mth, df_bg_agg_target_mth])\n",
    "df_bg_agg_mth['AGG'] = df_bg_agg_mth['AGG'] / 1000000\n",
    "df_bg_agg_mth.head()"
   ]
  },
  {
   "cell_type": "code",
   "execution_count": null,
   "metadata": {},
   "outputs": [],
   "source": [
    "df_bg_agg_mth_pivot = df_bg_agg_mth.pivot(index=['TM_KEY_MTH', 'MEASURE'], columns=['METRIC_CD', 'METRIC_NAME'], values='AGG')\n",
    "df_bg_agg_mth_pivot"
   ]
  },
  {
   "cell_type": "code",
   "execution_count": null,
   "metadata": {},
   "outputs": [],
   "source": [
    "df_bg_agg_mth_pivot.T.round(2)"
   ]
  },
  {
   "attachments": {},
   "cell_type": "markdown",
   "metadata": {},
   "source": [
    "## Weekly Aggregate"
   ]
  },
  {
   "cell_type": "code",
   "execution_count": null,
   "metadata": {},
   "outputs": [],
   "source": [
    "df_bg_agg_actual_wk = pd.DataFrame(df_bg.groupby(['TM_KEY_WK', 'METRIC_CD', 'METRIC_NAME'])['ACTUAL_AGG'].sum().reset_index())\n",
    "df_bg_agg_actual_wk.rename(columns={'ACTUAL_AGG': 'AGG'}, inplace=True)\n",
    "df_bg_agg_actual_wk['MEASURE'] = 'ACTUAL'\n",
    "# df_bg_agg_actual_wk.head()\n",
    "\n",
    "df_bg_agg_target_wk = pd.DataFrame(df_bg.groupby(['TM_KEY_WK', 'METRIC_CD', 'METRIC_NAME'])['TARGET_AGG'].sum().reset_index())\n",
    "df_bg_agg_target_wk.rename(columns={'TARGET_AGG': 'AGG'}, inplace=True)\n",
    "df_bg_agg_target_wk['MEASURE'] = 'TARGET'\n",
    "# df_bg_agg_target_wk.head()\n",
    "\n",
    "df_bg_agg_wk = pd.concat([df_bg_agg_actual_wk, df_bg_agg_target_wk])\n",
    "df_bg_agg_wk['AGG'] = df_bg_agg_wk['AGG'] / 1000000\n",
    "df_bg_agg_wk.head()"
   ]
  },
  {
   "cell_type": "code",
   "execution_count": null,
   "metadata": {},
   "outputs": [],
   "source": [
    "df_bg_agg_wk_pivot = df_bg_agg_wk.pivot(index=['TM_KEY_WK', 'MEASURE'], columns=['METRIC_CD', 'METRIC_NAME'], values='AGG')\n",
    "df_bg_agg_wk_pivot"
   ]
  },
  {
   "cell_type": "code",
   "execution_count": null,
   "metadata": {},
   "outputs": [],
   "source": [
    "output_data = df_bg_agg_wk_pivot.T\n",
    "output_data.round(2)"
   ]
  },
  {
   "attachments": {},
   "cell_type": "markdown",
   "metadata": {},
   "source": [
    "## Generate Output File"
   ]
  },
  {
   "cell_type": "code",
   "execution_count": null,
   "metadata": {},
   "outputs": [],
   "source": [
    "output_file = data_src.replace(\"Raw-Agg\", \"BG\").replace(\".csv\", \".xlsx\")\n",
    "\n",
    "# output_data.to_excel(output_file)\n",
    "\n",
    "print(f'\\n\"{output_file}\" is generated')"
   ]
  },
  {
   "attachments": {},
   "cell_type": "markdown",
   "metadata": {},
   "source": [
    "## Visualization\n",
    "##### https://matplotlib.org/stable/tutorials/introductory/pyplot.html"
   ]
  },
  {
   "cell_type": "code",
   "execution_count": 114,
   "metadata": {},
   "outputs": [],
   "source": [
    "import matplotlib.pyplot as plt"
   ]
  },
  {
   "cell_type": "code",
   "execution_count": 115,
   "metadata": {},
   "outputs": [
    {
     "data": {
      "text/html": [
       "<div>\n",
       "<style scoped>\n",
       "    .dataframe tbody tr th:only-of-type {\n",
       "        vertical-align: middle;\n",
       "    }\n",
       "\n",
       "    .dataframe tbody tr th {\n",
       "        vertical-align: top;\n",
       "    }\n",
       "\n",
       "    .dataframe thead th {\n",
       "        text-align: right;\n",
       "    }\n",
       "</style>\n",
       "<table border=\"1\" class=\"dataframe\">\n",
       "  <thead>\n",
       "    <tr style=\"text-align: right;\">\n",
       "      <th></th>\n",
       "      <th>TM_KEY_MTH</th>\n",
       "      <th>TM_KEY_WK</th>\n",
       "      <th>METRIC_CD</th>\n",
       "      <th>METRIC_NAME</th>\n",
       "      <th>ACTUAL_AGG</th>\n",
       "      <th>TARGET_AGG</th>\n",
       "    </tr>\n",
       "  </thead>\n",
       "  <tbody>\n",
       "    <tr>\n",
       "      <th>0</th>\n",
       "      <td>202303</td>\n",
       "      <td>2023009</td>\n",
       "      <td>B1R000100</td>\n",
       "      <td>Prepaid Revenue</td>\n",
       "      <td>669.901008</td>\n",
       "      <td>626.219335</td>\n",
       "    </tr>\n",
       "    <tr>\n",
       "      <th>1</th>\n",
       "      <td>202303</td>\n",
       "      <td>2023009</td>\n",
       "      <td>B2R000100</td>\n",
       "      <td>Postpaid Revenue</td>\n",
       "      <td>1157.226110</td>\n",
       "      <td>1165.611851</td>\n",
       "    </tr>\n",
       "    <tr>\n",
       "      <th>2</th>\n",
       "      <td>202303</td>\n",
       "      <td>2023009</td>\n",
       "      <td>TB3R000100</td>\n",
       "      <td>TOL Revenue</td>\n",
       "      <td>189.713166</td>\n",
       "      <td>205.173356</td>\n",
       "    </tr>\n",
       "    <tr>\n",
       "      <th>3</th>\n",
       "      <td>202303</td>\n",
       "      <td>2023009</td>\n",
       "      <td>TB4R000100</td>\n",
       "      <td>TVS Revenue</td>\n",
       "      <td>42.430646</td>\n",
       "      <td>47.555946</td>\n",
       "    </tr>\n",
       "    <tr>\n",
       "      <th>4</th>\n",
       "      <td>202303</td>\n",
       "      <td>2023009</td>\n",
       "      <td>TNSC00142</td>\n",
       "      <td>TDG Revenue (Performance View)</td>\n",
       "      <td>0.000000</td>\n",
       "      <td>0.000000</td>\n",
       "    </tr>\n",
       "  </tbody>\n",
       "</table>\n",
       "</div>"
      ],
      "text/plain": [
       "   TM_KEY_MTH  TM_KEY_WK   METRIC_CD                     METRIC_NAME   \n",
       "0      202303    2023009   B1R000100                 Prepaid Revenue  \\\n",
       "1      202303    2023009   B2R000100                Postpaid Revenue   \n",
       "2      202303    2023009  TB3R000100                     TOL Revenue   \n",
       "3      202303    2023009  TB4R000100                     TVS Revenue   \n",
       "4      202303    2023009   TNSC00142  TDG Revenue (Performance View)   \n",
       "\n",
       "    ACTUAL_AGG   TARGET_AGG  \n",
       "0   669.901008   626.219335  \n",
       "1  1157.226110  1165.611851  \n",
       "2   189.713166   205.173356  \n",
       "3    42.430646    47.555946  \n",
       "4     0.000000     0.000000  "
      ]
     },
     "execution_count": 115,
     "metadata": {},
     "output_type": "execute_result"
    }
   ],
   "source": [
    "# df_bg_agg_1 = pd.DataFrame(df_bg.groupby(['TM_KEY_MTH', 'TM_KEY_WK', 'METRIC_CD', 'METRIC_NAME'])['ACTUAL_AGG'].sum().reset_index())\n",
    "# df_bg_agg_1\n",
    "\n",
    "# df_bg_agg_2 = pd.DataFrame(df_bg.groupby(['TM_KEY_MTH', 'TM_KEY_WK', 'METRIC_CD', 'METRIC_NAME'])['ACTUAL_AGG'].agg(['sum', 'count']).reset_index())\n",
    "# df_bg_agg_2\n",
    "\n",
    "df_bg_agg = pd.DataFrame(df_bg.groupby(['TM_KEY_MTH', 'TM_KEY_WK', 'METRIC_CD', 'METRIC_NAME']).agg({'ACTUAL_AGG': 'sum', 'TARGET_AGG': 'sum'}).reset_index())\n",
    "df_bg_agg['ACTUAL_AGG'] = df_bg_agg['ACTUAL_AGG'] / 1000000\n",
    "df_bg_agg['TARGET_AGG'] = df_bg_agg['TARGET_AGG'] / 1000000\n",
    "df_bg_agg.head()"
   ]
  },
  {
   "cell_type": "code",
   "execution_count": null,
   "metadata": {},
   "outputs": [],
   "source": [
    "mth = df_bg_agg['TM_KEY_MTH'].unique()\n",
    "\n",
    "# df_bg_pivot = df_bg_agg.groupby('TM_KEY_MTH')['ACTUAL_AGG'].sum()\n",
    "df_bg_pivot_mth = df_bg_agg.groupby('TM_KEY_MTH').sum(numeric_only=True).round(2)\n",
    "df_bg_pivot_mth"
   ]
  },
  {
   "cell_type": "code",
   "execution_count": null,
   "metadata": {},
   "outputs": [],
   "source": [
    "plt.figure(figsize=(12,6))\n",
    "plt.bar(mth, df_bg_pivot_mth['ACTUAL_AGG'])\n",
    "# plt.xticks(mth, rotation='vertical')\n",
    "plt.xticks(mth, rotation='horizontal')\n",
    "plt.xlabel('Month')\n",
    "plt.ylabel('Actual (mb.)')\n",
    "plt.show()"
   ]
  },
  {
   "cell_type": "code",
   "execution_count": 116,
   "metadata": {},
   "outputs": [
    {
     "data": {
      "text/plain": [
       "array([2023009, 2023010, 2023011, 2023012, 2023013, 2023014, 2023015,\n",
       "       2023016, 2023017, 2023018, 2023019, 2023020, 2023021])"
      ]
     },
     "execution_count": 116,
     "metadata": {},
     "output_type": "execute_result"
    }
   ],
   "source": [
    "bg_wk_label = df_bg_agg['TM_KEY_WK'].unique()\n",
    "bg_wk_label"
   ]
  },
  {
   "cell_type": "code",
   "execution_count": 117,
   "metadata": {},
   "outputs": [
    {
     "data": {
      "text/plain": [
       "TM_KEY_WK\n",
       "2023009     2059.27\n",
       "2023010     5189.97\n",
       "2023011     8283.24\n",
       "2023012    10787.84\n",
       "2023013    13919.89\n",
       "2023014     3831.38\n",
       "2023015     7158.35\n",
       "2023016     9645.46\n",
       "2023017    12456.00\n",
       "2023018     3376.25\n",
       "2023019     6136.33\n",
       "2023020     8647.07\n",
       "2023021     9349.04\n",
       "Name: ACTUAL_AGG, dtype: float64"
      ]
     },
     "execution_count": 117,
     "metadata": {},
     "output_type": "execute_result"
    }
   ],
   "source": [
    "# df_bg_pivot_wk = df_bg_agg.groupby('TM_KEY_WK')['ACTUAL_AGG'].sum()\n",
    "bg_wk_agg = df_bg_agg.groupby('TM_KEY_WK').sum(numeric_only=True).round(2)\n",
    "# bg_wk_agg\n",
    "\n",
    "bg_wk_val = bg_wk_agg['ACTUAL_AGG']\n",
    "bg_wk_val"
   ]
  },
  {
   "cell_type": "code",
   "execution_count": 122,
   "metadata": {},
   "outputs": [
    {
     "data": {
      "image/png": "[encoded data removed]",
      "text/plain": [
       "<Figure size 1200x600 with 1 Axes>"
      ]
     },
     "metadata": {},
     "output_type": "display_data"
    }
   ],
   "source": [
    "plt.figure(figsize=(12,6))\n",
    "\n",
    "plt.bar(bg_wk_label, bg_wk_val)\n",
    "\n",
    "# plt.plot(bg_wk_label, bg_wk_agg['ACTUAL_AGG'], marker='.', markeredgewidth=3, markeredgecolor='red')\n",
    "# plt.plot(bg_wk_label, bg_wk_val, marker='.', markeredgewidth=3, markeredgecolor='red')\n",
    "# plt.grid()\n",
    "\n",
    "plt.xticks(bg_wk_label, rotation='horizontal')\n",
    "plt.title('Actual by Week', fontdict={'fontweight': 'bold'})\n",
    "plt.xlabel('Week', fontdict={'fontweight': 'bold'})\n",
    "plt.ylabel('Actual', fontdict={'fontweight': 'bold'})\n",
    "plt.show()"
   ]
  }
 ],
 "metadata": {
  "kernelspec": {
   "display_name": "py310",
   "language": "python",
   "name": "python3"
  },
  "language_info": {
   "codemirror_mode": {
    "name": "ipython",
    "version": 3
   },
   "file_extension": ".py",
   "mimetype": "text/x-python",
   "name": "python",
   "nbconvert_exporter": "python",
   "pygments_lexer": "ipython3",
   "version": "3.10.11"
  },
  "orig_nbformat": 4
 },
 "nbformat": 4,
 "nbformat_minor": 2
}
