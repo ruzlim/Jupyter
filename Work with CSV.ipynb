{
 "cells": [
  {
   "cell_type": "code",
   "execution_count": 45,
   "metadata": {},
   "outputs": [],
   "source": [
    "import pandas as pd\n",
    "import csv\n",
    "# import re"
   ]
  },
  {
   "cell_type": "code",
   "execution_count": 65,
   "metadata": {},
   "outputs": [
    {
     "data": {
      "text/plain": [
       "[{'row_num': 0, 'text': 'A_0'},\n",
       " {'row_num': 1, 'text': 'B_1'},\n",
       " {'row_num': 2, 'text': 'C_2'},\n",
       " {'row_num': 3, 'text': 'D_3'},\n",
       " {'row_num': 4, 'text': 'E_4'}]"
      ]
     },
     "execution_count": 65,
     "metadata": {},
     "output_type": "execute_result"
    }
   ],
   "source": [
    "n = 5\n",
    "t = ['A', 'B', 'C', 'D', 'E']\n",
    "data = [{'row_num': x, 'text': f'{t[x]}_{x}'} for x in range(n)]\n",
    "data"
   ]
  },
  {
   "cell_type": "code",
   "execution_count": 66,
   "metadata": {},
   "outputs": [
    {
     "data": {
      "text/html": [
       "<div>\n",
       "<style scoped>\n",
       "    .dataframe tbody tr th:only-of-type {\n",
       "        vertical-align: middle;\n",
       "    }\n",
       "\n",
       "    .dataframe tbody tr th {\n",
       "        vertical-align: top;\n",
       "    }\n",
       "\n",
       "    .dataframe thead th {\n",
       "        text-align: right;\n",
       "    }\n",
       "</style>\n",
       "<table border=\"1\" class=\"dataframe\">\n",
       "  <thead>\n",
       "    <tr style=\"text-align: right;\">\n",
       "      <th></th>\n",
       "      <th>row_num</th>\n",
       "      <th>text</th>\n",
       "    </tr>\n",
       "  </thead>\n",
       "  <tbody>\n",
       "    <tr>\n",
       "      <th>0</th>\n",
       "      <td>0</td>\n",
       "      <td>A_0</td>\n",
       "    </tr>\n",
       "    <tr>\n",
       "      <th>1</th>\n",
       "      <td>1</td>\n",
       "      <td>B_1</td>\n",
       "    </tr>\n",
       "    <tr>\n",
       "      <th>2</th>\n",
       "      <td>2</td>\n",
       "      <td>C_2</td>\n",
       "    </tr>\n",
       "    <tr>\n",
       "      <th>3</th>\n",
       "      <td>3</td>\n",
       "      <td>D_3</td>\n",
       "    </tr>\n",
       "    <tr>\n",
       "      <th>4</th>\n",
       "      <td>4</td>\n",
       "      <td>E_4</td>\n",
       "    </tr>\n",
       "  </tbody>\n",
       "</table>\n",
       "</div>"
      ],
      "text/plain": [
       "   row_num text\n",
       "0        0  A_0\n",
       "1        1  B_1\n",
       "2        2  C_2\n",
       "3        3  D_3\n",
       "4        4  E_4"
      ]
     },
     "execution_count": 66,
     "metadata": {},
     "output_type": "execute_result"
    }
   ],
   "source": [
    "df = pd.DataFrame(data)\n",
    "df"
   ]
  },
  {
   "cell_type": "code",
   "execution_count": 67,
   "metadata": {},
   "outputs": [
    {
     "name": "stdout",
     "output_type": "stream",
     "text": [
      "\n",
      "\"data_source.csv\" is generated\n"
     ]
    }
   ],
   "source": [
    "source_file = 'data_source.csv'\n",
    "# df.to_csv(f'{source_file}', index=False, encoding='utf-8')\n",
    "# print(f'\\n\"{source_file}\" is generated')"
   ]
  },
  {
   "cell_type": "code",
   "execution_count": 81,
   "metadata": {},
   "outputs": [
    {
     "name": "stdout",
     "output_type": "stream",
     "text": [
      "['row_num', 'text']\n",
      "['0', 'A_0']\n",
      "['1', 'B_1']\n",
      "['2', 'C_2']\n",
      "['3', 'D_3']\n",
      "['4', 'E_4']\n"
     ]
    }
   ],
   "source": [
    "with open(source_file, 'r', newline='') as src_data:\n",
    "    for row in csv.reader(src_data, delimiter=','):\n",
    "        print(row)"
   ]
  },
  {
   "cell_type": "code",
   "execution_count": 79,
   "metadata": {},
   "outputs": [
    {
     "name": "stdout",
     "output_type": "stream",
     "text": [
      "['row_num', 'text']\n",
      "['1', 'B_1']\n",
      "['3', 'D_3']\n",
      "['4', 'E_4']\n",
      "\n",
      "\"data_clean.csv\" is generated\n"
     ]
    }
   ],
   "source": [
    "import csv\n",
    "\n",
    "source_file = 'data_source.csv'\n",
    "clean_file = 'data_clean.csv'\n",
    " \n",
    "with open(source_file, 'r', newline='') as src_data, \\\n",
    "    open(clean_file, 'w', newline='') as clean_data:\n",
    "    for row in csv.reader(src_data, delimiter=','):\n",
    "        check_column_no = 1\n",
    "        column = row[check_column_no]\n",
    "        check_words = ['A', 'C']\n",
    "        if not any(check_word in column for check_word in check_words):\n",
    "            csv.writer(clean_data).writerow(row)\n",
    "            print(row)\n",
    "\n",
    "print(f'\\n\"{clean_file}\" is generated')\n",
    "# df.to_csv(f'{clean_file}', index=False, encoding='utf-8')"
   ]
  },
  {
   "cell_type": "code",
   "execution_count": null,
   "metadata": {},
   "outputs": [],
   "source": [
    "# my_file_name = \"NVG.txt\"\n",
    "# cleaned_file_name = \"cleanNVG.csv\"\n",
    "# ONE_COLUMN = 1\n",
    "# remove_words = ['INAC', 'EIM']\n",
    "\n",
    "# with open(my_file_name, 'r', newline='') as infile, \\\n",
    "#      open(cleaned_file_name, 'w',newline='') as outfile:\n",
    "#     writer = csv.writer(outfile)\n",
    "#     for row in csv.reader(infile, delimiter='|'):\n",
    "#         column = row[ONE_COLUMN]\n",
    "#         if not any(remove_word in column for remove_word in remove_words):\n",
    "#             writer.writerow(row)"
   ]
  }
 ],
 "metadata": {
  "kernelspec": {
   "display_name": "py310",
   "language": "python",
   "name": "python3"
  },
  "language_info": {
   "codemirror_mode": {
    "name": "ipython",
    "version": 3
   },
   "file_extension": ".py",
   "mimetype": "text/x-python",
   "name": "python",
   "nbconvert_exporter": "python",
   "pygments_lexer": "ipython3",
   "version": "3.10.13"
  }
 },
 "nbformat": 4,
 "nbformat_minor": 2
}
