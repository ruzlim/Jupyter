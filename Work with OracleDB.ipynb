{
 "cells": [
  {
   "attachments": {},
   "cell_type": "markdown",
   "metadata": {},
   "source": [
    "# Work with Oracle"
   ]
  },
  {
   "cell_type": "code",
   "execution_count": 1,
   "metadata": {},
   "outputs": [],
   "source": [
    "import cx_Oracle\n",
    "import pandas as pd\n",
    "import numpy as np"
   ]
  },
  {
   "cell_type": "code",
   "execution_count": 2,
   "metadata": {},
   "outputs": [
    {
     "name": "stdout",
     "output_type": "stream",
     "text": [
      "\n",
      "cx_Oracle.version :8.3.0\n"
     ]
    }
   ],
   "source": [
    "print(f'\\ncx_Oracle.version :{cx_Oracle.version}')"
   ]
  },
  {
   "cell_type": "code",
   "execution_count": 5,
   "metadata": {},
   "outputs": [
    {
     "ename": "DatabaseError",
     "evalue": "DPI-1047: Cannot locate a 64-bit Oracle Client library: \"The specified module could not be found\". See https://cx-oracle.readthedocs.io/en/latest/user_guide/installation.html for help",
     "output_type": "error",
     "traceback": [
      "\u001b[1;31m---------------------------------------------------------------------------\u001b[0m",
      "\u001b[1;31mDatabaseError\u001b[0m                             Traceback (most recent call last)",
      "Cell \u001b[1;32mIn[5], line 1\u001b[0m\n\u001b[1;32m----> 1\u001b[0m \u001b[43mcx_Oracle\u001b[49m\u001b[38;5;241;43m.\u001b[39;49m\u001b[43minit_oracle_client\u001b[49m\u001b[43m(\u001b[49m\u001b[43mlib_dir\u001b[49m\u001b[38;5;241;43m=\u001b[39;49m\u001b[38;5;124;43m\"\u001b[39;49m\u001b[38;5;124;43mC:\u001b[39;49m\u001b[38;5;124;43m\\\u001b[39;49m\u001b[38;5;124;43mClient\u001b[39;49m\u001b[38;5;124;43m\"\u001b[39;49m\u001b[43m)\u001b[49m\n",
      "\u001b[1;31mDatabaseError\u001b[0m: DPI-1047: Cannot locate a 64-bit Oracle Client library: \"The specified module could not be found\". See https://cx-oracle.readthedocs.io/en/latest/user_guide/installation.html for help"
     ]
    }
   ],
   "source": [
    "cx_Oracle.init_oracle_client(lib_dir=\"C:\\Client\")"
   ]
  },
  {
   "cell_type": "code",
   "execution_count": 4,
   "metadata": {},
   "outputs": [
    {
     "ename": "DatabaseError",
     "evalue": "DPI-1047: Cannot locate a 64-bit Oracle Client library: \"The specified module could not be found\". See https://cx-oracle.readthedocs.io/en/latest/user_guide/installation.html for help",
     "output_type": "error",
     "traceback": [
      "\u001b[1;31m---------------------------------------------------------------------------\u001b[0m",
      "\u001b[1;31mDatabaseError\u001b[0m                             Traceback (most recent call last)",
      "Cell \u001b[1;32mIn[4], line 1\u001b[0m\n\u001b[1;32m----> 1\u001b[0m \u001b[38;5;28mprint\u001b[39m(\u001b[38;5;124m\"\u001b[39m\u001b[38;5;124mClient version:\u001b[39m\u001b[38;5;124m\"\u001b[39m, \u001b[43mcx_Oracle\u001b[49m\u001b[38;5;241;43m.\u001b[39;49m\u001b[43mclientversion\u001b[49m\u001b[43m(\u001b[49m\u001b[43m)\u001b[49m)\n",
      "\u001b[1;31mDatabaseError\u001b[0m: DPI-1047: Cannot locate a 64-bit Oracle Client library: \"The specified module could not be found\". See https://cx-oracle.readthedocs.io/en/latest/user_guide/installation.html for help"
     ]
    }
   ],
   "source": [
    "print(\"Client version:\", cx_Oracle.clientversion())"
   ]
  },
  {
   "attachments": {},
   "cell_type": "markdown",
   "metadata": {},
   "source": [
    "## Sample"
   ]
  },
  {
   "cell_type": "code",
   "execution_count": null,
   "metadata": {},
   "outputs": [],
   "source": [
    "print(f'\\ncx_Oracle.version :{cx_Oracle.version}')\n",
    "# print(\"Client version:\", cx_Oracle.clientversion())\n",
    "\n",
    "# cx_Oracle.init_oracle_client(lib_dir=\"C:\\Oracle\\Ora11\\product\\11.2.0.4\\client_1\")\n",
    "# cx_Oracle.init_oracle_client(lib_dir=\"C:\\Instantclient\\instantclient_21_10\")\n",
    "\n",
    "# AIMD2CDB\n",
    "# conStr = 'NARUT_E01044451/v9VzR8xsuwp#tyTb@TDM-scan.dc2.true.th:1521/TDMDBPR'\n",
    "conStr = 'AUTOKPI/SNRpAssw0rd#001@172.16.54.52:1555/AKPIPRD'\n",
    "conn = cx_Oracle.connect(conStr)\n",
    "cur = conn.cursor()\n",
    "\n",
    "# sqlTxt = \"SELECT * FROM AUTOKPI.TARGET_BILL_CYCLE_DAILY WHERE TM_KEY_DAY = 20230501\"\n",
    "# cur.execute(sqlTxt)\n",
    "# sqlTxt = \"SELECT * FROM AUTOKPI.TARGET_BILL_CYCLE_DAILY WHERE TM_KEY_DAY =:1\"\n",
    "# cur.execute(sqlTxt, ('20230501',))\n",
    "sqlTxt = \"SELECT * FROM AUTOKPI.DIM_MOOC_AREA WHERE ROWNUM <= :1\"\n",
    "cur.execute(sqlTxt, ('100',))\n",
    "\n",
    "# print(f'\\ndesctiption :\\n{cur.description}')\n",
    "\n",
    "rows = cur.fetchall()\n",
    "# print(f'\\nrows :\\n{rows}')\n",
    "# print(f'rows :', cur.rowcount)\n",
    "# TM_KEY_YR, TM_KEY_MTH, TRUE_TM_KEY_WK, TM_KEY_DAY, DAYS_IN_MONTH, PERIODFLAG, METRIC_CD, METRIC_NAME, METRIC_GRP, METRIC_VALUE, COMP_CD, VERSION, AREA_CD, AREA_DESC, AREA_TYPE, LOAD_DATE, REMARK\n",
    "\n",
    "df = pd.DataFrame.from_records(rows, columns=[x[0] for x in cur.description])\n",
    "print(f'\\ndf :\\n{df}')\n",
    "\n",
    "cur.close()\n",
    "conn.close()"
   ]
  },
  {
   "attachments": {},
   "cell_type": "markdown",
   "metadata": {},
   "source": [
    "## 6 Dimension Summary"
   ]
  },
  {
   "cell_type": "code",
   "execution_count": 2,
   "metadata": {},
   "outputs": [
    {
     "name": "stdout",
     "output_type": "stream",
     "text": [
      "TDMDBPR : Connected\n",
      "\n",
      "Execute query as Week 2023022...\n",
      "\n",
      "Done !!!\n",
      "\n",
      "TDMDBPR : Disconnected\n"
     ]
    }
   ],
   "source": [
    "conStr = 'NARUT_E01044451/v9VzR8xsuwp#tyTb@TDM-scan.dc2.true.th:1521/TDMDBPR'\n",
    "conn = cx_Oracle.connect(conStr)\n",
    "print('TDMDBPR : Connected')\n",
    "cur = conn.cursor()\n",
    "\n",
    "v_week = (2023022, )\n",
    "\n",
    "\n",
    "try:\n",
    "    # print(\"Database version:\", conn.version)\n",
    "    print(f'\\nExecute query as Week {v_week[0]}...')\n",
    "\n",
    "    sqlTxt = \"\"\"\n",
    "        WITH W_VAR (AS_OF_WK) AS \n",
    "        ( \n",
    "            SELECT :1 AS AS_OF_WK FROM DUAL \n",
    "        ) \n",
    "        , W_TMP_PERIOD (TM_KEY_YR, TM_KEY_QTR, TM_KEY_MTH, TM_KEY_WK, WK_DAY_START, WK_DAY_END) AS \n",
    "        ( \n",
    "            SELECT TM_KEY_YR, TM_KEY_QTR, TM_KEY_MTH, TM_KEY_WK, MIN(TM_KEY_DAY) AS WK_DAY_START, MAX(TM_KEY_DAY) AS WK_DAY_END \n",
    "            FROM GEOSPCAPPO.AGG_PERFORMANCE_NEWCO NOLOCK \n",
    "            WHERE TM_KEY_WK <= (SELECT AS_OF_WK FROM W_VAR) \n",
    "            GROUP BY TM_KEY_YR, TM_KEY_QTR, TM_KEY_MTH, TM_KEY_WK \n",
    "        ) \n",
    "        SELECT * \n",
    "        FROM ( \n",
    "            SELECT TM_KEY_MTH, TM_KEY_WK, CENTER, METRIC_GRP, COMP_CD, PRODUCT_GRP, METRIC_CD, METRIC_NAME, DIMENSION_KPI_FLAG, BG_FLAG--, METRIC_NAME_GROUP \n",
    "                , AGG_TYPE, RR_IND, GRY_IND, UOM, PERIOD \n",
    "                , CAST(SUM(ACTUAL_AGG) AS DECIMAL(18,2)) AS ACTUAL_AGG \n",
    "                , CAST(SUM(TARGET_AGG) AS DECIMAL(18,2)) AS TARGET_AGG \n",
    "                , MAX(PPN_TM) AS PPN_TM \n",
    "            FROM ( \n",
    "                SELECT TM_KEY_MTH, TM_KEY_WK, TM_KEY_DAY, CENTER, METRIC_GRP, COMP_CD, PRODUCT_GRP, METRIC_CD, METRIC_NAME \n",
    "                    , CASE \tWHEN ( METRIC_CD IN ('DNEC10006', 'TNEC10002', 'TNEC20002') --NETWORK EXPERIENCE \n",
    "                                OR METRIC_CD IN ('B1R000100', 'B2R000100', 'TB3R000100', 'TB4R000100', 'TNSC00142') --BUSINESS GROWTH \n",
    "                                OR METRIC_CD IN ('DSER21101', 'DSER22101', 'TSER21101', 'TSER22101', 'TSER23101', 'DB2S000200', 'DB1S000200', 'TB2S000200', 'TB1S000200', 'TSER13100', 'TSER14100') --CUSTOMER RETENTION & EXPERIENCE \n",
    "                                OR METRIC_CD IN ('TNSC00011', 'TNSC00013', 'TNSC00087', 'TNSC00101', 'TNSC00144', 'TNSC00020', 'TNSC00130') --NEW S-CURVE \n",
    "                                --COST & PRODUCTIVITY (Unknown ?) \n",
    "                                OR METRIC_CD IN ('DIS10007', 'DIS10011', 'DIS10001') --DIGITALIZATION \n",
    "                            ) THEN 'Y' ELSE 'N' END DIMENSION_KPI_FLAG \n",
    "                    , CASE \tWHEN METRIC_CD IN ('B1R000100', 'B2R000100', 'TB3R000100', 'TB4R000100', 'TNSC00142') --BUSINESS GROWTH \n",
    "                            THEN 'Y' ELSE 'N' END BG_FLAG \n",
    "                    , METRIC_NAME_GROUP, PPN_TM, AGG_TYPE, RR_IND, GRY_IND, UOM, PERIOD, ACTUAL_AGG, TARGET_AGG \n",
    "                FROM GEOSPCAPPO.AGG_PERFORMANCE_NEWCO NOLOCK \n",
    "                WHERE TM_KEY_DAY IN (SELECT WK_DAY_END FROM W_TMP_PERIOD) \n",
    "                AND AREA_TYPE = 'P' \n",
    "            ) A \n",
    "            GROUP BY TM_KEY_MTH, TM_KEY_WK, CENTER, METRIC_GRP, COMP_CD, PRODUCT_GRP, METRIC_CD, METRIC_NAME, DIMENSION_KPI_FLAG, BG_FLAG, AGG_TYPE, RR_IND, GRY_IND, UOM, PERIOD \n",
    "        ) B \n",
    "        --ORDER BY TM_KEY_MTH, TM_KEY_WK, CENTER, METRIC_GRP, COMP_CD, PRODUCT_GRP, METRIC_CD \n",
    "    \"\"\"\n",
    "    \n",
    "    cur.execute(sqlTxt, v_week)\n",
    "    # cur.execute(sqlTxt, ('2023020',))\n",
    "    # cur.executemany(sqlTxt, multiple parameter)\n",
    "\n",
    "    print(f'\\nDone !!!')\n",
    "\n",
    "    rows = cur.fetchall()\n",
    "    \n",
    "    df = pd.DataFrame.from_records(rows, columns=[x[0] for x in cur.description])\n",
    "\n",
    "\n",
    "except cx_Oracle.DatabaseError as e:\n",
    "    print(f'Error with Oracle : {e}')\n",
    "\n",
    "\n",
    "finally:\n",
    "    cur.close()\n",
    "    conn.close()\n",
    "    print('\\nTDMDBPR : Disconnected')"
   ]
  },
  {
   "cell_type": "code",
   "execution_count": 3,
   "metadata": {},
   "outputs": [
    {
     "data": {
      "text/plain": [
       "(7168, 18)"
      ]
     },
     "execution_count": 3,
     "metadata": {},
     "output_type": "execute_result"
    }
   ],
   "source": [
    "df.shape"
   ]
  },
  {
   "cell_type": "code",
   "execution_count": 4,
   "metadata": {},
   "outputs": [
    {
     "data": {
      "text/plain": [
       "Index(['TM_KEY_MTH', 'TM_KEY_WK', 'CENTER', 'METRIC_GRP', 'COMP_CD',\n",
       "       'PRODUCT_GRP', 'METRIC_CD', 'METRIC_NAME', 'DIMENSION_KPI_FLAG',\n",
       "       'BG_FLAG', 'AGG_TYPE', 'RR_IND', 'GRY_IND', 'UOM', 'PERIOD',\n",
       "       'ACTUAL_AGG', 'TARGET_AGG', 'PPN_TM'],\n",
       "      dtype='object')"
      ]
     },
     "execution_count": 4,
     "metadata": {},
     "output_type": "execute_result"
    }
   ],
   "source": [
    "df.columns"
   ]
  },
  {
   "cell_type": "code",
   "execution_count": 5,
   "metadata": {},
   "outputs": [
    {
     "data": {
      "text/plain": [
       "TM_KEY_MTH                     int64\n",
       "TM_KEY_WK                      int64\n",
       "CENTER                        object\n",
       "METRIC_GRP                    object\n",
       "COMP_CD                       object\n",
       "PRODUCT_GRP                   object\n",
       "METRIC_CD                     object\n",
       "METRIC_NAME                   object\n",
       "DIMENSION_KPI_FLAG            object\n",
       "BG_FLAG                       object\n",
       "AGG_TYPE                      object\n",
       "RR_IND                         int64\n",
       "GRY_IND                       object\n",
       "UOM                           object\n",
       "PERIOD                        object\n",
       "ACTUAL_AGG                   float64\n",
       "TARGET_AGG                   float64\n",
       "PPN_TM                datetime64[ns]\n",
       "dtype: object"
      ]
     },
     "execution_count": 5,
     "metadata": {},
     "output_type": "execute_result"
    }
   ],
   "source": [
    "df.dtypes"
   ]
  },
  {
   "cell_type": "code",
   "execution_count": 28,
   "metadata": {},
   "outputs": [
    {
     "data": {
      "text/html": [
       "<div>\n",
       "<style scoped>\n",
       "    .dataframe tbody tr th:only-of-type {\n",
       "        vertical-align: middle;\n",
       "    }\n",
       "\n",
       "    .dataframe tbody tr th {\n",
       "        vertical-align: top;\n",
       "    }\n",
       "\n",
       "    .dataframe thead th {\n",
       "        text-align: right;\n",
       "    }\n",
       "</style>\n",
       "<table border=\"1\" class=\"dataframe\">\n",
       "  <thead>\n",
       "    <tr style=\"text-align: right;\">\n",
       "      <th></th>\n",
       "      <th>TM_KEY_MTH</th>\n",
       "      <th>TM_KEY_WK</th>\n",
       "      <th>RR_IND</th>\n",
       "      <th>ACTUAL_AGG</th>\n",
       "      <th>TARGET_AGG</th>\n",
       "    </tr>\n",
       "  </thead>\n",
       "  <tbody>\n",
       "    <tr>\n",
       "      <th>count</th>\n",
       "      <td>6566.000000</td>\n",
       "      <td>6.566000e+03</td>\n",
       "      <td>6566.000000</td>\n",
       "      <td>5.494000e+03</td>\n",
       "      <td>1.568000e+03</td>\n",
       "    </tr>\n",
       "    <tr>\n",
       "      <th>mean</th>\n",
       "      <td>202303.928571</td>\n",
       "      <td>2.023015e+06</td>\n",
       "      <td>0.302772</td>\n",
       "      <td>1.336461e+08</td>\n",
       "      <td>3.525043e+08</td>\n",
       "    </tr>\n",
       "    <tr>\n",
       "      <th>std</th>\n",
       "      <td>0.798657</td>\n",
       "      <td>3.642434e+00</td>\n",
       "      <td>0.459492</td>\n",
       "      <td>6.646961e+08</td>\n",
       "      <td>1.129579e+09</td>\n",
       "    </tr>\n",
       "    <tr>\n",
       "      <th>min</th>\n",
       "      <td>202303.000000</td>\n",
       "      <td>2.023009e+06</td>\n",
       "      <td>0.000000</td>\n",
       "      <td>-2.521200e+05</td>\n",
       "      <td>-6.650710e+03</td>\n",
       "    </tr>\n",
       "    <tr>\n",
       "      <th>25%</th>\n",
       "      <td>202303.000000</td>\n",
       "      <td>2.023012e+06</td>\n",
       "      <td>0.000000</td>\n",
       "      <td>0.000000e+00</td>\n",
       "      <td>3.000000e+00</td>\n",
       "    </tr>\n",
       "    <tr>\n",
       "      <th>50%</th>\n",
       "      <td>202304.000000</td>\n",
       "      <td>2.023014e+06</td>\n",
       "      <td>0.000000</td>\n",
       "      <td>1.170000e+00</td>\n",
       "      <td>4.996405e+03</td>\n",
       "    </tr>\n",
       "    <tr>\n",
       "      <th>75%</th>\n",
       "      <td>202305.000000</td>\n",
       "      <td>2.023018e+06</td>\n",
       "      <td>1.000000</td>\n",
       "      <td>5.224000e+04</td>\n",
       "      <td>2.479442e+07</td>\n",
       "    </tr>\n",
       "    <tr>\n",
       "      <th>max</th>\n",
       "      <td>202305.000000</td>\n",
       "      <td>2.023021e+06</td>\n",
       "      <td>1.000000</td>\n",
       "      <td>1.196023e+10</td>\n",
       "      <td>1.227155e+10</td>\n",
       "    </tr>\n",
       "  </tbody>\n",
       "</table>\n",
       "</div>"
      ],
      "text/plain": [
       "          TM_KEY_MTH     TM_KEY_WK       RR_IND    ACTUAL_AGG    TARGET_AGG\n",
       "count    6566.000000  6.566000e+03  6566.000000  5.494000e+03  1.568000e+03\n",
       "mean   202303.928571  2.023015e+06     0.302772  1.336461e+08  3.525043e+08\n",
       "std         0.798657  3.642434e+00     0.459492  6.646961e+08  1.129579e+09\n",
       "min    202303.000000  2.023009e+06     0.000000 -2.521200e+05 -6.650710e+03\n",
       "25%    202303.000000  2.023012e+06     0.000000  0.000000e+00  3.000000e+00\n",
       "50%    202304.000000  2.023014e+06     0.000000  1.170000e+00  4.996405e+03\n",
       "75%    202305.000000  2.023018e+06     1.000000  5.224000e+04  2.479442e+07\n",
       "max    202305.000000  2.023021e+06     1.000000  1.196023e+10  1.227155e+10"
      ]
     },
     "execution_count": 28,
     "metadata": {},
     "output_type": "execute_result"
    }
   ],
   "source": [
    "df.describe()"
   ]
  },
  {
   "cell_type": "code",
   "execution_count": 6,
   "metadata": {},
   "outputs": [
    {
     "data": {
      "text/html": [
       "<div>\n",
       "<style scoped>\n",
       "    .dataframe tbody tr th:only-of-type {\n",
       "        vertical-align: middle;\n",
       "    }\n",
       "\n",
       "    .dataframe tbody tr th {\n",
       "        vertical-align: top;\n",
       "    }\n",
       "\n",
       "    .dataframe thead th {\n",
       "        text-align: right;\n",
       "    }\n",
       "</style>\n",
       "<table border=\"1\" class=\"dataframe\">\n",
       "  <thead>\n",
       "    <tr style=\"text-align: right;\">\n",
       "      <th></th>\n",
       "      <th>TM_KEY_MTH</th>\n",
       "      <th>TM_KEY_WK</th>\n",
       "      <th>CENTER</th>\n",
       "      <th>METRIC_GRP</th>\n",
       "      <th>COMP_CD</th>\n",
       "      <th>PRODUCT_GRP</th>\n",
       "      <th>METRIC_CD</th>\n",
       "      <th>METRIC_NAME</th>\n",
       "      <th>DIMENSION_KPI_FLAG</th>\n",
       "      <th>BG_FLAG</th>\n",
       "      <th>AGG_TYPE</th>\n",
       "      <th>RR_IND</th>\n",
       "      <th>GRY_IND</th>\n",
       "      <th>UOM</th>\n",
       "      <th>PERIOD</th>\n",
       "      <th>ACTUAL_AGG</th>\n",
       "      <th>TARGET_AGG</th>\n",
       "      <th>PPN_TM</th>\n",
       "    </tr>\n",
       "  </thead>\n",
       "  <tbody>\n",
       "    <tr>\n",
       "      <th>0</th>\n",
       "      <td>202303</td>\n",
       "      <td>2023009</td>\n",
       "      <td>Digitalization</td>\n",
       "      <td>Digitalization</td>\n",
       "      <td>TRUE</td>\n",
       "      <td>All Services</td>\n",
       "      <td>DIS10015</td>\n",
       "      <td>% After-Sales Service via Digital Channels</td>\n",
       "      <td>N</td>\n",
       "      <td>N</td>\n",
       "      <td>N</td>\n",
       "      <td>0</td>\n",
       "      <td>GYR</td>\n",
       "      <td>%</td>\n",
       "      <td>M</td>\n",
       "      <td>13.96</td>\n",
       "      <td>20.0</td>\n",
       "      <td>2023-05-29 08:50:50</td>\n",
       "    </tr>\n",
       "    <tr>\n",
       "      <th>1</th>\n",
       "      <td>202303</td>\n",
       "      <td>2023012</td>\n",
       "      <td>Digitalization</td>\n",
       "      <td>Digitalization</td>\n",
       "      <td>TRUE</td>\n",
       "      <td>All Services</td>\n",
       "      <td>DIS10015</td>\n",
       "      <td>% After-Sales Service via Digital Channels</td>\n",
       "      <td>N</td>\n",
       "      <td>N</td>\n",
       "      <td>N</td>\n",
       "      <td>0</td>\n",
       "      <td>GYR</td>\n",
       "      <td>%</td>\n",
       "      <td>M</td>\n",
       "      <td>15.55</td>\n",
       "      <td>20.0</td>\n",
       "      <td>2023-05-29 08:50:50</td>\n",
       "    </tr>\n",
       "    <tr>\n",
       "      <th>2</th>\n",
       "      <td>202304</td>\n",
       "      <td>2023013</td>\n",
       "      <td>Digitalization</td>\n",
       "      <td>Digitalization</td>\n",
       "      <td>TRUE</td>\n",
       "      <td>All Services</td>\n",
       "      <td>DIS10015</td>\n",
       "      <td>% After-Sales Service via Digital Channels</td>\n",
       "      <td>N</td>\n",
       "      <td>N</td>\n",
       "      <td>N</td>\n",
       "      <td>0</td>\n",
       "      <td>GYR</td>\n",
       "      <td>%</td>\n",
       "      <td>M</td>\n",
       "      <td>14.20</td>\n",
       "      <td>20.0</td>\n",
       "      <td>2023-05-29 08:50:50</td>\n",
       "    </tr>\n",
       "    <tr>\n",
       "      <th>3</th>\n",
       "      <td>202304</td>\n",
       "      <td>2023014</td>\n",
       "      <td>Digitalization</td>\n",
       "      <td>Digitalization</td>\n",
       "      <td>TRUE</td>\n",
       "      <td>All Services</td>\n",
       "      <td>DIS10015</td>\n",
       "      <td>% After-Sales Service via Digital Channels</td>\n",
       "      <td>N</td>\n",
       "      <td>N</td>\n",
       "      <td>N</td>\n",
       "      <td>0</td>\n",
       "      <td>GYR</td>\n",
       "      <td>%</td>\n",
       "      <td>M</td>\n",
       "      <td>14.15</td>\n",
       "      <td>20.0</td>\n",
       "      <td>2023-05-29 08:50:50</td>\n",
       "    </tr>\n",
       "    <tr>\n",
       "      <th>4</th>\n",
       "      <td>202304</td>\n",
       "      <td>2023014</td>\n",
       "      <td>Digitalization</td>\n",
       "      <td>Digitalization</td>\n",
       "      <td>TRUE</td>\n",
       "      <td>Postpaid</td>\n",
       "      <td>DIS10017</td>\n",
       "      <td>% After-Sales Service via Digital Channels : T...</td>\n",
       "      <td>N</td>\n",
       "      <td>N</td>\n",
       "      <td>N</td>\n",
       "      <td>0</td>\n",
       "      <td>GYR</td>\n",
       "      <td>%</td>\n",
       "      <td>M</td>\n",
       "      <td>NaN</td>\n",
       "      <td>NaN</td>\n",
       "      <td>2023-05-29 08:50:50</td>\n",
       "    </tr>\n",
       "  </tbody>\n",
       "</table>\n",
       "</div>"
      ],
      "text/plain": [
       "   TM_KEY_MTH  TM_KEY_WK          CENTER      METRIC_GRP COMP_CD  \\\n",
       "0      202303    2023009  Digitalization  Digitalization    TRUE   \n",
       "1      202303    2023012  Digitalization  Digitalization    TRUE   \n",
       "2      202304    2023013  Digitalization  Digitalization    TRUE   \n",
       "3      202304    2023014  Digitalization  Digitalization    TRUE   \n",
       "4      202304    2023014  Digitalization  Digitalization    TRUE   \n",
       "\n",
       "    PRODUCT_GRP METRIC_CD                                        METRIC_NAME  \\\n",
       "0  All Services  DIS10015         % After-Sales Service via Digital Channels   \n",
       "1  All Services  DIS10015         % After-Sales Service via Digital Channels   \n",
       "2  All Services  DIS10015         % After-Sales Service via Digital Channels   \n",
       "3  All Services  DIS10015         % After-Sales Service via Digital Channels   \n",
       "4      Postpaid  DIS10017  % After-Sales Service via Digital Channels : T...   \n",
       "\n",
       "  DIMENSION_KPI_FLAG BG_FLAG AGG_TYPE  RR_IND GRY_IND UOM PERIOD  ACTUAL_AGG  \\\n",
       "0                  N       N        N       0     GYR   %      M       13.96   \n",
       "1                  N       N        N       0     GYR   %      M       15.55   \n",
       "2                  N       N        N       0     GYR   %      M       14.20   \n",
       "3                  N       N        N       0     GYR   %      M       14.15   \n",
       "4                  N       N        N       0     GYR   %      M         NaN   \n",
       "\n",
       "   TARGET_AGG              PPN_TM  \n",
       "0        20.0 2023-05-29 08:50:50  \n",
       "1        20.0 2023-05-29 08:50:50  \n",
       "2        20.0 2023-05-29 08:50:50  \n",
       "3        20.0 2023-05-29 08:50:50  \n",
       "4         NaN 2023-05-29 08:50:50  "
      ]
     },
     "execution_count": 6,
     "metadata": {},
     "output_type": "execute_result"
    }
   ],
   "source": [
    "df.head()"
   ]
  },
  {
   "attachments": {},
   "cell_type": "markdown",
   "metadata": {},
   "source": [
    "## Generate Output file"
   ]
  },
  {
   "cell_type": "code",
   "execution_count": 7,
   "metadata": {},
   "outputs": [
    {
     "name": "stdout",
     "output_type": "stream",
     "text": [
      "\n",
      "\"Raw-Agg Perf_Wk 2023022.csv\" is generated\n"
     ]
    }
   ],
   "source": [
    "# C:\\Users\\Narut4\\coding\\Jupyter\\Work with Oracle.ipynb\n",
    "\n",
    "output_name = f'Raw-Agg Perf_Wk {v_week[0]}'\n",
    "\n",
    "df.to_csv(f'{output_name}.csv', index=False, encoding='utf-8')\n",
    "\n",
    "print(f'\\n\"{output_name}.csv\" is generated')"
   ]
  }
 ],
 "metadata": {
  "kernelspec": {
   "display_name": "py310",
   "language": "python",
   "name": "python3"
  },
  "language_info": {
   "codemirror_mode": {
    "name": "ipython",
    "version": 3
   },
   "file_extension": ".py",
   "mimetype": "text/x-python",
   "name": "python",
   "nbconvert_exporter": "python",
   "pygments_lexer": "ipython3",
   "version": "3.10.13"
  },
  "orig_nbformat": 4
 },
 "nbformat": 4,
 "nbformat_minor": 2
}
