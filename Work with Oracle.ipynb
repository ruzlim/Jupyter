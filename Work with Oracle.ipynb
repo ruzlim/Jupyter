{
 "cells": [
  {
   "attachments": {},
   "cell_type": "markdown",
   "metadata": {},
   "source": [
    "# Work with Oracle"
   ]
  },
  {
   "cell_type": "code",
   "execution_count": 1,
   "metadata": {},
   "outputs": [
    {
     "name": "stdout",
     "output_type": "stream",
     "text": [
      "\n",
      "cx_Oracle.version :8.3.0\n"
     ]
    },
    {
     "ename": "DatabaseError",
     "evalue": "DPI-1047: Cannot locate a 64-bit Oracle Client library: \"dlopen(libclntsh.dylib, 0x0001): tried: 'libclntsh.dylib' (no such file), '/System/Volumes/Preboot/Cryptexes/OSlibclntsh.dylib' (no such file), '/opt/homebrew/Caskroom/miniconda/base/envs/py310/lib/libclntsh.dylib' (no such file), '/System/Volumes/Preboot/Cryptexes/OS/opt/homebrew/Caskroom/miniconda/base/envs/py310/lib/libclntsh.dylib' (no such file), '/opt/homebrew/Caskroom/miniconda/base/envs/py310/lib/libclntsh.dylib' (no such file), '/System/Volumes/Preboot/Cryptexes/OS/opt/homebrew/Caskroom/miniconda/base/envs/py310/lib/libclntsh.dylib' (no such file), '/opt/homebrew/Caskroom/miniconda/base/envs/py310/bin/../lib/libclntsh.dylib' (no such file), '/usr/lib/libclntsh.dylib' (no such file, not in dyld cache), 'libclntsh.dylib' (no such file), '/usr/local/lib/libclntsh.dylib' (no such file), '/usr/lib/libclntsh.dylib' (no such file, not in dyld cache)\". See https://cx-oracle.readthedocs.io/en/latest/user_guide/installation.html for help",
     "output_type": "error",
     "traceback": [
      "\u001b[0;31m---------------------------------------------------------------------------\u001b[0m",
      "\u001b[0;31mDatabaseError\u001b[0m                             Traceback (most recent call last)",
      "Cell \u001b[0;32mIn[1], line 13\u001b[0m\n\u001b[1;32m      6\u001b[0m \u001b[39m# cx_Oracle.clientversion()\u001b[39;00m\n\u001b[1;32m      7\u001b[0m \u001b[39m# cx_Oracle.init_oracle_client(lib_dir=\"C:\\Oracle\\Ora11\\product\\11.2.0.4\\client_1\")\u001b[39;00m\n\u001b[1;32m      8\u001b[0m \u001b[39m# cx_Oracle.init_oracle_client(lib_dir=\"C:\\Instantclient\\instantclient_21_10\")\u001b[39;00m\n\u001b[1;32m      9\u001b[0m \n\u001b[1;32m     10\u001b[0m \u001b[39m# AIMD2CDB\u001b[39;00m\n\u001b[1;32m     11\u001b[0m \u001b[39m# conStr = 'NARUT_E01044451/v9VzR8xsuwp#tyTb@TDM-scan.dc2.true.th:1521/TDMDBPR'\u001b[39;00m\n\u001b[1;32m     12\u001b[0m conStr \u001b[39m=\u001b[39m \u001b[39m'\u001b[39m\u001b[39mAUTOKPI/SNRpAssw0rd#001@172.16.54.52:1555/AKPIPRD\u001b[39m\u001b[39m'\u001b[39m\n\u001b[0;32m---> 13\u001b[0m conn \u001b[39m=\u001b[39m cx_Oracle\u001b[39m.\u001b[39;49mconnect(conStr)\n\u001b[1;32m     14\u001b[0m cur \u001b[39m=\u001b[39m conn\u001b[39m.\u001b[39mcursor()\n\u001b[1;32m     16\u001b[0m \u001b[39m# sqlTxt = \"select sys_context('AUTOKPI','AKPIPRD') from dual\"\u001b[39;00m\n\u001b[1;32m     17\u001b[0m \u001b[39m# cur.execute(sqlTxt)\u001b[39;00m\n\u001b[1;32m     18\u001b[0m \n\u001b[0;32m   (...)\u001b[0m\n\u001b[1;32m     21\u001b[0m \u001b[39m# sqlTxt = \"SELECT * FROM AUTOKPI.TARGET_BILL_CYCLE_DAILY WHERE TM_KEY_DAY =:1\"\u001b[39;00m\n\u001b[1;32m     22\u001b[0m \u001b[39m# cur.execute(sqlTxt, ('20230501',))\u001b[39;00m\n",
      "\u001b[0;31mDatabaseError\u001b[0m: DPI-1047: Cannot locate a 64-bit Oracle Client library: \"dlopen(libclntsh.dylib, 0x0001): tried: 'libclntsh.dylib' (no such file), '/System/Volumes/Preboot/Cryptexes/OSlibclntsh.dylib' (no such file), '/opt/homebrew/Caskroom/miniconda/base/envs/py310/lib/libclntsh.dylib' (no such file), '/System/Volumes/Preboot/Cryptexes/OS/opt/homebrew/Caskroom/miniconda/base/envs/py310/lib/libclntsh.dylib' (no such file), '/opt/homebrew/Caskroom/miniconda/base/envs/py310/lib/libclntsh.dylib' (no such file), '/System/Volumes/Preboot/Cryptexes/OS/opt/homebrew/Caskroom/miniconda/base/envs/py310/lib/libclntsh.dylib' (no such file), '/opt/homebrew/Caskroom/miniconda/base/envs/py310/bin/../lib/libclntsh.dylib' (no such file), '/usr/lib/libclntsh.dylib' (no such file, not in dyld cache), 'libclntsh.dylib' (no such file), '/usr/local/lib/libclntsh.dylib' (no such file), '/usr/lib/libclntsh.dylib' (no such file, not in dyld cache)\". See https://cx-oracle.readthedocs.io/en/latest/user_guide/installation.html for help"
     ]
    }
   ],
   "source": [
    "import cx_Oracle\n",
    "import pandas as pd\n",
    "\n",
    "print(f'\\ncx_Oracle.version :{cx_Oracle.version}')\n",
    "\n",
    "# cx_Oracle.clientversion()\n",
    "# cx_Oracle.init_oracle_client(lib_dir=\"C:\\Oracle\\Ora11\\product\\11.2.0.4\\client_1\")\n",
    "# cx_Oracle.init_oracle_client(lib_dir=\"C:\\Instantclient\\instantclient_21_10\")\n",
    "\n",
    "# AIMD2CDB\n",
    "# conStr = 'NARUT_E01044451/v9VzR8xsuwp#tyTb@TDM-scan.dc2.true.th:1521/TDMDBPR'\n",
    "conStr = 'AUTOKPI/SNRpAssw0rd#001@172.16.54.52:1555/AKPIPRD'\n",
    "conn = cx_Oracle.connect(conStr)\n",
    "cur = conn.cursor()\n",
    " \n",
    "# sqlTxt = \"select sys_context('AUTOKPI','AKPIPRD') from dual\"\n",
    "# cur.execute(sqlTxt)\n",
    "\n",
    "# sqlTxt = \"SELECT * FROM AUTOKPI.TARGET_BILL_CYCLE_DAILY WHERE TM_KEY_DAY = 20230501\"\n",
    "# cur.execute(sqlTxt)\n",
    "# sqlTxt = \"SELECT * FROM AUTOKPI.TARGET_BILL_CYCLE_DAILY WHERE TM_KEY_DAY =:1\"\n",
    "# cur.execute(sqlTxt, ('20230501',))\n",
    "sqlTxt = \"SELECT * FROM AUTOKPI.DIM_MOOC_AREA WHERE ROWNUM <= :1\"\n",
    "cur.execute(sqlTxt, ('100',))\n",
    "\n",
    "# print(f'\\ndesctiption :\\n{cur.description}')\n",
    "\n",
    "rows = cur.fetchall()\n",
    "# print(f'\\nrows :\\n{rows}')\n",
    "# print(f'rows :', cur.rowcount)\n",
    "# TM_KEY_YR, TM_KEY_MTH, TRUE_TM_KEY_WK, TM_KEY_DAY, DAYS_IN_MONTH, PERIODFLAG, METRIC_CD, METRIC_NAME, METRIC_GRP, METRIC_VALUE, COMP_CD, VERSION, AREA_CD, AREA_DESC, AREA_TYPE, LOAD_DATE, REMARK\n",
    "\n",
    "df = pd.DataFrame.from_records(rows, columns=[x[0] for x in cur.description])\n",
    "print(f'\\ndf :\\n{df}')\n",
    "\n",
    "cur.close()\n",
    "conn.close()"
   ]
  },
  {
   "cell_type": "code",
   "execution_count": null,
   "metadata": {},
   "outputs": [],
   "source": []
  }
 ],
 "metadata": {
  "kernelspec": {
   "display_name": "py310",
   "language": "python",
   "name": "python3"
  },
  "language_info": {
   "codemirror_mode": {
    "name": "ipython",
    "version": 3
   },
   "file_extension": ".py",
   "mimetype": "text/x-python",
   "name": "python",
   "nbconvert_exporter": "python",
   "pygments_lexer": "ipython3",
   "version": "3.10.11"
  },
  "orig_nbformat": 4
 },
 "nbformat": 4,
 "nbformat_minor": 2
}
