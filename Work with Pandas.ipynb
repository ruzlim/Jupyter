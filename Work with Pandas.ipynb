{
 "cells": [
  {
   "attachments": {},
   "cell_type": "markdown",
   "metadata": {},
   "source": [
    "# Work with Pandas\n",
    "\n",
    "### https://realpython.com/pandas-dataframe/"
   ]
  },
  {
   "cell_type": "code",
   "execution_count": null,
   "metadata": {},
   "outputs": [],
   "source": [
    "import pandas as pd\n",
    "import numpy as np\n",
    "import datetime"
   ]
  },
  {
   "attachments": {},
   "cell_type": "markdown",
   "metadata": {},
   "source": [
    "## Sample Dataframe"
   ]
  },
  {
   "cell_type": "code",
   "execution_count": null,
   "metadata": {},
   "outputs": [],
   "source": [
    "n = 5\n",
    "\n",
    "data = [x for x in range(n)]\n",
    "data"
   ]
  },
  {
   "cell_type": "code",
   "execution_count": null,
   "metadata": {},
   "outputs": [],
   "source": [
    "data = [{'row_num': x, 'timestamp': datetime.datetime.now(), 'added_by': 'Ruzlim'} for x in range(n)]\n",
    "data"
   ]
  },
  {
   "cell_type": "code",
   "execution_count": null,
   "metadata": {},
   "outputs": [],
   "source": [
    "rand_n = np.random.randint(0, 1_000)\n",
    "\n",
    "rand_data = []\n",
    "\n",
    "for x in range(0, rand_n):\n",
    "    dollars = np.random.randint(1_000, 10_000)\n",
    "    # print(dollars)\n",
    "    rand_tmp_data = {\n",
    "        'Name': f'Name-{x}',\n",
    "        'Salary': f'${dollars:,.2f}'\n",
    "        } \n",
    "    rand_data.append(rand_tmp_data)\n",
    "\n",
    "rand_n\n",
    "# rand_data"
   ]
  },
  {
   "cell_type": "code",
   "execution_count": null,
   "metadata": {},
   "outputs": [],
   "source": [
    "sdf = pd.DataFrame(data)\n",
    "sdf"
   ]
  },
  {
   "cell_type": "code",
   "execution_count": null,
   "metadata": {},
   "outputs": [],
   "source": [
    "rand_df = pd.DataFrame(rand_data)\n",
    "rand_df"
   ]
  },
  {
   "cell_type": "code",
   "execution_count": null,
   "metadata": {},
   "outputs": [],
   "source": [
    "sdf.index"
   ]
  },
  {
   "cell_type": "code",
   "execution_count": null,
   "metadata": {},
   "outputs": [],
   "source": [
    "sdf.columns"
   ]
  },
  {
   "cell_type": "code",
   "execution_count": null,
   "metadata": {},
   "outputs": [],
   "source": [
    "sdf['added_by'].unique()"
   ]
  },
  {
   "cell_type": "code",
   "execution_count": null,
   "metadata": {},
   "outputs": [],
   "source": [
    "sdf.dtypes"
   ]
  },
  {
   "cell_type": "code",
   "execution_count": null,
   "metadata": {},
   "outputs": [],
   "source": [
    "sdf.isnull()"
   ]
  },
  {
   "cell_type": "code",
   "execution_count": null,
   "metadata": {},
   "outputs": [],
   "source": [
    "pd.isna(sdf)"
   ]
  },
  {
   "cell_type": "code",
   "execution_count": null,
   "metadata": {},
   "outputs": [],
   "source": [
    "sdf_ = sdf.astype(dtype={'row_num': np.float32})\n",
    "sdf_.dtypes"
   ]
  },
  {
   "cell_type": "code",
   "execution_count": null,
   "metadata": {},
   "outputs": [],
   "source": [
    "sdf.ndim"
   ]
  },
  {
   "cell_type": "code",
   "execution_count": null,
   "metadata": {},
   "outputs": [],
   "source": [
    "sdf.shape"
   ]
  },
  {
   "cell_type": "code",
   "execution_count": null,
   "metadata": {},
   "outputs": [],
   "source": [
    "sdf.size"
   ]
  },
  {
   "cell_type": "code",
   "execution_count": null,
   "metadata": {},
   "outputs": [],
   "source": [
    "sdf.memory_usage()"
   ]
  },
  {
   "cell_type": "code",
   "execution_count": null,
   "metadata": {},
   "outputs": [],
   "source": [
    "sdf.describe()"
   ]
  },
  {
   "cell_type": "code",
   "execution_count": null,
   "metadata": {},
   "outputs": [],
   "source": [
    "# df.head\n",
    "sdf.head(3)"
   ]
  },
  {
   "cell_type": "code",
   "execution_count": null,
   "metadata": {},
   "outputs": [],
   "source": [
    "sdf.tail()"
   ]
  },
  {
   "attachments": {},
   "cell_type": "markdown",
   "metadata": {},
   "source": [
    "## loc"
   ]
  },
  {
   "cell_type": "code",
   "execution_count": null,
   "metadata": {},
   "outputs": [],
   "source": [
    "sdf.loc[2]"
   ]
  },
  {
   "cell_type": "code",
   "execution_count": null,
   "metadata": {},
   "outputs": [],
   "source": [
    "sdf.loc[:2, ['row_num', 'timestamp']]"
   ]
  },
  {
   "attachments": {},
   "cell_type": "markdown",
   "metadata": {},
   "source": [
    "## iloc"
   ]
  },
  {
   "cell_type": "code",
   "execution_count": null,
   "metadata": {},
   "outputs": [],
   "source": [
    "sdf.iloc[:2, 0:2]"
   ]
  },
  {
   "cell_type": "code",
   "execution_count": null,
   "metadata": {},
   "outputs": [],
   "source": [
    "sdf.iloc[:2, [0, 2]]"
   ]
  },
  {
   "attachments": {},
   "cell_type": "markdown",
   "metadata": {},
   "source": [
    "## Filter"
   ]
  },
  {
   "cell_type": "code",
   "execution_count": null,
   "metadata": {},
   "outputs": [],
   "source": [
    "# Equal : ==\n",
    "sdf[sdf['row_num'] == 3]"
   ]
  },
  {
   "cell_type": "code",
   "execution_count": null,
   "metadata": {},
   "outputs": [],
   "source": [
    "# Not Equal : ~\n",
    "sdf[~(sdf['row_num'] == 3)]"
   ]
  },
  {
   "cell_type": "code",
   "execution_count": null,
   "metadata": {},
   "outputs": [],
   "source": [
    "# AND : &\n",
    "sdf[(sdf['row_num'] >= 2) & (sdf['row_num'] < 4)]"
   ]
  },
  {
   "cell_type": "code",
   "execution_count": null,
   "metadata": {},
   "outputs": [],
   "source": [
    "# OR : |\n",
    "sdf[(sdf['row_num'] == 1) | (sdf['row_num'] == 3)]"
   ]
  },
  {
   "cell_type": "code",
   "execution_count": null,
   "metadata": {},
   "outputs": [],
   "source": [
    "# XOR : ^ (???)\n",
    "sdf[(sdf['row_num'] == 1) ^ (sdf['row_num'] == 3)]"
   ]
  },
  {
   "cell_type": "code",
   "execution_count": null,
   "metadata": {},
   "outputs": [],
   "source": [
    "# where\n",
    "sdf.where(cond = sdf['row_num'] >= 3, other = 0)"
   ]
  },
  {
   "attachments": {},
   "cell_type": "markdown",
   "metadata": {},
   "source": [
    "## Filling missing data"
   ]
  },
  {
   "cell_type": "code",
   "execution_count": null,
   "metadata": {},
   "outputs": [],
   "source": [
    "sdf_ = sdf.where(cond = sdf['row_num'] == 2)\n",
    "sdf_"
   ]
  },
  {
   "cell_type": "code",
   "execution_count": null,
   "metadata": {},
   "outputs": [],
   "source": [
    "sdf_.fillna(value=0)"
   ]
  },
  {
   "cell_type": "code",
   "execution_count": null,
   "metadata": {},
   "outputs": [],
   "source": [
    "sdf_.fillna(method='ffill')"
   ]
  },
  {
   "cell_type": "code",
   "execution_count": null,
   "metadata": {},
   "outputs": [],
   "source": [
    "sdf_.fillna(method='bfill')"
   ]
  },
  {
   "cell_type": "code",
   "execution_count": null,
   "metadata": {},
   "outputs": [],
   "source": [
    "sdf_.dropna()"
   ]
  },
  {
   "attachments": {},
   "cell_type": "markdown",
   "metadata": {},
   "source": [
    "## Iterating"
   ]
  },
  {
   "cell_type": "code",
   "execution_count": null,
   "metadata": {},
   "outputs": [],
   "source": [
    "for col_label, col in sdf.iteritems():\n",
    "    print(col_label, col, sep='\\n', end='\\n\\n')"
   ]
  },
  {
   "cell_type": "code",
   "execution_count": null,
   "metadata": {},
   "outputs": [],
   "source": [
    "for row in sdf.loc[:, ['row_num', 'added_by']].itertuples():\n",
    "    print(row)"
   ]
  },
  {
   "attachments": {},
   "cell_type": "markdown",
   "metadata": {},
   "source": [
    "## Concat Dataframe"
   ]
  },
  {
   "cell_type": "code",
   "execution_count": null,
   "metadata": {},
   "outputs": [],
   "source": [
    "rdf1 = pd.DataFrame(np.random.rand(3, 2))\n",
    "rdf1"
   ]
  },
  {
   "cell_type": "code",
   "execution_count": null,
   "metadata": {},
   "outputs": [],
   "source": [
    "rdf2 = pd.DataFrame(np.random.rand(3, 2))\n",
    "rdf2"
   ]
  },
  {
   "cell_type": "code",
   "execution_count": null,
   "metadata": {},
   "outputs": [],
   "source": [
    "rdf_concat = pd.concat([rdf1, rdf2])\n",
    "rdf_concat"
   ]
  },
  {
   "attachments": {},
   "cell_type": "markdown",
   "metadata": {},
   "source": [
    "## Merge Dataframe"
   ]
  },
  {
   "cell_type": "code",
   "execution_count": null,
   "metadata": {},
   "outputs": [],
   "source": [
    "df_a = pd.DataFrame({'key': ['one', 'two'], 'a_val': [1, 2]})\n",
    "df_a"
   ]
  },
  {
   "cell_type": "code",
   "execution_count": null,
   "metadata": {},
   "outputs": [],
   "source": [
    "df_b = pd.DataFrame({'key': ['one', 'two', 'tree'], 'b_val': [3, 4, 5]})\n",
    "df_b"
   ]
  },
  {
   "cell_type": "code",
   "execution_count": null,
   "metadata": {},
   "outputs": [],
   "source": [
    "pd.merge(df_a, df_b, on='key')"
   ]
  },
  {
   "cell_type": "code",
   "execution_count": null,
   "metadata": {},
   "outputs": [],
   "source": [
    "pd.merge(df_b, df_a, on='key')"
   ]
  },
  {
   "attachments": {},
   "cell_type": "markdown",
   "metadata": {},
   "source": [
    "## Import Data source"
   ]
  },
  {
   "cell_type": "code",
   "execution_count": 57,
   "metadata": {},
   "outputs": [
    {
     "data": {
      "text/html": [
       "<div>\n",
       "<style scoped>\n",
       "    .dataframe tbody tr th:only-of-type {\n",
       "        vertical-align: middle;\n",
       "    }\n",
       "\n",
       "    .dataframe tbody tr th {\n",
       "        vertical-align: top;\n",
       "    }\n",
       "\n",
       "    .dataframe thead th {\n",
       "        text-align: right;\n",
       "    }\n",
       "</style>\n",
       "<table border=\"1\" class=\"dataframe\">\n",
       "  <thead>\n",
       "    <tr style=\"text-align: right;\">\n",
       "      <th></th>\n",
       "      <th>TM_KEY_MTH</th>\n",
       "      <th>TM_KEY_WK</th>\n",
       "      <th>CENTER</th>\n",
       "      <th>METRIC_GRP</th>\n",
       "      <th>COMP_CD</th>\n",
       "      <th>PRODUCT_GRP</th>\n",
       "      <th>METRIC_CD</th>\n",
       "      <th>METRIC_NAME</th>\n",
       "      <th>DIMENSION_KPI_FLAG</th>\n",
       "      <th>BG_FLAG</th>\n",
       "      <th>AGG_TYPE</th>\n",
       "      <th>RR_IND</th>\n",
       "      <th>GRY_IND</th>\n",
       "      <th>UOM</th>\n",
       "      <th>PERIOD</th>\n",
       "      <th>ACTUAL_AGG</th>\n",
       "      <th>TARGET_AGG</th>\n",
       "      <th>PPN_TM</th>\n",
       "    </tr>\n",
       "  </thead>\n",
       "  <tbody>\n",
       "    <tr>\n",
       "      <th>0</th>\n",
       "      <td>202303</td>\n",
       "      <td>2023009</td>\n",
       "      <td>Customer Service Experience &amp; Retention</td>\n",
       "      <td>Experience</td>\n",
       "      <td>DTAC</td>\n",
       "      <td>All Services</td>\n",
       "      <td>DSER02401</td>\n",
       "      <td>Abandoned Call Rate : DTAC</td>\n",
       "      <td>N</td>\n",
       "      <td>N</td>\n",
       "      <td>N</td>\n",
       "      <td>0</td>\n",
       "      <td>RYG</td>\n",
       "      <td>%</td>\n",
       "      <td>M</td>\n",
       "      <td>NaN</td>\n",
       "      <td>NaN</td>\n",
       "      <td>2023-05-22 17:50:18</td>\n",
       "    </tr>\n",
       "    <tr>\n",
       "      <th>1</th>\n",
       "      <td>202303</td>\n",
       "      <td>2023009</td>\n",
       "      <td>Customer Service Experience &amp; Retention</td>\n",
       "      <td>Experience</td>\n",
       "      <td>DTAC</td>\n",
       "      <td>All Services</td>\n",
       "      <td>DSER02402</td>\n",
       "      <td>Handled Call Rate : DTAC</td>\n",
       "      <td>N</td>\n",
       "      <td>N</td>\n",
       "      <td>N</td>\n",
       "      <td>0</td>\n",
       "      <td>GYR</td>\n",
       "      <td>%</td>\n",
       "      <td>M</td>\n",
       "      <td>NaN</td>\n",
       "      <td>NaN</td>\n",
       "      <td>2023-05-22 17:50:18</td>\n",
       "    </tr>\n",
       "    <tr>\n",
       "      <th>2</th>\n",
       "      <td>202303</td>\n",
       "      <td>2023009</td>\n",
       "      <td>Customer Service Experience &amp; Retention</td>\n",
       "      <td>Experience</td>\n",
       "      <td>DTAC</td>\n",
       "      <td>All Services</td>\n",
       "      <td>DSER02501</td>\n",
       "      <td>Call Center CSAT IVR (Top2Boxes) : DTAC</td>\n",
       "      <td>N</td>\n",
       "      <td>N</td>\n",
       "      <td>N</td>\n",
       "      <td>0</td>\n",
       "      <td>GYR</td>\n",
       "      <td>%</td>\n",
       "      <td>M</td>\n",
       "      <td>NaN</td>\n",
       "      <td>NaN</td>\n",
       "      <td>2023-05-22 17:50:18</td>\n",
       "    </tr>\n",
       "    <tr>\n",
       "      <th>3</th>\n",
       "      <td>202303</td>\n",
       "      <td>2023009</td>\n",
       "      <td>Customer Service Experience &amp; Retention</td>\n",
       "      <td>Experience</td>\n",
       "      <td>DTAC</td>\n",
       "      <td>Postpaid</td>\n",
       "      <td>DSER21101</td>\n",
       "      <td>Postpaid Complaint : DTAC</td>\n",
       "      <td>Y</td>\n",
       "      <td>N</td>\n",
       "      <td>N</td>\n",
       "      <td>0</td>\n",
       "      <td>RYG</td>\n",
       "      <td>%</td>\n",
       "      <td>M</td>\n",
       "      <td>NaN</td>\n",
       "      <td>NaN</td>\n",
       "      <td>2023-05-22 17:50:18</td>\n",
       "    </tr>\n",
       "    <tr>\n",
       "      <th>4</th>\n",
       "      <td>202303</td>\n",
       "      <td>2023009</td>\n",
       "      <td>Customer Service Experience &amp; Retention</td>\n",
       "      <td>Experience</td>\n",
       "      <td>DTAC</td>\n",
       "      <td>Prepaid</td>\n",
       "      <td>DSER22101</td>\n",
       "      <td>Prepaid Complaint : DTAC</td>\n",
       "      <td>Y</td>\n",
       "      <td>N</td>\n",
       "      <td>N</td>\n",
       "      <td>0</td>\n",
       "      <td>RYG</td>\n",
       "      <td>%</td>\n",
       "      <td>M</td>\n",
       "      <td>NaN</td>\n",
       "      <td>NaN</td>\n",
       "      <td>2023-05-22 17:50:18</td>\n",
       "    </tr>\n",
       "  </tbody>\n",
       "</table>\n",
       "</div>"
      ],
      "text/plain": [
       "   TM_KEY_MTH  TM_KEY_WK                                   CENTER  METRIC_GRP  \\\n",
       "0      202303    2023009  Customer Service Experience & Retention  Experience   \n",
       "1      202303    2023009  Customer Service Experience & Retention  Experience   \n",
       "2      202303    2023009  Customer Service Experience & Retention  Experience   \n",
       "3      202303    2023009  Customer Service Experience & Retention  Experience   \n",
       "4      202303    2023009  Customer Service Experience & Retention  Experience   \n",
       "\n",
       "  COMP_CD   PRODUCT_GRP  METRIC_CD                              METRIC_NAME  \\\n",
       "0    DTAC  All Services  DSER02401               Abandoned Call Rate : DTAC   \n",
       "1    DTAC  All Services  DSER02402                 Handled Call Rate : DTAC   \n",
       "2    DTAC  All Services  DSER02501  Call Center CSAT IVR (Top2Boxes) : DTAC   \n",
       "3    DTAC      Postpaid  DSER21101                Postpaid Complaint : DTAC   \n",
       "4    DTAC       Prepaid  DSER22101                 Prepaid Complaint : DTAC   \n",
       "\n",
       "  DIMENSION_KPI_FLAG BG_FLAG AGG_TYPE  RR_IND GRY_IND UOM PERIOD  ACTUAL_AGG  \\\n",
       "0                  N       N        N       0     RYG   %      M         NaN   \n",
       "1                  N       N        N       0     GYR   %      M         NaN   \n",
       "2                  N       N        N       0     GYR   %      M         NaN   \n",
       "3                  Y       N        N       0     RYG   %      M         NaN   \n",
       "4                  Y       N        N       0     RYG   %      M         NaN   \n",
       "\n",
       "   TARGET_AGG               PPN_TM  \n",
       "0         NaN  2023-05-22 17:50:18  \n",
       "1         NaN  2023-05-22 17:50:18  \n",
       "2         NaN  2023-05-22 17:50:18  \n",
       "3         NaN  2023-05-22 17:50:18  \n",
       "4         NaN  2023-05-22 17:50:18  "
      ]
     },
     "execution_count": 57,
     "metadata": {},
     "output_type": "execute_result"
    }
   ],
   "source": [
    "# data = \"/Users/ruzlim/Code/Jupyter//Raw_Agg_Performance.csv\"\n",
    "# data = \"c/Users/Narut4/coding/Jupyter/Raw_Agg_Performance.csv\"\n",
    "data = \"Raw_Agg_Performance.csv\"\n",
    "\n",
    "df = pd.read_csv(data)\n",
    "df.head()"
   ]
  },
  {
   "attachments": {},
   "cell_type": "markdown",
   "metadata": {},
   "source": [
    "## Analyze Data"
   ]
  },
  {
   "cell_type": "code",
   "execution_count": null,
   "metadata": {},
   "outputs": [],
   "source": [
    "df.describe()"
   ]
  },
  {
   "cell_type": "code",
   "execution_count": null,
   "metadata": {},
   "outputs": [],
   "source": [
    "df.shape"
   ]
  },
  {
   "cell_type": "code",
   "execution_count": null,
   "metadata": {},
   "outputs": [],
   "source": [
    "df.dtypes"
   ]
  },
  {
   "cell_type": "code",
   "execution_count": null,
   "metadata": {},
   "outputs": [],
   "source": [
    "df.mean(numeric_only=True)"
   ]
  },
  {
   "cell_type": "code",
   "execution_count": null,
   "metadata": {},
   "outputs": [],
   "source": [
    "# Check null value in each column\n",
    "\n",
    "df.apply(lambda x: sum(x.isnull()), axis=0)"
   ]
  },
  {
   "cell_type": "code",
   "execution_count": null,
   "metadata": {},
   "outputs": [],
   "source": [
    "# Fullfill null value example\n",
    "\n",
    "df_tmp = df\n",
    "\n",
    "df_tmp['TARGET_AGG'].fillna(df_tmp['TARGET_AGG'].mean(), inplace=True)\n",
    "\n",
    "df_tmp.apply(lambda x: sum(x.isnull()), axis=0)\n",
    "\n",
    "# df_tmp"
   ]
  },
  {
   "cell_type": "code",
   "execution_count": null,
   "metadata": {},
   "outputs": [],
   "source": [
    "df['CENTER'].unique()"
   ]
  },
  {
   "cell_type": "code",
   "execution_count": 58,
   "metadata": {},
   "outputs": [
    {
     "data": {
      "text/html": [
       "<div>\n",
       "<style scoped>\n",
       "    .dataframe tbody tr th:only-of-type {\n",
       "        vertical-align: middle;\n",
       "    }\n",
       "\n",
       "    .dataframe tbody tr th {\n",
       "        vertical-align: top;\n",
       "    }\n",
       "\n",
       "    .dataframe thead th {\n",
       "        text-align: right;\n",
       "    }\n",
       "</style>\n",
       "<table border=\"1\" class=\"dataframe\">\n",
       "  <thead>\n",
       "    <tr style=\"text-align: right;\">\n",
       "      <th></th>\n",
       "      <th>TM_KEY_MTH</th>\n",
       "      <th>TM_KEY_WK</th>\n",
       "      <th>CENTER</th>\n",
       "      <th>METRIC_GRP</th>\n",
       "      <th>COMP_CD</th>\n",
       "      <th>PRODUCT_GRP</th>\n",
       "      <th>METRIC_CD</th>\n",
       "      <th>METRIC_NAME</th>\n",
       "      <th>DIMENSION_KPI_FLAG</th>\n",
       "      <th>BG_FLAG</th>\n",
       "      <th>AGG_TYPE</th>\n",
       "      <th>RR_IND</th>\n",
       "      <th>GRY_IND</th>\n",
       "      <th>UOM</th>\n",
       "      <th>PERIOD</th>\n",
       "      <th>ACTUAL_AGG</th>\n",
       "      <th>TARGET_AGG</th>\n",
       "      <th>PPN_TM</th>\n",
       "    </tr>\n",
       "  </thead>\n",
       "  <tbody>\n",
       "    <tr>\n",
       "      <th>133</th>\n",
       "      <td>202303</td>\n",
       "      <td>2023009</td>\n",
       "      <td>New S-Curve</td>\n",
       "      <td>Revenue</td>\n",
       "      <td>TRUE</td>\n",
       "      <td>TDG</td>\n",
       "      <td>TNSC00142</td>\n",
       "      <td>TDG Revenue (Performance View)</td>\n",
       "      <td>Y</td>\n",
       "      <td>Y</td>\n",
       "      <td>N</td>\n",
       "      <td>0</td>\n",
       "      <td>GYR</td>\n",
       "      <td>baht</td>\n",
       "      <td>M</td>\n",
       "      <td>NaN</td>\n",
       "      <td>NaN</td>\n",
       "      <td>2023-05-22 17:50:18</td>\n",
       "    </tr>\n",
       "    <tr>\n",
       "      <th>137</th>\n",
       "      <td>202303</td>\n",
       "      <td>2023009</td>\n",
       "      <td>Sales &amp; Revenue</td>\n",
       "      <td>Revenue</td>\n",
       "      <td>ALL</td>\n",
       "      <td>Postpaid</td>\n",
       "      <td>B2R000100</td>\n",
       "      <td>Postpaid Revenue</td>\n",
       "      <td>Y</td>\n",
       "      <td>Y</td>\n",
       "      <td>S</td>\n",
       "      <td>0</td>\n",
       "      <td>GYR</td>\n",
       "      <td>baht</td>\n",
       "      <td>M</td>\n",
       "      <td>1.157226e+09</td>\n",
       "      <td>1.165612e+09</td>\n",
       "      <td>2023-05-22 17:50:18</td>\n",
       "    </tr>\n",
       "    <tr>\n",
       "      <th>165</th>\n",
       "      <td>202303</td>\n",
       "      <td>2023009</td>\n",
       "      <td>Sales &amp; Revenue</td>\n",
       "      <td>Revenue</td>\n",
       "      <td>ALL</td>\n",
       "      <td>Prepaid</td>\n",
       "      <td>B1R000100</td>\n",
       "      <td>Prepaid Revenue</td>\n",
       "      <td>Y</td>\n",
       "      <td>Y</td>\n",
       "      <td>S</td>\n",
       "      <td>1</td>\n",
       "      <td>GYR</td>\n",
       "      <td>baht</td>\n",
       "      <td>M</td>\n",
       "      <td>6.699010e+08</td>\n",
       "      <td>6.262193e+08</td>\n",
       "      <td>2023-05-22 17:50:18</td>\n",
       "    </tr>\n",
       "    <tr>\n",
       "      <th>286</th>\n",
       "      <td>202303</td>\n",
       "      <td>2023009</td>\n",
       "      <td>Sales &amp; Revenue</td>\n",
       "      <td>Revenue</td>\n",
       "      <td>TRUE</td>\n",
       "      <td>TOL</td>\n",
       "      <td>TB3R000100</td>\n",
       "      <td>TOL Revenue</td>\n",
       "      <td>Y</td>\n",
       "      <td>Y</td>\n",
       "      <td>S</td>\n",
       "      <td>0</td>\n",
       "      <td>GYR</td>\n",
       "      <td>baht</td>\n",
       "      <td>M</td>\n",
       "      <td>1.897132e+08</td>\n",
       "      <td>2.051734e+08</td>\n",
       "      <td>2023-05-22 17:50:18</td>\n",
       "    </tr>\n",
       "    <tr>\n",
       "      <th>292</th>\n",
       "      <td>202303</td>\n",
       "      <td>2023009</td>\n",
       "      <td>Sales &amp; Revenue</td>\n",
       "      <td>Revenue</td>\n",
       "      <td>TRUE</td>\n",
       "      <td>TVS</td>\n",
       "      <td>TB4R000100</td>\n",
       "      <td>TVS Revenue</td>\n",
       "      <td>Y</td>\n",
       "      <td>Y</td>\n",
       "      <td>S</td>\n",
       "      <td>0</td>\n",
       "      <td>GYR</td>\n",
       "      <td>baht</td>\n",
       "      <td>M</td>\n",
       "      <td>4.243065e+07</td>\n",
       "      <td>4.755595e+07</td>\n",
       "      <td>2023-05-22 17:50:18</td>\n",
       "    </tr>\n",
       "  </tbody>\n",
       "</table>\n",
       "</div>"
      ],
      "text/plain": [
       "     TM_KEY_MTH  TM_KEY_WK           CENTER METRIC_GRP COMP_CD PRODUCT_GRP  \\\n",
       "133      202303    2023009      New S-Curve    Revenue    TRUE         TDG   \n",
       "137      202303    2023009  Sales & Revenue    Revenue     ALL    Postpaid   \n",
       "165      202303    2023009  Sales & Revenue    Revenue     ALL     Prepaid   \n",
       "286      202303    2023009  Sales & Revenue    Revenue    TRUE         TOL   \n",
       "292      202303    2023009  Sales & Revenue    Revenue    TRUE         TVS   \n",
       "\n",
       "      METRIC_CD                     METRIC_NAME DIMENSION_KPI_FLAG BG_FLAG  \\\n",
       "133   TNSC00142  TDG Revenue (Performance View)                  Y       Y   \n",
       "137   B2R000100                Postpaid Revenue                  Y       Y   \n",
       "165   B1R000100                 Prepaid Revenue                  Y       Y   \n",
       "286  TB3R000100                     TOL Revenue                  Y       Y   \n",
       "292  TB4R000100                     TVS Revenue                  Y       Y   \n",
       "\n",
       "    AGG_TYPE  RR_IND GRY_IND   UOM PERIOD    ACTUAL_AGG    TARGET_AGG  \\\n",
       "133        N       0     GYR  baht      M           NaN           NaN   \n",
       "137        S       0     GYR  baht      M  1.157226e+09  1.165612e+09   \n",
       "165        S       1     GYR  baht      M  6.699010e+08  6.262193e+08   \n",
       "286        S       0     GYR  baht      M  1.897132e+08  2.051734e+08   \n",
       "292        S       0     GYR  baht      M  4.243065e+07  4.755595e+07   \n",
       "\n",
       "                  PPN_TM  \n",
       "133  2023-05-22 17:50:18  \n",
       "137  2023-05-22 17:50:18  \n",
       "165  2023-05-22 17:50:18  \n",
       "286  2023-05-22 17:50:18  \n",
       "292  2023-05-22 17:50:18  "
      ]
     },
     "execution_count": 58,
     "metadata": {},
     "output_type": "execute_result"
    }
   ],
   "source": [
    "# df_bg = df[(df['CENTER'] == 'Sales & Revenue') & (df['BG_FLAG'] == 'Y')]\n",
    "df_bg = df[(df['BG_FLAG'] == 'Y') | ('METRIC_NAME' == 'TDG Revenue (Performance View)')]\n",
    "df_bg.head()"
   ]
  },
  {
   "cell_type": "code",
   "execution_count": null,
   "metadata": {},
   "outputs": [],
   "source": [
    "df_bg.describe()"
   ]
  },
  {
   "cell_type": "code",
   "execution_count": null,
   "metadata": {},
   "outputs": [],
   "source": [
    "df_bg.shape"
   ]
  },
  {
   "cell_type": "code",
   "execution_count": 59,
   "metadata": {},
   "outputs": [
    {
     "data": {
      "text/html": [
       "<div>\n",
       "<style scoped>\n",
       "    .dataframe tbody tr th:only-of-type {\n",
       "        vertical-align: middle;\n",
       "    }\n",
       "\n",
       "    .dataframe tbody tr th {\n",
       "        vertical-align: top;\n",
       "    }\n",
       "\n",
       "    .dataframe thead th {\n",
       "        text-align: right;\n",
       "    }\n",
       "</style>\n",
       "<table border=\"1\" class=\"dataframe\">\n",
       "  <thead>\n",
       "    <tr style=\"text-align: right;\">\n",
       "      <th></th>\n",
       "      <th>TM_KEY_MTH</th>\n",
       "      <th>TM_KEY_WK</th>\n",
       "      <th>CENTER</th>\n",
       "      <th>METRIC_GRP</th>\n",
       "      <th>COMP_CD</th>\n",
       "      <th>PRODUCT_GRP</th>\n",
       "      <th>METRIC_CD</th>\n",
       "      <th>METRIC_NAME</th>\n",
       "      <th>DIMENSION_KPI_FLAG</th>\n",
       "      <th>BG_FLAG</th>\n",
       "      <th>AGG_TYPE</th>\n",
       "      <th>RR_IND</th>\n",
       "      <th>GRY_IND</th>\n",
       "      <th>UOM</th>\n",
       "      <th>PERIOD</th>\n",
       "      <th>ACTUAL_AGG</th>\n",
       "      <th>TARGET_AGG</th>\n",
       "      <th>PPN_TM</th>\n",
       "    </tr>\n",
       "  </thead>\n",
       "  <tbody>\n",
       "    <tr>\n",
       "      <th>133</th>\n",
       "      <td>202303</td>\n",
       "      <td>2023009</td>\n",
       "      <td>New S-Curve</td>\n",
       "      <td>Revenue</td>\n",
       "      <td>TRUE</td>\n",
       "      <td>TDG</td>\n",
       "      <td>TNSC00142</td>\n",
       "      <td>TDG Revenue (Performance View)</td>\n",
       "      <td>Y</td>\n",
       "      <td>Y</td>\n",
       "      <td>N</td>\n",
       "      <td>0</td>\n",
       "      <td>GYR</td>\n",
       "      <td>baht</td>\n",
       "      <td>M</td>\n",
       "      <td>NaN</td>\n",
       "      <td>NaN</td>\n",
       "      <td>2023-05-22 17:50:18</td>\n",
       "    </tr>\n",
       "    <tr>\n",
       "      <th>137</th>\n",
       "      <td>202303</td>\n",
       "      <td>2023009</td>\n",
       "      <td>Sales &amp; Revenue</td>\n",
       "      <td>Revenue</td>\n",
       "      <td>ALL</td>\n",
       "      <td>Postpaid</td>\n",
       "      <td>B2R000100</td>\n",
       "      <td>Postpaid Revenue</td>\n",
       "      <td>Y</td>\n",
       "      <td>Y</td>\n",
       "      <td>S</td>\n",
       "      <td>0</td>\n",
       "      <td>GYR</td>\n",
       "      <td>baht</td>\n",
       "      <td>M</td>\n",
       "      <td>1.157226e+09</td>\n",
       "      <td>1.165612e+09</td>\n",
       "      <td>2023-05-22 17:50:18</td>\n",
       "    </tr>\n",
       "    <tr>\n",
       "      <th>165</th>\n",
       "      <td>202303</td>\n",
       "      <td>2023009</td>\n",
       "      <td>Sales &amp; Revenue</td>\n",
       "      <td>Revenue</td>\n",
       "      <td>ALL</td>\n",
       "      <td>Prepaid</td>\n",
       "      <td>B1R000100</td>\n",
       "      <td>Prepaid Revenue</td>\n",
       "      <td>Y</td>\n",
       "      <td>Y</td>\n",
       "      <td>S</td>\n",
       "      <td>1</td>\n",
       "      <td>GYR</td>\n",
       "      <td>baht</td>\n",
       "      <td>M</td>\n",
       "      <td>6.699010e+08</td>\n",
       "      <td>6.262193e+08</td>\n",
       "      <td>2023-05-22 17:50:18</td>\n",
       "    </tr>\n",
       "    <tr>\n",
       "      <th>286</th>\n",
       "      <td>202303</td>\n",
       "      <td>2023009</td>\n",
       "      <td>Sales &amp; Revenue</td>\n",
       "      <td>Revenue</td>\n",
       "      <td>TRUE</td>\n",
       "      <td>TOL</td>\n",
       "      <td>TB3R000100</td>\n",
       "      <td>TOL Revenue</td>\n",
       "      <td>Y</td>\n",
       "      <td>Y</td>\n",
       "      <td>S</td>\n",
       "      <td>0</td>\n",
       "      <td>GYR</td>\n",
       "      <td>baht</td>\n",
       "      <td>M</td>\n",
       "      <td>1.897132e+08</td>\n",
       "      <td>2.051734e+08</td>\n",
       "      <td>2023-05-22 17:50:18</td>\n",
       "    </tr>\n",
       "    <tr>\n",
       "      <th>292</th>\n",
       "      <td>202303</td>\n",
       "      <td>2023009</td>\n",
       "      <td>Sales &amp; Revenue</td>\n",
       "      <td>Revenue</td>\n",
       "      <td>TRUE</td>\n",
       "      <td>TVS</td>\n",
       "      <td>TB4R000100</td>\n",
       "      <td>TVS Revenue</td>\n",
       "      <td>Y</td>\n",
       "      <td>Y</td>\n",
       "      <td>S</td>\n",
       "      <td>0</td>\n",
       "      <td>GYR</td>\n",
       "      <td>baht</td>\n",
       "      <td>M</td>\n",
       "      <td>4.243065e+07</td>\n",
       "      <td>4.755595e+07</td>\n",
       "      <td>2023-05-22 17:50:18</td>\n",
       "    </tr>\n",
       "  </tbody>\n",
       "</table>\n",
       "</div>"
      ],
      "text/plain": [
       "     TM_KEY_MTH  TM_KEY_WK           CENTER METRIC_GRP COMP_CD PRODUCT_GRP  \\\n",
       "133      202303    2023009      New S-Curve    Revenue    TRUE         TDG   \n",
       "137      202303    2023009  Sales & Revenue    Revenue     ALL    Postpaid   \n",
       "165      202303    2023009  Sales & Revenue    Revenue     ALL     Prepaid   \n",
       "286      202303    2023009  Sales & Revenue    Revenue    TRUE         TOL   \n",
       "292      202303    2023009  Sales & Revenue    Revenue    TRUE         TVS   \n",
       "\n",
       "      METRIC_CD                     METRIC_NAME DIMENSION_KPI_FLAG BG_FLAG  \\\n",
       "133   TNSC00142  TDG Revenue (Performance View)                  Y       Y   \n",
       "137   B2R000100                Postpaid Revenue                  Y       Y   \n",
       "165   B1R000100                 Prepaid Revenue                  Y       Y   \n",
       "286  TB3R000100                     TOL Revenue                  Y       Y   \n",
       "292  TB4R000100                     TVS Revenue                  Y       Y   \n",
       "\n",
       "    AGG_TYPE  RR_IND GRY_IND   UOM PERIOD    ACTUAL_AGG    TARGET_AGG  \\\n",
       "133        N       0     GYR  baht      M           NaN           NaN   \n",
       "137        S       0     GYR  baht      M  1.157226e+09  1.165612e+09   \n",
       "165        S       1     GYR  baht      M  6.699010e+08  6.262193e+08   \n",
       "286        S       0     GYR  baht      M  1.897132e+08  2.051734e+08   \n",
       "292        S       0     GYR  baht      M  4.243065e+07  4.755595e+07   \n",
       "\n",
       "                  PPN_TM  \n",
       "133  2023-05-22 17:50:18  \n",
       "137  2023-05-22 17:50:18  \n",
       "165  2023-05-22 17:50:18  \n",
       "286  2023-05-22 17:50:18  \n",
       "292  2023-05-22 17:50:18  "
      ]
     },
     "execution_count": 59,
     "metadata": {},
     "output_type": "execute_result"
    }
   ],
   "source": [
    "# df_bg.sort_values(by=['TM_KEY_MTH', 'TM_KEY_WK', 'CENTER', 'METRIC_GRP', 'COMP_CD', 'PRODUCT_GRP', 'METRIC_CD'], ascending=True)\n",
    "df_bg.head()"
   ]
  },
  {
   "cell_type": "code",
   "execution_count": 61,
   "metadata": {},
   "outputs": [
    {
     "data": {
      "text/html": [
       "<div>\n",
       "<style scoped>\n",
       "    .dataframe tbody tr th:only-of-type {\n",
       "        vertical-align: middle;\n",
       "    }\n",
       "\n",
       "    .dataframe tbody tr th {\n",
       "        vertical-align: top;\n",
       "    }\n",
       "\n",
       "    .dataframe thead th {\n",
       "        text-align: right;\n",
       "    }\n",
       "</style>\n",
       "<table border=\"1\" class=\"dataframe\">\n",
       "  <thead>\n",
       "    <tr style=\"text-align: right;\">\n",
       "      <th></th>\n",
       "      <th>TM_KEY_MTH</th>\n",
       "      <th>TM_KEY_WK</th>\n",
       "      <th>METRIC_CD</th>\n",
       "      <th>METRIC_NAME</th>\n",
       "      <th>ACTUAL_AGG</th>\n",
       "      <th>TARGET_AGG</th>\n",
       "    </tr>\n",
       "  </thead>\n",
       "  <tbody>\n",
       "    <tr>\n",
       "      <th>0</th>\n",
       "      <td>202303</td>\n",
       "      <td>2023009</td>\n",
       "      <td>B1R000100</td>\n",
       "      <td>Prepaid Revenue</td>\n",
       "      <td>669.901008</td>\n",
       "      <td>626.219335</td>\n",
       "    </tr>\n",
       "    <tr>\n",
       "      <th>1</th>\n",
       "      <td>202303</td>\n",
       "      <td>2023009</td>\n",
       "      <td>B2R000100</td>\n",
       "      <td>Postpaid Revenue</td>\n",
       "      <td>1157.226110</td>\n",
       "      <td>1165.611851</td>\n",
       "    </tr>\n",
       "    <tr>\n",
       "      <th>2</th>\n",
       "      <td>202303</td>\n",
       "      <td>2023009</td>\n",
       "      <td>TB3R000100</td>\n",
       "      <td>TOL Revenue</td>\n",
       "      <td>189.713166</td>\n",
       "      <td>205.173356</td>\n",
       "    </tr>\n",
       "    <tr>\n",
       "      <th>3</th>\n",
       "      <td>202303</td>\n",
       "      <td>2023009</td>\n",
       "      <td>TB4R000100</td>\n",
       "      <td>TVS Revenue</td>\n",
       "      <td>42.430646</td>\n",
       "      <td>47.555946</td>\n",
       "    </tr>\n",
       "    <tr>\n",
       "      <th>4</th>\n",
       "      <td>202303</td>\n",
       "      <td>2023009</td>\n",
       "      <td>TNSC00142</td>\n",
       "      <td>TDG Revenue (Performance View)</td>\n",
       "      <td>0.000000</td>\n",
       "      <td>0.000000</td>\n",
       "    </tr>\n",
       "  </tbody>\n",
       "</table>\n",
       "</div>"
      ],
      "text/plain": [
       "   TM_KEY_MTH  TM_KEY_WK   METRIC_CD                     METRIC_NAME  \\\n",
       "0      202303    2023009   B1R000100                 Prepaid Revenue   \n",
       "1      202303    2023009   B2R000100                Postpaid Revenue   \n",
       "2      202303    2023009  TB3R000100                     TOL Revenue   \n",
       "3      202303    2023009  TB4R000100                     TVS Revenue   \n",
       "4      202303    2023009   TNSC00142  TDG Revenue (Performance View)   \n",
       "\n",
       "    ACTUAL_AGG   TARGET_AGG  \n",
       "0   669.901008   626.219335  \n",
       "1  1157.226110  1165.611851  \n",
       "2   189.713166   205.173356  \n",
       "3    42.430646    47.555946  \n",
       "4     0.000000     0.000000  "
      ]
     },
     "execution_count": 61,
     "metadata": {},
     "output_type": "execute_result"
    }
   ],
   "source": [
    "# df_bg_agg_1 = pd.DataFrame(df_bg.groupby(['TM_KEY_MTH', 'TM_KEY_WK', 'METRIC_CD', 'METRIC_NAME'])['ACTUAL_AGG'].sum().reset_index())\n",
    "# df_bg_agg_1\n",
    "\n",
    "# df_bg_agg_2 = pd.DataFrame(df_bg.groupby(['TM_KEY_MTH', 'TM_KEY_WK', 'METRIC_CD', 'METRIC_NAME'])['ACTUAL_AGG'].agg(['sum', 'count']).reset_index())\n",
    "# df_bg_agg_2\n",
    "\n",
    "df_bg_agg = pd.DataFrame(\n",
    "    df_bg.groupby(['TM_KEY_MTH', 'TM_KEY_WK', 'METRIC_CD', 'METRIC_NAME'])\n",
    "    .agg({'ACTUAL_AGG': 'sum', 'TARGET_AGG': 'sum'}).reset_index())\n",
    "\n",
    "df_bg_agg['ACTUAL_AGG'] = df_bg_agg['ACTUAL_AGG'] / 1000000\n",
    "df_bg_agg['TARGET_AGG'] = df_bg_agg['TARGET_AGG'] / 1000000\n",
    "\n",
    "df_bg_agg.head()"
   ]
  },
  {
   "cell_type": "code",
   "execution_count": null,
   "metadata": {},
   "outputs": [],
   "source": [
    "# Can't run\n",
    "# type(df_bg_agg)\n",
    "df_bg_pivot = df_bg_agg.pivot(index='TM_KEY_MTH', columns='METRIC_NAME', values='ACTUAL_AGG')\n",
    "df_bg_pivot"
   ]
  },
  {
   "cell_type": "code",
   "execution_count": null,
   "metadata": {},
   "outputs": [],
   "source": []
  }
 ],
 "metadata": {
  "kernelspec": {
   "display_name": "py310",
   "language": "python",
   "name": "python3"
  },
  "language_info": {
   "codemirror_mode": {
    "name": "ipython",
    "version": 3
   },
   "file_extension": ".py",
   "mimetype": "text/x-python",
   "name": "python",
   "nbconvert_exporter": "python",
   "pygments_lexer": "ipython3",
   "version": "3.10.11"
  },
  "orig_nbformat": 4
 },
 "nbformat": 4,
 "nbformat_minor": 2
}
